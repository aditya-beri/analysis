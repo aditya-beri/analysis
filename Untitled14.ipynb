{
 "cells": [
  {
   "cell_type": "code",
   "execution_count": 95,
   "metadata": {},
   "outputs": [],
   "source": [
    "%matplotlib inline\n",
    "import numpy as np\n",
    "import pandas as pd\n",
    "import matplotlib as mpl\n",
    "import matplotlib.pyplot as plt\n",
    "import seaborn as sns\n",
    "import plotly.express as px"
   ]
  },
  {
   "cell_type": "code",
   "execution_count": 118,
   "metadata": {},
   "outputs": [],
   "source": [
    "df_india=pd.read_csv(r'C:\\Users\\ADITYA\\Desktop\\19bce0312\\covid_19_india.csv')\n",
    "\n"
   ]
  },
  {
   "cell_type": "code",
   "execution_count": 119,
   "metadata": {},
   "outputs": [],
   "source": [
    "df2= df_india[df_train['Date']=='04/04/20']\n"
   ]
  },
  {
   "cell_type": "code",
   "execution_count": 120,
   "metadata": {},
   "outputs": [],
   "source": [
    "fig = px.bar(df2, x='State/UnionTerritory', y='Confirmed', color='Confirmed',height=700,title='Cases as of 04 april')"
   ]
  },
  {
   "cell_type": "code",
   "execution_count": 121,
   "metadata": {},
   "outputs": [
    {
     "data": {
      "application/vnd.plotly.v1+json": {
       "config": {
        "plotlyServerURL": "https://plot.ly"
       },
       "data": [
        {
         "alignmentgroup": "True",
         "hoverlabel": {
          "namelength": 0
         },
         "hovertemplate": "State/UnionTerritory=%{x}<br>Confirmed=%{marker.color}",
         "legendgroup": "",
         "marker": {
          "color": [
           161,
           10,
           1,
           24,
           30,
           18,
           9,
           445,
           7,
           105,
           49,
           6,
           75,
           2,
           128,
           295,
           14,
           104,
           490,
           2,
           1,
           5,
           5,
           57,
           200,
           411,
           159,
           16,
           174,
           69
          ],
          "coloraxis": "coloraxis"
         },
         "name": "",
         "offsetgroup": "",
         "orientation": "v",
         "showlegend": false,
         "textposition": "auto",
         "type": "bar",
         "x": [
          "Andhra Pradesh",
          "Andaman and Nicobar Islands",
          "Arunachal Pradesh",
          "Assam",
          "Bihar",
          "Chandigarh",
          "Chhattisgarh",
          "Delhi",
          "Goa",
          "Gujarat",
          "Haryana",
          "Himachal Pradesh",
          "Jammu and Kashmir",
          "Jharkhand",
          "Karnataka",
          "Kerala",
          "Ladakh",
          "Madhya Pradesh",
          "Maharashtra",
          "Manipur",
          "Mizoram",
          "Odisha",
          "Puducherry",
          "Punjab",
          "Rajasthan",
          "Tamil Nadu",
          "Telengana",
          "Uttarakhand",
          "Uttar Pradesh",
          "West Bengal"
         ],
         "xaxis": "x",
         "y": [
          161,
          10,
          1,
          24,
          30,
          18,
          9,
          445,
          7,
          105,
          49,
          6,
          75,
          2,
          128,
          295,
          14,
          104,
          490,
          2,
          1,
          5,
          5,
          57,
          200,
          411,
          159,
          16,
          174,
          69
         ],
         "yaxis": "y"
        }
       ],
       "layout": {
        "barmode": "relative",
        "coloraxis": {
         "colorbar": {
          "title": {
           "text": "Confirmed"
          }
         },
         "colorscale": [
          [
           0,
           "#0d0887"
          ],
          [
           0.1111111111111111,
           "#46039f"
          ],
          [
           0.2222222222222222,
           "#7201a8"
          ],
          [
           0.3333333333333333,
           "#9c179e"
          ],
          [
           0.4444444444444444,
           "#bd3786"
          ],
          [
           0.5555555555555556,
           "#d8576b"
          ],
          [
           0.6666666666666666,
           "#ed7953"
          ],
          [
           0.7777777777777778,
           "#fb9f3a"
          ],
          [
           0.8888888888888888,
           "#fdca26"
          ],
          [
           1,
           "#f0f921"
          ]
         ]
        },
        "height": 700,
        "legend": {
         "tracegroupgap": 0
        },
        "template": {
         "data": {
          "bar": [
           {
            "error_x": {
             "color": "#2a3f5f"
            },
            "error_y": {
             "color": "#2a3f5f"
            },
            "marker": {
             "line": {
              "color": "#E5ECF6",
              "width": 0.5
             }
            },
            "type": "bar"
           }
          ],
          "barpolar": [
           {
            "marker": {
             "line": {
              "color": "#E5ECF6",
              "width": 0.5
             }
            },
            "type": "barpolar"
           }
          ],
          "carpet": [
           {
            "aaxis": {
             "endlinecolor": "#2a3f5f",
             "gridcolor": "white",
             "linecolor": "white",
             "minorgridcolor": "white",
             "startlinecolor": "#2a3f5f"
            },
            "baxis": {
             "endlinecolor": "#2a3f5f",
             "gridcolor": "white",
             "linecolor": "white",
             "minorgridcolor": "white",
             "startlinecolor": "#2a3f5f"
            },
            "type": "carpet"
           }
          ],
          "choropleth": [
           {
            "colorbar": {
             "outlinewidth": 0,
             "ticks": ""
            },
            "type": "choropleth"
           }
          ],
          "contour": [
           {
            "colorbar": {
             "outlinewidth": 0,
             "ticks": ""
            },
            "colorscale": [
             [
              0,
              "#0d0887"
             ],
             [
              0.1111111111111111,
              "#46039f"
             ],
             [
              0.2222222222222222,
              "#7201a8"
             ],
             [
              0.3333333333333333,
              "#9c179e"
             ],
             [
              0.4444444444444444,
              "#bd3786"
             ],
             [
              0.5555555555555556,
              "#d8576b"
             ],
             [
              0.6666666666666666,
              "#ed7953"
             ],
             [
              0.7777777777777778,
              "#fb9f3a"
             ],
             [
              0.8888888888888888,
              "#fdca26"
             ],
             [
              1,
              "#f0f921"
             ]
            ],
            "type": "contour"
           }
          ],
          "contourcarpet": [
           {
            "colorbar": {
             "outlinewidth": 0,
             "ticks": ""
            },
            "type": "contourcarpet"
           }
          ],
          "heatmap": [
           {
            "colorbar": {
             "outlinewidth": 0,
             "ticks": ""
            },
            "colorscale": [
             [
              0,
              "#0d0887"
             ],
             [
              0.1111111111111111,
              "#46039f"
             ],
             [
              0.2222222222222222,
              "#7201a8"
             ],
             [
              0.3333333333333333,
              "#9c179e"
             ],
             [
              0.4444444444444444,
              "#bd3786"
             ],
             [
              0.5555555555555556,
              "#d8576b"
             ],
             [
              0.6666666666666666,
              "#ed7953"
             ],
             [
              0.7777777777777778,
              "#fb9f3a"
             ],
             [
              0.8888888888888888,
              "#fdca26"
             ],
             [
              1,
              "#f0f921"
             ]
            ],
            "type": "heatmap"
           }
          ],
          "heatmapgl": [
           {
            "colorbar": {
             "outlinewidth": 0,
             "ticks": ""
            },
            "colorscale": [
             [
              0,
              "#0d0887"
             ],
             [
              0.1111111111111111,
              "#46039f"
             ],
             [
              0.2222222222222222,
              "#7201a8"
             ],
             [
              0.3333333333333333,
              "#9c179e"
             ],
             [
              0.4444444444444444,
              "#bd3786"
             ],
             [
              0.5555555555555556,
              "#d8576b"
             ],
             [
              0.6666666666666666,
              "#ed7953"
             ],
             [
              0.7777777777777778,
              "#fb9f3a"
             ],
             [
              0.8888888888888888,
              "#fdca26"
             ],
             [
              1,
              "#f0f921"
             ]
            ],
            "type": "heatmapgl"
           }
          ],
          "histogram": [
           {
            "marker": {
             "colorbar": {
              "outlinewidth": 0,
              "ticks": ""
             }
            },
            "type": "histogram"
           }
          ],
          "histogram2d": [
           {
            "colorbar": {
             "outlinewidth": 0,
             "ticks": ""
            },
            "colorscale": [
             [
              0,
              "#0d0887"
             ],
             [
              0.1111111111111111,
              "#46039f"
             ],
             [
              0.2222222222222222,
              "#7201a8"
             ],
             [
              0.3333333333333333,
              "#9c179e"
             ],
             [
              0.4444444444444444,
              "#bd3786"
             ],
             [
              0.5555555555555556,
              "#d8576b"
             ],
             [
              0.6666666666666666,
              "#ed7953"
             ],
             [
              0.7777777777777778,
              "#fb9f3a"
             ],
             [
              0.8888888888888888,
              "#fdca26"
             ],
             [
              1,
              "#f0f921"
             ]
            ],
            "type": "histogram2d"
           }
          ],
          "histogram2dcontour": [
           {
            "colorbar": {
             "outlinewidth": 0,
             "ticks": ""
            },
            "colorscale": [
             [
              0,
              "#0d0887"
             ],
             [
              0.1111111111111111,
              "#46039f"
             ],
             [
              0.2222222222222222,
              "#7201a8"
             ],
             [
              0.3333333333333333,
              "#9c179e"
             ],
             [
              0.4444444444444444,
              "#bd3786"
             ],
             [
              0.5555555555555556,
              "#d8576b"
             ],
             [
              0.6666666666666666,
              "#ed7953"
             ],
             [
              0.7777777777777778,
              "#fb9f3a"
             ],
             [
              0.8888888888888888,
              "#fdca26"
             ],
             [
              1,
              "#f0f921"
             ]
            ],
            "type": "histogram2dcontour"
           }
          ],
          "mesh3d": [
           {
            "colorbar": {
             "outlinewidth": 0,
             "ticks": ""
            },
            "type": "mesh3d"
           }
          ],
          "parcoords": [
           {
            "line": {
             "colorbar": {
              "outlinewidth": 0,
              "ticks": ""
             }
            },
            "type": "parcoords"
           }
          ],
          "pie": [
           {
            "automargin": true,
            "type": "pie"
           }
          ],
          "scatter": [
           {
            "marker": {
             "colorbar": {
              "outlinewidth": 0,
              "ticks": ""
             }
            },
            "type": "scatter"
           }
          ],
          "scatter3d": [
           {
            "line": {
             "colorbar": {
              "outlinewidth": 0,
              "ticks": ""
             }
            },
            "marker": {
             "colorbar": {
              "outlinewidth": 0,
              "ticks": ""
             }
            },
            "type": "scatter3d"
           }
          ],
          "scattercarpet": [
           {
            "marker": {
             "colorbar": {
              "outlinewidth": 0,
              "ticks": ""
             }
            },
            "type": "scattercarpet"
           }
          ],
          "scattergeo": [
           {
            "marker": {
             "colorbar": {
              "outlinewidth": 0,
              "ticks": ""
             }
            },
            "type": "scattergeo"
           }
          ],
          "scattergl": [
           {
            "marker": {
             "colorbar": {
              "outlinewidth": 0,
              "ticks": ""
             }
            },
            "type": "scattergl"
           }
          ],
          "scattermapbox": [
           {
            "marker": {
             "colorbar": {
              "outlinewidth": 0,
              "ticks": ""
             }
            },
            "type": "scattermapbox"
           }
          ],
          "scatterpolar": [
           {
            "marker": {
             "colorbar": {
              "outlinewidth": 0,
              "ticks": ""
             }
            },
            "type": "scatterpolar"
           }
          ],
          "scatterpolargl": [
           {
            "marker": {
             "colorbar": {
              "outlinewidth": 0,
              "ticks": ""
             }
            },
            "type": "scatterpolargl"
           }
          ],
          "scatterternary": [
           {
            "marker": {
             "colorbar": {
              "outlinewidth": 0,
              "ticks": ""
             }
            },
            "type": "scatterternary"
           }
          ],
          "surface": [
           {
            "colorbar": {
             "outlinewidth": 0,
             "ticks": ""
            },
            "colorscale": [
             [
              0,
              "#0d0887"
             ],
             [
              0.1111111111111111,
              "#46039f"
             ],
             [
              0.2222222222222222,
              "#7201a8"
             ],
             [
              0.3333333333333333,
              "#9c179e"
             ],
             [
              0.4444444444444444,
              "#bd3786"
             ],
             [
              0.5555555555555556,
              "#d8576b"
             ],
             [
              0.6666666666666666,
              "#ed7953"
             ],
             [
              0.7777777777777778,
              "#fb9f3a"
             ],
             [
              0.8888888888888888,
              "#fdca26"
             ],
             [
              1,
              "#f0f921"
             ]
            ],
            "type": "surface"
           }
          ],
          "table": [
           {
            "cells": {
             "fill": {
              "color": "#EBF0F8"
             },
             "line": {
              "color": "white"
             }
            },
            "header": {
             "fill": {
              "color": "#C8D4E3"
             },
             "line": {
              "color": "white"
             }
            },
            "type": "table"
           }
          ]
         },
         "layout": {
          "annotationdefaults": {
           "arrowcolor": "#2a3f5f",
           "arrowhead": 0,
           "arrowwidth": 1
          },
          "coloraxis": {
           "colorbar": {
            "outlinewidth": 0,
            "ticks": ""
           }
          },
          "colorscale": {
           "diverging": [
            [
             0,
             "#8e0152"
            ],
            [
             0.1,
             "#c51b7d"
            ],
            [
             0.2,
             "#de77ae"
            ],
            [
             0.3,
             "#f1b6da"
            ],
            [
             0.4,
             "#fde0ef"
            ],
            [
             0.5,
             "#f7f7f7"
            ],
            [
             0.6,
             "#e6f5d0"
            ],
            [
             0.7,
             "#b8e186"
            ],
            [
             0.8,
             "#7fbc41"
            ],
            [
             0.9,
             "#4d9221"
            ],
            [
             1,
             "#276419"
            ]
           ],
           "sequential": [
            [
             0,
             "#0d0887"
            ],
            [
             0.1111111111111111,
             "#46039f"
            ],
            [
             0.2222222222222222,
             "#7201a8"
            ],
            [
             0.3333333333333333,
             "#9c179e"
            ],
            [
             0.4444444444444444,
             "#bd3786"
            ],
            [
             0.5555555555555556,
             "#d8576b"
            ],
            [
             0.6666666666666666,
             "#ed7953"
            ],
            [
             0.7777777777777778,
             "#fb9f3a"
            ],
            [
             0.8888888888888888,
             "#fdca26"
            ],
            [
             1,
             "#f0f921"
            ]
           ],
           "sequentialminus": [
            [
             0,
             "#0d0887"
            ],
            [
             0.1111111111111111,
             "#46039f"
            ],
            [
             0.2222222222222222,
             "#7201a8"
            ],
            [
             0.3333333333333333,
             "#9c179e"
            ],
            [
             0.4444444444444444,
             "#bd3786"
            ],
            [
             0.5555555555555556,
             "#d8576b"
            ],
            [
             0.6666666666666666,
             "#ed7953"
            ],
            [
             0.7777777777777778,
             "#fb9f3a"
            ],
            [
             0.8888888888888888,
             "#fdca26"
            ],
            [
             1,
             "#f0f921"
            ]
           ]
          },
          "colorway": [
           "#636efa",
           "#EF553B",
           "#00cc96",
           "#ab63fa",
           "#FFA15A",
           "#19d3f3",
           "#FF6692",
           "#B6E880",
           "#FF97FF",
           "#FECB52"
          ],
          "font": {
           "color": "#2a3f5f"
          },
          "geo": {
           "bgcolor": "white",
           "lakecolor": "white",
           "landcolor": "#E5ECF6",
           "showlakes": true,
           "showland": true,
           "subunitcolor": "white"
          },
          "hoverlabel": {
           "align": "left"
          },
          "hovermode": "closest",
          "mapbox": {
           "style": "light"
          },
          "paper_bgcolor": "white",
          "plot_bgcolor": "#E5ECF6",
          "polar": {
           "angularaxis": {
            "gridcolor": "white",
            "linecolor": "white",
            "ticks": ""
           },
           "bgcolor": "#E5ECF6",
           "radialaxis": {
            "gridcolor": "white",
            "linecolor": "white",
            "ticks": ""
           }
          },
          "scene": {
           "xaxis": {
            "backgroundcolor": "#E5ECF6",
            "gridcolor": "white",
            "gridwidth": 2,
            "linecolor": "white",
            "showbackground": true,
            "ticks": "",
            "zerolinecolor": "white"
           },
           "yaxis": {
            "backgroundcolor": "#E5ECF6",
            "gridcolor": "white",
            "gridwidth": 2,
            "linecolor": "white",
            "showbackground": true,
            "ticks": "",
            "zerolinecolor": "white"
           },
           "zaxis": {
            "backgroundcolor": "#E5ECF6",
            "gridcolor": "white",
            "gridwidth": 2,
            "linecolor": "white",
            "showbackground": true,
            "ticks": "",
            "zerolinecolor": "white"
           }
          },
          "shapedefaults": {
           "line": {
            "color": "#2a3f5f"
           }
          },
          "ternary": {
           "aaxis": {
            "gridcolor": "white",
            "linecolor": "white",
            "ticks": ""
           },
           "baxis": {
            "gridcolor": "white",
            "linecolor": "white",
            "ticks": ""
           },
           "bgcolor": "#E5ECF6",
           "caxis": {
            "gridcolor": "white",
            "linecolor": "white",
            "ticks": ""
           }
          },
          "title": {
           "x": 0.05
          },
          "xaxis": {
           "automargin": true,
           "gridcolor": "white",
           "linecolor": "white",
           "ticks": "",
           "title": {
            "standoff": 15
           },
           "zerolinecolor": "white",
           "zerolinewidth": 2
          },
          "yaxis": {
           "automargin": true,
           "gridcolor": "white",
           "linecolor": "white",
           "ticks": "",
           "title": {
            "standoff": 15
           },
           "zerolinecolor": "white",
           "zerolinewidth": 2
          }
         }
        },
        "title": {
         "text": "Cases as of 04 april"
        },
        "xaxis": {
         "anchor": "y",
         "domain": [
          0,
          1
         ],
         "title": {
          "text": "State/UnionTerritory"
         }
        },
        "yaxis": {
         "anchor": "x",
         "domain": [
          0,
          1
         ],
         "title": {
          "text": "Confirmed"
         }
        }
       }
      },
      "text/html": [
       "<div>\n",
       "        \n",
       "        \n",
       "            <div id=\"414d88c3-3a82-4408-9000-a26a1ca4aaf8\" class=\"plotly-graph-div\" style=\"height:700px; width:100%;\"></div>\n",
       "            <script type=\"text/javascript\">\n",
       "                require([\"plotly\"], function(Plotly) {\n",
       "                    window.PLOTLYENV=window.PLOTLYENV || {};\n",
       "                    \n",
       "                if (document.getElementById(\"414d88c3-3a82-4408-9000-a26a1ca4aaf8\")) {\n",
       "                    Plotly.newPlot(\n",
       "                        '414d88c3-3a82-4408-9000-a26a1ca4aaf8',\n",
       "                        [{\"alignmentgroup\": \"True\", \"hoverlabel\": {\"namelength\": 0}, \"hovertemplate\": \"State/UnionTerritory=%{x}<br>Confirmed=%{marker.color}\", \"legendgroup\": \"\", \"marker\": {\"color\": [161, 10, 1, 24, 30, 18, 9, 445, 7, 105, 49, 6, 75, 2, 128, 295, 14, 104, 490, 2, 1, 5, 5, 57, 200, 411, 159, 16, 174, 69], \"coloraxis\": \"coloraxis\"}, \"name\": \"\", \"offsetgroup\": \"\", \"orientation\": \"v\", \"showlegend\": false, \"textposition\": \"auto\", \"type\": \"bar\", \"x\": [\"Andhra Pradesh\", \"Andaman and Nicobar Islands\", \"Arunachal Pradesh\", \"Assam\", \"Bihar\", \"Chandigarh\", \"Chhattisgarh\", \"Delhi\", \"Goa\", \"Gujarat\", \"Haryana\", \"Himachal Pradesh\", \"Jammu and Kashmir\", \"Jharkhand\", \"Karnataka\", \"Kerala\", \"Ladakh\", \"Madhya Pradesh\", \"Maharashtra\", \"Manipur\", \"Mizoram\", \"Odisha\", \"Puducherry\", \"Punjab\", \"Rajasthan\", \"Tamil Nadu\", \"Telengana\", \"Uttarakhand\", \"Uttar Pradesh\", \"West Bengal\"], \"xaxis\": \"x\", \"y\": [161, 10, 1, 24, 30, 18, 9, 445, 7, 105, 49, 6, 75, 2, 128, 295, 14, 104, 490, 2, 1, 5, 5, 57, 200, 411, 159, 16, 174, 69], \"yaxis\": \"y\"}],\n",
       "                        {\"barmode\": \"relative\", \"coloraxis\": {\"colorbar\": {\"title\": {\"text\": \"Confirmed\"}}, \"colorscale\": [[0.0, \"#0d0887\"], [0.1111111111111111, \"#46039f\"], [0.2222222222222222, \"#7201a8\"], [0.3333333333333333, \"#9c179e\"], [0.4444444444444444, \"#bd3786\"], [0.5555555555555556, \"#d8576b\"], [0.6666666666666666, \"#ed7953\"], [0.7777777777777778, \"#fb9f3a\"], [0.8888888888888888, \"#fdca26\"], [1.0, \"#f0f921\"]]}, \"height\": 700, \"legend\": {\"tracegroupgap\": 0}, \"template\": {\"data\": {\"bar\": [{\"error_x\": {\"color\": \"#2a3f5f\"}, \"error_y\": {\"color\": \"#2a3f5f\"}, \"marker\": {\"line\": {\"color\": \"#E5ECF6\", \"width\": 0.5}}, \"type\": \"bar\"}], \"barpolar\": [{\"marker\": {\"line\": {\"color\": \"#E5ECF6\", \"width\": 0.5}}, \"type\": \"barpolar\"}], \"carpet\": [{\"aaxis\": {\"endlinecolor\": \"#2a3f5f\", \"gridcolor\": \"white\", \"linecolor\": \"white\", \"minorgridcolor\": \"white\", \"startlinecolor\": \"#2a3f5f\"}, \"baxis\": {\"endlinecolor\": \"#2a3f5f\", \"gridcolor\": \"white\", \"linecolor\": \"white\", \"minorgridcolor\": \"white\", \"startlinecolor\": \"#2a3f5f\"}, \"type\": \"carpet\"}], \"choropleth\": [{\"colorbar\": {\"outlinewidth\": 0, \"ticks\": \"\"}, \"type\": \"choropleth\"}], \"contour\": [{\"colorbar\": {\"outlinewidth\": 0, \"ticks\": \"\"}, \"colorscale\": [[0.0, \"#0d0887\"], [0.1111111111111111, \"#46039f\"], [0.2222222222222222, \"#7201a8\"], [0.3333333333333333, \"#9c179e\"], [0.4444444444444444, \"#bd3786\"], [0.5555555555555556, \"#d8576b\"], [0.6666666666666666, \"#ed7953\"], [0.7777777777777778, \"#fb9f3a\"], [0.8888888888888888, \"#fdca26\"], [1.0, \"#f0f921\"]], \"type\": \"contour\"}], \"contourcarpet\": [{\"colorbar\": {\"outlinewidth\": 0, \"ticks\": \"\"}, \"type\": \"contourcarpet\"}], \"heatmap\": [{\"colorbar\": {\"outlinewidth\": 0, \"ticks\": \"\"}, \"colorscale\": [[0.0, \"#0d0887\"], [0.1111111111111111, \"#46039f\"], [0.2222222222222222, \"#7201a8\"], [0.3333333333333333, \"#9c179e\"], [0.4444444444444444, \"#bd3786\"], [0.5555555555555556, \"#d8576b\"], [0.6666666666666666, \"#ed7953\"], [0.7777777777777778, \"#fb9f3a\"], [0.8888888888888888, \"#fdca26\"], [1.0, \"#f0f921\"]], \"type\": \"heatmap\"}], \"heatmapgl\": [{\"colorbar\": {\"outlinewidth\": 0, \"ticks\": \"\"}, \"colorscale\": [[0.0, \"#0d0887\"], [0.1111111111111111, \"#46039f\"], [0.2222222222222222, \"#7201a8\"], [0.3333333333333333, \"#9c179e\"], [0.4444444444444444, \"#bd3786\"], [0.5555555555555556, \"#d8576b\"], [0.6666666666666666, \"#ed7953\"], [0.7777777777777778, \"#fb9f3a\"], [0.8888888888888888, \"#fdca26\"], [1.0, \"#f0f921\"]], \"type\": \"heatmapgl\"}], \"histogram\": [{\"marker\": {\"colorbar\": {\"outlinewidth\": 0, \"ticks\": \"\"}}, \"type\": \"histogram\"}], \"histogram2d\": [{\"colorbar\": {\"outlinewidth\": 0, \"ticks\": \"\"}, \"colorscale\": [[0.0, \"#0d0887\"], [0.1111111111111111, \"#46039f\"], [0.2222222222222222, \"#7201a8\"], [0.3333333333333333, \"#9c179e\"], [0.4444444444444444, \"#bd3786\"], [0.5555555555555556, \"#d8576b\"], [0.6666666666666666, \"#ed7953\"], [0.7777777777777778, \"#fb9f3a\"], [0.8888888888888888, \"#fdca26\"], [1.0, \"#f0f921\"]], \"type\": \"histogram2d\"}], \"histogram2dcontour\": [{\"colorbar\": {\"outlinewidth\": 0, \"ticks\": \"\"}, \"colorscale\": [[0.0, \"#0d0887\"], [0.1111111111111111, \"#46039f\"], [0.2222222222222222, \"#7201a8\"], [0.3333333333333333, \"#9c179e\"], [0.4444444444444444, \"#bd3786\"], [0.5555555555555556, \"#d8576b\"], [0.6666666666666666, \"#ed7953\"], [0.7777777777777778, \"#fb9f3a\"], [0.8888888888888888, \"#fdca26\"], [1.0, \"#f0f921\"]], \"type\": \"histogram2dcontour\"}], \"mesh3d\": [{\"colorbar\": {\"outlinewidth\": 0, \"ticks\": \"\"}, \"type\": \"mesh3d\"}], \"parcoords\": [{\"line\": {\"colorbar\": {\"outlinewidth\": 0, \"ticks\": \"\"}}, \"type\": \"parcoords\"}], \"pie\": [{\"automargin\": true, \"type\": \"pie\"}], \"scatter\": [{\"marker\": {\"colorbar\": {\"outlinewidth\": 0, \"ticks\": \"\"}}, \"type\": \"scatter\"}], \"scatter3d\": [{\"line\": {\"colorbar\": {\"outlinewidth\": 0, \"ticks\": \"\"}}, \"marker\": {\"colorbar\": {\"outlinewidth\": 0, \"ticks\": \"\"}}, \"type\": \"scatter3d\"}], \"scattercarpet\": [{\"marker\": {\"colorbar\": {\"outlinewidth\": 0, \"ticks\": \"\"}}, \"type\": \"scattercarpet\"}], \"scattergeo\": [{\"marker\": {\"colorbar\": {\"outlinewidth\": 0, \"ticks\": \"\"}}, \"type\": \"scattergeo\"}], \"scattergl\": [{\"marker\": {\"colorbar\": {\"outlinewidth\": 0, \"ticks\": \"\"}}, \"type\": \"scattergl\"}], \"scattermapbox\": [{\"marker\": {\"colorbar\": {\"outlinewidth\": 0, \"ticks\": \"\"}}, \"type\": \"scattermapbox\"}], \"scatterpolar\": [{\"marker\": {\"colorbar\": {\"outlinewidth\": 0, \"ticks\": \"\"}}, \"type\": \"scatterpolar\"}], \"scatterpolargl\": [{\"marker\": {\"colorbar\": {\"outlinewidth\": 0, \"ticks\": \"\"}}, \"type\": \"scatterpolargl\"}], \"scatterternary\": [{\"marker\": {\"colorbar\": {\"outlinewidth\": 0, \"ticks\": \"\"}}, \"type\": \"scatterternary\"}], \"surface\": [{\"colorbar\": {\"outlinewidth\": 0, \"ticks\": \"\"}, \"colorscale\": [[0.0, \"#0d0887\"], [0.1111111111111111, \"#46039f\"], [0.2222222222222222, \"#7201a8\"], [0.3333333333333333, \"#9c179e\"], [0.4444444444444444, \"#bd3786\"], [0.5555555555555556, \"#d8576b\"], [0.6666666666666666, \"#ed7953\"], [0.7777777777777778, \"#fb9f3a\"], [0.8888888888888888, \"#fdca26\"], [1.0, \"#f0f921\"]], \"type\": \"surface\"}], \"table\": [{\"cells\": {\"fill\": {\"color\": \"#EBF0F8\"}, \"line\": {\"color\": \"white\"}}, \"header\": {\"fill\": {\"color\": \"#C8D4E3\"}, \"line\": {\"color\": \"white\"}}, \"type\": \"table\"}]}, \"layout\": {\"annotationdefaults\": {\"arrowcolor\": \"#2a3f5f\", \"arrowhead\": 0, \"arrowwidth\": 1}, \"coloraxis\": {\"colorbar\": {\"outlinewidth\": 0, \"ticks\": \"\"}}, \"colorscale\": {\"diverging\": [[0, \"#8e0152\"], [0.1, \"#c51b7d\"], [0.2, \"#de77ae\"], [0.3, \"#f1b6da\"], [0.4, \"#fde0ef\"], [0.5, \"#f7f7f7\"], [0.6, \"#e6f5d0\"], [0.7, \"#b8e186\"], [0.8, \"#7fbc41\"], [0.9, \"#4d9221\"], [1, \"#276419\"]], \"sequential\": [[0.0, \"#0d0887\"], [0.1111111111111111, \"#46039f\"], [0.2222222222222222, \"#7201a8\"], [0.3333333333333333, \"#9c179e\"], [0.4444444444444444, \"#bd3786\"], [0.5555555555555556, \"#d8576b\"], [0.6666666666666666, \"#ed7953\"], [0.7777777777777778, \"#fb9f3a\"], [0.8888888888888888, \"#fdca26\"], [1.0, \"#f0f921\"]], \"sequentialminus\": [[0.0, \"#0d0887\"], [0.1111111111111111, \"#46039f\"], [0.2222222222222222, \"#7201a8\"], [0.3333333333333333, \"#9c179e\"], [0.4444444444444444, \"#bd3786\"], [0.5555555555555556, \"#d8576b\"], [0.6666666666666666, \"#ed7953\"], [0.7777777777777778, \"#fb9f3a\"], [0.8888888888888888, \"#fdca26\"], [1.0, \"#f0f921\"]]}, \"colorway\": [\"#636efa\", \"#EF553B\", \"#00cc96\", \"#ab63fa\", \"#FFA15A\", \"#19d3f3\", \"#FF6692\", \"#B6E880\", \"#FF97FF\", \"#FECB52\"], \"font\": {\"color\": \"#2a3f5f\"}, \"geo\": {\"bgcolor\": \"white\", \"lakecolor\": \"white\", \"landcolor\": \"#E5ECF6\", \"showlakes\": true, \"showland\": true, \"subunitcolor\": \"white\"}, \"hoverlabel\": {\"align\": \"left\"}, \"hovermode\": \"closest\", \"mapbox\": {\"style\": \"light\"}, \"paper_bgcolor\": \"white\", \"plot_bgcolor\": \"#E5ECF6\", \"polar\": {\"angularaxis\": {\"gridcolor\": \"white\", \"linecolor\": \"white\", \"ticks\": \"\"}, \"bgcolor\": \"#E5ECF6\", \"radialaxis\": {\"gridcolor\": \"white\", \"linecolor\": \"white\", \"ticks\": \"\"}}, \"scene\": {\"xaxis\": {\"backgroundcolor\": \"#E5ECF6\", \"gridcolor\": \"white\", \"gridwidth\": 2, \"linecolor\": \"white\", \"showbackground\": true, \"ticks\": \"\", \"zerolinecolor\": \"white\"}, \"yaxis\": {\"backgroundcolor\": \"#E5ECF6\", \"gridcolor\": \"white\", \"gridwidth\": 2, \"linecolor\": \"white\", \"showbackground\": true, \"ticks\": \"\", \"zerolinecolor\": \"white\"}, \"zaxis\": {\"backgroundcolor\": \"#E5ECF6\", \"gridcolor\": \"white\", \"gridwidth\": 2, \"linecolor\": \"white\", \"showbackground\": true, \"ticks\": \"\", \"zerolinecolor\": \"white\"}}, \"shapedefaults\": {\"line\": {\"color\": \"#2a3f5f\"}}, \"ternary\": {\"aaxis\": {\"gridcolor\": \"white\", \"linecolor\": \"white\", \"ticks\": \"\"}, \"baxis\": {\"gridcolor\": \"white\", \"linecolor\": \"white\", \"ticks\": \"\"}, \"bgcolor\": \"#E5ECF6\", \"caxis\": {\"gridcolor\": \"white\", \"linecolor\": \"white\", \"ticks\": \"\"}}, \"title\": {\"x\": 0.05}, \"xaxis\": {\"automargin\": true, \"gridcolor\": \"white\", \"linecolor\": \"white\", \"ticks\": \"\", \"title\": {\"standoff\": 15}, \"zerolinecolor\": \"white\", \"zerolinewidth\": 2}, \"yaxis\": {\"automargin\": true, \"gridcolor\": \"white\", \"linecolor\": \"white\", \"ticks\": \"\", \"title\": {\"standoff\": 15}, \"zerolinecolor\": \"white\", \"zerolinewidth\": 2}}}, \"title\": {\"text\": \"Cases as of 04 april\"}, \"xaxis\": {\"anchor\": \"y\", \"domain\": [0.0, 1.0], \"title\": {\"text\": \"State/UnionTerritory\"}}, \"yaxis\": {\"anchor\": \"x\", \"domain\": [0.0, 1.0], \"title\": {\"text\": \"Confirmed\"}}},\n",
       "                        {\"responsive\": true}\n",
       "                    ).then(function(){\n",
       "                            \n",
       "var gd = document.getElementById('414d88c3-3a82-4408-9000-a26a1ca4aaf8');\n",
       "var x = new MutationObserver(function (mutations, observer) {{\n",
       "        var display = window.getComputedStyle(gd).display;\n",
       "        if (!display || display === 'none') {{\n",
       "            console.log([gd, 'removed!']);\n",
       "            Plotly.purge(gd);\n",
       "            observer.disconnect();\n",
       "        }}\n",
       "}});\n",
       "\n",
       "// Listen for the removal of the full notebook cells\n",
       "var notebookContainer = gd.closest('#notebook-container');\n",
       "if (notebookContainer) {{\n",
       "    x.observe(notebookContainer, {childList: true});\n",
       "}}\n",
       "\n",
       "// Listen for the clearing of the current output cell\n",
       "var outputEl = gd.closest('.output');\n",
       "if (outputEl) {{\n",
       "    x.observe(outputEl, {childList: true});\n",
       "}}\n",
       "\n",
       "                        })\n",
       "                };\n",
       "                });\n",
       "            </script>\n",
       "        </div>"
      ]
     },
     "metadata": {},
     "output_type": "display_data"
    }
   ],
   "source": [
    "fig.show()"
   ]
  },
  {
   "cell_type": "code",
   "execution_count": 122,
   "metadata": {},
   "outputs": [
    {
     "data": {
      "application/vnd.plotly.v1+json": {
       "config": {
        "plotlyServerURL": "https://plot.ly"
       },
       "data": [
        {
         "hoverlabel": {
          "namelength": 0
         },
         "hovertemplate": "State/UnionTerritory=%{x}<br>Deaths=%{marker.color}",
         "legendgroup": "",
         "marker": {
          "color": [
           0,
           0,
           0,
           0,
           0,
           0,
           0,
           0,
           0,
           0,
           0,
           0,
           0,
           0,
           0,
           0,
           0,
           0,
           0,
           0,
           0,
           0,
           0,
           0,
           0,
           0,
           0,
           0,
           0,
           0,
           0,
           0,
           0,
           0,
           0,
           0,
           0,
           0,
           0,
           0,
           0,
           0,
           0,
           0,
           0,
           0,
           0,
           0,
           0,
           0,
           0,
           0,
           0,
           0,
           0,
           0,
           0,
           0,
           0,
           0,
           0,
           0,
           0,
           0,
           0,
           0,
           0,
           0,
           0,
           0,
           0,
           0,
           0,
           0,
           0,
           0,
           0,
           0,
           0,
           0,
           0,
           0,
           0,
           0,
           0,
           0,
           0,
           0,
           0,
           0,
           0,
           0,
           0,
           0,
           0,
           0,
           0,
           0,
           0,
           0,
           0,
           0,
           0,
           0,
           0,
           0,
           0,
           0,
           0,
           0,
           0,
           0,
           0,
           0,
           0,
           0,
           0,
           0,
           0,
           0,
           0,
           0,
           0,
           0,
           0,
           0,
           0,
           0,
           0,
           0,
           0,
           0,
           1,
           0,
           0,
           1,
           0,
           0,
           0,
           0,
           0,
           0,
           0,
           0,
           0,
           1,
           0,
           0,
           0,
           1,
           0,
           1,
           0,
           0,
           0,
           0,
           0,
           0,
           0,
           0,
           0,
           0,
           0,
           1,
           0,
           1,
           0,
           0,
           0,
           0,
           0,
           0,
           0,
           0,
           0,
           0,
           0,
           0,
           1,
           0,
           1,
           0,
           1,
           0,
           0,
           0,
           0,
           0,
           0,
           0,
           0,
           0,
           0,
           1,
           0,
           1,
           0,
           1,
           0,
           0,
           0,
           0,
           0,
           0,
           0,
           0,
           0,
           0,
           0,
           0,
           0,
           1,
           0,
           1,
           0,
           1,
           0,
           0,
           1,
           0,
           0,
           0,
           0,
           0,
           0,
           0,
           0,
           0,
           0,
           0,
           1,
           0,
           0,
           1,
           0,
           1,
           0,
           0,
           1,
           0,
           0,
           0,
           0,
           0,
           0,
           0,
           0,
           0,
           0,
           0,
           1,
           0,
           0,
           0,
           1,
           0,
           0,
           1,
           0,
           0,
           1,
           0,
           0,
           0,
           0,
           0,
           0,
           0,
           0,
           0,
           0,
           1,
           0,
           1,
           1,
           0,
           0,
           1,
           0,
           0,
           2,
           0,
           0,
           1,
           0,
           0,
           0,
           0,
           0,
           0,
           0,
           0,
           0,
           0,
           1,
           0,
           1,
           1,
           0,
           0,
           1,
           0,
           0,
           2,
           0,
           0,
           1,
           0,
           0,
           0,
           0,
           0,
           0,
           0,
           0,
           0,
           0,
           1,
           0,
           1,
           1,
           0,
           1,
           1,
           0,
           0,
           2,
           0,
           0,
           0,
           1,
           0,
           0,
           0,
           0,
           0,
           0,
           0,
           0,
           1,
           0,
           1,
           0,
           1,
           1,
           0,
           1,
           1,
           0,
           0,
           3,
           0,
           0,
           0,
           0,
           1,
           0,
           0,
           0,
           0,
           0,
           0,
           0,
           0,
           1,
           0,
           0,
           1,
           0,
           0,
           1,
           0,
           3,
           0,
           1,
           0,
           2,
           0,
           0,
           1,
           3,
           0,
           0,
           0,
           0,
           1,
           0,
           1,
           0,
           0,
           0,
           1,
           0,
           0,
           1,
           0,
           0,
           1,
           0,
           3,
           0,
           1,
           1,
           2,
           0,
           0,
           1,
           4,
           0,
           0,
           0,
           0,
           1,
           0,
           1,
           0,
           0,
           0,
           1,
           0,
           0,
           1,
           0,
           0,
           1,
           0,
           3,
           0,
           1,
           1,
           2,
           0,
           0,
           2,
           5,
           0,
           0,
           0,
           0,
           1,
           0,
           1,
           0,
           0,
           0,
           1,
           0,
           0,
           1,
           0,
           0,
           2,
           0,
           5,
           0,
           1,
           2,
           3,
           1,
           0,
           2,
           6,
           0,
           0,
           0,
           0,
           1,
           0,
           1,
           1,
           0,
           0,
           1,
           0,
           0,
           1,
           0,
           0,
           2,
           0,
           6,
           0,
           1,
           2,
           3,
           1,
           0,
           3,
           8,
           0,
           0,
           0,
           0,
           1,
           0,
           1,
           1,
           0,
           0,
           1,
           0,
           0,
           0,
           1,
           0,
           0,
           2,
           0,
           6,
           0,
           1,
           2,
           3,
           1,
           0,
           3,
           9,
           0,
           0,
           0,
           0,
           3,
           0,
           1,
           1,
           0,
           0,
           2,
           0,
           0,
           0,
           0,
           1,
           0,
           0,
           2,
           0,
           6,
           0,
           1,
           2,
           0,
           3,
           2,
           0,
           3,
           9,
           0,
           0,
           0,
           0,
           3,
           0,
           1,
           3,
           0,
           2,
           3,
           1,
           0,
           0,
           1,
           0,
           0,
           4,
           0,
           7,
           0,
           1,
           2,
           0,
           3,
           2,
           0,
           6,
           13,
           0,
           0,
           0,
           0,
           4,
           0,
           1,
           3,
           0,
           2,
           3,
           1,
           0,
           0,
           0,
           1,
           0,
           0,
           4,
           0,
           8,
           0,
           1,
           2,
           0,
           3,
           2,
           0,
           6,
           16,
           0,
           0,
           0,
           0,
           5,
           0,
           1,
           7,
           0,
           2,
           3,
           0,
           1,
           0,
           0,
           0,
           1,
           0,
           0,
           6,
           0,
           10,
           0,
           1,
           2,
           0,
           3,
           2,
           0,
           6,
           24,
           0,
           0,
           0,
           0,
           5,
           0,
           2,
           7,
           0,
           2,
           3
          ],
          "coloraxis": "coloraxis",
          "symbol": "circle"
         },
         "mode": "markers",
         "name": "",
         "showlegend": false,
         "type": "scatter",
         "x": [
          "Kerala",
          "Kerala",
          "Kerala",
          "Kerala",
          "Kerala",
          "Kerala",
          "Kerala",
          "Kerala",
          "Kerala",
          "Kerala",
          "Kerala",
          "Kerala",
          "Kerala",
          "Kerala",
          "Kerala",
          "Kerala",
          "Kerala",
          "Kerala",
          "Kerala",
          "Kerala",
          "Kerala",
          "Kerala",
          "Kerala",
          "Kerala",
          "Kerala",
          "Kerala",
          "Kerala",
          "Kerala",
          "Kerala",
          "Kerala",
          "Kerala",
          "Kerala",
          "Telengana",
          "Kerala",
          "Delhi",
          "Telengana",
          "Rajasthan",
          "Kerala",
          "Delhi",
          "Uttar Pradesh",
          "Kerala",
          "Haryana",
          "Delhi",
          "Telengana",
          "Rajasthan",
          "Delhi",
          "Haryana",
          "Kerala",
          "Rajasthan",
          "Telengana",
          "Uttar Pradesh",
          "Delhi",
          "Haryana",
          "Kerala",
          "Rajasthan",
          "Uttar Pradesh",
          "Telengana",
          "Kerala",
          "Uttar Pradesh",
          "Ladakh",
          "Telengana",
          "Tamil Nadu",
          "Delhi",
          "Haryana",
          "Rajasthan",
          "Ladakh",
          "Telengana",
          "Tamil Nadu",
          "Rajasthan",
          "Kerala",
          "Haryana",
          "Delhi",
          "Uttar Pradesh",
          "Ladakh",
          "Karnataka",
          "Kerala",
          "Maharashtra",
          "Punjab",
          "Rajasthan",
          "Tamil Nadu",
          "Telengana",
          "Jammu and Kashmir",
          "Uttar Pradesh",
          "Haryana",
          "Delhi",
          "Uttar Pradesh",
          "Ladakh",
          "Delhi",
          "Haryana",
          "Karnataka",
          "Kerala",
          "Maharashtra",
          "Punjab",
          "Rajasthan",
          "Tamil Nadu",
          "Telengana",
          "Jammu and Kashmir",
          "Maharashtra",
          "Delhi",
          "Haryana",
          "Kerala",
          "Rajasthan",
          "Telengana",
          "Uttar Pradesh",
          "Ladakh",
          "Tamil Nadu",
          "Jammu and Kashmir",
          "Punjab",
          "Karnataka",
          "Delhi",
          "Haryana",
          "Kerala",
          "Rajasthan",
          "Telengana",
          "Uttar Pradesh",
          "Ladakh",
          "Tamil Nadu",
          "Jammu and Kashmir",
          "Punjab",
          "Karnataka",
          "Maharashtra",
          "Andhra Pradesh",
          "Delhi",
          "Haryana",
          "Kerala",
          "Rajasthan",
          "Telengana",
          "Uttar Pradesh",
          "Ladakh",
          "Tamil Nadu",
          "Jammu and Kashmir",
          "Punjab",
          "Karnataka",
          "Maharashtra",
          "Andhra Pradesh",
          "Delhi",
          "Haryana",
          "Kerala",
          "Rajasthan",
          "Telengana",
          "Uttar Pradesh",
          "Ladakh",
          "Tamil Nadu",
          "Jammu and Kashmir",
          "Punjab",
          "Karnataka",
          "Maharashtra",
          "Andhra Pradesh",
          "Andhra Pradesh",
          "Delhi",
          "Haryana",
          "Karnataka",
          "Kerala",
          "Maharashtra",
          "Punjab",
          "Rajasthan",
          "Tamil Nadu",
          "Telengana",
          "Jammu and Kashmir",
          "Ladakh",
          "Uttar Pradesh",
          "Uttarakhand",
          "Andhra Pradesh",
          "Delhi",
          "Haryana",
          "Karnataka",
          "Kerala",
          "Maharashtra",
          "Odisha",
          "Punjab",
          "Rajasthan",
          "Tamil Nadu",
          "Telengana",
          "Jammu and Kashmir",
          "Ladakh",
          "Uttar Pradesh",
          "Uttarakhand",
          "Andhra Pradesh",
          "Delhi",
          "Haryana",
          "Karnataka",
          "Kerala",
          "Maharashtra",
          "Odisha",
          "Punjab",
          "Rajasthan",
          "Tamil Nadu",
          "Telengana",
          "Jammu and Kashmir",
          "Ladakh",
          "Uttar Pradesh",
          "Uttarakhand",
          "Andhra Pradesh",
          "Delhi",
          "Haryana",
          "Karnataka",
          "Kerala",
          "Maharashtra",
          "Odisha",
          "Pondicherry",
          "Punjab",
          "Rajasthan",
          "Tamil Nadu",
          "Telengana",
          "Jammu and Kashmir",
          "Ladakh",
          "Uttar Pradesh",
          "Uttarakhand",
          "West Bengal",
          "Andhra Pradesh",
          "Chattisgarh",
          "Delhi",
          "Haryana",
          "Karnataka",
          "Kerala",
          "Maharashtra",
          "Odisha",
          "Pondicherry",
          "Punjab",
          "Rajasthan",
          "Tamil Nadu",
          "Telengana",
          "Chandigarh",
          "Jammu and Kashmir",
          "Ladakh",
          "Uttar Pradesh",
          "Uttarakhand",
          "West Bengal",
          "Andhra Pradesh",
          "Chhattisgarh",
          "Delhi",
          "Gujarat",
          "Haryana",
          "Karnataka",
          "Kerala",
          "Maharashtra",
          "Odisha",
          "Puducherry",
          "Punjab",
          "Rajasthan",
          "Tamil Nadu",
          "Telengana",
          "Chandigarh",
          "Jammu and Kashmir",
          "Ladakh",
          "Uttar Pradesh",
          "Uttarakhand",
          "West Bengal",
          "Andhra Pradesh",
          "Chhattisgarh",
          "Delhi",
          "Gujarat",
          "Haryana",
          "Himachal Pradesh",
          "Karnataka",
          "Kerala",
          "Madhya Pradesh",
          "Maharashtra",
          "Odisha",
          "Puducherry",
          "Punjab",
          "Rajasthan",
          "Tamil Nadu",
          "Telengana",
          "Chandigarh",
          "Jammu and Kashmir",
          "Ladakh",
          "Uttar Pradesh",
          "Uttarakhand",
          "West Bengal",
          "Andhra Pradesh",
          "Bihar",
          "Chhattisgarh",
          "Delhi",
          "Gujarat",
          "Haryana",
          "Himachal Pradesh",
          "Karnataka",
          "Kerala",
          "Madhya Pradesh",
          "Maharashtra",
          "Odisha",
          "Puducherry",
          "Punjab",
          "Rajasthan",
          "Tamil Nadu",
          "Telengana",
          "Chandigarh",
          "Jammu and Kashmir",
          "Ladakh",
          "Uttar Pradesh",
          "Uttarakhand",
          "West Bengal",
          "Andhra Pradesh",
          "Bihar",
          "Chhattisgarh",
          "Delhi",
          "Gujarat",
          "Haryana",
          "Himachal Pradesh",
          "Karnataka",
          "Kerala",
          "Madhya Pradesh",
          "Maharashtra",
          "Odisha",
          "Puducherry",
          "Punjab",
          "Rajasthan",
          "Tamil Nadu",
          "Telengana",
          "Chandigarh",
          "Jammu and Kashmir",
          "Ladakh",
          "Uttar Pradesh",
          "Uttarakhand",
          "West Bengal",
          "Andhra Pradesh",
          "Bihar",
          "Chhattisgarh",
          "Delhi",
          "Gujarat",
          "Haryana",
          "Himachal Pradesh",
          "Karnataka",
          "Kerala",
          "Madhya Pradesh",
          "Maharashtra",
          "Manipur",
          "Odisha",
          "Puducherry",
          "Punjab",
          "Rajasthan",
          "Tamil Nadu",
          "Telengana",
          "Chandigarh",
          "Jammu and Kashmir",
          "Ladakh",
          "Uttar Pradesh",
          "Uttarakhand",
          "West Bengal",
          "Andhra Pradesh",
          "Bihar",
          "Chhattisgarh",
          "Delhi",
          "Gujarat",
          "Haryana",
          "Himachal Pradesh",
          "Karnataka",
          "Kerala",
          "Madhya Pradesh",
          "Maharashtra",
          "Manipur",
          "Mizoram",
          "Odisha",
          "Puducherry",
          "Punjab",
          "Rajasthan",
          "Tamil Nadu",
          "Telengana",
          "Chandigarh",
          "Jammu and Kashmir",
          "Ladakh",
          "Uttar Pradesh",
          "Uttarakhand",
          "West Bengal",
          "Andaman and Nicobar Islands",
          "Andhra Pradesh",
          "Bihar",
          "Chandigarh",
          "Chhattisgarh",
          "Delhi",
          "Goa",
          "Gujarat",
          "Haryana",
          "Himachal Pradesh",
          "Jammu and Kashmir",
          "Karnataka",
          "Kerala",
          "Ladakh",
          "Madhya Pradesh",
          "Maharashtra",
          "Manipur",
          "Mizoram",
          "Odisha",
          "Puducherry",
          "Punjab",
          "Rajasthan",
          "Tamil Nadu",
          "Telengana",
          "Uttarakhand",
          "Uttar Pradesh",
          "West Bengal",
          "Andaman and Nicobar Islands",
          "Andhra Pradesh",
          "Bihar",
          "Chandigarh",
          "Chhattisgarh",
          "Delhi",
          "Goa",
          "Gujarat",
          "Haryana",
          "Himachal Pradesh",
          "Jammu and Kashmir",
          "Karnataka",
          "Kerala",
          "Ladakh",
          "Madhya Pradesh",
          "Maharashtra",
          "Manipur",
          "Mizoram",
          "Odisha",
          "Puducherry",
          "Punjab",
          "Rajasthan",
          "Tamil Nadu",
          "Telengana",
          "Uttarakhand",
          "Uttar Pradesh",
          "West Bengal",
          "Andhra Pradesh",
          "Andaman and Nicobar Islands",
          "Bihar",
          "Chandigarh",
          "Chhattisgarh",
          "Delhi",
          "Goa",
          "Gujarat",
          "Haryana",
          "Himachal Pradesh",
          "Jammu and Kashmir",
          "Karnataka",
          "Kerala",
          "Ladakh",
          "Madhya Pradesh",
          "Maharashtra",
          "Manipur",
          "Mizoram",
          "Odisha",
          "Puducherry",
          "Punjab",
          "Rajasthan",
          "Tamil Nadu",
          "Telengana",
          "Uttarakhand",
          "Uttar Pradesh",
          "West Bengal",
          "Andhra Pradesh",
          "Andaman and Nicobar Islands",
          "Bihar",
          "Chandigarh",
          "Chhattisgarh",
          "Delhi",
          "Goa",
          "Gujarat",
          "Haryana",
          "Himachal Pradesh",
          "Jammu and Kashmir",
          "Karnataka",
          "Kerala",
          "Ladakh",
          "Madhya Pradesh",
          "Maharashtra",
          "Manipur",
          "Mizoram",
          "Odisha",
          "Puducherry",
          "Punjab",
          "Rajasthan",
          "Tamil Nadu",
          "Telengana",
          "Uttarakhand",
          "Uttar Pradesh",
          "West Bengal",
          "Andhra Pradesh",
          "Andaman and Nicobar Islands",
          "Bihar",
          "Chandigarh",
          "Chhattisgarh",
          "Delhi",
          "Goa",
          "Gujarat",
          "Haryana",
          "Himachal Pradesh",
          "Jammu and Kashmir",
          "Karnataka",
          "Kerala",
          "Ladakh",
          "Madhya Pradesh",
          "Maharashtra",
          "Manipur",
          "Mizoram",
          "Odisha",
          "Puducherry",
          "Punjab",
          "Rajasthan",
          "Tamil Nadu",
          "Telengana",
          "Uttarakhand",
          "Uttar Pradesh",
          "West Bengal",
          "Unassigned",
          "Andhra Pradesh",
          "Andaman and Nicobar Islands",
          "Bihar",
          "Chandigarh",
          "Chhattisgarh",
          "Delhi",
          "Goa",
          "Gujarat",
          "Haryana",
          "Himachal Pradesh",
          "Jammu and Kashmir",
          "Karnataka",
          "Kerala",
          "Ladakh",
          "Madhya Pradesh",
          "Maharashtra",
          "Manipur",
          "Mizoram",
          "Odisha",
          "Puducherry",
          "Punjab",
          "Rajasthan",
          "Tamil Nadu",
          "Telengana",
          "Uttarakhand",
          "Uttar Pradesh",
          "West Bengal",
          "Unassigned",
          "Andhra Pradesh",
          "Andaman and Nicobar Islands",
          "Assam",
          "Bihar",
          "Chandigarh",
          "Chhattisgarh",
          "Delhi",
          "Goa",
          "Gujarat",
          "Haryana",
          "Himachal Pradesh",
          "Jammu and Kashmir",
          "Jharkhand",
          "Karnataka",
          "Kerala",
          "Ladakh",
          "Madhya Pradesh",
          "Maharashtra",
          "Manipur",
          "Mizoram",
          "Odisha",
          "Puducherry",
          "Punjab",
          "Rajasthan",
          "Tamil Nadu",
          "Telengana",
          "Uttarakhand",
          "Uttar Pradesh",
          "West Bengal",
          "Andhra Pradesh",
          "Andaman and Nicobar Islands",
          "Assam",
          "Bihar",
          "Chandigarh",
          "Chhattisgarh",
          "Delhi",
          "Goa",
          "Gujarat",
          "Haryana",
          "Himachal Pradesh",
          "Jammu and Kashmir",
          "Jharkhand",
          "Karnataka",
          "Kerala",
          "Ladakh",
          "Madhya Pradesh",
          "Maharashtra",
          "Manipur",
          "Mizoram",
          "Odisha",
          "Puducherry",
          "Punjab",
          "Rajasthan",
          "Tamil Nadu",
          "Telengana",
          "Uttarakhand",
          "Uttar Pradesh",
          "West Bengal",
          "Andhra Pradesh",
          "Andaman and Nicobar Islands",
          "Arunachal Pradesh",
          "Assam",
          "Bihar",
          "Chandigarh",
          "Chhattisgarh",
          "Delhi",
          "Goa",
          "Gujarat",
          "Haryana",
          "Himachal Pradesh",
          "Jammu and Kashmir",
          "Jharkhand",
          "Karnataka",
          "Kerala",
          "Ladakh",
          "Madhya Pradesh",
          "Maharashtra",
          "Manipur",
          "Mizoram",
          "Odisha",
          "Puducherry",
          "Punjab",
          "Rajasthan",
          "Tamil Nadu",
          "Telengana",
          "Uttarakhand",
          "Uttar Pradesh",
          "West Bengal",
          "Unassigned",
          "Andhra Pradesh",
          "Andaman and Nicobar Islands",
          "Arunachal Pradesh",
          "Assam",
          "Bihar",
          "Chandigarh",
          "Chhattisgarh",
          "Delhi",
          "Goa",
          "Gujarat",
          "Haryana",
          "Himachal Pradesh",
          "Jammu and Kashmir",
          "Jharkhand",
          "Karnataka",
          "Kerala",
          "Ladakh",
          "Madhya Pradesh",
          "Maharashtra",
          "Manipur",
          "Mizoram",
          "Odisha",
          "Puducherry",
          "Punjab",
          "Rajasthan",
          "Tamil Nadu",
          "Telengana",
          "Uttarakhand",
          "Uttar Pradesh",
          "West Bengal"
         ],
         "xaxis": "x",
         "y": [
          0,
          0,
          0,
          0,
          0,
          0,
          0,
          0,
          0,
          0,
          0,
          0,
          0,
          0,
          0,
          0,
          0,
          0,
          0,
          0,
          0,
          0,
          0,
          0,
          0,
          0,
          0,
          0,
          0,
          0,
          0,
          0,
          0,
          0,
          0,
          0,
          0,
          0,
          0,
          0,
          0,
          0,
          0,
          0,
          0,
          0,
          0,
          0,
          0,
          0,
          0,
          0,
          0,
          0,
          0,
          0,
          0,
          0,
          0,
          0,
          0,
          0,
          0,
          0,
          0,
          0,
          0,
          0,
          0,
          0,
          0,
          0,
          0,
          0,
          0,
          0,
          0,
          0,
          0,
          0,
          0,
          0,
          0,
          0,
          0,
          0,
          0,
          0,
          0,
          0,
          0,
          0,
          0,
          0,
          0,
          0,
          0,
          0,
          0,
          0,
          0,
          0,
          0,
          0,
          0,
          0,
          0,
          0,
          0,
          0,
          0,
          0,
          0,
          0,
          0,
          0,
          0,
          0,
          0,
          0,
          0,
          0,
          0,
          0,
          0,
          0,
          0,
          0,
          0,
          0,
          0,
          0,
          1,
          0,
          0,
          1,
          0,
          0,
          0,
          0,
          0,
          0,
          0,
          0,
          0,
          1,
          0,
          0,
          0,
          1,
          0,
          1,
          0,
          0,
          0,
          0,
          0,
          0,
          0,
          0,
          0,
          0,
          0,
          1,
          0,
          1,
          0,
          0,
          0,
          0,
          0,
          0,
          0,
          0,
          0,
          0,
          0,
          0,
          1,
          0,
          1,
          0,
          1,
          0,
          0,
          0,
          0,
          0,
          0,
          0,
          0,
          0,
          0,
          1,
          0,
          1,
          0,
          1,
          0,
          0,
          0,
          0,
          0,
          0,
          0,
          0,
          0,
          0,
          0,
          0,
          0,
          1,
          0,
          1,
          0,
          1,
          0,
          0,
          1,
          0,
          0,
          0,
          0,
          0,
          0,
          0,
          0,
          0,
          0,
          0,
          1,
          0,
          0,
          1,
          0,
          1,
          0,
          0,
          1,
          0,
          0,
          0,
          0,
          0,
          0,
          0,
          0,
          0,
          0,
          0,
          1,
          0,
          0,
          0,
          1,
          0,
          0,
          1,
          0,
          0,
          1,
          0,
          0,
          0,
          0,
          0,
          0,
          0,
          0,
          0,
          0,
          1,
          0,
          1,
          1,
          0,
          0,
          1,
          0,
          0,
          2,
          0,
          0,
          1,
          0,
          0,
          0,
          0,
          0,
          0,
          0,
          0,
          0,
          0,
          1,
          0,
          1,
          1,
          0,
          0,
          1,
          0,
          0,
          2,
          0,
          0,
          1,
          0,
          0,
          0,
          0,
          0,
          0,
          0,
          0,
          0,
          0,
          1,
          0,
          1,
          1,
          0,
          1,
          1,
          0,
          0,
          2,
          0,
          0,
          0,
          1,
          0,
          0,
          0,
          0,
          0,
          0,
          0,
          0,
          1,
          0,
          1,
          0,
          1,
          1,
          0,
          1,
          1,
          0,
          0,
          3,
          0,
          0,
          0,
          0,
          1,
          0,
          0,
          0,
          0,
          0,
          0,
          0,
          0,
          1,
          0,
          0,
          1,
          0,
          0,
          1,
          0,
          3,
          0,
          1,
          0,
          2,
          0,
          0,
          1,
          3,
          0,
          0,
          0,
          0,
          1,
          0,
          1,
          0,
          0,
          0,
          1,
          0,
          0,
          1,
          0,
          0,
          1,
          0,
          3,
          0,
          1,
          1,
          2,
          0,
          0,
          1,
          4,
          0,
          0,
          0,
          0,
          1,
          0,
          1,
          0,
          0,
          0,
          1,
          0,
          0,
          1,
          0,
          0,
          1,
          0,
          3,
          0,
          1,
          1,
          2,
          0,
          0,
          2,
          5,
          0,
          0,
          0,
          0,
          1,
          0,
          1,
          0,
          0,
          0,
          1,
          0,
          0,
          1,
          0,
          0,
          2,
          0,
          5,
          0,
          1,
          2,
          3,
          1,
          0,
          2,
          6,
          0,
          0,
          0,
          0,
          1,
          0,
          1,
          1,
          0,
          0,
          1,
          0,
          0,
          1,
          0,
          0,
          2,
          0,
          6,
          0,
          1,
          2,
          3,
          1,
          0,
          3,
          8,
          0,
          0,
          0,
          0,
          1,
          0,
          1,
          1,
          0,
          0,
          1,
          0,
          0,
          0,
          1,
          0,
          0,
          2,
          0,
          6,
          0,
          1,
          2,
          3,
          1,
          0,
          3,
          9,
          0,
          0,
          0,
          0,
          3,
          0,
          1,
          1,
          0,
          0,
          2,
          0,
          0,
          0,
          0,
          1,
          0,
          0,
          2,
          0,
          6,
          0,
          1,
          2,
          0,
          3,
          2,
          0,
          3,
          9,
          0,
          0,
          0,
          0,
          3,
          0,
          1,
          3,
          0,
          2,
          3,
          1,
          0,
          0,
          1,
          0,
          0,
          4,
          0,
          7,
          0,
          1,
          2,
          0,
          3,
          2,
          0,
          6,
          13,
          0,
          0,
          0,
          0,
          4,
          0,
          1,
          3,
          0,
          2,
          3,
          1,
          0,
          0,
          0,
          1,
          0,
          0,
          4,
          0,
          8,
          0,
          1,
          2,
          0,
          3,
          2,
          0,
          6,
          16,
          0,
          0,
          0,
          0,
          5,
          0,
          1,
          7,
          0,
          2,
          3,
          0,
          1,
          0,
          0,
          0,
          1,
          0,
          0,
          6,
          0,
          10,
          0,
          1,
          2,
          0,
          3,
          2,
          0,
          6,
          24,
          0,
          0,
          0,
          0,
          5,
          0,
          2,
          7,
          0,
          2,
          3
         ],
         "yaxis": "y"
        },
        {
         "alignmentgroup": "True",
         "boxpoints": "all",
         "fillcolor": "rgba(255,255,255,0)",
         "hoverlabel": {
          "namelength": 0
         },
         "hoveron": "points",
         "hovertemplate": "Deaths=%{y}",
         "jitter": 0,
         "legendgroup": "",
         "line": {
          "color": "rgba(255,255,255,0)"
         },
         "marker": {
          "color": "#0d0887",
          "symbol": "line-ew-open"
         },
         "name": "",
         "offsetgroup": "",
         "showlegend": false,
         "type": "box",
         "xaxis": "x2",
         "y": [
          0,
          0,
          0,
          0,
          0,
          0,
          0,
          0,
          0,
          0,
          0,
          0,
          0,
          0,
          0,
          0,
          0,
          0,
          0,
          0,
          0,
          0,
          0,
          0,
          0,
          0,
          0,
          0,
          0,
          0,
          0,
          0,
          0,
          0,
          0,
          0,
          0,
          0,
          0,
          0,
          0,
          0,
          0,
          0,
          0,
          0,
          0,
          0,
          0,
          0,
          0,
          0,
          0,
          0,
          0,
          0,
          0,
          0,
          0,
          0,
          0,
          0,
          0,
          0,
          0,
          0,
          0,
          0,
          0,
          0,
          0,
          0,
          0,
          0,
          0,
          0,
          0,
          0,
          0,
          0,
          0,
          0,
          0,
          0,
          0,
          0,
          0,
          0,
          0,
          0,
          0,
          0,
          0,
          0,
          0,
          0,
          0,
          0,
          0,
          0,
          0,
          0,
          0,
          0,
          0,
          0,
          0,
          0,
          0,
          0,
          0,
          0,
          0,
          0,
          0,
          0,
          0,
          0,
          0,
          0,
          0,
          0,
          0,
          0,
          0,
          0,
          0,
          0,
          0,
          0,
          0,
          0,
          1,
          0,
          0,
          1,
          0,
          0,
          0,
          0,
          0,
          0,
          0,
          0,
          0,
          1,
          0,
          0,
          0,
          1,
          0,
          1,
          0,
          0,
          0,
          0,
          0,
          0,
          0,
          0,
          0,
          0,
          0,
          1,
          0,
          1,
          0,
          0,
          0,
          0,
          0,
          0,
          0,
          0,
          0,
          0,
          0,
          0,
          1,
          0,
          1,
          0,
          1,
          0,
          0,
          0,
          0,
          0,
          0,
          0,
          0,
          0,
          0,
          1,
          0,
          1,
          0,
          1,
          0,
          0,
          0,
          0,
          0,
          0,
          0,
          0,
          0,
          0,
          0,
          0,
          0,
          1,
          0,
          1,
          0,
          1,
          0,
          0,
          1,
          0,
          0,
          0,
          0,
          0,
          0,
          0,
          0,
          0,
          0,
          0,
          1,
          0,
          0,
          1,
          0,
          1,
          0,
          0,
          1,
          0,
          0,
          0,
          0,
          0,
          0,
          0,
          0,
          0,
          0,
          0,
          1,
          0,
          0,
          0,
          1,
          0,
          0,
          1,
          0,
          0,
          1,
          0,
          0,
          0,
          0,
          0,
          0,
          0,
          0,
          0,
          0,
          1,
          0,
          1,
          1,
          0,
          0,
          1,
          0,
          0,
          2,
          0,
          0,
          1,
          0,
          0,
          0,
          0,
          0,
          0,
          0,
          0,
          0,
          0,
          1,
          0,
          1,
          1,
          0,
          0,
          1,
          0,
          0,
          2,
          0,
          0,
          1,
          0,
          0,
          0,
          0,
          0,
          0,
          0,
          0,
          0,
          0,
          1,
          0,
          1,
          1,
          0,
          1,
          1,
          0,
          0,
          2,
          0,
          0,
          0,
          1,
          0,
          0,
          0,
          0,
          0,
          0,
          0,
          0,
          1,
          0,
          1,
          0,
          1,
          1,
          0,
          1,
          1,
          0,
          0,
          3,
          0,
          0,
          0,
          0,
          1,
          0,
          0,
          0,
          0,
          0,
          0,
          0,
          0,
          1,
          0,
          0,
          1,
          0,
          0,
          1,
          0,
          3,
          0,
          1,
          0,
          2,
          0,
          0,
          1,
          3,
          0,
          0,
          0,
          0,
          1,
          0,
          1,
          0,
          0,
          0,
          1,
          0,
          0,
          1,
          0,
          0,
          1,
          0,
          3,
          0,
          1,
          1,
          2,
          0,
          0,
          1,
          4,
          0,
          0,
          0,
          0,
          1,
          0,
          1,
          0,
          0,
          0,
          1,
          0,
          0,
          1,
          0,
          0,
          1,
          0,
          3,
          0,
          1,
          1,
          2,
          0,
          0,
          2,
          5,
          0,
          0,
          0,
          0,
          1,
          0,
          1,
          0,
          0,
          0,
          1,
          0,
          0,
          1,
          0,
          0,
          2,
          0,
          5,
          0,
          1,
          2,
          3,
          1,
          0,
          2,
          6,
          0,
          0,
          0,
          0,
          1,
          0,
          1,
          1,
          0,
          0,
          1,
          0,
          0,
          1,
          0,
          0,
          2,
          0,
          6,
          0,
          1,
          2,
          3,
          1,
          0,
          3,
          8,
          0,
          0,
          0,
          0,
          1,
          0,
          1,
          1,
          0,
          0,
          1,
          0,
          0,
          0,
          1,
          0,
          0,
          2,
          0,
          6,
          0,
          1,
          2,
          3,
          1,
          0,
          3,
          9,
          0,
          0,
          0,
          0,
          3,
          0,
          1,
          1,
          0,
          0,
          2,
          0,
          0,
          0,
          0,
          1,
          0,
          0,
          2,
          0,
          6,
          0,
          1,
          2,
          0,
          3,
          2,
          0,
          3,
          9,
          0,
          0,
          0,
          0,
          3,
          0,
          1,
          3,
          0,
          2,
          3,
          1,
          0,
          0,
          1,
          0,
          0,
          4,
          0,
          7,
          0,
          1,
          2,
          0,
          3,
          2,
          0,
          6,
          13,
          0,
          0,
          0,
          0,
          4,
          0,
          1,
          3,
          0,
          2,
          3,
          1,
          0,
          0,
          0,
          1,
          0,
          0,
          4,
          0,
          8,
          0,
          1,
          2,
          0,
          3,
          2,
          0,
          6,
          16,
          0,
          0,
          0,
          0,
          5,
          0,
          1,
          7,
          0,
          2,
          3,
          0,
          1,
          0,
          0,
          0,
          1,
          0,
          0,
          6,
          0,
          10,
          0,
          1,
          2,
          0,
          3,
          2,
          0,
          6,
          24,
          0,
          0,
          0,
          0,
          5,
          0,
          2,
          7,
          0,
          2,
          3
         ],
         "yaxis": "y2"
        }
       ],
       "layout": {
        "coloraxis": {
         "colorbar": {
          "title": {
           "text": "Deaths"
          }
         },
         "colorscale": [
          [
           0,
           "#0d0887"
          ],
          [
           0.1111111111111111,
           "#46039f"
          ],
          [
           0.2222222222222222,
           "#7201a8"
          ],
          [
           0.3333333333333333,
           "#9c179e"
          ],
          [
           0.4444444444444444,
           "#bd3786"
          ],
          [
           0.5555555555555556,
           "#d8576b"
          ],
          [
           0.6666666666666666,
           "#ed7953"
          ],
          [
           0.7777777777777778,
           "#fb9f3a"
          ],
          [
           0.8888888888888888,
           "#fdca26"
          ],
          [
           1,
           "#f0f921"
          ]
         ]
        },
        "legend": {
         "tracegroupgap": 0
        },
        "template": {
         "data": {
          "bar": [
           {
            "error_x": {
             "color": "#2a3f5f"
            },
            "error_y": {
             "color": "#2a3f5f"
            },
            "marker": {
             "line": {
              "color": "#E5ECF6",
              "width": 0.5
             }
            },
            "type": "bar"
           }
          ],
          "barpolar": [
           {
            "marker": {
             "line": {
              "color": "#E5ECF6",
              "width": 0.5
             }
            },
            "type": "barpolar"
           }
          ],
          "carpet": [
           {
            "aaxis": {
             "endlinecolor": "#2a3f5f",
             "gridcolor": "white",
             "linecolor": "white",
             "minorgridcolor": "white",
             "startlinecolor": "#2a3f5f"
            },
            "baxis": {
             "endlinecolor": "#2a3f5f",
             "gridcolor": "white",
             "linecolor": "white",
             "minorgridcolor": "white",
             "startlinecolor": "#2a3f5f"
            },
            "type": "carpet"
           }
          ],
          "choropleth": [
           {
            "colorbar": {
             "outlinewidth": 0,
             "ticks": ""
            },
            "type": "choropleth"
           }
          ],
          "contour": [
           {
            "colorbar": {
             "outlinewidth": 0,
             "ticks": ""
            },
            "colorscale": [
             [
              0,
              "#0d0887"
             ],
             [
              0.1111111111111111,
              "#46039f"
             ],
             [
              0.2222222222222222,
              "#7201a8"
             ],
             [
              0.3333333333333333,
              "#9c179e"
             ],
             [
              0.4444444444444444,
              "#bd3786"
             ],
             [
              0.5555555555555556,
              "#d8576b"
             ],
             [
              0.6666666666666666,
              "#ed7953"
             ],
             [
              0.7777777777777778,
              "#fb9f3a"
             ],
             [
              0.8888888888888888,
              "#fdca26"
             ],
             [
              1,
              "#f0f921"
             ]
            ],
            "type": "contour"
           }
          ],
          "contourcarpet": [
           {
            "colorbar": {
             "outlinewidth": 0,
             "ticks": ""
            },
            "type": "contourcarpet"
           }
          ],
          "heatmap": [
           {
            "colorbar": {
             "outlinewidth": 0,
             "ticks": ""
            },
            "colorscale": [
             [
              0,
              "#0d0887"
             ],
             [
              0.1111111111111111,
              "#46039f"
             ],
             [
              0.2222222222222222,
              "#7201a8"
             ],
             [
              0.3333333333333333,
              "#9c179e"
             ],
             [
              0.4444444444444444,
              "#bd3786"
             ],
             [
              0.5555555555555556,
              "#d8576b"
             ],
             [
              0.6666666666666666,
              "#ed7953"
             ],
             [
              0.7777777777777778,
              "#fb9f3a"
             ],
             [
              0.8888888888888888,
              "#fdca26"
             ],
             [
              1,
              "#f0f921"
             ]
            ],
            "type": "heatmap"
           }
          ],
          "heatmapgl": [
           {
            "colorbar": {
             "outlinewidth": 0,
             "ticks": ""
            },
            "colorscale": [
             [
              0,
              "#0d0887"
             ],
             [
              0.1111111111111111,
              "#46039f"
             ],
             [
              0.2222222222222222,
              "#7201a8"
             ],
             [
              0.3333333333333333,
              "#9c179e"
             ],
             [
              0.4444444444444444,
              "#bd3786"
             ],
             [
              0.5555555555555556,
              "#d8576b"
             ],
             [
              0.6666666666666666,
              "#ed7953"
             ],
             [
              0.7777777777777778,
              "#fb9f3a"
             ],
             [
              0.8888888888888888,
              "#fdca26"
             ],
             [
              1,
              "#f0f921"
             ]
            ],
            "type": "heatmapgl"
           }
          ],
          "histogram": [
           {
            "marker": {
             "colorbar": {
              "outlinewidth": 0,
              "ticks": ""
             }
            },
            "type": "histogram"
           }
          ],
          "histogram2d": [
           {
            "colorbar": {
             "outlinewidth": 0,
             "ticks": ""
            },
            "colorscale": [
             [
              0,
              "#0d0887"
             ],
             [
              0.1111111111111111,
              "#46039f"
             ],
             [
              0.2222222222222222,
              "#7201a8"
             ],
             [
              0.3333333333333333,
              "#9c179e"
             ],
             [
              0.4444444444444444,
              "#bd3786"
             ],
             [
              0.5555555555555556,
              "#d8576b"
             ],
             [
              0.6666666666666666,
              "#ed7953"
             ],
             [
              0.7777777777777778,
              "#fb9f3a"
             ],
             [
              0.8888888888888888,
              "#fdca26"
             ],
             [
              1,
              "#f0f921"
             ]
            ],
            "type": "histogram2d"
           }
          ],
          "histogram2dcontour": [
           {
            "colorbar": {
             "outlinewidth": 0,
             "ticks": ""
            },
            "colorscale": [
             [
              0,
              "#0d0887"
             ],
             [
              0.1111111111111111,
              "#46039f"
             ],
             [
              0.2222222222222222,
              "#7201a8"
             ],
             [
              0.3333333333333333,
              "#9c179e"
             ],
             [
              0.4444444444444444,
              "#bd3786"
             ],
             [
              0.5555555555555556,
              "#d8576b"
             ],
             [
              0.6666666666666666,
              "#ed7953"
             ],
             [
              0.7777777777777778,
              "#fb9f3a"
             ],
             [
              0.8888888888888888,
              "#fdca26"
             ],
             [
              1,
              "#f0f921"
             ]
            ],
            "type": "histogram2dcontour"
           }
          ],
          "mesh3d": [
           {
            "colorbar": {
             "outlinewidth": 0,
             "ticks": ""
            },
            "type": "mesh3d"
           }
          ],
          "parcoords": [
           {
            "line": {
             "colorbar": {
              "outlinewidth": 0,
              "ticks": ""
             }
            },
            "type": "parcoords"
           }
          ],
          "pie": [
           {
            "automargin": true,
            "type": "pie"
           }
          ],
          "scatter": [
           {
            "marker": {
             "colorbar": {
              "outlinewidth": 0,
              "ticks": ""
             }
            },
            "type": "scatter"
           }
          ],
          "scatter3d": [
           {
            "line": {
             "colorbar": {
              "outlinewidth": 0,
              "ticks": ""
             }
            },
            "marker": {
             "colorbar": {
              "outlinewidth": 0,
              "ticks": ""
             }
            },
            "type": "scatter3d"
           }
          ],
          "scattercarpet": [
           {
            "marker": {
             "colorbar": {
              "outlinewidth": 0,
              "ticks": ""
             }
            },
            "type": "scattercarpet"
           }
          ],
          "scattergeo": [
           {
            "marker": {
             "colorbar": {
              "outlinewidth": 0,
              "ticks": ""
             }
            },
            "type": "scattergeo"
           }
          ],
          "scattergl": [
           {
            "marker": {
             "colorbar": {
              "outlinewidth": 0,
              "ticks": ""
             }
            },
            "type": "scattergl"
           }
          ],
          "scattermapbox": [
           {
            "marker": {
             "colorbar": {
              "outlinewidth": 0,
              "ticks": ""
             }
            },
            "type": "scattermapbox"
           }
          ],
          "scatterpolar": [
           {
            "marker": {
             "colorbar": {
              "outlinewidth": 0,
              "ticks": ""
             }
            },
            "type": "scatterpolar"
           }
          ],
          "scatterpolargl": [
           {
            "marker": {
             "colorbar": {
              "outlinewidth": 0,
              "ticks": ""
             }
            },
            "type": "scatterpolargl"
           }
          ],
          "scatterternary": [
           {
            "marker": {
             "colorbar": {
              "outlinewidth": 0,
              "ticks": ""
             }
            },
            "type": "scatterternary"
           }
          ],
          "surface": [
           {
            "colorbar": {
             "outlinewidth": 0,
             "ticks": ""
            },
            "colorscale": [
             [
              0,
              "#0d0887"
             ],
             [
              0.1111111111111111,
              "#46039f"
             ],
             [
              0.2222222222222222,
              "#7201a8"
             ],
             [
              0.3333333333333333,
              "#9c179e"
             ],
             [
              0.4444444444444444,
              "#bd3786"
             ],
             [
              0.5555555555555556,
              "#d8576b"
             ],
             [
              0.6666666666666666,
              "#ed7953"
             ],
             [
              0.7777777777777778,
              "#fb9f3a"
             ],
             [
              0.8888888888888888,
              "#fdca26"
             ],
             [
              1,
              "#f0f921"
             ]
            ],
            "type": "surface"
           }
          ],
          "table": [
           {
            "cells": {
             "fill": {
              "color": "#EBF0F8"
             },
             "line": {
              "color": "white"
             }
            },
            "header": {
             "fill": {
              "color": "#C8D4E3"
             },
             "line": {
              "color": "white"
             }
            },
            "type": "table"
           }
          ]
         },
         "layout": {
          "annotationdefaults": {
           "arrowcolor": "#2a3f5f",
           "arrowhead": 0,
           "arrowwidth": 1
          },
          "coloraxis": {
           "colorbar": {
            "outlinewidth": 0,
            "ticks": ""
           }
          },
          "colorscale": {
           "diverging": [
            [
             0,
             "#8e0152"
            ],
            [
             0.1,
             "#c51b7d"
            ],
            [
             0.2,
             "#de77ae"
            ],
            [
             0.3,
             "#f1b6da"
            ],
            [
             0.4,
             "#fde0ef"
            ],
            [
             0.5,
             "#f7f7f7"
            ],
            [
             0.6,
             "#e6f5d0"
            ],
            [
             0.7,
             "#b8e186"
            ],
            [
             0.8,
             "#7fbc41"
            ],
            [
             0.9,
             "#4d9221"
            ],
            [
             1,
             "#276419"
            ]
           ],
           "sequential": [
            [
             0,
             "#0d0887"
            ],
            [
             0.1111111111111111,
             "#46039f"
            ],
            [
             0.2222222222222222,
             "#7201a8"
            ],
            [
             0.3333333333333333,
             "#9c179e"
            ],
            [
             0.4444444444444444,
             "#bd3786"
            ],
            [
             0.5555555555555556,
             "#d8576b"
            ],
            [
             0.6666666666666666,
             "#ed7953"
            ],
            [
             0.7777777777777778,
             "#fb9f3a"
            ],
            [
             0.8888888888888888,
             "#fdca26"
            ],
            [
             1,
             "#f0f921"
            ]
           ],
           "sequentialminus": [
            [
             0,
             "#0d0887"
            ],
            [
             0.1111111111111111,
             "#46039f"
            ],
            [
             0.2222222222222222,
             "#7201a8"
            ],
            [
             0.3333333333333333,
             "#9c179e"
            ],
            [
             0.4444444444444444,
             "#bd3786"
            ],
            [
             0.5555555555555556,
             "#d8576b"
            ],
            [
             0.6666666666666666,
             "#ed7953"
            ],
            [
             0.7777777777777778,
             "#fb9f3a"
            ],
            [
             0.8888888888888888,
             "#fdca26"
            ],
            [
             1,
             "#f0f921"
            ]
           ]
          },
          "colorway": [
           "#636efa",
           "#EF553B",
           "#00cc96",
           "#ab63fa",
           "#FFA15A",
           "#19d3f3",
           "#FF6692",
           "#B6E880",
           "#FF97FF",
           "#FECB52"
          ],
          "font": {
           "color": "#2a3f5f"
          },
          "geo": {
           "bgcolor": "white",
           "lakecolor": "white",
           "landcolor": "#E5ECF6",
           "showlakes": true,
           "showland": true,
           "subunitcolor": "white"
          },
          "hoverlabel": {
           "align": "left"
          },
          "hovermode": "closest",
          "mapbox": {
           "style": "light"
          },
          "paper_bgcolor": "white",
          "plot_bgcolor": "#E5ECF6",
          "polar": {
           "angularaxis": {
            "gridcolor": "white",
            "linecolor": "white",
            "ticks": ""
           },
           "bgcolor": "#E5ECF6",
           "radialaxis": {
            "gridcolor": "white",
            "linecolor": "white",
            "ticks": ""
           }
          },
          "scene": {
           "xaxis": {
            "backgroundcolor": "#E5ECF6",
            "gridcolor": "white",
            "gridwidth": 2,
            "linecolor": "white",
            "showbackground": true,
            "ticks": "",
            "zerolinecolor": "white"
           },
           "yaxis": {
            "backgroundcolor": "#E5ECF6",
            "gridcolor": "white",
            "gridwidth": 2,
            "linecolor": "white",
            "showbackground": true,
            "ticks": "",
            "zerolinecolor": "white"
           },
           "zaxis": {
            "backgroundcolor": "#E5ECF6",
            "gridcolor": "white",
            "gridwidth": 2,
            "linecolor": "white",
            "showbackground": true,
            "ticks": "",
            "zerolinecolor": "white"
           }
          },
          "shapedefaults": {
           "line": {
            "color": "#2a3f5f"
           }
          },
          "ternary": {
           "aaxis": {
            "gridcolor": "white",
            "linecolor": "white",
            "ticks": ""
           },
           "baxis": {
            "gridcolor": "white",
            "linecolor": "white",
            "ticks": ""
           },
           "bgcolor": "#E5ECF6",
           "caxis": {
            "gridcolor": "white",
            "linecolor": "white",
            "ticks": ""
           }
          },
          "title": {
           "x": 0.05
          },
          "xaxis": {
           "automargin": true,
           "gridcolor": "white",
           "linecolor": "white",
           "ticks": "",
           "title": {
            "standoff": 15
           },
           "zerolinecolor": "white",
           "zerolinewidth": 2
          },
          "yaxis": {
           "automargin": true,
           "gridcolor": "white",
           "linecolor": "white",
           "ticks": "",
           "title": {
            "standoff": 15
           },
           "zerolinecolor": "white",
           "zerolinewidth": 2
          }
         }
        },
        "title": {
         "text": "Deaths as of 04 April"
        },
        "xaxis": {
         "anchor": "y",
         "domain": [
          0,
          0.7363
         ],
         "title": {
          "text": "State/UnionTerritory"
         }
        },
        "xaxis2": {
         "anchor": "y2",
         "domain": [
          0.7413,
          1
         ],
         "matches": "x2",
         "showgrid": false,
         "showline": false,
         "showticklabels": false,
         "ticks": ""
        },
        "yaxis": {
         "anchor": "x",
         "domain": [
          0,
          1
         ],
         "title": {
          "text": "Deaths"
         }
        },
        "yaxis2": {
         "anchor": "x2",
         "domain": [
          0,
          1
         ],
         "matches": "y",
         "showgrid": true,
         "showticklabels": false
        }
       }
      },
      "text/html": [
       "<div>\n",
       "        \n",
       "        \n",
       "            <div id=\"7fc861a9-a72b-48cf-bff6-8805dbbff095\" class=\"plotly-graph-div\" style=\"height:525px; width:100%;\"></div>\n",
       "            <script type=\"text/javascript\">\n",
       "                require([\"plotly\"], function(Plotly) {\n",
       "                    window.PLOTLYENV=window.PLOTLYENV || {};\n",
       "                    \n",
       "                if (document.getElementById(\"7fc861a9-a72b-48cf-bff6-8805dbbff095\")) {\n",
       "                    Plotly.newPlot(\n",
       "                        '7fc861a9-a72b-48cf-bff6-8805dbbff095',\n",
       "                        [{\"hoverlabel\": {\"namelength\": 0}, \"hovertemplate\": \"State/UnionTerritory=%{x}<br>Deaths=%{marker.color}\", \"legendgroup\": \"\", \"marker\": {\"color\": [0, 0, 0, 0, 0, 0, 0, 0, 0, 0, 0, 0, 0, 0, 0, 0, 0, 0, 0, 0, 0, 0, 0, 0, 0, 0, 0, 0, 0, 0, 0, 0, 0, 0, 0, 0, 0, 0, 0, 0, 0, 0, 0, 0, 0, 0, 0, 0, 0, 0, 0, 0, 0, 0, 0, 0, 0, 0, 0, 0, 0, 0, 0, 0, 0, 0, 0, 0, 0, 0, 0, 0, 0, 0, 0, 0, 0, 0, 0, 0, 0, 0, 0, 0, 0, 0, 0, 0, 0, 0, 0, 0, 0, 0, 0, 0, 0, 0, 0, 0, 0, 0, 0, 0, 0, 0, 0, 0, 0, 0, 0, 0, 0, 0, 0, 0, 0, 0, 0, 0, 0, 0, 0, 0, 0, 0, 0, 0, 0, 0, 0, 0, 1, 0, 0, 1, 0, 0, 0, 0, 0, 0, 0, 0, 0, 1, 0, 0, 0, 1, 0, 1, 0, 0, 0, 0, 0, 0, 0, 0, 0, 0, 0, 1, 0, 1, 0, 0, 0, 0, 0, 0, 0, 0, 0, 0, 0, 0, 1, 0, 1, 0, 1, 0, 0, 0, 0, 0, 0, 0, 0, 0, 0, 1, 0, 1, 0, 1, 0, 0, 0, 0, 0, 0, 0, 0, 0, 0, 0, 0, 0, 1, 0, 1, 0, 1, 0, 0, 1, 0, 0, 0, 0, 0, 0, 0, 0, 0, 0, 0, 1, 0, 0, 1, 0, 1, 0, 0, 1, 0, 0, 0, 0, 0, 0, 0, 0, 0, 0, 0, 1, 0, 0, 0, 1, 0, 0, 1, 0, 0, 1, 0, 0, 0, 0, 0, 0, 0, 0, 0, 0, 1, 0, 1, 1, 0, 0, 1, 0, 0, 2, 0, 0, 1, 0, 0, 0, 0, 0, 0, 0, 0, 0, 0, 1, 0, 1, 1, 0, 0, 1, 0, 0, 2, 0, 0, 1, 0, 0, 0, 0, 0, 0, 0, 0, 0, 0, 1, 0, 1, 1, 0, 1, 1, 0, 0, 2, 0, 0, 0, 1, 0, 0, 0, 0, 0, 0, 0, 0, 1, 0, 1, 0, 1, 1, 0, 1, 1, 0, 0, 3, 0, 0, 0, 0, 1, 0, 0, 0, 0, 0, 0, 0, 0, 1, 0, 0, 1, 0, 0, 1, 0, 3, 0, 1, 0, 2, 0, 0, 1, 3, 0, 0, 0, 0, 1, 0, 1, 0, 0, 0, 1, 0, 0, 1, 0, 0, 1, 0, 3, 0, 1, 1, 2, 0, 0, 1, 4, 0, 0, 0, 0, 1, 0, 1, 0, 0, 0, 1, 0, 0, 1, 0, 0, 1, 0, 3, 0, 1, 1, 2, 0, 0, 2, 5, 0, 0, 0, 0, 1, 0, 1, 0, 0, 0, 1, 0, 0, 1, 0, 0, 2, 0, 5, 0, 1, 2, 3, 1, 0, 2, 6, 0, 0, 0, 0, 1, 0, 1, 1, 0, 0, 1, 0, 0, 1, 0, 0, 2, 0, 6, 0, 1, 2, 3, 1, 0, 3, 8, 0, 0, 0, 0, 1, 0, 1, 1, 0, 0, 1, 0, 0, 0, 1, 0, 0, 2, 0, 6, 0, 1, 2, 3, 1, 0, 3, 9, 0, 0, 0, 0, 3, 0, 1, 1, 0, 0, 2, 0, 0, 0, 0, 1, 0, 0, 2, 0, 6, 0, 1, 2, 0, 3, 2, 0, 3, 9, 0, 0, 0, 0, 3, 0, 1, 3, 0, 2, 3, 1, 0, 0, 1, 0, 0, 4, 0, 7, 0, 1, 2, 0, 3, 2, 0, 6, 13, 0, 0, 0, 0, 4, 0, 1, 3, 0, 2, 3, 1, 0, 0, 0, 1, 0, 0, 4, 0, 8, 0, 1, 2, 0, 3, 2, 0, 6, 16, 0, 0, 0, 0, 5, 0, 1, 7, 0, 2, 3, 0, 1, 0, 0, 0, 1, 0, 0, 6, 0, 10, 0, 1, 2, 0, 3, 2, 0, 6, 24, 0, 0, 0, 0, 5, 0, 2, 7, 0, 2, 3], \"coloraxis\": \"coloraxis\", \"symbol\": \"circle\"}, \"mode\": \"markers\", \"name\": \"\", \"showlegend\": false, \"type\": \"scatter\", \"x\": [\"Kerala\", \"Kerala\", \"Kerala\", \"Kerala\", \"Kerala\", \"Kerala\", \"Kerala\", \"Kerala\", \"Kerala\", \"Kerala\", \"Kerala\", \"Kerala\", \"Kerala\", \"Kerala\", \"Kerala\", \"Kerala\", \"Kerala\", \"Kerala\", \"Kerala\", \"Kerala\", \"Kerala\", \"Kerala\", \"Kerala\", \"Kerala\", \"Kerala\", \"Kerala\", \"Kerala\", \"Kerala\", \"Kerala\", \"Kerala\", \"Kerala\", \"Kerala\", \"Telengana\", \"Kerala\", \"Delhi\", \"Telengana\", \"Rajasthan\", \"Kerala\", \"Delhi\", \"Uttar Pradesh\", \"Kerala\", \"Haryana\", \"Delhi\", \"Telengana\", \"Rajasthan\", \"Delhi\", \"Haryana\", \"Kerala\", \"Rajasthan\", \"Telengana\", \"Uttar Pradesh\", \"Delhi\", \"Haryana\", \"Kerala\", \"Rajasthan\", \"Uttar Pradesh\", \"Telengana\", \"Kerala\", \"Uttar Pradesh\", \"Ladakh\", \"Telengana\", \"Tamil Nadu\", \"Delhi\", \"Haryana\", \"Rajasthan\", \"Ladakh\", \"Telengana\", \"Tamil Nadu\", \"Rajasthan\", \"Kerala\", \"Haryana\", \"Delhi\", \"Uttar Pradesh\", \"Ladakh\", \"Karnataka\", \"Kerala\", \"Maharashtra\", \"Punjab\", \"Rajasthan\", \"Tamil Nadu\", \"Telengana\", \"Jammu and Kashmir\", \"Uttar Pradesh\", \"Haryana\", \"Delhi\", \"Uttar Pradesh\", \"Ladakh\", \"Delhi\", \"Haryana\", \"Karnataka\", \"Kerala\", \"Maharashtra\", \"Punjab\", \"Rajasthan\", \"Tamil Nadu\", \"Telengana\", \"Jammu and Kashmir\", \"Maharashtra\", \"Delhi\", \"Haryana\", \"Kerala\", \"Rajasthan\", \"Telengana\", \"Uttar Pradesh\", \"Ladakh\", \"Tamil Nadu\", \"Jammu and Kashmir\", \"Punjab\", \"Karnataka\", \"Delhi\", \"Haryana\", \"Kerala\", \"Rajasthan\", \"Telengana\", \"Uttar Pradesh\", \"Ladakh\", \"Tamil Nadu\", \"Jammu and Kashmir\", \"Punjab\", \"Karnataka\", \"Maharashtra\", \"Andhra Pradesh\", \"Delhi\", \"Haryana\", \"Kerala\", \"Rajasthan\", \"Telengana\", \"Uttar Pradesh\", \"Ladakh\", \"Tamil Nadu\", \"Jammu and Kashmir\", \"Punjab\", \"Karnataka\", \"Maharashtra\", \"Andhra Pradesh\", \"Delhi\", \"Haryana\", \"Kerala\", \"Rajasthan\", \"Telengana\", \"Uttar Pradesh\", \"Ladakh\", \"Tamil Nadu\", \"Jammu and Kashmir\", \"Punjab\", \"Karnataka\", \"Maharashtra\", \"Andhra Pradesh\", \"Andhra Pradesh\", \"Delhi\", \"Haryana\", \"Karnataka\", \"Kerala\", \"Maharashtra\", \"Punjab\", \"Rajasthan\", \"Tamil Nadu\", \"Telengana\", \"Jammu and Kashmir\", \"Ladakh\", \"Uttar Pradesh\", \"Uttarakhand\", \"Andhra Pradesh\", \"Delhi\", \"Haryana\", \"Karnataka\", \"Kerala\", \"Maharashtra\", \"Odisha\", \"Punjab\", \"Rajasthan\", \"Tamil Nadu\", \"Telengana\", \"Jammu and Kashmir\", \"Ladakh\", \"Uttar Pradesh\", \"Uttarakhand\", \"Andhra Pradesh\", \"Delhi\", \"Haryana\", \"Karnataka\", \"Kerala\", \"Maharashtra\", \"Odisha\", \"Punjab\", \"Rajasthan\", \"Tamil Nadu\", \"Telengana\", \"Jammu and Kashmir\", \"Ladakh\", \"Uttar Pradesh\", \"Uttarakhand\", \"Andhra Pradesh\", \"Delhi\", \"Haryana\", \"Karnataka\", \"Kerala\", \"Maharashtra\", \"Odisha\", \"Pondicherry\", \"Punjab\", \"Rajasthan\", \"Tamil Nadu\", \"Telengana\", \"Jammu and Kashmir\", \"Ladakh\", \"Uttar Pradesh\", \"Uttarakhand\", \"West Bengal\", \"Andhra Pradesh\", \"Chattisgarh\", \"Delhi\", \"Haryana\", \"Karnataka\", \"Kerala\", \"Maharashtra\", \"Odisha\", \"Pondicherry\", \"Punjab\", \"Rajasthan\", \"Tamil Nadu\", \"Telengana\", \"Chandigarh\", \"Jammu and Kashmir\", \"Ladakh\", \"Uttar Pradesh\", \"Uttarakhand\", \"West Bengal\", \"Andhra Pradesh\", \"Chhattisgarh\", \"Delhi\", \"Gujarat\", \"Haryana\", \"Karnataka\", \"Kerala\", \"Maharashtra\", \"Odisha\", \"Puducherry\", \"Punjab\", \"Rajasthan\", \"Tamil Nadu\", \"Telengana\", \"Chandigarh\", \"Jammu and Kashmir\", \"Ladakh\", \"Uttar Pradesh\", \"Uttarakhand\", \"West Bengal\", \"Andhra Pradesh\", \"Chhattisgarh\", \"Delhi\", \"Gujarat\", \"Haryana\", \"Himachal Pradesh\", \"Karnataka\", \"Kerala\", \"Madhya Pradesh\", \"Maharashtra\", \"Odisha\", \"Puducherry\", \"Punjab\", \"Rajasthan\", \"Tamil Nadu\", \"Telengana\", \"Chandigarh\", \"Jammu and Kashmir\", \"Ladakh\", \"Uttar Pradesh\", \"Uttarakhand\", \"West Bengal\", \"Andhra Pradesh\", \"Bihar\", \"Chhattisgarh\", \"Delhi\", \"Gujarat\", \"Haryana\", \"Himachal Pradesh\", \"Karnataka\", \"Kerala\", \"Madhya Pradesh\", \"Maharashtra\", \"Odisha\", \"Puducherry\", \"Punjab\", \"Rajasthan\", \"Tamil Nadu\", \"Telengana\", \"Chandigarh\", \"Jammu and Kashmir\", \"Ladakh\", \"Uttar Pradesh\", \"Uttarakhand\", \"West Bengal\", \"Andhra Pradesh\", \"Bihar\", \"Chhattisgarh\", \"Delhi\", \"Gujarat\", \"Haryana\", \"Himachal Pradesh\", \"Karnataka\", \"Kerala\", \"Madhya Pradesh\", \"Maharashtra\", \"Odisha\", \"Puducherry\", \"Punjab\", \"Rajasthan\", \"Tamil Nadu\", \"Telengana\", \"Chandigarh\", \"Jammu and Kashmir\", \"Ladakh\", \"Uttar Pradesh\", \"Uttarakhand\", \"West Bengal\", \"Andhra Pradesh\", \"Bihar\", \"Chhattisgarh\", \"Delhi\", \"Gujarat\", \"Haryana\", \"Himachal Pradesh\", \"Karnataka\", \"Kerala\", \"Madhya Pradesh\", \"Maharashtra\", \"Manipur\", \"Odisha\", \"Puducherry\", \"Punjab\", \"Rajasthan\", \"Tamil Nadu\", \"Telengana\", \"Chandigarh\", \"Jammu and Kashmir\", \"Ladakh\", \"Uttar Pradesh\", \"Uttarakhand\", \"West Bengal\", \"Andhra Pradesh\", \"Bihar\", \"Chhattisgarh\", \"Delhi\", \"Gujarat\", \"Haryana\", \"Himachal Pradesh\", \"Karnataka\", \"Kerala\", \"Madhya Pradesh\", \"Maharashtra\", \"Manipur\", \"Mizoram\", \"Odisha\", \"Puducherry\", \"Punjab\", \"Rajasthan\", \"Tamil Nadu\", \"Telengana\", \"Chandigarh\", \"Jammu and Kashmir\", \"Ladakh\", \"Uttar Pradesh\", \"Uttarakhand\", \"West Bengal\", \"Andaman and Nicobar Islands\", \"Andhra Pradesh\", \"Bihar\", \"Chandigarh\", \"Chhattisgarh\", \"Delhi\", \"Goa\", \"Gujarat\", \"Haryana\", \"Himachal Pradesh\", \"Jammu and Kashmir\", \"Karnataka\", \"Kerala\", \"Ladakh\", \"Madhya Pradesh\", \"Maharashtra\", \"Manipur\", \"Mizoram\", \"Odisha\", \"Puducherry\", \"Punjab\", \"Rajasthan\", \"Tamil Nadu\", \"Telengana\", \"Uttarakhand\", \"Uttar Pradesh\", \"West Bengal\", \"Andaman and Nicobar Islands\", \"Andhra Pradesh\", \"Bihar\", \"Chandigarh\", \"Chhattisgarh\", \"Delhi\", \"Goa\", \"Gujarat\", \"Haryana\", \"Himachal Pradesh\", \"Jammu and Kashmir\", \"Karnataka\", \"Kerala\", \"Ladakh\", \"Madhya Pradesh\", \"Maharashtra\", \"Manipur\", \"Mizoram\", \"Odisha\", \"Puducherry\", \"Punjab\", \"Rajasthan\", \"Tamil Nadu\", \"Telengana\", \"Uttarakhand\", \"Uttar Pradesh\", \"West Bengal\", \"Andhra Pradesh\", \"Andaman and Nicobar Islands\", \"Bihar\", \"Chandigarh\", \"Chhattisgarh\", \"Delhi\", \"Goa\", \"Gujarat\", \"Haryana\", \"Himachal Pradesh\", \"Jammu and Kashmir\", \"Karnataka\", \"Kerala\", \"Ladakh\", \"Madhya Pradesh\", \"Maharashtra\", \"Manipur\", \"Mizoram\", \"Odisha\", \"Puducherry\", \"Punjab\", \"Rajasthan\", \"Tamil Nadu\", \"Telengana\", \"Uttarakhand\", \"Uttar Pradesh\", \"West Bengal\", \"Andhra Pradesh\", \"Andaman and Nicobar Islands\", \"Bihar\", \"Chandigarh\", \"Chhattisgarh\", \"Delhi\", \"Goa\", \"Gujarat\", \"Haryana\", \"Himachal Pradesh\", \"Jammu and Kashmir\", \"Karnataka\", \"Kerala\", \"Ladakh\", \"Madhya Pradesh\", \"Maharashtra\", \"Manipur\", \"Mizoram\", \"Odisha\", \"Puducherry\", \"Punjab\", \"Rajasthan\", \"Tamil Nadu\", \"Telengana\", \"Uttarakhand\", \"Uttar Pradesh\", \"West Bengal\", \"Andhra Pradesh\", \"Andaman and Nicobar Islands\", \"Bihar\", \"Chandigarh\", \"Chhattisgarh\", \"Delhi\", \"Goa\", \"Gujarat\", \"Haryana\", \"Himachal Pradesh\", \"Jammu and Kashmir\", \"Karnataka\", \"Kerala\", \"Ladakh\", \"Madhya Pradesh\", \"Maharashtra\", \"Manipur\", \"Mizoram\", \"Odisha\", \"Puducherry\", \"Punjab\", \"Rajasthan\", \"Tamil Nadu\", \"Telengana\", \"Uttarakhand\", \"Uttar Pradesh\", \"West Bengal\", \"Unassigned\", \"Andhra Pradesh\", \"Andaman and Nicobar Islands\", \"Bihar\", \"Chandigarh\", \"Chhattisgarh\", \"Delhi\", \"Goa\", \"Gujarat\", \"Haryana\", \"Himachal Pradesh\", \"Jammu and Kashmir\", \"Karnataka\", \"Kerala\", \"Ladakh\", \"Madhya Pradesh\", \"Maharashtra\", \"Manipur\", \"Mizoram\", \"Odisha\", \"Puducherry\", \"Punjab\", \"Rajasthan\", \"Tamil Nadu\", \"Telengana\", \"Uttarakhand\", \"Uttar Pradesh\", \"West Bengal\", \"Unassigned\", \"Andhra Pradesh\", \"Andaman and Nicobar Islands\", \"Assam\", \"Bihar\", \"Chandigarh\", \"Chhattisgarh\", \"Delhi\", \"Goa\", \"Gujarat\", \"Haryana\", \"Himachal Pradesh\", \"Jammu and Kashmir\", \"Jharkhand\", \"Karnataka\", \"Kerala\", \"Ladakh\", \"Madhya Pradesh\", \"Maharashtra\", \"Manipur\", \"Mizoram\", \"Odisha\", \"Puducherry\", \"Punjab\", \"Rajasthan\", \"Tamil Nadu\", \"Telengana\", \"Uttarakhand\", \"Uttar Pradesh\", \"West Bengal\", \"Andhra Pradesh\", \"Andaman and Nicobar Islands\", \"Assam\", \"Bihar\", \"Chandigarh\", \"Chhattisgarh\", \"Delhi\", \"Goa\", \"Gujarat\", \"Haryana\", \"Himachal Pradesh\", \"Jammu and Kashmir\", \"Jharkhand\", \"Karnataka\", \"Kerala\", \"Ladakh\", \"Madhya Pradesh\", \"Maharashtra\", \"Manipur\", \"Mizoram\", \"Odisha\", \"Puducherry\", \"Punjab\", \"Rajasthan\", \"Tamil Nadu\", \"Telengana\", \"Uttarakhand\", \"Uttar Pradesh\", \"West Bengal\", \"Andhra Pradesh\", \"Andaman and Nicobar Islands\", \"Arunachal Pradesh\", \"Assam\", \"Bihar\", \"Chandigarh\", \"Chhattisgarh\", \"Delhi\", \"Goa\", \"Gujarat\", \"Haryana\", \"Himachal Pradesh\", \"Jammu and Kashmir\", \"Jharkhand\", \"Karnataka\", \"Kerala\", \"Ladakh\", \"Madhya Pradesh\", \"Maharashtra\", \"Manipur\", \"Mizoram\", \"Odisha\", \"Puducherry\", \"Punjab\", \"Rajasthan\", \"Tamil Nadu\", \"Telengana\", \"Uttarakhand\", \"Uttar Pradesh\", \"West Bengal\", \"Unassigned\", \"Andhra Pradesh\", \"Andaman and Nicobar Islands\", \"Arunachal Pradesh\", \"Assam\", \"Bihar\", \"Chandigarh\", \"Chhattisgarh\", \"Delhi\", \"Goa\", \"Gujarat\", \"Haryana\", \"Himachal Pradesh\", \"Jammu and Kashmir\", \"Jharkhand\", \"Karnataka\", \"Kerala\", \"Ladakh\", \"Madhya Pradesh\", \"Maharashtra\", \"Manipur\", \"Mizoram\", \"Odisha\", \"Puducherry\", \"Punjab\", \"Rajasthan\", \"Tamil Nadu\", \"Telengana\", \"Uttarakhand\", \"Uttar Pradesh\", \"West Bengal\"], \"xaxis\": \"x\", \"y\": [0, 0, 0, 0, 0, 0, 0, 0, 0, 0, 0, 0, 0, 0, 0, 0, 0, 0, 0, 0, 0, 0, 0, 0, 0, 0, 0, 0, 0, 0, 0, 0, 0, 0, 0, 0, 0, 0, 0, 0, 0, 0, 0, 0, 0, 0, 0, 0, 0, 0, 0, 0, 0, 0, 0, 0, 0, 0, 0, 0, 0, 0, 0, 0, 0, 0, 0, 0, 0, 0, 0, 0, 0, 0, 0, 0, 0, 0, 0, 0, 0, 0, 0, 0, 0, 0, 0, 0, 0, 0, 0, 0, 0, 0, 0, 0, 0, 0, 0, 0, 0, 0, 0, 0, 0, 0, 0, 0, 0, 0, 0, 0, 0, 0, 0, 0, 0, 0, 0, 0, 0, 0, 0, 0, 0, 0, 0, 0, 0, 0, 0, 0, 1, 0, 0, 1, 0, 0, 0, 0, 0, 0, 0, 0, 0, 1, 0, 0, 0, 1, 0, 1, 0, 0, 0, 0, 0, 0, 0, 0, 0, 0, 0, 1, 0, 1, 0, 0, 0, 0, 0, 0, 0, 0, 0, 0, 0, 0, 1, 0, 1, 0, 1, 0, 0, 0, 0, 0, 0, 0, 0, 0, 0, 1, 0, 1, 0, 1, 0, 0, 0, 0, 0, 0, 0, 0, 0, 0, 0, 0, 0, 1, 0, 1, 0, 1, 0, 0, 1, 0, 0, 0, 0, 0, 0, 0, 0, 0, 0, 0, 1, 0, 0, 1, 0, 1, 0, 0, 1, 0, 0, 0, 0, 0, 0, 0, 0, 0, 0, 0, 1, 0, 0, 0, 1, 0, 0, 1, 0, 0, 1, 0, 0, 0, 0, 0, 0, 0, 0, 0, 0, 1, 0, 1, 1, 0, 0, 1, 0, 0, 2, 0, 0, 1, 0, 0, 0, 0, 0, 0, 0, 0, 0, 0, 1, 0, 1, 1, 0, 0, 1, 0, 0, 2, 0, 0, 1, 0, 0, 0, 0, 0, 0, 0, 0, 0, 0, 1, 0, 1, 1, 0, 1, 1, 0, 0, 2, 0, 0, 0, 1, 0, 0, 0, 0, 0, 0, 0, 0, 1, 0, 1, 0, 1, 1, 0, 1, 1, 0, 0, 3, 0, 0, 0, 0, 1, 0, 0, 0, 0, 0, 0, 0, 0, 1, 0, 0, 1, 0, 0, 1, 0, 3, 0, 1, 0, 2, 0, 0, 1, 3, 0, 0, 0, 0, 1, 0, 1, 0, 0, 0, 1, 0, 0, 1, 0, 0, 1, 0, 3, 0, 1, 1, 2, 0, 0, 1, 4, 0, 0, 0, 0, 1, 0, 1, 0, 0, 0, 1, 0, 0, 1, 0, 0, 1, 0, 3, 0, 1, 1, 2, 0, 0, 2, 5, 0, 0, 0, 0, 1, 0, 1, 0, 0, 0, 1, 0, 0, 1, 0, 0, 2, 0, 5, 0, 1, 2, 3, 1, 0, 2, 6, 0, 0, 0, 0, 1, 0, 1, 1, 0, 0, 1, 0, 0, 1, 0, 0, 2, 0, 6, 0, 1, 2, 3, 1, 0, 3, 8, 0, 0, 0, 0, 1, 0, 1, 1, 0, 0, 1, 0, 0, 0, 1, 0, 0, 2, 0, 6, 0, 1, 2, 3, 1, 0, 3, 9, 0, 0, 0, 0, 3, 0, 1, 1, 0, 0, 2, 0, 0, 0, 0, 1, 0, 0, 2, 0, 6, 0, 1, 2, 0, 3, 2, 0, 3, 9, 0, 0, 0, 0, 3, 0, 1, 3, 0, 2, 3, 1, 0, 0, 1, 0, 0, 4, 0, 7, 0, 1, 2, 0, 3, 2, 0, 6, 13, 0, 0, 0, 0, 4, 0, 1, 3, 0, 2, 3, 1, 0, 0, 0, 1, 0, 0, 4, 0, 8, 0, 1, 2, 0, 3, 2, 0, 6, 16, 0, 0, 0, 0, 5, 0, 1, 7, 0, 2, 3, 0, 1, 0, 0, 0, 1, 0, 0, 6, 0, 10, 0, 1, 2, 0, 3, 2, 0, 6, 24, 0, 0, 0, 0, 5, 0, 2, 7, 0, 2, 3], \"yaxis\": \"y\"}, {\"alignmentgroup\": \"True\", \"boxpoints\": \"all\", \"fillcolor\": \"rgba(255,255,255,0)\", \"hoverlabel\": {\"namelength\": 0}, \"hoveron\": \"points\", \"hovertemplate\": \"Deaths=%{y}\", \"jitter\": 0, \"legendgroup\": \"\", \"line\": {\"color\": \"rgba(255,255,255,0)\"}, \"marker\": {\"color\": \"#0d0887\", \"symbol\": \"line-ew-open\"}, \"name\": \"\", \"offsetgroup\": \"\", \"showlegend\": false, \"type\": \"box\", \"xaxis\": \"x2\", \"y\": [0, 0, 0, 0, 0, 0, 0, 0, 0, 0, 0, 0, 0, 0, 0, 0, 0, 0, 0, 0, 0, 0, 0, 0, 0, 0, 0, 0, 0, 0, 0, 0, 0, 0, 0, 0, 0, 0, 0, 0, 0, 0, 0, 0, 0, 0, 0, 0, 0, 0, 0, 0, 0, 0, 0, 0, 0, 0, 0, 0, 0, 0, 0, 0, 0, 0, 0, 0, 0, 0, 0, 0, 0, 0, 0, 0, 0, 0, 0, 0, 0, 0, 0, 0, 0, 0, 0, 0, 0, 0, 0, 0, 0, 0, 0, 0, 0, 0, 0, 0, 0, 0, 0, 0, 0, 0, 0, 0, 0, 0, 0, 0, 0, 0, 0, 0, 0, 0, 0, 0, 0, 0, 0, 0, 0, 0, 0, 0, 0, 0, 0, 0, 1, 0, 0, 1, 0, 0, 0, 0, 0, 0, 0, 0, 0, 1, 0, 0, 0, 1, 0, 1, 0, 0, 0, 0, 0, 0, 0, 0, 0, 0, 0, 1, 0, 1, 0, 0, 0, 0, 0, 0, 0, 0, 0, 0, 0, 0, 1, 0, 1, 0, 1, 0, 0, 0, 0, 0, 0, 0, 0, 0, 0, 1, 0, 1, 0, 1, 0, 0, 0, 0, 0, 0, 0, 0, 0, 0, 0, 0, 0, 1, 0, 1, 0, 1, 0, 0, 1, 0, 0, 0, 0, 0, 0, 0, 0, 0, 0, 0, 1, 0, 0, 1, 0, 1, 0, 0, 1, 0, 0, 0, 0, 0, 0, 0, 0, 0, 0, 0, 1, 0, 0, 0, 1, 0, 0, 1, 0, 0, 1, 0, 0, 0, 0, 0, 0, 0, 0, 0, 0, 1, 0, 1, 1, 0, 0, 1, 0, 0, 2, 0, 0, 1, 0, 0, 0, 0, 0, 0, 0, 0, 0, 0, 1, 0, 1, 1, 0, 0, 1, 0, 0, 2, 0, 0, 1, 0, 0, 0, 0, 0, 0, 0, 0, 0, 0, 1, 0, 1, 1, 0, 1, 1, 0, 0, 2, 0, 0, 0, 1, 0, 0, 0, 0, 0, 0, 0, 0, 1, 0, 1, 0, 1, 1, 0, 1, 1, 0, 0, 3, 0, 0, 0, 0, 1, 0, 0, 0, 0, 0, 0, 0, 0, 1, 0, 0, 1, 0, 0, 1, 0, 3, 0, 1, 0, 2, 0, 0, 1, 3, 0, 0, 0, 0, 1, 0, 1, 0, 0, 0, 1, 0, 0, 1, 0, 0, 1, 0, 3, 0, 1, 1, 2, 0, 0, 1, 4, 0, 0, 0, 0, 1, 0, 1, 0, 0, 0, 1, 0, 0, 1, 0, 0, 1, 0, 3, 0, 1, 1, 2, 0, 0, 2, 5, 0, 0, 0, 0, 1, 0, 1, 0, 0, 0, 1, 0, 0, 1, 0, 0, 2, 0, 5, 0, 1, 2, 3, 1, 0, 2, 6, 0, 0, 0, 0, 1, 0, 1, 1, 0, 0, 1, 0, 0, 1, 0, 0, 2, 0, 6, 0, 1, 2, 3, 1, 0, 3, 8, 0, 0, 0, 0, 1, 0, 1, 1, 0, 0, 1, 0, 0, 0, 1, 0, 0, 2, 0, 6, 0, 1, 2, 3, 1, 0, 3, 9, 0, 0, 0, 0, 3, 0, 1, 1, 0, 0, 2, 0, 0, 0, 0, 1, 0, 0, 2, 0, 6, 0, 1, 2, 0, 3, 2, 0, 3, 9, 0, 0, 0, 0, 3, 0, 1, 3, 0, 2, 3, 1, 0, 0, 1, 0, 0, 4, 0, 7, 0, 1, 2, 0, 3, 2, 0, 6, 13, 0, 0, 0, 0, 4, 0, 1, 3, 0, 2, 3, 1, 0, 0, 0, 1, 0, 0, 4, 0, 8, 0, 1, 2, 0, 3, 2, 0, 6, 16, 0, 0, 0, 0, 5, 0, 1, 7, 0, 2, 3, 0, 1, 0, 0, 0, 1, 0, 0, 6, 0, 10, 0, 1, 2, 0, 3, 2, 0, 6, 24, 0, 0, 0, 0, 5, 0, 2, 7, 0, 2, 3], \"yaxis\": \"y2\"}],\n",
       "                        {\"coloraxis\": {\"colorbar\": {\"title\": {\"text\": \"Deaths\"}}, \"colorscale\": [[0.0, \"#0d0887\"], [0.1111111111111111, \"#46039f\"], [0.2222222222222222, \"#7201a8\"], [0.3333333333333333, \"#9c179e\"], [0.4444444444444444, \"#bd3786\"], [0.5555555555555556, \"#d8576b\"], [0.6666666666666666, \"#ed7953\"], [0.7777777777777778, \"#fb9f3a\"], [0.8888888888888888, \"#fdca26\"], [1.0, \"#f0f921\"]]}, \"legend\": {\"tracegroupgap\": 0}, \"template\": {\"data\": {\"bar\": [{\"error_x\": {\"color\": \"#2a3f5f\"}, \"error_y\": {\"color\": \"#2a3f5f\"}, \"marker\": {\"line\": {\"color\": \"#E5ECF6\", \"width\": 0.5}}, \"type\": \"bar\"}], \"barpolar\": [{\"marker\": {\"line\": {\"color\": \"#E5ECF6\", \"width\": 0.5}}, \"type\": \"barpolar\"}], \"carpet\": [{\"aaxis\": {\"endlinecolor\": \"#2a3f5f\", \"gridcolor\": \"white\", \"linecolor\": \"white\", \"minorgridcolor\": \"white\", \"startlinecolor\": \"#2a3f5f\"}, \"baxis\": {\"endlinecolor\": \"#2a3f5f\", \"gridcolor\": \"white\", \"linecolor\": \"white\", \"minorgridcolor\": \"white\", \"startlinecolor\": \"#2a3f5f\"}, \"type\": \"carpet\"}], \"choropleth\": [{\"colorbar\": {\"outlinewidth\": 0, \"ticks\": \"\"}, \"type\": \"choropleth\"}], \"contour\": [{\"colorbar\": {\"outlinewidth\": 0, \"ticks\": \"\"}, \"colorscale\": [[0.0, \"#0d0887\"], [0.1111111111111111, \"#46039f\"], [0.2222222222222222, \"#7201a8\"], [0.3333333333333333, \"#9c179e\"], [0.4444444444444444, \"#bd3786\"], [0.5555555555555556, \"#d8576b\"], [0.6666666666666666, \"#ed7953\"], [0.7777777777777778, \"#fb9f3a\"], [0.8888888888888888, \"#fdca26\"], [1.0, \"#f0f921\"]], \"type\": \"contour\"}], \"contourcarpet\": [{\"colorbar\": {\"outlinewidth\": 0, \"ticks\": \"\"}, \"type\": \"contourcarpet\"}], \"heatmap\": [{\"colorbar\": {\"outlinewidth\": 0, \"ticks\": \"\"}, \"colorscale\": [[0.0, \"#0d0887\"], [0.1111111111111111, \"#46039f\"], [0.2222222222222222, \"#7201a8\"], [0.3333333333333333, \"#9c179e\"], [0.4444444444444444, \"#bd3786\"], [0.5555555555555556, \"#d8576b\"], [0.6666666666666666, \"#ed7953\"], [0.7777777777777778, \"#fb9f3a\"], [0.8888888888888888, \"#fdca26\"], [1.0, \"#f0f921\"]], \"type\": \"heatmap\"}], \"heatmapgl\": [{\"colorbar\": {\"outlinewidth\": 0, \"ticks\": \"\"}, \"colorscale\": [[0.0, \"#0d0887\"], [0.1111111111111111, \"#46039f\"], [0.2222222222222222, \"#7201a8\"], [0.3333333333333333, \"#9c179e\"], [0.4444444444444444, \"#bd3786\"], [0.5555555555555556, \"#d8576b\"], [0.6666666666666666, \"#ed7953\"], [0.7777777777777778, \"#fb9f3a\"], [0.8888888888888888, \"#fdca26\"], [1.0, \"#f0f921\"]], \"type\": \"heatmapgl\"}], \"histogram\": [{\"marker\": {\"colorbar\": {\"outlinewidth\": 0, \"ticks\": \"\"}}, \"type\": \"histogram\"}], \"histogram2d\": [{\"colorbar\": {\"outlinewidth\": 0, \"ticks\": \"\"}, \"colorscale\": [[0.0, \"#0d0887\"], [0.1111111111111111, \"#46039f\"], [0.2222222222222222, \"#7201a8\"], [0.3333333333333333, \"#9c179e\"], [0.4444444444444444, \"#bd3786\"], [0.5555555555555556, \"#d8576b\"], [0.6666666666666666, \"#ed7953\"], [0.7777777777777778, \"#fb9f3a\"], [0.8888888888888888, \"#fdca26\"], [1.0, \"#f0f921\"]], \"type\": \"histogram2d\"}], \"histogram2dcontour\": [{\"colorbar\": {\"outlinewidth\": 0, \"ticks\": \"\"}, \"colorscale\": [[0.0, \"#0d0887\"], [0.1111111111111111, \"#46039f\"], [0.2222222222222222, \"#7201a8\"], [0.3333333333333333, \"#9c179e\"], [0.4444444444444444, \"#bd3786\"], [0.5555555555555556, \"#d8576b\"], [0.6666666666666666, \"#ed7953\"], [0.7777777777777778, \"#fb9f3a\"], [0.8888888888888888, \"#fdca26\"], [1.0, \"#f0f921\"]], \"type\": \"histogram2dcontour\"}], \"mesh3d\": [{\"colorbar\": {\"outlinewidth\": 0, \"ticks\": \"\"}, \"type\": \"mesh3d\"}], \"parcoords\": [{\"line\": {\"colorbar\": {\"outlinewidth\": 0, \"ticks\": \"\"}}, \"type\": \"parcoords\"}], \"pie\": [{\"automargin\": true, \"type\": \"pie\"}], \"scatter\": [{\"marker\": {\"colorbar\": {\"outlinewidth\": 0, \"ticks\": \"\"}}, \"type\": \"scatter\"}], \"scatter3d\": [{\"line\": {\"colorbar\": {\"outlinewidth\": 0, \"ticks\": \"\"}}, \"marker\": {\"colorbar\": {\"outlinewidth\": 0, \"ticks\": \"\"}}, \"type\": \"scatter3d\"}], \"scattercarpet\": [{\"marker\": {\"colorbar\": {\"outlinewidth\": 0, \"ticks\": \"\"}}, \"type\": \"scattercarpet\"}], \"scattergeo\": [{\"marker\": {\"colorbar\": {\"outlinewidth\": 0, \"ticks\": \"\"}}, \"type\": \"scattergeo\"}], \"scattergl\": [{\"marker\": {\"colorbar\": {\"outlinewidth\": 0, \"ticks\": \"\"}}, \"type\": \"scattergl\"}], \"scattermapbox\": [{\"marker\": {\"colorbar\": {\"outlinewidth\": 0, \"ticks\": \"\"}}, \"type\": \"scattermapbox\"}], \"scatterpolar\": [{\"marker\": {\"colorbar\": {\"outlinewidth\": 0, \"ticks\": \"\"}}, \"type\": \"scatterpolar\"}], \"scatterpolargl\": [{\"marker\": {\"colorbar\": {\"outlinewidth\": 0, \"ticks\": \"\"}}, \"type\": \"scatterpolargl\"}], \"scatterternary\": [{\"marker\": {\"colorbar\": {\"outlinewidth\": 0, \"ticks\": \"\"}}, \"type\": \"scatterternary\"}], \"surface\": [{\"colorbar\": {\"outlinewidth\": 0, \"ticks\": \"\"}, \"colorscale\": [[0.0, \"#0d0887\"], [0.1111111111111111, \"#46039f\"], [0.2222222222222222, \"#7201a8\"], [0.3333333333333333, \"#9c179e\"], [0.4444444444444444, \"#bd3786\"], [0.5555555555555556, \"#d8576b\"], [0.6666666666666666, \"#ed7953\"], [0.7777777777777778, \"#fb9f3a\"], [0.8888888888888888, \"#fdca26\"], [1.0, \"#f0f921\"]], \"type\": \"surface\"}], \"table\": [{\"cells\": {\"fill\": {\"color\": \"#EBF0F8\"}, \"line\": {\"color\": \"white\"}}, \"header\": {\"fill\": {\"color\": \"#C8D4E3\"}, \"line\": {\"color\": \"white\"}}, \"type\": \"table\"}]}, \"layout\": {\"annotationdefaults\": {\"arrowcolor\": \"#2a3f5f\", \"arrowhead\": 0, \"arrowwidth\": 1}, \"coloraxis\": {\"colorbar\": {\"outlinewidth\": 0, \"ticks\": \"\"}}, \"colorscale\": {\"diverging\": [[0, \"#8e0152\"], [0.1, \"#c51b7d\"], [0.2, \"#de77ae\"], [0.3, \"#f1b6da\"], [0.4, \"#fde0ef\"], [0.5, \"#f7f7f7\"], [0.6, \"#e6f5d0\"], [0.7, \"#b8e186\"], [0.8, \"#7fbc41\"], [0.9, \"#4d9221\"], [1, \"#276419\"]], \"sequential\": [[0.0, \"#0d0887\"], [0.1111111111111111, \"#46039f\"], [0.2222222222222222, \"#7201a8\"], [0.3333333333333333, \"#9c179e\"], [0.4444444444444444, \"#bd3786\"], [0.5555555555555556, \"#d8576b\"], [0.6666666666666666, \"#ed7953\"], [0.7777777777777778, \"#fb9f3a\"], [0.8888888888888888, \"#fdca26\"], [1.0, \"#f0f921\"]], \"sequentialminus\": [[0.0, \"#0d0887\"], [0.1111111111111111, \"#46039f\"], [0.2222222222222222, \"#7201a8\"], [0.3333333333333333, \"#9c179e\"], [0.4444444444444444, \"#bd3786\"], [0.5555555555555556, \"#d8576b\"], [0.6666666666666666, \"#ed7953\"], [0.7777777777777778, \"#fb9f3a\"], [0.8888888888888888, \"#fdca26\"], [1.0, \"#f0f921\"]]}, \"colorway\": [\"#636efa\", \"#EF553B\", \"#00cc96\", \"#ab63fa\", \"#FFA15A\", \"#19d3f3\", \"#FF6692\", \"#B6E880\", \"#FF97FF\", \"#FECB52\"], \"font\": {\"color\": \"#2a3f5f\"}, \"geo\": {\"bgcolor\": \"white\", \"lakecolor\": \"white\", \"landcolor\": \"#E5ECF6\", \"showlakes\": true, \"showland\": true, \"subunitcolor\": \"white\"}, \"hoverlabel\": {\"align\": \"left\"}, \"hovermode\": \"closest\", \"mapbox\": {\"style\": \"light\"}, \"paper_bgcolor\": \"white\", \"plot_bgcolor\": \"#E5ECF6\", \"polar\": {\"angularaxis\": {\"gridcolor\": \"white\", \"linecolor\": \"white\", \"ticks\": \"\"}, \"bgcolor\": \"#E5ECF6\", \"radialaxis\": {\"gridcolor\": \"white\", \"linecolor\": \"white\", \"ticks\": \"\"}}, \"scene\": {\"xaxis\": {\"backgroundcolor\": \"#E5ECF6\", \"gridcolor\": \"white\", \"gridwidth\": 2, \"linecolor\": \"white\", \"showbackground\": true, \"ticks\": \"\", \"zerolinecolor\": \"white\"}, \"yaxis\": {\"backgroundcolor\": \"#E5ECF6\", \"gridcolor\": \"white\", \"gridwidth\": 2, \"linecolor\": \"white\", \"showbackground\": true, \"ticks\": \"\", \"zerolinecolor\": \"white\"}, \"zaxis\": {\"backgroundcolor\": \"#E5ECF6\", \"gridcolor\": \"white\", \"gridwidth\": 2, \"linecolor\": \"white\", \"showbackground\": true, \"ticks\": \"\", \"zerolinecolor\": \"white\"}}, \"shapedefaults\": {\"line\": {\"color\": \"#2a3f5f\"}}, \"ternary\": {\"aaxis\": {\"gridcolor\": \"white\", \"linecolor\": \"white\", \"ticks\": \"\"}, \"baxis\": {\"gridcolor\": \"white\", \"linecolor\": \"white\", \"ticks\": \"\"}, \"bgcolor\": \"#E5ECF6\", \"caxis\": {\"gridcolor\": \"white\", \"linecolor\": \"white\", \"ticks\": \"\"}}, \"title\": {\"x\": 0.05}, \"xaxis\": {\"automargin\": true, \"gridcolor\": \"white\", \"linecolor\": \"white\", \"ticks\": \"\", \"title\": {\"standoff\": 15}, \"zerolinecolor\": \"white\", \"zerolinewidth\": 2}, \"yaxis\": {\"automargin\": true, \"gridcolor\": \"white\", \"linecolor\": \"white\", \"ticks\": \"\", \"title\": {\"standoff\": 15}, \"zerolinecolor\": \"white\", \"zerolinewidth\": 2}}}, \"title\": {\"text\": \"Deaths as of 04 April\"}, \"xaxis\": {\"anchor\": \"y\", \"domain\": [0.0, 0.7363], \"title\": {\"text\": \"State/UnionTerritory\"}}, \"xaxis2\": {\"anchor\": \"y2\", \"domain\": [0.7413, 1.0], \"matches\": \"x2\", \"showgrid\": false, \"showline\": false, \"showticklabels\": false, \"ticks\": \"\"}, \"yaxis\": {\"anchor\": \"x\", \"domain\": [0.0, 1.0], \"title\": {\"text\": \"Deaths\"}}, \"yaxis2\": {\"anchor\": \"x2\", \"domain\": [0.0, 1.0], \"matches\": \"y\", \"showgrid\": true, \"showticklabels\": false}},\n",
       "                        {\"responsive\": true}\n",
       "                    ).then(function(){\n",
       "                            \n",
       "var gd = document.getElementById('7fc861a9-a72b-48cf-bff6-8805dbbff095');\n",
       "var x = new MutationObserver(function (mutations, observer) {{\n",
       "        var display = window.getComputedStyle(gd).display;\n",
       "        if (!display || display === 'none') {{\n",
       "            console.log([gd, 'removed!']);\n",
       "            Plotly.purge(gd);\n",
       "            observer.disconnect();\n",
       "        }}\n",
       "}});\n",
       "\n",
       "// Listen for the removal of the full notebook cells\n",
       "var notebookContainer = gd.closest('#notebook-container');\n",
       "if (notebookContainer) {{\n",
       "    x.observe(notebookContainer, {childList: true});\n",
       "}}\n",
       "\n",
       "// Listen for the clearing of the current output cell\n",
       "var outputEl = gd.closest('.output');\n",
       "if (outputEl) {{\n",
       "    x.observe(outputEl, {childList: true});\n",
       "}}\n",
       "\n",
       "                        })\n",
       "                };\n",
       "                });\n",
       "            </script>\n",
       "        </div>"
      ]
     },
     "metadata": {},
     "output_type": "display_data"
    }
   ],
   "source": [
    "fig = px.scatter(df_india, x='State/UnionTerritory', y='Deaths', color=\"Deaths\",marginal_y=\"rug\",title='Deaths as of 04 April')\n",
    "fig.show()"
   ]
  },
  {
   "cell_type": "code",
   "execution_count": 101,
   "metadata": {},
   "outputs": [
    {
     "data": {
      "application/vnd.plotly.v1+json": {
       "config": {
        "plotlyServerURL": "https://plot.ly"
       },
       "data": [
        {
         "domain": {
          "x": [
           0,
           1
          ],
          "y": [
           0,
           1
          ]
         },
         "hoverlabel": {
          "namelength": 0
         },
         "hovertemplate": "State/UnionTerritory=%{label}<br>Confirmed=%{value}",
         "labels": [
          "Andhra Pradesh",
          "Andaman and Nicobar Islands",
          "Arunachal Pradesh",
          "Assam",
          "Bihar",
          "Chandigarh",
          "Chhattisgarh",
          "Delhi",
          "Goa",
          "Gujarat",
          "Haryana",
          "Himachal Pradesh",
          "Jammu and Kashmir",
          "Jharkhand",
          "Karnataka",
          "Kerala",
          "Ladakh",
          "Madhya Pradesh",
          "Maharashtra",
          "Manipur",
          "Mizoram",
          "Odisha",
          "Puducherry",
          "Punjab",
          "Rajasthan",
          "Tamil Nadu",
          "Telengana",
          "Uttarakhand",
          "Uttar Pradesh",
          "West Bengal"
         ],
         "legendgroup": "",
         "name": "",
         "showlegend": true,
         "type": "pie",
         "values": [
          161,
          10,
          1,
          24,
          30,
          18,
          9,
          445,
          7,
          105,
          49,
          6,
          75,
          2,
          128,
          295,
          14,
          104,
          490,
          2,
          1,
          5,
          5,
          57,
          200,
          411,
          159,
          16,
          174,
          69
         ]
        }
       ],
       "layout": {
        "legend": {
         "tracegroupgap": 0
        },
        "piecolorway": [
         "rgb(103,0,31)",
         "rgb(178,24,43)",
         "rgb(214,96,77)",
         "rgb(244,165,130)",
         "rgb(253,219,199)",
         "rgb(247,247,247)",
         "rgb(209,229,240)",
         "rgb(146,197,222)",
         "rgb(67,147,195)",
         "rgb(33,102,172)",
         "rgb(5,48,97)"
        ],
        "template": {
         "data": {
          "bar": [
           {
            "error_x": {
             "color": "#2a3f5f"
            },
            "error_y": {
             "color": "#2a3f5f"
            },
            "marker": {
             "line": {
              "color": "#E5ECF6",
              "width": 0.5
             }
            },
            "type": "bar"
           }
          ],
          "barpolar": [
           {
            "marker": {
             "line": {
              "color": "#E5ECF6",
              "width": 0.5
             }
            },
            "type": "barpolar"
           }
          ],
          "carpet": [
           {
            "aaxis": {
             "endlinecolor": "#2a3f5f",
             "gridcolor": "white",
             "linecolor": "white",
             "minorgridcolor": "white",
             "startlinecolor": "#2a3f5f"
            },
            "baxis": {
             "endlinecolor": "#2a3f5f",
             "gridcolor": "white",
             "linecolor": "white",
             "minorgridcolor": "white",
             "startlinecolor": "#2a3f5f"
            },
            "type": "carpet"
           }
          ],
          "choropleth": [
           {
            "colorbar": {
             "outlinewidth": 0,
             "ticks": ""
            },
            "type": "choropleth"
           }
          ],
          "contour": [
           {
            "colorbar": {
             "outlinewidth": 0,
             "ticks": ""
            },
            "colorscale": [
             [
              0,
              "#0d0887"
             ],
             [
              0.1111111111111111,
              "#46039f"
             ],
             [
              0.2222222222222222,
              "#7201a8"
             ],
             [
              0.3333333333333333,
              "#9c179e"
             ],
             [
              0.4444444444444444,
              "#bd3786"
             ],
             [
              0.5555555555555556,
              "#d8576b"
             ],
             [
              0.6666666666666666,
              "#ed7953"
             ],
             [
              0.7777777777777778,
              "#fb9f3a"
             ],
             [
              0.8888888888888888,
              "#fdca26"
             ],
             [
              1,
              "#f0f921"
             ]
            ],
            "type": "contour"
           }
          ],
          "contourcarpet": [
           {
            "colorbar": {
             "outlinewidth": 0,
             "ticks": ""
            },
            "type": "contourcarpet"
           }
          ],
          "heatmap": [
           {
            "colorbar": {
             "outlinewidth": 0,
             "ticks": ""
            },
            "colorscale": [
             [
              0,
              "#0d0887"
             ],
             [
              0.1111111111111111,
              "#46039f"
             ],
             [
              0.2222222222222222,
              "#7201a8"
             ],
             [
              0.3333333333333333,
              "#9c179e"
             ],
             [
              0.4444444444444444,
              "#bd3786"
             ],
             [
              0.5555555555555556,
              "#d8576b"
             ],
             [
              0.6666666666666666,
              "#ed7953"
             ],
             [
              0.7777777777777778,
              "#fb9f3a"
             ],
             [
              0.8888888888888888,
              "#fdca26"
             ],
             [
              1,
              "#f0f921"
             ]
            ],
            "type": "heatmap"
           }
          ],
          "heatmapgl": [
           {
            "colorbar": {
             "outlinewidth": 0,
             "ticks": ""
            },
            "colorscale": [
             [
              0,
              "#0d0887"
             ],
             [
              0.1111111111111111,
              "#46039f"
             ],
             [
              0.2222222222222222,
              "#7201a8"
             ],
             [
              0.3333333333333333,
              "#9c179e"
             ],
             [
              0.4444444444444444,
              "#bd3786"
             ],
             [
              0.5555555555555556,
              "#d8576b"
             ],
             [
              0.6666666666666666,
              "#ed7953"
             ],
             [
              0.7777777777777778,
              "#fb9f3a"
             ],
             [
              0.8888888888888888,
              "#fdca26"
             ],
             [
              1,
              "#f0f921"
             ]
            ],
            "type": "heatmapgl"
           }
          ],
          "histogram": [
           {
            "marker": {
             "colorbar": {
              "outlinewidth": 0,
              "ticks": ""
             }
            },
            "type": "histogram"
           }
          ],
          "histogram2d": [
           {
            "colorbar": {
             "outlinewidth": 0,
             "ticks": ""
            },
            "colorscale": [
             [
              0,
              "#0d0887"
             ],
             [
              0.1111111111111111,
              "#46039f"
             ],
             [
              0.2222222222222222,
              "#7201a8"
             ],
             [
              0.3333333333333333,
              "#9c179e"
             ],
             [
              0.4444444444444444,
              "#bd3786"
             ],
             [
              0.5555555555555556,
              "#d8576b"
             ],
             [
              0.6666666666666666,
              "#ed7953"
             ],
             [
              0.7777777777777778,
              "#fb9f3a"
             ],
             [
              0.8888888888888888,
              "#fdca26"
             ],
             [
              1,
              "#f0f921"
             ]
            ],
            "type": "histogram2d"
           }
          ],
          "histogram2dcontour": [
           {
            "colorbar": {
             "outlinewidth": 0,
             "ticks": ""
            },
            "colorscale": [
             [
              0,
              "#0d0887"
             ],
             [
              0.1111111111111111,
              "#46039f"
             ],
             [
              0.2222222222222222,
              "#7201a8"
             ],
             [
              0.3333333333333333,
              "#9c179e"
             ],
             [
              0.4444444444444444,
              "#bd3786"
             ],
             [
              0.5555555555555556,
              "#d8576b"
             ],
             [
              0.6666666666666666,
              "#ed7953"
             ],
             [
              0.7777777777777778,
              "#fb9f3a"
             ],
             [
              0.8888888888888888,
              "#fdca26"
             ],
             [
              1,
              "#f0f921"
             ]
            ],
            "type": "histogram2dcontour"
           }
          ],
          "mesh3d": [
           {
            "colorbar": {
             "outlinewidth": 0,
             "ticks": ""
            },
            "type": "mesh3d"
           }
          ],
          "parcoords": [
           {
            "line": {
             "colorbar": {
              "outlinewidth": 0,
              "ticks": ""
             }
            },
            "type": "parcoords"
           }
          ],
          "pie": [
           {
            "automargin": true,
            "type": "pie"
           }
          ],
          "scatter": [
           {
            "marker": {
             "colorbar": {
              "outlinewidth": 0,
              "ticks": ""
             }
            },
            "type": "scatter"
           }
          ],
          "scatter3d": [
           {
            "line": {
             "colorbar": {
              "outlinewidth": 0,
              "ticks": ""
             }
            },
            "marker": {
             "colorbar": {
              "outlinewidth": 0,
              "ticks": ""
             }
            },
            "type": "scatter3d"
           }
          ],
          "scattercarpet": [
           {
            "marker": {
             "colorbar": {
              "outlinewidth": 0,
              "ticks": ""
             }
            },
            "type": "scattercarpet"
           }
          ],
          "scattergeo": [
           {
            "marker": {
             "colorbar": {
              "outlinewidth": 0,
              "ticks": ""
             }
            },
            "type": "scattergeo"
           }
          ],
          "scattergl": [
           {
            "marker": {
             "colorbar": {
              "outlinewidth": 0,
              "ticks": ""
             }
            },
            "type": "scattergl"
           }
          ],
          "scattermapbox": [
           {
            "marker": {
             "colorbar": {
              "outlinewidth": 0,
              "ticks": ""
             }
            },
            "type": "scattermapbox"
           }
          ],
          "scatterpolar": [
           {
            "marker": {
             "colorbar": {
              "outlinewidth": 0,
              "ticks": ""
             }
            },
            "type": "scatterpolar"
           }
          ],
          "scatterpolargl": [
           {
            "marker": {
             "colorbar": {
              "outlinewidth": 0,
              "ticks": ""
             }
            },
            "type": "scatterpolargl"
           }
          ],
          "scatterternary": [
           {
            "marker": {
             "colorbar": {
              "outlinewidth": 0,
              "ticks": ""
             }
            },
            "type": "scatterternary"
           }
          ],
          "surface": [
           {
            "colorbar": {
             "outlinewidth": 0,
             "ticks": ""
            },
            "colorscale": [
             [
              0,
              "#0d0887"
             ],
             [
              0.1111111111111111,
              "#46039f"
             ],
             [
              0.2222222222222222,
              "#7201a8"
             ],
             [
              0.3333333333333333,
              "#9c179e"
             ],
             [
              0.4444444444444444,
              "#bd3786"
             ],
             [
              0.5555555555555556,
              "#d8576b"
             ],
             [
              0.6666666666666666,
              "#ed7953"
             ],
             [
              0.7777777777777778,
              "#fb9f3a"
             ],
             [
              0.8888888888888888,
              "#fdca26"
             ],
             [
              1,
              "#f0f921"
             ]
            ],
            "type": "surface"
           }
          ],
          "table": [
           {
            "cells": {
             "fill": {
              "color": "#EBF0F8"
             },
             "line": {
              "color": "white"
             }
            },
            "header": {
             "fill": {
              "color": "#C8D4E3"
             },
             "line": {
              "color": "white"
             }
            },
            "type": "table"
           }
          ]
         },
         "layout": {
          "annotationdefaults": {
           "arrowcolor": "#2a3f5f",
           "arrowhead": 0,
           "arrowwidth": 1
          },
          "coloraxis": {
           "colorbar": {
            "outlinewidth": 0,
            "ticks": ""
           }
          },
          "colorscale": {
           "diverging": [
            [
             0,
             "#8e0152"
            ],
            [
             0.1,
             "#c51b7d"
            ],
            [
             0.2,
             "#de77ae"
            ],
            [
             0.3,
             "#f1b6da"
            ],
            [
             0.4,
             "#fde0ef"
            ],
            [
             0.5,
             "#f7f7f7"
            ],
            [
             0.6,
             "#e6f5d0"
            ],
            [
             0.7,
             "#b8e186"
            ],
            [
             0.8,
             "#7fbc41"
            ],
            [
             0.9,
             "#4d9221"
            ],
            [
             1,
             "#276419"
            ]
           ],
           "sequential": [
            [
             0,
             "#0d0887"
            ],
            [
             0.1111111111111111,
             "#46039f"
            ],
            [
             0.2222222222222222,
             "#7201a8"
            ],
            [
             0.3333333333333333,
             "#9c179e"
            ],
            [
             0.4444444444444444,
             "#bd3786"
            ],
            [
             0.5555555555555556,
             "#d8576b"
            ],
            [
             0.6666666666666666,
             "#ed7953"
            ],
            [
             0.7777777777777778,
             "#fb9f3a"
            ],
            [
             0.8888888888888888,
             "#fdca26"
            ],
            [
             1,
             "#f0f921"
            ]
           ],
           "sequentialminus": [
            [
             0,
             "#0d0887"
            ],
            [
             0.1111111111111111,
             "#46039f"
            ],
            [
             0.2222222222222222,
             "#7201a8"
            ],
            [
             0.3333333333333333,
             "#9c179e"
            ],
            [
             0.4444444444444444,
             "#bd3786"
            ],
            [
             0.5555555555555556,
             "#d8576b"
            ],
            [
             0.6666666666666666,
             "#ed7953"
            ],
            [
             0.7777777777777778,
             "#fb9f3a"
            ],
            [
             0.8888888888888888,
             "#fdca26"
            ],
            [
             1,
             "#f0f921"
            ]
           ]
          },
          "colorway": [
           "#636efa",
           "#EF553B",
           "#00cc96",
           "#ab63fa",
           "#FFA15A",
           "#19d3f3",
           "#FF6692",
           "#B6E880",
           "#FF97FF",
           "#FECB52"
          ],
          "font": {
           "color": "#2a3f5f"
          },
          "geo": {
           "bgcolor": "white",
           "lakecolor": "white",
           "landcolor": "#E5ECF6",
           "showlakes": true,
           "showland": true,
           "subunitcolor": "white"
          },
          "hoverlabel": {
           "align": "left"
          },
          "hovermode": "closest",
          "mapbox": {
           "style": "light"
          },
          "paper_bgcolor": "white",
          "plot_bgcolor": "#E5ECF6",
          "polar": {
           "angularaxis": {
            "gridcolor": "white",
            "linecolor": "white",
            "ticks": ""
           },
           "bgcolor": "#E5ECF6",
           "radialaxis": {
            "gridcolor": "white",
            "linecolor": "white",
            "ticks": ""
           }
          },
          "scene": {
           "xaxis": {
            "backgroundcolor": "#E5ECF6",
            "gridcolor": "white",
            "gridwidth": 2,
            "linecolor": "white",
            "showbackground": true,
            "ticks": "",
            "zerolinecolor": "white"
           },
           "yaxis": {
            "backgroundcolor": "#E5ECF6",
            "gridcolor": "white",
            "gridwidth": 2,
            "linecolor": "white",
            "showbackground": true,
            "ticks": "",
            "zerolinecolor": "white"
           },
           "zaxis": {
            "backgroundcolor": "#E5ECF6",
            "gridcolor": "white",
            "gridwidth": 2,
            "linecolor": "white",
            "showbackground": true,
            "ticks": "",
            "zerolinecolor": "white"
           }
          },
          "shapedefaults": {
           "line": {
            "color": "#2a3f5f"
           }
          },
          "ternary": {
           "aaxis": {
            "gridcolor": "white",
            "linecolor": "white",
            "ticks": ""
           },
           "baxis": {
            "gridcolor": "white",
            "linecolor": "white",
            "ticks": ""
           },
           "bgcolor": "#E5ECF6",
           "caxis": {
            "gridcolor": "white",
            "linecolor": "white",
            "ticks": ""
           }
          },
          "title": {
           "x": 0.05
          },
          "xaxis": {
           "automargin": true,
           "gridcolor": "white",
           "linecolor": "white",
           "ticks": "",
           "title": {
            "standoff": 15
           },
           "zerolinecolor": "white",
           "zerolinewidth": 2
          },
          "yaxis": {
           "automargin": true,
           "gridcolor": "white",
           "linecolor": "white",
           "ticks": "",
           "title": {
            "standoff": 15
           },
           "zerolinecolor": "white",
           "zerolinewidth": 2
          }
         }
        },
        "title": {
         "text": "India Cases as of 04 April"
        }
       }
      },
      "text/html": [
       "<div>\n",
       "        \n",
       "        \n",
       "            <div id=\"f1b8c427-bfb1-4d00-af6a-0ae3e681b2b3\" class=\"plotly-graph-div\" style=\"height:525px; width:100%;\"></div>\n",
       "            <script type=\"text/javascript\">\n",
       "                require([\"plotly\"], function(Plotly) {\n",
       "                    window.PLOTLYENV=window.PLOTLYENV || {};\n",
       "                    \n",
       "                if (document.getElementById(\"f1b8c427-bfb1-4d00-af6a-0ae3e681b2b3\")) {\n",
       "                    Plotly.newPlot(\n",
       "                        'f1b8c427-bfb1-4d00-af6a-0ae3e681b2b3',\n",
       "                        [{\"domain\": {\"x\": [0.0, 1.0], \"y\": [0.0, 1.0]}, \"hoverlabel\": {\"namelength\": 0}, \"hovertemplate\": \"State/UnionTerritory=%{label}<br>Confirmed=%{value}\", \"labels\": [\"Andhra Pradesh\", \"Andaman and Nicobar Islands\", \"Arunachal Pradesh\", \"Assam\", \"Bihar\", \"Chandigarh\", \"Chhattisgarh\", \"Delhi\", \"Goa\", \"Gujarat\", \"Haryana\", \"Himachal Pradesh\", \"Jammu and Kashmir\", \"Jharkhand\", \"Karnataka\", \"Kerala\", \"Ladakh\", \"Madhya Pradesh\", \"Maharashtra\", \"Manipur\", \"Mizoram\", \"Odisha\", \"Puducherry\", \"Punjab\", \"Rajasthan\", \"Tamil Nadu\", \"Telengana\", \"Uttarakhand\", \"Uttar Pradesh\", \"West Bengal\"], \"legendgroup\": \"\", \"name\": \"\", \"showlegend\": true, \"type\": \"pie\", \"values\": [161, 10, 1, 24, 30, 18, 9, 445, 7, 105, 49, 6, 75, 2, 128, 295, 14, 104, 490, 2, 1, 5, 5, 57, 200, 411, 159, 16, 174, 69]}],\n",
       "                        {\"legend\": {\"tracegroupgap\": 0}, \"piecolorway\": [\"rgb(103,0,31)\", \"rgb(178,24,43)\", \"rgb(214,96,77)\", \"rgb(244,165,130)\", \"rgb(253,219,199)\", \"rgb(247,247,247)\", \"rgb(209,229,240)\", \"rgb(146,197,222)\", \"rgb(67,147,195)\", \"rgb(33,102,172)\", \"rgb(5,48,97)\"], \"template\": {\"data\": {\"bar\": [{\"error_x\": {\"color\": \"#2a3f5f\"}, \"error_y\": {\"color\": \"#2a3f5f\"}, \"marker\": {\"line\": {\"color\": \"#E5ECF6\", \"width\": 0.5}}, \"type\": \"bar\"}], \"barpolar\": [{\"marker\": {\"line\": {\"color\": \"#E5ECF6\", \"width\": 0.5}}, \"type\": \"barpolar\"}], \"carpet\": [{\"aaxis\": {\"endlinecolor\": \"#2a3f5f\", \"gridcolor\": \"white\", \"linecolor\": \"white\", \"minorgridcolor\": \"white\", \"startlinecolor\": \"#2a3f5f\"}, \"baxis\": {\"endlinecolor\": \"#2a3f5f\", \"gridcolor\": \"white\", \"linecolor\": \"white\", \"minorgridcolor\": \"white\", \"startlinecolor\": \"#2a3f5f\"}, \"type\": \"carpet\"}], \"choropleth\": [{\"colorbar\": {\"outlinewidth\": 0, \"ticks\": \"\"}, \"type\": \"choropleth\"}], \"contour\": [{\"colorbar\": {\"outlinewidth\": 0, \"ticks\": \"\"}, \"colorscale\": [[0.0, \"#0d0887\"], [0.1111111111111111, \"#46039f\"], [0.2222222222222222, \"#7201a8\"], [0.3333333333333333, \"#9c179e\"], [0.4444444444444444, \"#bd3786\"], [0.5555555555555556, \"#d8576b\"], [0.6666666666666666, \"#ed7953\"], [0.7777777777777778, \"#fb9f3a\"], [0.8888888888888888, \"#fdca26\"], [1.0, \"#f0f921\"]], \"type\": \"contour\"}], \"contourcarpet\": [{\"colorbar\": {\"outlinewidth\": 0, \"ticks\": \"\"}, \"type\": \"contourcarpet\"}], \"heatmap\": [{\"colorbar\": {\"outlinewidth\": 0, \"ticks\": \"\"}, \"colorscale\": [[0.0, \"#0d0887\"], [0.1111111111111111, \"#46039f\"], [0.2222222222222222, \"#7201a8\"], [0.3333333333333333, \"#9c179e\"], [0.4444444444444444, \"#bd3786\"], [0.5555555555555556, \"#d8576b\"], [0.6666666666666666, \"#ed7953\"], [0.7777777777777778, \"#fb9f3a\"], [0.8888888888888888, \"#fdca26\"], [1.0, \"#f0f921\"]], \"type\": \"heatmap\"}], \"heatmapgl\": [{\"colorbar\": {\"outlinewidth\": 0, \"ticks\": \"\"}, \"colorscale\": [[0.0, \"#0d0887\"], [0.1111111111111111, \"#46039f\"], [0.2222222222222222, \"#7201a8\"], [0.3333333333333333, \"#9c179e\"], [0.4444444444444444, \"#bd3786\"], [0.5555555555555556, \"#d8576b\"], [0.6666666666666666, \"#ed7953\"], [0.7777777777777778, \"#fb9f3a\"], [0.8888888888888888, \"#fdca26\"], [1.0, \"#f0f921\"]], \"type\": \"heatmapgl\"}], \"histogram\": [{\"marker\": {\"colorbar\": {\"outlinewidth\": 0, \"ticks\": \"\"}}, \"type\": \"histogram\"}], \"histogram2d\": [{\"colorbar\": {\"outlinewidth\": 0, \"ticks\": \"\"}, \"colorscale\": [[0.0, \"#0d0887\"], [0.1111111111111111, \"#46039f\"], [0.2222222222222222, \"#7201a8\"], [0.3333333333333333, \"#9c179e\"], [0.4444444444444444, \"#bd3786\"], [0.5555555555555556, \"#d8576b\"], [0.6666666666666666, \"#ed7953\"], [0.7777777777777778, \"#fb9f3a\"], [0.8888888888888888, \"#fdca26\"], [1.0, \"#f0f921\"]], \"type\": \"histogram2d\"}], \"histogram2dcontour\": [{\"colorbar\": {\"outlinewidth\": 0, \"ticks\": \"\"}, \"colorscale\": [[0.0, \"#0d0887\"], [0.1111111111111111, \"#46039f\"], [0.2222222222222222, \"#7201a8\"], [0.3333333333333333, \"#9c179e\"], [0.4444444444444444, \"#bd3786\"], [0.5555555555555556, \"#d8576b\"], [0.6666666666666666, \"#ed7953\"], [0.7777777777777778, \"#fb9f3a\"], [0.8888888888888888, \"#fdca26\"], [1.0, \"#f0f921\"]], \"type\": \"histogram2dcontour\"}], \"mesh3d\": [{\"colorbar\": {\"outlinewidth\": 0, \"ticks\": \"\"}, \"type\": \"mesh3d\"}], \"parcoords\": [{\"line\": {\"colorbar\": {\"outlinewidth\": 0, \"ticks\": \"\"}}, \"type\": \"parcoords\"}], \"pie\": [{\"automargin\": true, \"type\": \"pie\"}], \"scatter\": [{\"marker\": {\"colorbar\": {\"outlinewidth\": 0, \"ticks\": \"\"}}, \"type\": \"scatter\"}], \"scatter3d\": [{\"line\": {\"colorbar\": {\"outlinewidth\": 0, \"ticks\": \"\"}}, \"marker\": {\"colorbar\": {\"outlinewidth\": 0, \"ticks\": \"\"}}, \"type\": \"scatter3d\"}], \"scattercarpet\": [{\"marker\": {\"colorbar\": {\"outlinewidth\": 0, \"ticks\": \"\"}}, \"type\": \"scattercarpet\"}], \"scattergeo\": [{\"marker\": {\"colorbar\": {\"outlinewidth\": 0, \"ticks\": \"\"}}, \"type\": \"scattergeo\"}], \"scattergl\": [{\"marker\": {\"colorbar\": {\"outlinewidth\": 0, \"ticks\": \"\"}}, \"type\": \"scattergl\"}], \"scattermapbox\": [{\"marker\": {\"colorbar\": {\"outlinewidth\": 0, \"ticks\": \"\"}}, \"type\": \"scattermapbox\"}], \"scatterpolar\": [{\"marker\": {\"colorbar\": {\"outlinewidth\": 0, \"ticks\": \"\"}}, \"type\": \"scatterpolar\"}], \"scatterpolargl\": [{\"marker\": {\"colorbar\": {\"outlinewidth\": 0, \"ticks\": \"\"}}, \"type\": \"scatterpolargl\"}], \"scatterternary\": [{\"marker\": {\"colorbar\": {\"outlinewidth\": 0, \"ticks\": \"\"}}, \"type\": \"scatterternary\"}], \"surface\": [{\"colorbar\": {\"outlinewidth\": 0, \"ticks\": \"\"}, \"colorscale\": [[0.0, \"#0d0887\"], [0.1111111111111111, \"#46039f\"], [0.2222222222222222, \"#7201a8\"], [0.3333333333333333, \"#9c179e\"], [0.4444444444444444, \"#bd3786\"], [0.5555555555555556, \"#d8576b\"], [0.6666666666666666, \"#ed7953\"], [0.7777777777777778, \"#fb9f3a\"], [0.8888888888888888, \"#fdca26\"], [1.0, \"#f0f921\"]], \"type\": \"surface\"}], \"table\": [{\"cells\": {\"fill\": {\"color\": \"#EBF0F8\"}, \"line\": {\"color\": \"white\"}}, \"header\": {\"fill\": {\"color\": \"#C8D4E3\"}, \"line\": {\"color\": \"white\"}}, \"type\": \"table\"}]}, \"layout\": {\"annotationdefaults\": {\"arrowcolor\": \"#2a3f5f\", \"arrowhead\": 0, \"arrowwidth\": 1}, \"coloraxis\": {\"colorbar\": {\"outlinewidth\": 0, \"ticks\": \"\"}}, \"colorscale\": {\"diverging\": [[0, \"#8e0152\"], [0.1, \"#c51b7d\"], [0.2, \"#de77ae\"], [0.3, \"#f1b6da\"], [0.4, \"#fde0ef\"], [0.5, \"#f7f7f7\"], [0.6, \"#e6f5d0\"], [0.7, \"#b8e186\"], [0.8, \"#7fbc41\"], [0.9, \"#4d9221\"], [1, \"#276419\"]], \"sequential\": [[0.0, \"#0d0887\"], [0.1111111111111111, \"#46039f\"], [0.2222222222222222, \"#7201a8\"], [0.3333333333333333, \"#9c179e\"], [0.4444444444444444, \"#bd3786\"], [0.5555555555555556, \"#d8576b\"], [0.6666666666666666, \"#ed7953\"], [0.7777777777777778, \"#fb9f3a\"], [0.8888888888888888, \"#fdca26\"], [1.0, \"#f0f921\"]], \"sequentialminus\": [[0.0, \"#0d0887\"], [0.1111111111111111, \"#46039f\"], [0.2222222222222222, \"#7201a8\"], [0.3333333333333333, \"#9c179e\"], [0.4444444444444444, \"#bd3786\"], [0.5555555555555556, \"#d8576b\"], [0.6666666666666666, \"#ed7953\"], [0.7777777777777778, \"#fb9f3a\"], [0.8888888888888888, \"#fdca26\"], [1.0, \"#f0f921\"]]}, \"colorway\": [\"#636efa\", \"#EF553B\", \"#00cc96\", \"#ab63fa\", \"#FFA15A\", \"#19d3f3\", \"#FF6692\", \"#B6E880\", \"#FF97FF\", \"#FECB52\"], \"font\": {\"color\": \"#2a3f5f\"}, \"geo\": {\"bgcolor\": \"white\", \"lakecolor\": \"white\", \"landcolor\": \"#E5ECF6\", \"showlakes\": true, \"showland\": true, \"subunitcolor\": \"white\"}, \"hoverlabel\": {\"align\": \"left\"}, \"hovermode\": \"closest\", \"mapbox\": {\"style\": \"light\"}, \"paper_bgcolor\": \"white\", \"plot_bgcolor\": \"#E5ECF6\", \"polar\": {\"angularaxis\": {\"gridcolor\": \"white\", \"linecolor\": \"white\", \"ticks\": \"\"}, \"bgcolor\": \"#E5ECF6\", \"radialaxis\": {\"gridcolor\": \"white\", \"linecolor\": \"white\", \"ticks\": \"\"}}, \"scene\": {\"xaxis\": {\"backgroundcolor\": \"#E5ECF6\", \"gridcolor\": \"white\", \"gridwidth\": 2, \"linecolor\": \"white\", \"showbackground\": true, \"ticks\": \"\", \"zerolinecolor\": \"white\"}, \"yaxis\": {\"backgroundcolor\": \"#E5ECF6\", \"gridcolor\": \"white\", \"gridwidth\": 2, \"linecolor\": \"white\", \"showbackground\": true, \"ticks\": \"\", \"zerolinecolor\": \"white\"}, \"zaxis\": {\"backgroundcolor\": \"#E5ECF6\", \"gridcolor\": \"white\", \"gridwidth\": 2, \"linecolor\": \"white\", \"showbackground\": true, \"ticks\": \"\", \"zerolinecolor\": \"white\"}}, \"shapedefaults\": {\"line\": {\"color\": \"#2a3f5f\"}}, \"ternary\": {\"aaxis\": {\"gridcolor\": \"white\", \"linecolor\": \"white\", \"ticks\": \"\"}, \"baxis\": {\"gridcolor\": \"white\", \"linecolor\": \"white\", \"ticks\": \"\"}, \"bgcolor\": \"#E5ECF6\", \"caxis\": {\"gridcolor\": \"white\", \"linecolor\": \"white\", \"ticks\": \"\"}}, \"title\": {\"x\": 0.05}, \"xaxis\": {\"automargin\": true, \"gridcolor\": \"white\", \"linecolor\": \"white\", \"ticks\": \"\", \"title\": {\"standoff\": 15}, \"zerolinecolor\": \"white\", \"zerolinewidth\": 2}, \"yaxis\": {\"automargin\": true, \"gridcolor\": \"white\", \"linecolor\": \"white\", \"ticks\": \"\", \"title\": {\"standoff\": 15}, \"zerolinecolor\": \"white\", \"zerolinewidth\": 2}}}, \"title\": {\"text\": \"India Cases as of 04 April\"}},\n",
       "                        {\"responsive\": true}\n",
       "                    ).then(function(){\n",
       "                            \n",
       "var gd = document.getElementById('f1b8c427-bfb1-4d00-af6a-0ae3e681b2b3');\n",
       "var x = new MutationObserver(function (mutations, observer) {{\n",
       "        var display = window.getComputedStyle(gd).display;\n",
       "        if (!display || display === 'none') {{\n",
       "            console.log([gd, 'removed!']);\n",
       "            Plotly.purge(gd);\n",
       "            observer.disconnect();\n",
       "        }}\n",
       "}});\n",
       "\n",
       "// Listen for the removal of the full notebook cells\n",
       "var notebookContainer = gd.closest('#notebook-container');\n",
       "if (notebookContainer) {{\n",
       "    x.observe(notebookContainer, {childList: true});\n",
       "}}\n",
       "\n",
       "// Listen for the clearing of the current output cell\n",
       "var outputEl = gd.closest('.output');\n",
       "if (outputEl) {{\n",
       "    x.observe(outputEl, {childList: true});\n",
       "}}\n",
       "\n",
       "                        })\n",
       "                };\n",
       "                });\n",
       "            </script>\n",
       "        </div>"
      ]
     },
     "metadata": {},
     "output_type": "display_data"
    }
   ],
   "source": [
    "fig = px.pie(df_india[df_india['Date']=='04/04/20'], values='Confirmed', names='State/UnionTerritory',color_discrete_sequence=px.colors.sequential.RdBu,title='India Cases as of 04 April')\n",
    "fig.show()"
   ]
  },
  {
   "cell_type": "code",
   "execution_count": 45,
   "metadata": {},
   "outputs": [],
   "source": [
    "fig1 = px.line(df_train, x='Date', y='Confirmed',height=700,line_shape=\"spline\", render_mode=\"svg\",title='Increase of cases with date')"
   ]
  },
  {
   "cell_type": "code",
   "execution_count": 46,
   "metadata": {},
   "outputs": [
    {
     "data": {
      "application/vnd.plotly.v1+json": {
       "config": {
        "plotlyServerURL": "https://plot.ly"
       },
       "data": [
        {
         "hoverlabel": {
          "namelength": 0
         },
         "hovertemplate": "Date=%{x}<br>Confirmed=%{y}",
         "legendgroup": "",
         "line": {
          "color": "#636efa",
          "dash": "solid",
          "shape": "spline"
         },
         "mode": "lines",
         "name": "",
         "showlegend": false,
         "type": "scatter",
         "x": [
          "30/01/20",
          "31/01/20",
          "01/02/20",
          "02/02/20",
          "03/02/20",
          "04/02/20",
          "05/02/20",
          "06/02/20",
          "07/02/20",
          "08/02/20",
          "09/02/20",
          "10/02/20",
          "11/02/20",
          "12/02/20",
          "13/02/20",
          "14/02/20",
          "15/02/20",
          "16/02/20",
          "17/02/20",
          "18/02/20",
          "19/02/20",
          "20/02/20",
          "21/02/20",
          "22/02/20",
          "23/02/20",
          "24/02/20",
          "25/02/20",
          "26/02/20",
          "27/02/20",
          "28/02/20",
          "29/02/20",
          "01/03/20",
          "02/03/20",
          "02/03/20",
          "02/03/20",
          "03/03/20",
          "03/03/20",
          "03/03/20",
          "03/03/20",
          "04/03/20",
          "04/03/20",
          "04/03/20",
          "04/03/20",
          "04/03/20",
          "04/03/20",
          "05/03/20",
          "05/03/20",
          "05/03/20",
          "05/03/20",
          "05/03/20",
          "05/03/20",
          "06/03/20",
          "06/03/20",
          "06/03/20",
          "06/03/20",
          "06/03/20",
          "06/03/20",
          "07/03/20",
          "07/03/20",
          "07/03/20",
          "07/03/20",
          "07/03/20",
          "07/03/20",
          "07/03/20",
          "07/03/20",
          "08/03/20",
          "08/03/20",
          "08/03/20",
          "08/03/20",
          "08/03/20",
          "08/03/20",
          "08/03/20",
          "08/03/20",
          "09/03/20",
          "09/03/20",
          "09/03/20",
          "09/03/20",
          "09/03/20",
          "09/03/20",
          "09/03/20",
          "09/03/20",
          "09/03/20",
          "09/03/20",
          "09/03/20",
          "09/03/20",
          "10/03/20",
          "10/03/20",
          "10/03/20",
          "10/03/20",
          "10/03/20",
          "10/03/20",
          "10/03/20",
          "10/03/20",
          "10/03/20",
          "10/03/20",
          "10/03/20",
          "10/03/20",
          "11/03/20",
          "11/03/20",
          "11/03/20",
          "11/03/20",
          "11/03/20",
          "11/03/20",
          "11/03/20",
          "11/03/20",
          "11/03/20",
          "11/03/20",
          "11/03/20",
          "11/03/20",
          "12/03/20",
          "12/03/20",
          "12/03/20",
          "12/03/20",
          "12/03/20",
          "12/03/20",
          "12/03/20",
          "12/03/20",
          "12/03/20",
          "12/03/20",
          "12/03/20",
          "12/03/20",
          "12/03/20",
          "13/03/20",
          "13/03/20",
          "13/03/20",
          "13/03/20",
          "13/03/20",
          "13/03/20",
          "13/03/20",
          "13/03/20",
          "13/03/20",
          "13/03/20",
          "13/03/20",
          "13/03/20",
          "13/03/20",
          "14/03/20",
          "14/03/20",
          "14/03/20",
          "14/03/20",
          "14/03/20",
          "14/03/20",
          "14/03/20",
          "14/03/20",
          "14/03/20",
          "14/03/20",
          "14/03/20",
          "14/03/20",
          "14/03/20",
          "15/03/20",
          "15/03/20",
          "15/03/20",
          "15/03/20",
          "15/03/20",
          "15/03/20",
          "15/03/20",
          "15/03/20",
          "15/03/20",
          "15/03/20",
          "15/03/20",
          "15/03/20",
          "15/03/20",
          "15/03/20",
          "16/03/20",
          "16/03/20",
          "16/03/20",
          "16/03/20",
          "16/03/20",
          "16/03/20",
          "16/03/20",
          "16/03/20",
          "16/03/20",
          "16/03/20",
          "16/03/20",
          "16/03/20",
          "16/03/20",
          "16/03/20",
          "16/03/20",
          "17/03/20",
          "17/03/20",
          "17/03/20",
          "17/03/20",
          "17/03/20",
          "17/03/20",
          "17/03/20",
          "17/03/20",
          "17/03/20",
          "17/03/20",
          "17/03/20",
          "17/03/20",
          "17/03/20",
          "17/03/20",
          "17/03/20",
          "18/03/20",
          "18/03/20",
          "18/03/20",
          "18/03/20",
          "18/03/20",
          "18/03/20",
          "18/03/20",
          "18/03/20",
          "18/03/20",
          "18/03/20",
          "18/03/20",
          "18/03/20",
          "18/03/20",
          "18/03/20",
          "18/03/20",
          "18/03/20",
          "18/03/20",
          "19/03/20",
          "19/03/20",
          "19/03/20",
          "19/03/20",
          "19/03/20",
          "19/03/20",
          "19/03/20",
          "19/03/20",
          "19/03/20",
          "19/03/20",
          "19/03/20",
          "19/03/20",
          "19/03/20",
          "19/03/20",
          "19/03/20",
          "19/03/20",
          "19/03/20",
          "19/03/20",
          "19/03/20",
          "20/03/20",
          "20/03/20",
          "20/03/20",
          "20/03/20",
          "20/03/20",
          "20/03/20",
          "20/03/20",
          "20/03/20",
          "20/03/20",
          "20/03/20",
          "20/03/20",
          "20/03/20",
          "20/03/20",
          "20/03/20",
          "20/03/20",
          "20/03/20",
          "20/03/20",
          "20/03/20",
          "20/03/20",
          "20/03/20",
          "21/03/20",
          "21/03/20",
          "21/03/20",
          "21/03/20",
          "21/03/20",
          "21/03/20",
          "21/03/20",
          "21/03/20",
          "21/03/20",
          "21/03/20",
          "21/03/20",
          "21/03/20",
          "21/03/20",
          "21/03/20",
          "21/03/20",
          "21/03/20",
          "21/03/20",
          "21/03/20",
          "21/03/20",
          "21/03/20",
          "21/03/20",
          "21/03/20",
          "22/03/20",
          "22/03/20",
          "22/03/20",
          "22/03/20",
          "22/03/20",
          "22/03/20",
          "22/03/20",
          "22/03/20",
          "22/03/20",
          "22/03/20",
          "22/03/20",
          "22/03/20",
          "22/03/20",
          "22/03/20",
          "22/03/20",
          "22/03/20",
          "22/03/20",
          "22/03/20",
          "22/03/20",
          "22/03/20",
          "22/03/20",
          "22/03/20",
          "22/03/20",
          "23/03/20",
          "23/03/20",
          "23/03/20",
          "23/03/20",
          "23/03/20",
          "23/03/20",
          "23/03/20",
          "23/03/20",
          "23/03/20",
          "23/03/20",
          "23/03/20",
          "23/03/20",
          "23/03/20",
          "23/03/20",
          "23/03/20",
          "23/03/20",
          "23/03/20",
          "23/03/20",
          "23/03/20",
          "23/03/20",
          "23/03/20",
          "23/03/20",
          "23/03/20",
          "24/03/20",
          "24/03/20",
          "24/03/20",
          "24/03/20",
          "24/03/20",
          "24/03/20",
          "24/03/20",
          "24/03/20",
          "24/03/20",
          "24/03/20",
          "24/03/20",
          "24/03/20",
          "24/03/20",
          "24/03/20",
          "24/03/20",
          "24/03/20",
          "24/03/20",
          "24/03/20",
          "24/03/20",
          "24/03/20",
          "24/03/20",
          "24/03/20",
          "24/03/20",
          "24/03/20",
          "25/03/20",
          "25/03/20",
          "25/03/20",
          "25/03/20",
          "25/03/20",
          "25/03/20",
          "25/03/20",
          "25/03/20",
          "25/03/20",
          "25/03/20",
          "25/03/20",
          "25/03/20",
          "25/03/20",
          "25/03/20",
          "25/03/20",
          "25/03/20",
          "25/03/20",
          "25/03/20",
          "25/03/20",
          "25/03/20",
          "25/03/20",
          "25/03/20",
          "25/03/20",
          "25/03/20",
          "25/03/20",
          "26/03/20",
          "26/03/20",
          "26/03/20",
          "26/03/20",
          "26/03/20",
          "26/03/20",
          "26/03/20",
          "26/03/20",
          "26/03/20",
          "26/03/20",
          "26/03/20",
          "26/03/20",
          "26/03/20",
          "26/03/20",
          "26/03/20",
          "26/03/20",
          "26/03/20",
          "26/03/20",
          "26/03/20",
          "26/03/20",
          "26/03/20",
          "26/03/20",
          "26/03/20",
          "26/03/20",
          "26/03/20",
          "26/03/20",
          "26/03/20",
          "27/03/20",
          "27/03/20",
          "27/03/20",
          "27/03/20",
          "27/03/20",
          "27/03/20",
          "27/03/20",
          "27/03/20",
          "27/03/20",
          "27/03/20",
          "27/03/20",
          "27/03/20",
          "27/03/20",
          "27/03/20",
          "27/03/20",
          "27/03/20",
          "27/03/20",
          "27/03/20",
          "27/03/20",
          "27/03/20",
          "27/03/20",
          "27/03/20",
          "27/03/20",
          "27/03/20",
          "27/03/20",
          "27/03/20",
          "27/03/20",
          "28/03/20",
          "28/03/20",
          "28/03/20",
          "28/03/20",
          "28/03/20",
          "28/03/20",
          "28/03/20",
          "28/03/20",
          "28/03/20",
          "28/03/20",
          "28/03/20",
          "28/03/20",
          "28/03/20",
          "28/03/20",
          "28/03/20",
          "28/03/20",
          "28/03/20",
          "28/03/20",
          "28/03/20",
          "28/03/20",
          "28/03/20",
          "28/03/20",
          "28/03/20",
          "28/03/20",
          "28/03/20",
          "28/03/20",
          "28/03/20",
          "29/03/20",
          "29/03/20",
          "29/03/20",
          "29/03/20",
          "29/03/20",
          "29/03/20",
          "29/03/20",
          "29/03/20",
          "29/03/20",
          "29/03/20",
          "29/03/20",
          "29/03/20",
          "29/03/20",
          "29/03/20",
          "29/03/20",
          "29/03/20",
          "29/03/20",
          "29/03/20",
          "29/03/20",
          "29/03/20",
          "29/03/20",
          "29/03/20",
          "29/03/20",
          "29/03/20",
          "29/03/20",
          "29/03/20",
          "29/03/20",
          "30/03/20",
          "30/03/20",
          "30/03/20",
          "30/03/20",
          "30/03/20",
          "30/03/20",
          "30/03/20",
          "30/03/20",
          "30/03/20",
          "30/03/20",
          "30/03/20",
          "30/03/20",
          "30/03/20",
          "30/03/20",
          "30/03/20",
          "30/03/20",
          "30/03/20",
          "30/03/20",
          "30/03/20",
          "30/03/20",
          "30/03/20",
          "30/03/20",
          "30/03/20",
          "30/03/20",
          "30/03/20",
          "30/03/20",
          "30/03/20",
          "30/03/20",
          "31/03/20",
          "31/03/20",
          "31/03/20",
          "31/03/20",
          "31/03/20",
          "31/03/20",
          "31/03/20",
          "31/03/20",
          "31/03/20",
          "31/03/20",
          "31/03/20",
          "31/03/20",
          "31/03/20",
          "31/03/20",
          "31/03/20",
          "31/03/20",
          "31/03/20",
          "31/03/20",
          "31/03/20",
          "31/03/20",
          "31/03/20",
          "31/03/20",
          "31/03/20",
          "31/03/20",
          "31/03/20",
          "31/03/20",
          "31/03/20",
          "31/03/20",
          "01/04/20",
          "01/04/20",
          "01/04/20",
          "01/04/20",
          "01/04/20",
          "01/04/20",
          "01/04/20",
          "01/04/20",
          "01/04/20",
          "01/04/20",
          "01/04/20",
          "01/04/20",
          "01/04/20",
          "01/04/20",
          "01/04/20",
          "01/04/20",
          "01/04/20",
          "01/04/20",
          "01/04/20",
          "01/04/20",
          "01/04/20",
          "01/04/20",
          "01/04/20",
          "01/04/20",
          "01/04/20",
          "01/04/20",
          "01/04/20",
          "01/04/20",
          "01/04/20",
          "02/04/20",
          "02/04/20",
          "02/04/20",
          "02/04/20",
          "02/04/20",
          "02/04/20",
          "02/04/20",
          "02/04/20",
          "02/04/20",
          "02/04/20",
          "02/04/20",
          "02/04/20",
          "02/04/20",
          "02/04/20",
          "02/04/20",
          "02/04/20",
          "02/04/20",
          "02/04/20",
          "02/04/20",
          "02/04/20",
          "02/04/20",
          "02/04/20",
          "02/04/20",
          "02/04/20",
          "02/04/20",
          "02/04/20",
          "02/04/20",
          "02/04/20",
          "02/04/20",
          "03/04/20",
          "03/04/20",
          "03/04/20",
          "03/04/20",
          "03/04/20",
          "03/04/20",
          "03/04/20",
          "03/04/20",
          "03/04/20",
          "03/04/20",
          "03/04/20",
          "03/04/20",
          "03/04/20",
          "03/04/20",
          "03/04/20",
          "03/04/20",
          "03/04/20",
          "03/04/20",
          "03/04/20",
          "03/04/20",
          "03/04/20",
          "03/04/20",
          "03/04/20",
          "03/04/20",
          "03/04/20",
          "03/04/20",
          "03/04/20",
          "03/04/20",
          "03/04/20",
          "03/04/20",
          "03/04/20",
          "04/04/20",
          "04/04/20",
          "04/04/20",
          "04/04/20",
          "04/04/20",
          "04/04/20",
          "04/04/20",
          "04/04/20",
          "04/04/20",
          "04/04/20",
          "04/04/20",
          "04/04/20",
          "04/04/20",
          "04/04/20",
          "04/04/20",
          "04/04/20",
          "04/04/20",
          "04/04/20",
          "04/04/20",
          "04/04/20",
          "04/04/20",
          "04/04/20",
          "04/04/20",
          "04/04/20",
          "04/04/20",
          "04/04/20",
          "04/04/20",
          "04/04/20",
          "04/04/20",
          "04/04/20"
         ],
         "xaxis": "x",
         "y": [
          1,
          1,
          2,
          3,
          3,
          3,
          3,
          3,
          3,
          3,
          3,
          3,
          3,
          3,
          3,
          3,
          3,
          3,
          3,
          3,
          3,
          3,
          3,
          3,
          3,
          3,
          3,
          3,
          3,
          3,
          3,
          3,
          1,
          3,
          1,
          1,
          1,
          3,
          1,
          6,
          3,
          2,
          1,
          1,
          15,
          2,
          2,
          3,
          15,
          1,
          7,
          3,
          2,
          3,
          15,
          7,
          1,
          3,
          7,
          2,
          1,
          1,
          3,
          2,
          15,
          2,
          1,
          1,
          15,
          8,
          2,
          3,
          7,
          2,
          1,
          9,
          2,
          1,
          15,
          1,
          1,
          1,
          7,
          2,
          4,
          7,
          2,
          4,
          2,
          4,
          15,
          5,
          1,
          15,
          1,
          1,
          1,
          2,
          5,
          14,
          17,
          3,
          1,
          9,
          2,
          1,
          1,
          1,
          4,
          6,
          14,
          17,
          3,
          1,
          11,
          3,
          1,
          1,
          1,
          4,
          11,
          1,
          6,
          14,
          19,
          3,
          1,
          11,
          3,
          1,
          1,
          1,
          6,
          14,
          1,
          7,
          14,
          19,
          3,
          1,
          12,
          3,
          1,
          2,
          1,
          6,
          14,
          1,
          1,
          7,
          14,
          6,
          22,
          32,
          1,
          4,
          1,
          3,
          2,
          3,
          13,
          1,
          1,
          7,
          14,
          6,
          23,
          32,
          1,
          1,
          4,
          1,
          3,
          3,
          4,
          13,
          1,
          1,
          8,
          15,
          11,
          26,
          39,
          1,
          1,
          4,
          1,
          5,
          3,
          6,
          15,
          1,
          1,
          10,
          17,
          11,
          27,
          42,
          1,
          1,
          1,
          4,
          1,
          6,
          3,
          8,
          16,
          1,
          1,
          2,
          1,
          12,
          17,
          14,
          27,
          47,
          1,
          1,
          2,
          7,
          2,
          6,
          1,
          4,
          8,
          19,
          1,
          1,
          3,
          1,
          17,
          5,
          17,
          15,
          28,
          52,
          2,
          1,
          2,
          17,
          3,
          17,
          1,
          4,
          10,
          23,
          3,
          2,
          3,
          1,
          26,
          7,
          17,
          2,
          15,
          40,
          4,
          63,
          2,
          1,
          13,
          17,
          3,
          21,
          1,
          4,
          13,
          24,
          3,
          3,
          5,
          2,
          1,
          29,
          18,
          21,
          2,
          26,
          52,
          4,
          67,
          2,
          1,
          21,
          24,
          7,
          22,
          5,
          4,
          13,
          27,
          3,
          4,
          7,
          2,
          1,
          29,
          29,
          26,
          2,
          33,
          67,
          6,
          74,
          2,
          1,
          21,
          28,
          9,
          32,
          6,
          4,
          13,
          31,
          3,
          7,
          8,
          3,
          1,
          30,
          33,
          28,
          3,
          37,
          95,
          7,
          89,
          1,
          2,
          1,
          29,
          32,
          15,
          35,
          7,
          4,
          13,
          33,
          4,
          9,
          9,
          4,
          1,
          31,
          38,
          28,
          3,
          41,
          109,
          14,
          128,
          1,
          1,
          2,
          1,
          29,
          36,
          18,
          35,
          7,
          7,
          13,
          37,
          4,
          9,
          1,
          11,
          6,
          7,
          6,
          36,
          3,
          43,
          30,
          3,
          13,
          55,
          118,
          13,
          20,
          124,
          1,
          1,
          2,
          1,
          33,
          41,
          26,
          44,
          5,
          41,
          10,
          1,
          12,
          6,
          7,
          6,
          36,
          3,
          43,
          30,
          3,
          13,
          55,
          137,
          13,
          20,
          130,
          1,
          1,
          2,
          1,
          33,
          41,
          29,
          45,
          5,
          41,
          10,
          14,
          6,
          9,
          8,
          6,
          39,
          3,
          45,
          33,
          3,
          20,
          55,
          176,
          13,
          30,
          180,
          1,
          1,
          3,
          1,
          38,
          54,
          40,
          56,
          5,
          55,
          15,
          19,
          9,
          11,
          8,
          7,
          49,
          5,
          58,
          33,
          3,
          31,
          76,
          182,
          13,
          30,
          186,
          1,
          1,
          3,
          1,
          38,
          55,
          49,
          66,
          7,
          65,
          18,
          23,
          9,
          15,
          8,
          7,
          87,
          5,
          69,
          36,
          3,
          48,
          83,
          202,
          13,
          47,
          198,
          1,
          1,
          3,
          1,
          38,
          59,
          67,
          71,
          7,
          82,
          22,
          46,
          40,
          10,
          15,
          13,
          8,
          97,
          5,
          73,
          40,
          3,
          54,
          83,
          234,
          13,
          47,
          216,
          1,
          1,
          3,
          1,
          41,
          74,
          74,
          79,
          7,
          101,
          26,
          38,
          83,
          10,
          1,
          23,
          16,
          9,
          152,
          5,
          82,
          43,
          3,
          62,
          1,
          101,
          241,
          13,
          66,
          302,
          1,
          1,
          4,
          3,
          42,
          93,
          234,
          96,
          7,
          103,
          37,
          86,
          10,
          5,
          24,
          16,
          9,
          219,
          5,
          87,
          43,
          3,
          62,
          1,
          110,
          265,
          13,
          99,
          335,
          1,
          1,
          4,
          3,
          46,
          108,
          234,
          107,
          7,
          113,
          53,
          132,
          10,
          1,
          16,
          29,
          18,
          9,
          219,
          6,
          95,
          49,
          6,
          75,
          2,
          124,
          286,
          14,
          104,
          335,
          2,
          1,
          5,
          5,
          48,
          167,
          309,
          158,
          10,
          172,
          63,
          77,
          161,
          10,
          1,
          24,
          30,
          18,
          9,
          445,
          7,
          105,
          49,
          6,
          75,
          2,
          128,
          295,
          14,
          104,
          490,
          2,
          1,
          5,
          5,
          57,
          200,
          411,
          159,
          16,
          174,
          69
         ],
         "yaxis": "y"
        }
       ],
       "layout": {
        "height": 700,
        "legend": {
         "tracegroupgap": 0
        },
        "template": {
         "data": {
          "bar": [
           {
            "error_x": {
             "color": "#2a3f5f"
            },
            "error_y": {
             "color": "#2a3f5f"
            },
            "marker": {
             "line": {
              "color": "#E5ECF6",
              "width": 0.5
             }
            },
            "type": "bar"
           }
          ],
          "barpolar": [
           {
            "marker": {
             "line": {
              "color": "#E5ECF6",
              "width": 0.5
             }
            },
            "type": "barpolar"
           }
          ],
          "carpet": [
           {
            "aaxis": {
             "endlinecolor": "#2a3f5f",
             "gridcolor": "white",
             "linecolor": "white",
             "minorgridcolor": "white",
             "startlinecolor": "#2a3f5f"
            },
            "baxis": {
             "endlinecolor": "#2a3f5f",
             "gridcolor": "white",
             "linecolor": "white",
             "minorgridcolor": "white",
             "startlinecolor": "#2a3f5f"
            },
            "type": "carpet"
           }
          ],
          "choropleth": [
           {
            "colorbar": {
             "outlinewidth": 0,
             "ticks": ""
            },
            "type": "choropleth"
           }
          ],
          "contour": [
           {
            "colorbar": {
             "outlinewidth": 0,
             "ticks": ""
            },
            "colorscale": [
             [
              0,
              "#0d0887"
             ],
             [
              0.1111111111111111,
              "#46039f"
             ],
             [
              0.2222222222222222,
              "#7201a8"
             ],
             [
              0.3333333333333333,
              "#9c179e"
             ],
             [
              0.4444444444444444,
              "#bd3786"
             ],
             [
              0.5555555555555556,
              "#d8576b"
             ],
             [
              0.6666666666666666,
              "#ed7953"
             ],
             [
              0.7777777777777778,
              "#fb9f3a"
             ],
             [
              0.8888888888888888,
              "#fdca26"
             ],
             [
              1,
              "#f0f921"
             ]
            ],
            "type": "contour"
           }
          ],
          "contourcarpet": [
           {
            "colorbar": {
             "outlinewidth": 0,
             "ticks": ""
            },
            "type": "contourcarpet"
           }
          ],
          "heatmap": [
           {
            "colorbar": {
             "outlinewidth": 0,
             "ticks": ""
            },
            "colorscale": [
             [
              0,
              "#0d0887"
             ],
             [
              0.1111111111111111,
              "#46039f"
             ],
             [
              0.2222222222222222,
              "#7201a8"
             ],
             [
              0.3333333333333333,
              "#9c179e"
             ],
             [
              0.4444444444444444,
              "#bd3786"
             ],
             [
              0.5555555555555556,
              "#d8576b"
             ],
             [
              0.6666666666666666,
              "#ed7953"
             ],
             [
              0.7777777777777778,
              "#fb9f3a"
             ],
             [
              0.8888888888888888,
              "#fdca26"
             ],
             [
              1,
              "#f0f921"
             ]
            ],
            "type": "heatmap"
           }
          ],
          "heatmapgl": [
           {
            "colorbar": {
             "outlinewidth": 0,
             "ticks": ""
            },
            "colorscale": [
             [
              0,
              "#0d0887"
             ],
             [
              0.1111111111111111,
              "#46039f"
             ],
             [
              0.2222222222222222,
              "#7201a8"
             ],
             [
              0.3333333333333333,
              "#9c179e"
             ],
             [
              0.4444444444444444,
              "#bd3786"
             ],
             [
              0.5555555555555556,
              "#d8576b"
             ],
             [
              0.6666666666666666,
              "#ed7953"
             ],
             [
              0.7777777777777778,
              "#fb9f3a"
             ],
             [
              0.8888888888888888,
              "#fdca26"
             ],
             [
              1,
              "#f0f921"
             ]
            ],
            "type": "heatmapgl"
           }
          ],
          "histogram": [
           {
            "marker": {
             "colorbar": {
              "outlinewidth": 0,
              "ticks": ""
             }
            },
            "type": "histogram"
           }
          ],
          "histogram2d": [
           {
            "colorbar": {
             "outlinewidth": 0,
             "ticks": ""
            },
            "colorscale": [
             [
              0,
              "#0d0887"
             ],
             [
              0.1111111111111111,
              "#46039f"
             ],
             [
              0.2222222222222222,
              "#7201a8"
             ],
             [
              0.3333333333333333,
              "#9c179e"
             ],
             [
              0.4444444444444444,
              "#bd3786"
             ],
             [
              0.5555555555555556,
              "#d8576b"
             ],
             [
              0.6666666666666666,
              "#ed7953"
             ],
             [
              0.7777777777777778,
              "#fb9f3a"
             ],
             [
              0.8888888888888888,
              "#fdca26"
             ],
             [
              1,
              "#f0f921"
             ]
            ],
            "type": "histogram2d"
           }
          ],
          "histogram2dcontour": [
           {
            "colorbar": {
             "outlinewidth": 0,
             "ticks": ""
            },
            "colorscale": [
             [
              0,
              "#0d0887"
             ],
             [
              0.1111111111111111,
              "#46039f"
             ],
             [
              0.2222222222222222,
              "#7201a8"
             ],
             [
              0.3333333333333333,
              "#9c179e"
             ],
             [
              0.4444444444444444,
              "#bd3786"
             ],
             [
              0.5555555555555556,
              "#d8576b"
             ],
             [
              0.6666666666666666,
              "#ed7953"
             ],
             [
              0.7777777777777778,
              "#fb9f3a"
             ],
             [
              0.8888888888888888,
              "#fdca26"
             ],
             [
              1,
              "#f0f921"
             ]
            ],
            "type": "histogram2dcontour"
           }
          ],
          "mesh3d": [
           {
            "colorbar": {
             "outlinewidth": 0,
             "ticks": ""
            },
            "type": "mesh3d"
           }
          ],
          "parcoords": [
           {
            "line": {
             "colorbar": {
              "outlinewidth": 0,
              "ticks": ""
             }
            },
            "type": "parcoords"
           }
          ],
          "pie": [
           {
            "automargin": true,
            "type": "pie"
           }
          ],
          "scatter": [
           {
            "marker": {
             "colorbar": {
              "outlinewidth": 0,
              "ticks": ""
             }
            },
            "type": "scatter"
           }
          ],
          "scatter3d": [
           {
            "line": {
             "colorbar": {
              "outlinewidth": 0,
              "ticks": ""
             }
            },
            "marker": {
             "colorbar": {
              "outlinewidth": 0,
              "ticks": ""
             }
            },
            "type": "scatter3d"
           }
          ],
          "scattercarpet": [
           {
            "marker": {
             "colorbar": {
              "outlinewidth": 0,
              "ticks": ""
             }
            },
            "type": "scattercarpet"
           }
          ],
          "scattergeo": [
           {
            "marker": {
             "colorbar": {
              "outlinewidth": 0,
              "ticks": ""
             }
            },
            "type": "scattergeo"
           }
          ],
          "scattergl": [
           {
            "marker": {
             "colorbar": {
              "outlinewidth": 0,
              "ticks": ""
             }
            },
            "type": "scattergl"
           }
          ],
          "scattermapbox": [
           {
            "marker": {
             "colorbar": {
              "outlinewidth": 0,
              "ticks": ""
             }
            },
            "type": "scattermapbox"
           }
          ],
          "scatterpolar": [
           {
            "marker": {
             "colorbar": {
              "outlinewidth": 0,
              "ticks": ""
             }
            },
            "type": "scatterpolar"
           }
          ],
          "scatterpolargl": [
           {
            "marker": {
             "colorbar": {
              "outlinewidth": 0,
              "ticks": ""
             }
            },
            "type": "scatterpolargl"
           }
          ],
          "scatterternary": [
           {
            "marker": {
             "colorbar": {
              "outlinewidth": 0,
              "ticks": ""
             }
            },
            "type": "scatterternary"
           }
          ],
          "surface": [
           {
            "colorbar": {
             "outlinewidth": 0,
             "ticks": ""
            },
            "colorscale": [
             [
              0,
              "#0d0887"
             ],
             [
              0.1111111111111111,
              "#46039f"
             ],
             [
              0.2222222222222222,
              "#7201a8"
             ],
             [
              0.3333333333333333,
              "#9c179e"
             ],
             [
              0.4444444444444444,
              "#bd3786"
             ],
             [
              0.5555555555555556,
              "#d8576b"
             ],
             [
              0.6666666666666666,
              "#ed7953"
             ],
             [
              0.7777777777777778,
              "#fb9f3a"
             ],
             [
              0.8888888888888888,
              "#fdca26"
             ],
             [
              1,
              "#f0f921"
             ]
            ],
            "type": "surface"
           }
          ],
          "table": [
           {
            "cells": {
             "fill": {
              "color": "#EBF0F8"
             },
             "line": {
              "color": "white"
             }
            },
            "header": {
             "fill": {
              "color": "#C8D4E3"
             },
             "line": {
              "color": "white"
             }
            },
            "type": "table"
           }
          ]
         },
         "layout": {
          "annotationdefaults": {
           "arrowcolor": "#2a3f5f",
           "arrowhead": 0,
           "arrowwidth": 1
          },
          "coloraxis": {
           "colorbar": {
            "outlinewidth": 0,
            "ticks": ""
           }
          },
          "colorscale": {
           "diverging": [
            [
             0,
             "#8e0152"
            ],
            [
             0.1,
             "#c51b7d"
            ],
            [
             0.2,
             "#de77ae"
            ],
            [
             0.3,
             "#f1b6da"
            ],
            [
             0.4,
             "#fde0ef"
            ],
            [
             0.5,
             "#f7f7f7"
            ],
            [
             0.6,
             "#e6f5d0"
            ],
            [
             0.7,
             "#b8e186"
            ],
            [
             0.8,
             "#7fbc41"
            ],
            [
             0.9,
             "#4d9221"
            ],
            [
             1,
             "#276419"
            ]
           ],
           "sequential": [
            [
             0,
             "#0d0887"
            ],
            [
             0.1111111111111111,
             "#46039f"
            ],
            [
             0.2222222222222222,
             "#7201a8"
            ],
            [
             0.3333333333333333,
             "#9c179e"
            ],
            [
             0.4444444444444444,
             "#bd3786"
            ],
            [
             0.5555555555555556,
             "#d8576b"
            ],
            [
             0.6666666666666666,
             "#ed7953"
            ],
            [
             0.7777777777777778,
             "#fb9f3a"
            ],
            [
             0.8888888888888888,
             "#fdca26"
            ],
            [
             1,
             "#f0f921"
            ]
           ],
           "sequentialminus": [
            [
             0,
             "#0d0887"
            ],
            [
             0.1111111111111111,
             "#46039f"
            ],
            [
             0.2222222222222222,
             "#7201a8"
            ],
            [
             0.3333333333333333,
             "#9c179e"
            ],
            [
             0.4444444444444444,
             "#bd3786"
            ],
            [
             0.5555555555555556,
             "#d8576b"
            ],
            [
             0.6666666666666666,
             "#ed7953"
            ],
            [
             0.7777777777777778,
             "#fb9f3a"
            ],
            [
             0.8888888888888888,
             "#fdca26"
            ],
            [
             1,
             "#f0f921"
            ]
           ]
          },
          "colorway": [
           "#636efa",
           "#EF553B",
           "#00cc96",
           "#ab63fa",
           "#FFA15A",
           "#19d3f3",
           "#FF6692",
           "#B6E880",
           "#FF97FF",
           "#FECB52"
          ],
          "font": {
           "color": "#2a3f5f"
          },
          "geo": {
           "bgcolor": "white",
           "lakecolor": "white",
           "landcolor": "#E5ECF6",
           "showlakes": true,
           "showland": true,
           "subunitcolor": "white"
          },
          "hoverlabel": {
           "align": "left"
          },
          "hovermode": "closest",
          "mapbox": {
           "style": "light"
          },
          "paper_bgcolor": "white",
          "plot_bgcolor": "#E5ECF6",
          "polar": {
           "angularaxis": {
            "gridcolor": "white",
            "linecolor": "white",
            "ticks": ""
           },
           "bgcolor": "#E5ECF6",
           "radialaxis": {
            "gridcolor": "white",
            "linecolor": "white",
            "ticks": ""
           }
          },
          "scene": {
           "xaxis": {
            "backgroundcolor": "#E5ECF6",
            "gridcolor": "white",
            "gridwidth": 2,
            "linecolor": "white",
            "showbackground": true,
            "ticks": "",
            "zerolinecolor": "white"
           },
           "yaxis": {
            "backgroundcolor": "#E5ECF6",
            "gridcolor": "white",
            "gridwidth": 2,
            "linecolor": "white",
            "showbackground": true,
            "ticks": "",
            "zerolinecolor": "white"
           },
           "zaxis": {
            "backgroundcolor": "#E5ECF6",
            "gridcolor": "white",
            "gridwidth": 2,
            "linecolor": "white",
            "showbackground": true,
            "ticks": "",
            "zerolinecolor": "white"
           }
          },
          "shapedefaults": {
           "line": {
            "color": "#2a3f5f"
           }
          },
          "ternary": {
           "aaxis": {
            "gridcolor": "white",
            "linecolor": "white",
            "ticks": ""
           },
           "baxis": {
            "gridcolor": "white",
            "linecolor": "white",
            "ticks": ""
           },
           "bgcolor": "#E5ECF6",
           "caxis": {
            "gridcolor": "white",
            "linecolor": "white",
            "ticks": ""
           }
          },
          "title": {
           "x": 0.05
          },
          "xaxis": {
           "automargin": true,
           "gridcolor": "white",
           "linecolor": "white",
           "ticks": "",
           "title": {
            "standoff": 15
           },
           "zerolinecolor": "white",
           "zerolinewidth": 2
          },
          "yaxis": {
           "automargin": true,
           "gridcolor": "white",
           "linecolor": "white",
           "ticks": "",
           "title": {
            "standoff": 15
           },
           "zerolinecolor": "white",
           "zerolinewidth": 2
          }
         }
        },
        "title": {
         "text": "Increase of cases with date"
        },
        "xaxis": {
         "anchor": "y",
         "domain": [
          0,
          1
         ],
         "title": {
          "text": "Date"
         }
        },
        "yaxis": {
         "anchor": "x",
         "domain": [
          0,
          1
         ],
         "title": {
          "text": "Confirmed"
         }
        }
       }
      },
      "text/html": [
       "<div>\n",
       "        \n",
       "        \n",
       "            <div id=\"5af98f5c-353e-49c3-8fba-0eaa97279d4b\" class=\"plotly-graph-div\" style=\"height:700px; width:100%;\"></div>\n",
       "            <script type=\"text/javascript\">\n",
       "                require([\"plotly\"], function(Plotly) {\n",
       "                    window.PLOTLYENV=window.PLOTLYENV || {};\n",
       "                    \n",
       "                if (document.getElementById(\"5af98f5c-353e-49c3-8fba-0eaa97279d4b\")) {\n",
       "                    Plotly.newPlot(\n",
       "                        '5af98f5c-353e-49c3-8fba-0eaa97279d4b',\n",
       "                        [{\"hoverlabel\": {\"namelength\": 0}, \"hovertemplate\": \"Date=%{x}<br>Confirmed=%{y}\", \"legendgroup\": \"\", \"line\": {\"color\": \"#636efa\", \"dash\": \"solid\", \"shape\": \"spline\"}, \"mode\": \"lines\", \"name\": \"\", \"showlegend\": false, \"type\": \"scatter\", \"x\": [\"30/01/20\", \"31/01/20\", \"01/02/20\", \"02/02/20\", \"03/02/20\", \"04/02/20\", \"05/02/20\", \"06/02/20\", \"07/02/20\", \"08/02/20\", \"09/02/20\", \"10/02/20\", \"11/02/20\", \"12/02/20\", \"13/02/20\", \"14/02/20\", \"15/02/20\", \"16/02/20\", \"17/02/20\", \"18/02/20\", \"19/02/20\", \"20/02/20\", \"21/02/20\", \"22/02/20\", \"23/02/20\", \"24/02/20\", \"25/02/20\", \"26/02/20\", \"27/02/20\", \"28/02/20\", \"29/02/20\", \"01/03/20\", \"02/03/20\", \"02/03/20\", \"02/03/20\", \"03/03/20\", \"03/03/20\", \"03/03/20\", \"03/03/20\", \"04/03/20\", \"04/03/20\", \"04/03/20\", \"04/03/20\", \"04/03/20\", \"04/03/20\", \"05/03/20\", \"05/03/20\", \"05/03/20\", \"05/03/20\", \"05/03/20\", \"05/03/20\", \"06/03/20\", \"06/03/20\", \"06/03/20\", \"06/03/20\", \"06/03/20\", \"06/03/20\", \"07/03/20\", \"07/03/20\", \"07/03/20\", \"07/03/20\", \"07/03/20\", \"07/03/20\", \"07/03/20\", \"07/03/20\", \"08/03/20\", \"08/03/20\", \"08/03/20\", \"08/03/20\", \"08/03/20\", \"08/03/20\", \"08/03/20\", \"08/03/20\", \"09/03/20\", \"09/03/20\", \"09/03/20\", \"09/03/20\", \"09/03/20\", \"09/03/20\", \"09/03/20\", \"09/03/20\", \"09/03/20\", \"09/03/20\", \"09/03/20\", \"09/03/20\", \"10/03/20\", \"10/03/20\", \"10/03/20\", \"10/03/20\", \"10/03/20\", \"10/03/20\", \"10/03/20\", \"10/03/20\", \"10/03/20\", \"10/03/20\", \"10/03/20\", \"10/03/20\", \"11/03/20\", \"11/03/20\", \"11/03/20\", \"11/03/20\", \"11/03/20\", \"11/03/20\", \"11/03/20\", \"11/03/20\", \"11/03/20\", \"11/03/20\", \"11/03/20\", \"11/03/20\", \"12/03/20\", \"12/03/20\", \"12/03/20\", \"12/03/20\", \"12/03/20\", \"12/03/20\", \"12/03/20\", \"12/03/20\", \"12/03/20\", \"12/03/20\", \"12/03/20\", \"12/03/20\", \"12/03/20\", \"13/03/20\", \"13/03/20\", \"13/03/20\", \"13/03/20\", \"13/03/20\", \"13/03/20\", \"13/03/20\", \"13/03/20\", \"13/03/20\", \"13/03/20\", \"13/03/20\", \"13/03/20\", \"13/03/20\", \"14/03/20\", \"14/03/20\", \"14/03/20\", \"14/03/20\", \"14/03/20\", \"14/03/20\", \"14/03/20\", \"14/03/20\", \"14/03/20\", \"14/03/20\", \"14/03/20\", \"14/03/20\", \"14/03/20\", \"15/03/20\", \"15/03/20\", \"15/03/20\", \"15/03/20\", \"15/03/20\", \"15/03/20\", \"15/03/20\", \"15/03/20\", \"15/03/20\", \"15/03/20\", \"15/03/20\", \"15/03/20\", \"15/03/20\", \"15/03/20\", \"16/03/20\", \"16/03/20\", \"16/03/20\", \"16/03/20\", \"16/03/20\", \"16/03/20\", \"16/03/20\", \"16/03/20\", \"16/03/20\", \"16/03/20\", \"16/03/20\", \"16/03/20\", \"16/03/20\", \"16/03/20\", \"16/03/20\", \"17/03/20\", \"17/03/20\", \"17/03/20\", \"17/03/20\", \"17/03/20\", \"17/03/20\", \"17/03/20\", \"17/03/20\", \"17/03/20\", \"17/03/20\", \"17/03/20\", \"17/03/20\", \"17/03/20\", \"17/03/20\", \"17/03/20\", \"18/03/20\", \"18/03/20\", \"18/03/20\", \"18/03/20\", \"18/03/20\", \"18/03/20\", \"18/03/20\", \"18/03/20\", \"18/03/20\", \"18/03/20\", \"18/03/20\", \"18/03/20\", \"18/03/20\", \"18/03/20\", \"18/03/20\", \"18/03/20\", \"18/03/20\", \"19/03/20\", \"19/03/20\", \"19/03/20\", \"19/03/20\", \"19/03/20\", \"19/03/20\", \"19/03/20\", \"19/03/20\", \"19/03/20\", \"19/03/20\", \"19/03/20\", \"19/03/20\", \"19/03/20\", \"19/03/20\", \"19/03/20\", \"19/03/20\", \"19/03/20\", \"19/03/20\", \"19/03/20\", \"20/03/20\", \"20/03/20\", \"20/03/20\", \"20/03/20\", \"20/03/20\", \"20/03/20\", \"20/03/20\", \"20/03/20\", \"20/03/20\", \"20/03/20\", \"20/03/20\", \"20/03/20\", \"20/03/20\", \"20/03/20\", \"20/03/20\", \"20/03/20\", \"20/03/20\", \"20/03/20\", \"20/03/20\", \"20/03/20\", \"21/03/20\", \"21/03/20\", \"21/03/20\", \"21/03/20\", \"21/03/20\", \"21/03/20\", \"21/03/20\", \"21/03/20\", \"21/03/20\", \"21/03/20\", \"21/03/20\", \"21/03/20\", \"21/03/20\", \"21/03/20\", \"21/03/20\", \"21/03/20\", \"21/03/20\", \"21/03/20\", \"21/03/20\", \"21/03/20\", \"21/03/20\", \"21/03/20\", \"22/03/20\", \"22/03/20\", \"22/03/20\", \"22/03/20\", \"22/03/20\", \"22/03/20\", \"22/03/20\", \"22/03/20\", \"22/03/20\", \"22/03/20\", \"22/03/20\", \"22/03/20\", \"22/03/20\", \"22/03/20\", \"22/03/20\", \"22/03/20\", \"22/03/20\", \"22/03/20\", \"22/03/20\", \"22/03/20\", \"22/03/20\", \"22/03/20\", \"22/03/20\", \"23/03/20\", \"23/03/20\", \"23/03/20\", \"23/03/20\", \"23/03/20\", \"23/03/20\", \"23/03/20\", \"23/03/20\", \"23/03/20\", \"23/03/20\", \"23/03/20\", \"23/03/20\", \"23/03/20\", \"23/03/20\", \"23/03/20\", \"23/03/20\", \"23/03/20\", \"23/03/20\", \"23/03/20\", \"23/03/20\", \"23/03/20\", \"23/03/20\", \"23/03/20\", \"24/03/20\", \"24/03/20\", \"24/03/20\", \"24/03/20\", \"24/03/20\", \"24/03/20\", \"24/03/20\", \"24/03/20\", \"24/03/20\", \"24/03/20\", \"24/03/20\", \"24/03/20\", \"24/03/20\", \"24/03/20\", \"24/03/20\", \"24/03/20\", \"24/03/20\", \"24/03/20\", \"24/03/20\", \"24/03/20\", \"24/03/20\", \"24/03/20\", \"24/03/20\", \"24/03/20\", \"25/03/20\", \"25/03/20\", \"25/03/20\", \"25/03/20\", \"25/03/20\", \"25/03/20\", \"25/03/20\", \"25/03/20\", \"25/03/20\", \"25/03/20\", \"25/03/20\", \"25/03/20\", \"25/03/20\", \"25/03/20\", \"25/03/20\", \"25/03/20\", \"25/03/20\", \"25/03/20\", \"25/03/20\", \"25/03/20\", \"25/03/20\", \"25/03/20\", \"25/03/20\", \"25/03/20\", \"25/03/20\", \"26/03/20\", \"26/03/20\", \"26/03/20\", \"26/03/20\", \"26/03/20\", \"26/03/20\", \"26/03/20\", \"26/03/20\", \"26/03/20\", \"26/03/20\", \"26/03/20\", \"26/03/20\", \"26/03/20\", \"26/03/20\", \"26/03/20\", \"26/03/20\", \"26/03/20\", \"26/03/20\", \"26/03/20\", \"26/03/20\", \"26/03/20\", \"26/03/20\", \"26/03/20\", \"26/03/20\", \"26/03/20\", \"26/03/20\", \"26/03/20\", \"27/03/20\", \"27/03/20\", \"27/03/20\", \"27/03/20\", \"27/03/20\", \"27/03/20\", \"27/03/20\", \"27/03/20\", \"27/03/20\", \"27/03/20\", \"27/03/20\", \"27/03/20\", \"27/03/20\", \"27/03/20\", \"27/03/20\", \"27/03/20\", \"27/03/20\", \"27/03/20\", \"27/03/20\", \"27/03/20\", \"27/03/20\", \"27/03/20\", \"27/03/20\", \"27/03/20\", \"27/03/20\", \"27/03/20\", \"27/03/20\", \"28/03/20\", \"28/03/20\", \"28/03/20\", \"28/03/20\", \"28/03/20\", \"28/03/20\", \"28/03/20\", \"28/03/20\", \"28/03/20\", \"28/03/20\", \"28/03/20\", \"28/03/20\", \"28/03/20\", \"28/03/20\", \"28/03/20\", \"28/03/20\", \"28/03/20\", \"28/03/20\", \"28/03/20\", \"28/03/20\", \"28/03/20\", \"28/03/20\", \"28/03/20\", \"28/03/20\", \"28/03/20\", \"28/03/20\", \"28/03/20\", \"29/03/20\", \"29/03/20\", \"29/03/20\", \"29/03/20\", \"29/03/20\", \"29/03/20\", \"29/03/20\", \"29/03/20\", \"29/03/20\", \"29/03/20\", \"29/03/20\", \"29/03/20\", \"29/03/20\", \"29/03/20\", \"29/03/20\", \"29/03/20\", \"29/03/20\", \"29/03/20\", \"29/03/20\", \"29/03/20\", \"29/03/20\", \"29/03/20\", \"29/03/20\", \"29/03/20\", \"29/03/20\", \"29/03/20\", \"29/03/20\", \"30/03/20\", \"30/03/20\", \"30/03/20\", \"30/03/20\", \"30/03/20\", \"30/03/20\", \"30/03/20\", \"30/03/20\", \"30/03/20\", \"30/03/20\", \"30/03/20\", \"30/03/20\", \"30/03/20\", \"30/03/20\", \"30/03/20\", \"30/03/20\", \"30/03/20\", \"30/03/20\", \"30/03/20\", \"30/03/20\", \"30/03/20\", \"30/03/20\", \"30/03/20\", \"30/03/20\", \"30/03/20\", \"30/03/20\", \"30/03/20\", \"30/03/20\", \"31/03/20\", \"31/03/20\", \"31/03/20\", \"31/03/20\", \"31/03/20\", \"31/03/20\", \"31/03/20\", \"31/03/20\", \"31/03/20\", \"31/03/20\", \"31/03/20\", \"31/03/20\", \"31/03/20\", \"31/03/20\", \"31/03/20\", \"31/03/20\", \"31/03/20\", \"31/03/20\", \"31/03/20\", \"31/03/20\", \"31/03/20\", \"31/03/20\", \"31/03/20\", \"31/03/20\", \"31/03/20\", \"31/03/20\", \"31/03/20\", \"31/03/20\", \"01/04/20\", \"01/04/20\", \"01/04/20\", \"01/04/20\", \"01/04/20\", \"01/04/20\", \"01/04/20\", \"01/04/20\", \"01/04/20\", \"01/04/20\", \"01/04/20\", \"01/04/20\", \"01/04/20\", \"01/04/20\", \"01/04/20\", \"01/04/20\", \"01/04/20\", \"01/04/20\", \"01/04/20\", \"01/04/20\", \"01/04/20\", \"01/04/20\", \"01/04/20\", \"01/04/20\", \"01/04/20\", \"01/04/20\", \"01/04/20\", \"01/04/20\", \"01/04/20\", \"02/04/20\", \"02/04/20\", \"02/04/20\", \"02/04/20\", \"02/04/20\", \"02/04/20\", \"02/04/20\", \"02/04/20\", \"02/04/20\", \"02/04/20\", \"02/04/20\", \"02/04/20\", \"02/04/20\", \"02/04/20\", \"02/04/20\", \"02/04/20\", \"02/04/20\", \"02/04/20\", \"02/04/20\", \"02/04/20\", \"02/04/20\", \"02/04/20\", \"02/04/20\", \"02/04/20\", \"02/04/20\", \"02/04/20\", \"02/04/20\", \"02/04/20\", \"02/04/20\", \"03/04/20\", \"03/04/20\", \"03/04/20\", \"03/04/20\", \"03/04/20\", \"03/04/20\", \"03/04/20\", \"03/04/20\", \"03/04/20\", \"03/04/20\", \"03/04/20\", \"03/04/20\", \"03/04/20\", \"03/04/20\", \"03/04/20\", \"03/04/20\", \"03/04/20\", \"03/04/20\", \"03/04/20\", \"03/04/20\", \"03/04/20\", \"03/04/20\", \"03/04/20\", \"03/04/20\", \"03/04/20\", \"03/04/20\", \"03/04/20\", \"03/04/20\", \"03/04/20\", \"03/04/20\", \"03/04/20\", \"04/04/20\", \"04/04/20\", \"04/04/20\", \"04/04/20\", \"04/04/20\", \"04/04/20\", \"04/04/20\", \"04/04/20\", \"04/04/20\", \"04/04/20\", \"04/04/20\", \"04/04/20\", \"04/04/20\", \"04/04/20\", \"04/04/20\", \"04/04/20\", \"04/04/20\", \"04/04/20\", \"04/04/20\", \"04/04/20\", \"04/04/20\", \"04/04/20\", \"04/04/20\", \"04/04/20\", \"04/04/20\", \"04/04/20\", \"04/04/20\", \"04/04/20\", \"04/04/20\", \"04/04/20\"], \"xaxis\": \"x\", \"y\": [1, 1, 2, 3, 3, 3, 3, 3, 3, 3, 3, 3, 3, 3, 3, 3, 3, 3, 3, 3, 3, 3, 3, 3, 3, 3, 3, 3, 3, 3, 3, 3, 1, 3, 1, 1, 1, 3, 1, 6, 3, 2, 1, 1, 15, 2, 2, 3, 15, 1, 7, 3, 2, 3, 15, 7, 1, 3, 7, 2, 1, 1, 3, 2, 15, 2, 1, 1, 15, 8, 2, 3, 7, 2, 1, 9, 2, 1, 15, 1, 1, 1, 7, 2, 4, 7, 2, 4, 2, 4, 15, 5, 1, 15, 1, 1, 1, 2, 5, 14, 17, 3, 1, 9, 2, 1, 1, 1, 4, 6, 14, 17, 3, 1, 11, 3, 1, 1, 1, 4, 11, 1, 6, 14, 19, 3, 1, 11, 3, 1, 1, 1, 6, 14, 1, 7, 14, 19, 3, 1, 12, 3, 1, 2, 1, 6, 14, 1, 1, 7, 14, 6, 22, 32, 1, 4, 1, 3, 2, 3, 13, 1, 1, 7, 14, 6, 23, 32, 1, 1, 4, 1, 3, 3, 4, 13, 1, 1, 8, 15, 11, 26, 39, 1, 1, 4, 1, 5, 3, 6, 15, 1, 1, 10, 17, 11, 27, 42, 1, 1, 1, 4, 1, 6, 3, 8, 16, 1, 1, 2, 1, 12, 17, 14, 27, 47, 1, 1, 2, 7, 2, 6, 1, 4, 8, 19, 1, 1, 3, 1, 17, 5, 17, 15, 28, 52, 2, 1, 2, 17, 3, 17, 1, 4, 10, 23, 3, 2, 3, 1, 26, 7, 17, 2, 15, 40, 4, 63, 2, 1, 13, 17, 3, 21, 1, 4, 13, 24, 3, 3, 5, 2, 1, 29, 18, 21, 2, 26, 52, 4, 67, 2, 1, 21, 24, 7, 22, 5, 4, 13, 27, 3, 4, 7, 2, 1, 29, 29, 26, 2, 33, 67, 6, 74, 2, 1, 21, 28, 9, 32, 6, 4, 13, 31, 3, 7, 8, 3, 1, 30, 33, 28, 3, 37, 95, 7, 89, 1, 2, 1, 29, 32, 15, 35, 7, 4, 13, 33, 4, 9, 9, 4, 1, 31, 38, 28, 3, 41, 109, 14, 128, 1, 1, 2, 1, 29, 36, 18, 35, 7, 7, 13, 37, 4, 9, 1, 11, 6, 7, 6, 36, 3, 43, 30, 3, 13, 55, 118, 13, 20, 124, 1, 1, 2, 1, 33, 41, 26, 44, 5, 41, 10, 1, 12, 6, 7, 6, 36, 3, 43, 30, 3, 13, 55, 137, 13, 20, 130, 1, 1, 2, 1, 33, 41, 29, 45, 5, 41, 10, 14, 6, 9, 8, 6, 39, 3, 45, 33, 3, 20, 55, 176, 13, 30, 180, 1, 1, 3, 1, 38, 54, 40, 56, 5, 55, 15, 19, 9, 11, 8, 7, 49, 5, 58, 33, 3, 31, 76, 182, 13, 30, 186, 1, 1, 3, 1, 38, 55, 49, 66, 7, 65, 18, 23, 9, 15, 8, 7, 87, 5, 69, 36, 3, 48, 83, 202, 13, 47, 198, 1, 1, 3, 1, 38, 59, 67, 71, 7, 82, 22, 46, 40, 10, 15, 13, 8, 97, 5, 73, 40, 3, 54, 83, 234, 13, 47, 216, 1, 1, 3, 1, 41, 74, 74, 79, 7, 101, 26, 38, 83, 10, 1, 23, 16, 9, 152, 5, 82, 43, 3, 62, 1, 101, 241, 13, 66, 302, 1, 1, 4, 3, 42, 93, 234, 96, 7, 103, 37, 86, 10, 5, 24, 16, 9, 219, 5, 87, 43, 3, 62, 1, 110, 265, 13, 99, 335, 1, 1, 4, 3, 46, 108, 234, 107, 7, 113, 53, 132, 10, 1, 16, 29, 18, 9, 219, 6, 95, 49, 6, 75, 2, 124, 286, 14, 104, 335, 2, 1, 5, 5, 48, 167, 309, 158, 10, 172, 63, 77, 161, 10, 1, 24, 30, 18, 9, 445, 7, 105, 49, 6, 75, 2, 128, 295, 14, 104, 490, 2, 1, 5, 5, 57, 200, 411, 159, 16, 174, 69], \"yaxis\": \"y\"}],\n",
       "                        {\"height\": 700, \"legend\": {\"tracegroupgap\": 0}, \"template\": {\"data\": {\"bar\": [{\"error_x\": {\"color\": \"#2a3f5f\"}, \"error_y\": {\"color\": \"#2a3f5f\"}, \"marker\": {\"line\": {\"color\": \"#E5ECF6\", \"width\": 0.5}}, \"type\": \"bar\"}], \"barpolar\": [{\"marker\": {\"line\": {\"color\": \"#E5ECF6\", \"width\": 0.5}}, \"type\": \"barpolar\"}], \"carpet\": [{\"aaxis\": {\"endlinecolor\": \"#2a3f5f\", \"gridcolor\": \"white\", \"linecolor\": \"white\", \"minorgridcolor\": \"white\", \"startlinecolor\": \"#2a3f5f\"}, \"baxis\": {\"endlinecolor\": \"#2a3f5f\", \"gridcolor\": \"white\", \"linecolor\": \"white\", \"minorgridcolor\": \"white\", \"startlinecolor\": \"#2a3f5f\"}, \"type\": \"carpet\"}], \"choropleth\": [{\"colorbar\": {\"outlinewidth\": 0, \"ticks\": \"\"}, \"type\": \"choropleth\"}], \"contour\": [{\"colorbar\": {\"outlinewidth\": 0, \"ticks\": \"\"}, \"colorscale\": [[0.0, \"#0d0887\"], [0.1111111111111111, \"#46039f\"], [0.2222222222222222, \"#7201a8\"], [0.3333333333333333, \"#9c179e\"], [0.4444444444444444, \"#bd3786\"], [0.5555555555555556, \"#d8576b\"], [0.6666666666666666, \"#ed7953\"], [0.7777777777777778, \"#fb9f3a\"], [0.8888888888888888, \"#fdca26\"], [1.0, \"#f0f921\"]], \"type\": \"contour\"}], \"contourcarpet\": [{\"colorbar\": {\"outlinewidth\": 0, \"ticks\": \"\"}, \"type\": \"contourcarpet\"}], \"heatmap\": [{\"colorbar\": {\"outlinewidth\": 0, \"ticks\": \"\"}, \"colorscale\": [[0.0, \"#0d0887\"], [0.1111111111111111, \"#46039f\"], [0.2222222222222222, \"#7201a8\"], [0.3333333333333333, \"#9c179e\"], [0.4444444444444444, \"#bd3786\"], [0.5555555555555556, \"#d8576b\"], [0.6666666666666666, \"#ed7953\"], [0.7777777777777778, \"#fb9f3a\"], [0.8888888888888888, \"#fdca26\"], [1.0, \"#f0f921\"]], \"type\": \"heatmap\"}], \"heatmapgl\": [{\"colorbar\": {\"outlinewidth\": 0, \"ticks\": \"\"}, \"colorscale\": [[0.0, \"#0d0887\"], [0.1111111111111111, \"#46039f\"], [0.2222222222222222, \"#7201a8\"], [0.3333333333333333, \"#9c179e\"], [0.4444444444444444, \"#bd3786\"], [0.5555555555555556, \"#d8576b\"], [0.6666666666666666, \"#ed7953\"], [0.7777777777777778, \"#fb9f3a\"], [0.8888888888888888, \"#fdca26\"], [1.0, \"#f0f921\"]], \"type\": \"heatmapgl\"}], \"histogram\": [{\"marker\": {\"colorbar\": {\"outlinewidth\": 0, \"ticks\": \"\"}}, \"type\": \"histogram\"}], \"histogram2d\": [{\"colorbar\": {\"outlinewidth\": 0, \"ticks\": \"\"}, \"colorscale\": [[0.0, \"#0d0887\"], [0.1111111111111111, \"#46039f\"], [0.2222222222222222, \"#7201a8\"], [0.3333333333333333, \"#9c179e\"], [0.4444444444444444, \"#bd3786\"], [0.5555555555555556, \"#d8576b\"], [0.6666666666666666, \"#ed7953\"], [0.7777777777777778, \"#fb9f3a\"], [0.8888888888888888, \"#fdca26\"], [1.0, \"#f0f921\"]], \"type\": \"histogram2d\"}], \"histogram2dcontour\": [{\"colorbar\": {\"outlinewidth\": 0, \"ticks\": \"\"}, \"colorscale\": [[0.0, \"#0d0887\"], [0.1111111111111111, \"#46039f\"], [0.2222222222222222, \"#7201a8\"], [0.3333333333333333, \"#9c179e\"], [0.4444444444444444, \"#bd3786\"], [0.5555555555555556, \"#d8576b\"], [0.6666666666666666, \"#ed7953\"], [0.7777777777777778, \"#fb9f3a\"], [0.8888888888888888, \"#fdca26\"], [1.0, \"#f0f921\"]], \"type\": \"histogram2dcontour\"}], \"mesh3d\": [{\"colorbar\": {\"outlinewidth\": 0, \"ticks\": \"\"}, \"type\": \"mesh3d\"}], \"parcoords\": [{\"line\": {\"colorbar\": {\"outlinewidth\": 0, \"ticks\": \"\"}}, \"type\": \"parcoords\"}], \"pie\": [{\"automargin\": true, \"type\": \"pie\"}], \"scatter\": [{\"marker\": {\"colorbar\": {\"outlinewidth\": 0, \"ticks\": \"\"}}, \"type\": \"scatter\"}], \"scatter3d\": [{\"line\": {\"colorbar\": {\"outlinewidth\": 0, \"ticks\": \"\"}}, \"marker\": {\"colorbar\": {\"outlinewidth\": 0, \"ticks\": \"\"}}, \"type\": \"scatter3d\"}], \"scattercarpet\": [{\"marker\": {\"colorbar\": {\"outlinewidth\": 0, \"ticks\": \"\"}}, \"type\": \"scattercarpet\"}], \"scattergeo\": [{\"marker\": {\"colorbar\": {\"outlinewidth\": 0, \"ticks\": \"\"}}, \"type\": \"scattergeo\"}], \"scattergl\": [{\"marker\": {\"colorbar\": {\"outlinewidth\": 0, \"ticks\": \"\"}}, \"type\": \"scattergl\"}], \"scattermapbox\": [{\"marker\": {\"colorbar\": {\"outlinewidth\": 0, \"ticks\": \"\"}}, \"type\": \"scattermapbox\"}], \"scatterpolar\": [{\"marker\": {\"colorbar\": {\"outlinewidth\": 0, \"ticks\": \"\"}}, \"type\": \"scatterpolar\"}], \"scatterpolargl\": [{\"marker\": {\"colorbar\": {\"outlinewidth\": 0, \"ticks\": \"\"}}, \"type\": \"scatterpolargl\"}], \"scatterternary\": [{\"marker\": {\"colorbar\": {\"outlinewidth\": 0, \"ticks\": \"\"}}, \"type\": \"scatterternary\"}], \"surface\": [{\"colorbar\": {\"outlinewidth\": 0, \"ticks\": \"\"}, \"colorscale\": [[0.0, \"#0d0887\"], [0.1111111111111111, \"#46039f\"], [0.2222222222222222, \"#7201a8\"], [0.3333333333333333, \"#9c179e\"], [0.4444444444444444, \"#bd3786\"], [0.5555555555555556, \"#d8576b\"], [0.6666666666666666, \"#ed7953\"], [0.7777777777777778, \"#fb9f3a\"], [0.8888888888888888, \"#fdca26\"], [1.0, \"#f0f921\"]], \"type\": \"surface\"}], \"table\": [{\"cells\": {\"fill\": {\"color\": \"#EBF0F8\"}, \"line\": {\"color\": \"white\"}}, \"header\": {\"fill\": {\"color\": \"#C8D4E3\"}, \"line\": {\"color\": \"white\"}}, \"type\": \"table\"}]}, \"layout\": {\"annotationdefaults\": {\"arrowcolor\": \"#2a3f5f\", \"arrowhead\": 0, \"arrowwidth\": 1}, \"coloraxis\": {\"colorbar\": {\"outlinewidth\": 0, \"ticks\": \"\"}}, \"colorscale\": {\"diverging\": [[0, \"#8e0152\"], [0.1, \"#c51b7d\"], [0.2, \"#de77ae\"], [0.3, \"#f1b6da\"], [0.4, \"#fde0ef\"], [0.5, \"#f7f7f7\"], [0.6, \"#e6f5d0\"], [0.7, \"#b8e186\"], [0.8, \"#7fbc41\"], [0.9, \"#4d9221\"], [1, \"#276419\"]], \"sequential\": [[0.0, \"#0d0887\"], [0.1111111111111111, \"#46039f\"], [0.2222222222222222, \"#7201a8\"], [0.3333333333333333, \"#9c179e\"], [0.4444444444444444, \"#bd3786\"], [0.5555555555555556, \"#d8576b\"], [0.6666666666666666, \"#ed7953\"], [0.7777777777777778, \"#fb9f3a\"], [0.8888888888888888, \"#fdca26\"], [1.0, \"#f0f921\"]], \"sequentialminus\": [[0.0, \"#0d0887\"], [0.1111111111111111, \"#46039f\"], [0.2222222222222222, \"#7201a8\"], [0.3333333333333333, \"#9c179e\"], [0.4444444444444444, \"#bd3786\"], [0.5555555555555556, \"#d8576b\"], [0.6666666666666666, \"#ed7953\"], [0.7777777777777778, \"#fb9f3a\"], [0.8888888888888888, \"#fdca26\"], [1.0, \"#f0f921\"]]}, \"colorway\": [\"#636efa\", \"#EF553B\", \"#00cc96\", \"#ab63fa\", \"#FFA15A\", \"#19d3f3\", \"#FF6692\", \"#B6E880\", \"#FF97FF\", \"#FECB52\"], \"font\": {\"color\": \"#2a3f5f\"}, \"geo\": {\"bgcolor\": \"white\", \"lakecolor\": \"white\", \"landcolor\": \"#E5ECF6\", \"showlakes\": true, \"showland\": true, \"subunitcolor\": \"white\"}, \"hoverlabel\": {\"align\": \"left\"}, \"hovermode\": \"closest\", \"mapbox\": {\"style\": \"light\"}, \"paper_bgcolor\": \"white\", \"plot_bgcolor\": \"#E5ECF6\", \"polar\": {\"angularaxis\": {\"gridcolor\": \"white\", \"linecolor\": \"white\", \"ticks\": \"\"}, \"bgcolor\": \"#E5ECF6\", \"radialaxis\": {\"gridcolor\": \"white\", \"linecolor\": \"white\", \"ticks\": \"\"}}, \"scene\": {\"xaxis\": {\"backgroundcolor\": \"#E5ECF6\", \"gridcolor\": \"white\", \"gridwidth\": 2, \"linecolor\": \"white\", \"showbackground\": true, \"ticks\": \"\", \"zerolinecolor\": \"white\"}, \"yaxis\": {\"backgroundcolor\": \"#E5ECF6\", \"gridcolor\": \"white\", \"gridwidth\": 2, \"linecolor\": \"white\", \"showbackground\": true, \"ticks\": \"\", \"zerolinecolor\": \"white\"}, \"zaxis\": {\"backgroundcolor\": \"#E5ECF6\", \"gridcolor\": \"white\", \"gridwidth\": 2, \"linecolor\": \"white\", \"showbackground\": true, \"ticks\": \"\", \"zerolinecolor\": \"white\"}}, \"shapedefaults\": {\"line\": {\"color\": \"#2a3f5f\"}}, \"ternary\": {\"aaxis\": {\"gridcolor\": \"white\", \"linecolor\": \"white\", \"ticks\": \"\"}, \"baxis\": {\"gridcolor\": \"white\", \"linecolor\": \"white\", \"ticks\": \"\"}, \"bgcolor\": \"#E5ECF6\", \"caxis\": {\"gridcolor\": \"white\", \"linecolor\": \"white\", \"ticks\": \"\"}}, \"title\": {\"x\": 0.05}, \"xaxis\": {\"automargin\": true, \"gridcolor\": \"white\", \"linecolor\": \"white\", \"ticks\": \"\", \"title\": {\"standoff\": 15}, \"zerolinecolor\": \"white\", \"zerolinewidth\": 2}, \"yaxis\": {\"automargin\": true, \"gridcolor\": \"white\", \"linecolor\": \"white\", \"ticks\": \"\", \"title\": {\"standoff\": 15}, \"zerolinecolor\": \"white\", \"zerolinewidth\": 2}}}, \"title\": {\"text\": \"Increase of cases with date\"}, \"xaxis\": {\"anchor\": \"y\", \"domain\": [0.0, 1.0], \"title\": {\"text\": \"Date\"}}, \"yaxis\": {\"anchor\": \"x\", \"domain\": [0.0, 1.0], \"title\": {\"text\": \"Confirmed\"}}},\n",
       "                        {\"responsive\": true}\n",
       "                    ).then(function(){\n",
       "                            \n",
       "var gd = document.getElementById('5af98f5c-353e-49c3-8fba-0eaa97279d4b');\n",
       "var x = new MutationObserver(function (mutations, observer) {{\n",
       "        var display = window.getComputedStyle(gd).display;\n",
       "        if (!display || display === 'none') {{\n",
       "            console.log([gd, 'removed!']);\n",
       "            Plotly.purge(gd);\n",
       "            observer.disconnect();\n",
       "        }}\n",
       "}});\n",
       "\n",
       "// Listen for the removal of the full notebook cells\n",
       "var notebookContainer = gd.closest('#notebook-container');\n",
       "if (notebookContainer) {{\n",
       "    x.observe(notebookContainer, {childList: true});\n",
       "}}\n",
       "\n",
       "// Listen for the clearing of the current output cell\n",
       "var outputEl = gd.closest('.output');\n",
       "if (outputEl) {{\n",
       "    x.observe(outputEl, {childList: true});\n",
       "}}\n",
       "\n",
       "                        })\n",
       "                };\n",
       "                });\n",
       "            </script>\n",
       "        </div>"
      ]
     },
     "metadata": {},
     "output_type": "display_data"
    }
   ],
   "source": [
    "fig1.show()"
   ]
  },
  {
   "cell_type": "code",
   "execution_count": 77,
   "metadata": {},
   "outputs": [
    {
     "data": {
      "application/vnd.plotly.v1+json": {
       "config": {
        "plotlyServerURL": "https://plot.ly"
       },
       "data": [
        {
         "branchvalues": "total",
         "customdata": [
          [
           "Andaman and Nicobar Islands",
           10
          ],
          [
           "Andhra Pradesh",
           161
          ],
          [
           "Arunachal Pradesh",
           1
          ],
          [
           "Assam",
           24
          ],
          [
           "Bihar",
           30
          ],
          [
           "Chandigarh",
           18
          ],
          [
           "Chattisgarh",
           1
          ],
          [
           "Chhattisgarh",
           9
          ],
          [
           "Delhi",
           445
          ],
          [
           "Goa",
           7
          ],
          [
           "Gujarat",
           105
          ],
          [
           "Haryana",
           49
          ],
          [
           "Himachal Pradesh",
           6
          ],
          [
           "Jammu and Kashmir",
           75
          ],
          [
           "Jharkhand",
           2
          ],
          [
           "Karnataka",
           128
          ],
          [
           "Kerala",
           295
          ],
          [
           "Ladakh",
           14
          ],
          [
           "Madhya Pradesh",
           104
          ],
          [
           "Maharashtra",
           490
          ],
          [
           "Manipur",
           2
          ],
          [
           "Mizoram",
           1
          ],
          [
           "Odisha",
           5
          ],
          [
           "Pondicherry",
           1
          ],
          [
           "Puducherry",
           5
          ],
          [
           "Punjab",
           57
          ],
          [
           "Rajasthan",
           200
          ],
          [
           "Tamil Nadu",
           411
          ],
          [
           "Telengana",
           159
          ],
          [
           "Unassigned",
           77
          ],
          [
           "Uttar Pradesh",
           174
          ],
          [
           "Uttarakhand",
           16
          ],
          [
           "West Bengal",
           69
          ]
         ],
         "domain": {
          "x": [
           0,
           1
          ],
          "y": [
           0,
           1
          ]
         },
         "hoverlabel": {
          "namelength": 0
         },
         "hovertemplate": "State/UnionTerritory=%{customdata[0]}<br>Confirmed=%{color}<br>labels=%{label}<br>parent=%{parent}<br>id=%{id}",
         "ids": [
          "Andaman and Nicobar Islands",
          "Andhra Pradesh",
          "Arunachal Pradesh",
          "Assam",
          "Bihar",
          "Chandigarh",
          "Chattisgarh",
          "Chhattisgarh",
          "Delhi",
          "Goa",
          "Gujarat",
          "Haryana",
          "Himachal Pradesh",
          "Jammu and Kashmir",
          "Jharkhand",
          "Karnataka",
          "Kerala",
          "Ladakh",
          "Madhya Pradesh",
          "Maharashtra",
          "Manipur",
          "Mizoram",
          "Odisha",
          "Pondicherry",
          "Puducherry",
          "Punjab",
          "Rajasthan",
          "Tamil Nadu",
          "Telengana",
          "Unassigned",
          "Uttar Pradesh",
          "Uttarakhand",
          "West Bengal"
         ],
         "labels": [
          "Andaman and Nicobar Islands",
          "Andhra Pradesh",
          "Arunachal Pradesh",
          "Assam",
          "Bihar",
          "Chandigarh",
          "Chattisgarh",
          "Chhattisgarh",
          "Delhi",
          "Goa",
          "Gujarat",
          "Haryana",
          "Himachal Pradesh",
          "Jammu and Kashmir",
          "Jharkhand",
          "Karnataka",
          "Kerala",
          "Ladakh",
          "Madhya Pradesh",
          "Maharashtra",
          "Manipur",
          "Mizoram",
          "Odisha",
          "Pondicherry",
          "Puducherry",
          "Punjab",
          "Rajasthan",
          "Tamil Nadu",
          "Telengana",
          "Unassigned",
          "Uttar Pradesh",
          "Uttarakhand",
          "West Bengal"
         ],
         "marker": {
          "coloraxis": "coloraxis",
          "colors": [
           10,
           161,
           1,
           24,
           30,
           18,
           1,
           9,
           445,
           7,
           105,
           49,
           6,
           75,
           2,
           128,
           295,
           14,
           104,
           490,
           2,
           1,
           5,
           1,
           5,
           57,
           200,
           411,
           159,
           77,
           174,
           16,
           69
          ]
         },
         "name": "",
         "parents": [
          "",
          "",
          "",
          "",
          "",
          "",
          "",
          "",
          "",
          "",
          "",
          "",
          "",
          "",
          "",
          "",
          "",
          "",
          "",
          "",
          "",
          "",
          "",
          "",
          "",
          "",
          "",
          "",
          "",
          "",
          "",
          "",
          ""
         ],
         "type": "treemap",
         "values": [
          10,
          161,
          1,
          24,
          30,
          18,
          1,
          9,
          445,
          7,
          105,
          49,
          6,
          75,
          2,
          128,
          295,
          14,
          104,
          490,
          2,
          1,
          5,
          1,
          5,
          57,
          200,
          411,
          159,
          77,
          174,
          16,
          69
         ]
        }
       ],
       "layout": {
        "coloraxis": {
         "colorbar": {
          "title": {
           "text": "Confirmed"
          }
         },
         "colorscale": [
          [
           0,
           "rgb(103,0,31)"
          ],
          [
           0.1,
           "rgb(178,24,43)"
          ],
          [
           0.2,
           "rgb(214,96,77)"
          ],
          [
           0.3,
           "rgb(244,165,130)"
          ],
          [
           0.4,
           "rgb(253,219,199)"
          ],
          [
           0.5,
           "rgb(247,247,247)"
          ],
          [
           0.6,
           "rgb(209,229,240)"
          ],
          [
           0.7,
           "rgb(146,197,222)"
          ],
          [
           0.8,
           "rgb(67,147,195)"
          ],
          [
           0.9,
           "rgb(33,102,172)"
          ],
          [
           1,
           "rgb(5,48,97)"
          ]
         ]
        },
        "legend": {
         "tracegroupgap": 0
        },
        "margin": {
         "t": 60
        },
        "template": {
         "data": {
          "bar": [
           {
            "error_x": {
             "color": "#2a3f5f"
            },
            "error_y": {
             "color": "#2a3f5f"
            },
            "marker": {
             "line": {
              "color": "#E5ECF6",
              "width": 0.5
             }
            },
            "type": "bar"
           }
          ],
          "barpolar": [
           {
            "marker": {
             "line": {
              "color": "#E5ECF6",
              "width": 0.5
             }
            },
            "type": "barpolar"
           }
          ],
          "carpet": [
           {
            "aaxis": {
             "endlinecolor": "#2a3f5f",
             "gridcolor": "white",
             "linecolor": "white",
             "minorgridcolor": "white",
             "startlinecolor": "#2a3f5f"
            },
            "baxis": {
             "endlinecolor": "#2a3f5f",
             "gridcolor": "white",
             "linecolor": "white",
             "minorgridcolor": "white",
             "startlinecolor": "#2a3f5f"
            },
            "type": "carpet"
           }
          ],
          "choropleth": [
           {
            "colorbar": {
             "outlinewidth": 0,
             "ticks": ""
            },
            "type": "choropleth"
           }
          ],
          "contour": [
           {
            "colorbar": {
             "outlinewidth": 0,
             "ticks": ""
            },
            "colorscale": [
             [
              0,
              "#0d0887"
             ],
             [
              0.1111111111111111,
              "#46039f"
             ],
             [
              0.2222222222222222,
              "#7201a8"
             ],
             [
              0.3333333333333333,
              "#9c179e"
             ],
             [
              0.4444444444444444,
              "#bd3786"
             ],
             [
              0.5555555555555556,
              "#d8576b"
             ],
             [
              0.6666666666666666,
              "#ed7953"
             ],
             [
              0.7777777777777778,
              "#fb9f3a"
             ],
             [
              0.8888888888888888,
              "#fdca26"
             ],
             [
              1,
              "#f0f921"
             ]
            ],
            "type": "contour"
           }
          ],
          "contourcarpet": [
           {
            "colorbar": {
             "outlinewidth": 0,
             "ticks": ""
            },
            "type": "contourcarpet"
           }
          ],
          "heatmap": [
           {
            "colorbar": {
             "outlinewidth": 0,
             "ticks": ""
            },
            "colorscale": [
             [
              0,
              "#0d0887"
             ],
             [
              0.1111111111111111,
              "#46039f"
             ],
             [
              0.2222222222222222,
              "#7201a8"
             ],
             [
              0.3333333333333333,
              "#9c179e"
             ],
             [
              0.4444444444444444,
              "#bd3786"
             ],
             [
              0.5555555555555556,
              "#d8576b"
             ],
             [
              0.6666666666666666,
              "#ed7953"
             ],
             [
              0.7777777777777778,
              "#fb9f3a"
             ],
             [
              0.8888888888888888,
              "#fdca26"
             ],
             [
              1,
              "#f0f921"
             ]
            ],
            "type": "heatmap"
           }
          ],
          "heatmapgl": [
           {
            "colorbar": {
             "outlinewidth": 0,
             "ticks": ""
            },
            "colorscale": [
             [
              0,
              "#0d0887"
             ],
             [
              0.1111111111111111,
              "#46039f"
             ],
             [
              0.2222222222222222,
              "#7201a8"
             ],
             [
              0.3333333333333333,
              "#9c179e"
             ],
             [
              0.4444444444444444,
              "#bd3786"
             ],
             [
              0.5555555555555556,
              "#d8576b"
             ],
             [
              0.6666666666666666,
              "#ed7953"
             ],
             [
              0.7777777777777778,
              "#fb9f3a"
             ],
             [
              0.8888888888888888,
              "#fdca26"
             ],
             [
              1,
              "#f0f921"
             ]
            ],
            "type": "heatmapgl"
           }
          ],
          "histogram": [
           {
            "marker": {
             "colorbar": {
              "outlinewidth": 0,
              "ticks": ""
             }
            },
            "type": "histogram"
           }
          ],
          "histogram2d": [
           {
            "colorbar": {
             "outlinewidth": 0,
             "ticks": ""
            },
            "colorscale": [
             [
              0,
              "#0d0887"
             ],
             [
              0.1111111111111111,
              "#46039f"
             ],
             [
              0.2222222222222222,
              "#7201a8"
             ],
             [
              0.3333333333333333,
              "#9c179e"
             ],
             [
              0.4444444444444444,
              "#bd3786"
             ],
             [
              0.5555555555555556,
              "#d8576b"
             ],
             [
              0.6666666666666666,
              "#ed7953"
             ],
             [
              0.7777777777777778,
              "#fb9f3a"
             ],
             [
              0.8888888888888888,
              "#fdca26"
             ],
             [
              1,
              "#f0f921"
             ]
            ],
            "type": "histogram2d"
           }
          ],
          "histogram2dcontour": [
           {
            "colorbar": {
             "outlinewidth": 0,
             "ticks": ""
            },
            "colorscale": [
             [
              0,
              "#0d0887"
             ],
             [
              0.1111111111111111,
              "#46039f"
             ],
             [
              0.2222222222222222,
              "#7201a8"
             ],
             [
              0.3333333333333333,
              "#9c179e"
             ],
             [
              0.4444444444444444,
              "#bd3786"
             ],
             [
              0.5555555555555556,
              "#d8576b"
             ],
             [
              0.6666666666666666,
              "#ed7953"
             ],
             [
              0.7777777777777778,
              "#fb9f3a"
             ],
             [
              0.8888888888888888,
              "#fdca26"
             ],
             [
              1,
              "#f0f921"
             ]
            ],
            "type": "histogram2dcontour"
           }
          ],
          "mesh3d": [
           {
            "colorbar": {
             "outlinewidth": 0,
             "ticks": ""
            },
            "type": "mesh3d"
           }
          ],
          "parcoords": [
           {
            "line": {
             "colorbar": {
              "outlinewidth": 0,
              "ticks": ""
             }
            },
            "type": "parcoords"
           }
          ],
          "pie": [
           {
            "automargin": true,
            "type": "pie"
           }
          ],
          "scatter": [
           {
            "marker": {
             "colorbar": {
              "outlinewidth": 0,
              "ticks": ""
             }
            },
            "type": "scatter"
           }
          ],
          "scatter3d": [
           {
            "line": {
             "colorbar": {
              "outlinewidth": 0,
              "ticks": ""
             }
            },
            "marker": {
             "colorbar": {
              "outlinewidth": 0,
              "ticks": ""
             }
            },
            "type": "scatter3d"
           }
          ],
          "scattercarpet": [
           {
            "marker": {
             "colorbar": {
              "outlinewidth": 0,
              "ticks": ""
             }
            },
            "type": "scattercarpet"
           }
          ],
          "scattergeo": [
           {
            "marker": {
             "colorbar": {
              "outlinewidth": 0,
              "ticks": ""
             }
            },
            "type": "scattergeo"
           }
          ],
          "scattergl": [
           {
            "marker": {
             "colorbar": {
              "outlinewidth": 0,
              "ticks": ""
             }
            },
            "type": "scattergl"
           }
          ],
          "scattermapbox": [
           {
            "marker": {
             "colorbar": {
              "outlinewidth": 0,
              "ticks": ""
             }
            },
            "type": "scattermapbox"
           }
          ],
          "scatterpolar": [
           {
            "marker": {
             "colorbar": {
              "outlinewidth": 0,
              "ticks": ""
             }
            },
            "type": "scatterpolar"
           }
          ],
          "scatterpolargl": [
           {
            "marker": {
             "colorbar": {
              "outlinewidth": 0,
              "ticks": ""
             }
            },
            "type": "scatterpolargl"
           }
          ],
          "scatterternary": [
           {
            "marker": {
             "colorbar": {
              "outlinewidth": 0,
              "ticks": ""
             }
            },
            "type": "scatterternary"
           }
          ],
          "surface": [
           {
            "colorbar": {
             "outlinewidth": 0,
             "ticks": ""
            },
            "colorscale": [
             [
              0,
              "#0d0887"
             ],
             [
              0.1111111111111111,
              "#46039f"
             ],
             [
              0.2222222222222222,
              "#7201a8"
             ],
             [
              0.3333333333333333,
              "#9c179e"
             ],
             [
              0.4444444444444444,
              "#bd3786"
             ],
             [
              0.5555555555555556,
              "#d8576b"
             ],
             [
              0.6666666666666666,
              "#ed7953"
             ],
             [
              0.7777777777777778,
              "#fb9f3a"
             ],
             [
              0.8888888888888888,
              "#fdca26"
             ],
             [
              1,
              "#f0f921"
             ]
            ],
            "type": "surface"
           }
          ],
          "table": [
           {
            "cells": {
             "fill": {
              "color": "#EBF0F8"
             },
             "line": {
              "color": "white"
             }
            },
            "header": {
             "fill": {
              "color": "#C8D4E3"
             },
             "line": {
              "color": "white"
             }
            },
            "type": "table"
           }
          ]
         },
         "layout": {
          "annotationdefaults": {
           "arrowcolor": "#2a3f5f",
           "arrowhead": 0,
           "arrowwidth": 1
          },
          "coloraxis": {
           "colorbar": {
            "outlinewidth": 0,
            "ticks": ""
           }
          },
          "colorscale": {
           "diverging": [
            [
             0,
             "#8e0152"
            ],
            [
             0.1,
             "#c51b7d"
            ],
            [
             0.2,
             "#de77ae"
            ],
            [
             0.3,
             "#f1b6da"
            ],
            [
             0.4,
             "#fde0ef"
            ],
            [
             0.5,
             "#f7f7f7"
            ],
            [
             0.6,
             "#e6f5d0"
            ],
            [
             0.7,
             "#b8e186"
            ],
            [
             0.8,
             "#7fbc41"
            ],
            [
             0.9,
             "#4d9221"
            ],
            [
             1,
             "#276419"
            ]
           ],
           "sequential": [
            [
             0,
             "#0d0887"
            ],
            [
             0.1111111111111111,
             "#46039f"
            ],
            [
             0.2222222222222222,
             "#7201a8"
            ],
            [
             0.3333333333333333,
             "#9c179e"
            ],
            [
             0.4444444444444444,
             "#bd3786"
            ],
            [
             0.5555555555555556,
             "#d8576b"
            ],
            [
             0.6666666666666666,
             "#ed7953"
            ],
            [
             0.7777777777777778,
             "#fb9f3a"
            ],
            [
             0.8888888888888888,
             "#fdca26"
            ],
            [
             1,
             "#f0f921"
            ]
           ],
           "sequentialminus": [
            [
             0,
             "#0d0887"
            ],
            [
             0.1111111111111111,
             "#46039f"
            ],
            [
             0.2222222222222222,
             "#7201a8"
            ],
            [
             0.3333333333333333,
             "#9c179e"
            ],
            [
             0.4444444444444444,
             "#bd3786"
            ],
            [
             0.5555555555555556,
             "#d8576b"
            ],
            [
             0.6666666666666666,
             "#ed7953"
            ],
            [
             0.7777777777777778,
             "#fb9f3a"
            ],
            [
             0.8888888888888888,
             "#fdca26"
            ],
            [
             1,
             "#f0f921"
            ]
           ]
          },
          "colorway": [
           "#636efa",
           "#EF553B",
           "#00cc96",
           "#ab63fa",
           "#FFA15A",
           "#19d3f3",
           "#FF6692",
           "#B6E880",
           "#FF97FF",
           "#FECB52"
          ],
          "font": {
           "color": "#2a3f5f"
          },
          "geo": {
           "bgcolor": "white",
           "lakecolor": "white",
           "landcolor": "#E5ECF6",
           "showlakes": true,
           "showland": true,
           "subunitcolor": "white"
          },
          "hoverlabel": {
           "align": "left"
          },
          "hovermode": "closest",
          "mapbox": {
           "style": "light"
          },
          "paper_bgcolor": "white",
          "plot_bgcolor": "#E5ECF6",
          "polar": {
           "angularaxis": {
            "gridcolor": "white",
            "linecolor": "white",
            "ticks": ""
           },
           "bgcolor": "#E5ECF6",
           "radialaxis": {
            "gridcolor": "white",
            "linecolor": "white",
            "ticks": ""
           }
          },
          "scene": {
           "xaxis": {
            "backgroundcolor": "#E5ECF6",
            "gridcolor": "white",
            "gridwidth": 2,
            "linecolor": "white",
            "showbackground": true,
            "ticks": "",
            "zerolinecolor": "white"
           },
           "yaxis": {
            "backgroundcolor": "#E5ECF6",
            "gridcolor": "white",
            "gridwidth": 2,
            "linecolor": "white",
            "showbackground": true,
            "ticks": "",
            "zerolinecolor": "white"
           },
           "zaxis": {
            "backgroundcolor": "#E5ECF6",
            "gridcolor": "white",
            "gridwidth": 2,
            "linecolor": "white",
            "showbackground": true,
            "ticks": "",
            "zerolinecolor": "white"
           }
          },
          "shapedefaults": {
           "line": {
            "color": "#2a3f5f"
           }
          },
          "ternary": {
           "aaxis": {
            "gridcolor": "white",
            "linecolor": "white",
            "ticks": ""
           },
           "baxis": {
            "gridcolor": "white",
            "linecolor": "white",
            "ticks": ""
           },
           "bgcolor": "#E5ECF6",
           "caxis": {
            "gridcolor": "white",
            "linecolor": "white",
            "ticks": ""
           }
          },
          "title": {
           "x": 0.05
          },
          "xaxis": {
           "automargin": true,
           "gridcolor": "white",
           "linecolor": "white",
           "ticks": "",
           "title": {
            "standoff": 15
           },
           "zerolinecolor": "white",
           "zerolinewidth": 2
          },
          "yaxis": {
           "automargin": true,
           "gridcolor": "white",
           "linecolor": "white",
           "ticks": "",
           "title": {
            "standoff": 15
           },
           "zerolinecolor": "white",
           "zerolinewidth": 2
          }
         }
        }
       }
      },
      "text/html": [
       "<div>\n",
       "        \n",
       "        \n",
       "            <div id=\"91a2ad03-64db-4cdb-b7d6-cd22ce051bfb\" class=\"plotly-graph-div\" style=\"height:525px; width:100%;\"></div>\n",
       "            <script type=\"text/javascript\">\n",
       "                require([\"plotly\"], function(Plotly) {\n",
       "                    window.PLOTLYENV=window.PLOTLYENV || {};\n",
       "                    \n",
       "                if (document.getElementById(\"91a2ad03-64db-4cdb-b7d6-cd22ce051bfb\")) {\n",
       "                    Plotly.newPlot(\n",
       "                        '91a2ad03-64db-4cdb-b7d6-cd22ce051bfb',\n",
       "                        [{\"branchvalues\": \"total\", \"customdata\": [[\"Andaman and Nicobar Islands\", 10], [\"Andhra Pradesh\", 161], [\"Arunachal Pradesh\", 1], [\"Assam\", 24], [\"Bihar\", 30], [\"Chandigarh\", 18], [\"Chattisgarh\", 1], [\"Chhattisgarh\", 9], [\"Delhi\", 445], [\"Goa\", 7], [\"Gujarat\", 105], [\"Haryana\", 49], [\"Himachal Pradesh\", 6], [\"Jammu and Kashmir\", 75], [\"Jharkhand\", 2], [\"Karnataka\", 128], [\"Kerala\", 295], [\"Ladakh\", 14], [\"Madhya Pradesh\", 104], [\"Maharashtra\", 490], [\"Manipur\", 2], [\"Mizoram\", 1], [\"Odisha\", 5], [\"Pondicherry\", 1], [\"Puducherry\", 5], [\"Punjab\", 57], [\"Rajasthan\", 200], [\"Tamil Nadu\", 411], [\"Telengana\", 159], [\"Unassigned\", 77], [\"Uttar Pradesh\", 174], [\"Uttarakhand\", 16], [\"West Bengal\", 69]], \"domain\": {\"x\": [0.0, 1.0], \"y\": [0.0, 1.0]}, \"hoverlabel\": {\"namelength\": 0}, \"hovertemplate\": \"State/UnionTerritory=%{customdata[0]}<br>Confirmed=%{color}<br>labels=%{label}<br>parent=%{parent}<br>id=%{id}\", \"ids\": [\"Andaman and Nicobar Islands\", \"Andhra Pradesh\", \"Arunachal Pradesh\", \"Assam\", \"Bihar\", \"Chandigarh\", \"Chattisgarh\", \"Chhattisgarh\", \"Delhi\", \"Goa\", \"Gujarat\", \"Haryana\", \"Himachal Pradesh\", \"Jammu and Kashmir\", \"Jharkhand\", \"Karnataka\", \"Kerala\", \"Ladakh\", \"Madhya Pradesh\", \"Maharashtra\", \"Manipur\", \"Mizoram\", \"Odisha\", \"Pondicherry\", \"Puducherry\", \"Punjab\", \"Rajasthan\", \"Tamil Nadu\", \"Telengana\", \"Unassigned\", \"Uttar Pradesh\", \"Uttarakhand\", \"West Bengal\"], \"labels\": [\"Andaman and Nicobar Islands\", \"Andhra Pradesh\", \"Arunachal Pradesh\", \"Assam\", \"Bihar\", \"Chandigarh\", \"Chattisgarh\", \"Chhattisgarh\", \"Delhi\", \"Goa\", \"Gujarat\", \"Haryana\", \"Himachal Pradesh\", \"Jammu and Kashmir\", \"Jharkhand\", \"Karnataka\", \"Kerala\", \"Ladakh\", \"Madhya Pradesh\", \"Maharashtra\", \"Manipur\", \"Mizoram\", \"Odisha\", \"Pondicherry\", \"Puducherry\", \"Punjab\", \"Rajasthan\", \"Tamil Nadu\", \"Telengana\", \"Unassigned\", \"Uttar Pradesh\", \"Uttarakhand\", \"West Bengal\"], \"marker\": {\"coloraxis\": \"coloraxis\", \"colors\": [10, 161, 1, 24, 30, 18, 1, 9, 445, 7, 105, 49, 6, 75, 2, 128, 295, 14, 104, 490, 2, 1, 5, 1, 5, 57, 200, 411, 159, 77, 174, 16, 69]}, \"name\": \"\", \"parents\": [\"\", \"\", \"\", \"\", \"\", \"\", \"\", \"\", \"\", \"\", \"\", \"\", \"\", \"\", \"\", \"\", \"\", \"\", \"\", \"\", \"\", \"\", \"\", \"\", \"\", \"\", \"\", \"\", \"\", \"\", \"\", \"\", \"\"], \"type\": \"treemap\", \"values\": [10, 161, 1, 24, 30, 18, 1, 9, 445, 7, 105, 49, 6, 75, 2, 128, 295, 14, 104, 490, 2, 1, 5, 1, 5, 57, 200, 411, 159, 77, 174, 16, 69]}],\n",
       "                        {\"coloraxis\": {\"colorbar\": {\"title\": {\"text\": \"Confirmed\"}}, \"colorscale\": [[0.0, \"rgb(103,0,31)\"], [0.1, \"rgb(178,24,43)\"], [0.2, \"rgb(214,96,77)\"], [0.3, \"rgb(244,165,130)\"], [0.4, \"rgb(253,219,199)\"], [0.5, \"rgb(247,247,247)\"], [0.6, \"rgb(209,229,240)\"], [0.7, \"rgb(146,197,222)\"], [0.8, \"rgb(67,147,195)\"], [0.9, \"rgb(33,102,172)\"], [1.0, \"rgb(5,48,97)\"]]}, \"legend\": {\"tracegroupgap\": 0}, \"margin\": {\"t\": 60}, \"template\": {\"data\": {\"bar\": [{\"error_x\": {\"color\": \"#2a3f5f\"}, \"error_y\": {\"color\": \"#2a3f5f\"}, \"marker\": {\"line\": {\"color\": \"#E5ECF6\", \"width\": 0.5}}, \"type\": \"bar\"}], \"barpolar\": [{\"marker\": {\"line\": {\"color\": \"#E5ECF6\", \"width\": 0.5}}, \"type\": \"barpolar\"}], \"carpet\": [{\"aaxis\": {\"endlinecolor\": \"#2a3f5f\", \"gridcolor\": \"white\", \"linecolor\": \"white\", \"minorgridcolor\": \"white\", \"startlinecolor\": \"#2a3f5f\"}, \"baxis\": {\"endlinecolor\": \"#2a3f5f\", \"gridcolor\": \"white\", \"linecolor\": \"white\", \"minorgridcolor\": \"white\", \"startlinecolor\": \"#2a3f5f\"}, \"type\": \"carpet\"}], \"choropleth\": [{\"colorbar\": {\"outlinewidth\": 0, \"ticks\": \"\"}, \"type\": \"choropleth\"}], \"contour\": [{\"colorbar\": {\"outlinewidth\": 0, \"ticks\": \"\"}, \"colorscale\": [[0.0, \"#0d0887\"], [0.1111111111111111, \"#46039f\"], [0.2222222222222222, \"#7201a8\"], [0.3333333333333333, \"#9c179e\"], [0.4444444444444444, \"#bd3786\"], [0.5555555555555556, \"#d8576b\"], [0.6666666666666666, \"#ed7953\"], [0.7777777777777778, \"#fb9f3a\"], [0.8888888888888888, \"#fdca26\"], [1.0, \"#f0f921\"]], \"type\": \"contour\"}], \"contourcarpet\": [{\"colorbar\": {\"outlinewidth\": 0, \"ticks\": \"\"}, \"type\": \"contourcarpet\"}], \"heatmap\": [{\"colorbar\": {\"outlinewidth\": 0, \"ticks\": \"\"}, \"colorscale\": [[0.0, \"#0d0887\"], [0.1111111111111111, \"#46039f\"], [0.2222222222222222, \"#7201a8\"], [0.3333333333333333, \"#9c179e\"], [0.4444444444444444, \"#bd3786\"], [0.5555555555555556, \"#d8576b\"], [0.6666666666666666, \"#ed7953\"], [0.7777777777777778, \"#fb9f3a\"], [0.8888888888888888, \"#fdca26\"], [1.0, \"#f0f921\"]], \"type\": \"heatmap\"}], \"heatmapgl\": [{\"colorbar\": {\"outlinewidth\": 0, \"ticks\": \"\"}, \"colorscale\": [[0.0, \"#0d0887\"], [0.1111111111111111, \"#46039f\"], [0.2222222222222222, \"#7201a8\"], [0.3333333333333333, \"#9c179e\"], [0.4444444444444444, \"#bd3786\"], [0.5555555555555556, \"#d8576b\"], [0.6666666666666666, \"#ed7953\"], [0.7777777777777778, \"#fb9f3a\"], [0.8888888888888888, \"#fdca26\"], [1.0, \"#f0f921\"]], \"type\": \"heatmapgl\"}], \"histogram\": [{\"marker\": {\"colorbar\": {\"outlinewidth\": 0, \"ticks\": \"\"}}, \"type\": \"histogram\"}], \"histogram2d\": [{\"colorbar\": {\"outlinewidth\": 0, \"ticks\": \"\"}, \"colorscale\": [[0.0, \"#0d0887\"], [0.1111111111111111, \"#46039f\"], [0.2222222222222222, \"#7201a8\"], [0.3333333333333333, \"#9c179e\"], [0.4444444444444444, \"#bd3786\"], [0.5555555555555556, \"#d8576b\"], [0.6666666666666666, \"#ed7953\"], [0.7777777777777778, \"#fb9f3a\"], [0.8888888888888888, \"#fdca26\"], [1.0, \"#f0f921\"]], \"type\": \"histogram2d\"}], \"histogram2dcontour\": [{\"colorbar\": {\"outlinewidth\": 0, \"ticks\": \"\"}, \"colorscale\": [[0.0, \"#0d0887\"], [0.1111111111111111, \"#46039f\"], [0.2222222222222222, \"#7201a8\"], [0.3333333333333333, \"#9c179e\"], [0.4444444444444444, \"#bd3786\"], [0.5555555555555556, \"#d8576b\"], [0.6666666666666666, \"#ed7953\"], [0.7777777777777778, \"#fb9f3a\"], [0.8888888888888888, \"#fdca26\"], [1.0, \"#f0f921\"]], \"type\": \"histogram2dcontour\"}], \"mesh3d\": [{\"colorbar\": {\"outlinewidth\": 0, \"ticks\": \"\"}, \"type\": \"mesh3d\"}], \"parcoords\": [{\"line\": {\"colorbar\": {\"outlinewidth\": 0, \"ticks\": \"\"}}, \"type\": \"parcoords\"}], \"pie\": [{\"automargin\": true, \"type\": \"pie\"}], \"scatter\": [{\"marker\": {\"colorbar\": {\"outlinewidth\": 0, \"ticks\": \"\"}}, \"type\": \"scatter\"}], \"scatter3d\": [{\"line\": {\"colorbar\": {\"outlinewidth\": 0, \"ticks\": \"\"}}, \"marker\": {\"colorbar\": {\"outlinewidth\": 0, \"ticks\": \"\"}}, \"type\": \"scatter3d\"}], \"scattercarpet\": [{\"marker\": {\"colorbar\": {\"outlinewidth\": 0, \"ticks\": \"\"}}, \"type\": \"scattercarpet\"}], \"scattergeo\": [{\"marker\": {\"colorbar\": {\"outlinewidth\": 0, \"ticks\": \"\"}}, \"type\": \"scattergeo\"}], \"scattergl\": [{\"marker\": {\"colorbar\": {\"outlinewidth\": 0, \"ticks\": \"\"}}, \"type\": \"scattergl\"}], \"scattermapbox\": [{\"marker\": {\"colorbar\": {\"outlinewidth\": 0, \"ticks\": \"\"}}, \"type\": \"scattermapbox\"}], \"scatterpolar\": [{\"marker\": {\"colorbar\": {\"outlinewidth\": 0, \"ticks\": \"\"}}, \"type\": \"scatterpolar\"}], \"scatterpolargl\": [{\"marker\": {\"colorbar\": {\"outlinewidth\": 0, \"ticks\": \"\"}}, \"type\": \"scatterpolargl\"}], \"scatterternary\": [{\"marker\": {\"colorbar\": {\"outlinewidth\": 0, \"ticks\": \"\"}}, \"type\": \"scatterternary\"}], \"surface\": [{\"colorbar\": {\"outlinewidth\": 0, \"ticks\": \"\"}, \"colorscale\": [[0.0, \"#0d0887\"], [0.1111111111111111, \"#46039f\"], [0.2222222222222222, \"#7201a8\"], [0.3333333333333333, \"#9c179e\"], [0.4444444444444444, \"#bd3786\"], [0.5555555555555556, \"#d8576b\"], [0.6666666666666666, \"#ed7953\"], [0.7777777777777778, \"#fb9f3a\"], [0.8888888888888888, \"#fdca26\"], [1.0, \"#f0f921\"]], \"type\": \"surface\"}], \"table\": [{\"cells\": {\"fill\": {\"color\": \"#EBF0F8\"}, \"line\": {\"color\": \"white\"}}, \"header\": {\"fill\": {\"color\": \"#C8D4E3\"}, \"line\": {\"color\": \"white\"}}, \"type\": \"table\"}]}, \"layout\": {\"annotationdefaults\": {\"arrowcolor\": \"#2a3f5f\", \"arrowhead\": 0, \"arrowwidth\": 1}, \"coloraxis\": {\"colorbar\": {\"outlinewidth\": 0, \"ticks\": \"\"}}, \"colorscale\": {\"diverging\": [[0, \"#8e0152\"], [0.1, \"#c51b7d\"], [0.2, \"#de77ae\"], [0.3, \"#f1b6da\"], [0.4, \"#fde0ef\"], [0.5, \"#f7f7f7\"], [0.6, \"#e6f5d0\"], [0.7, \"#b8e186\"], [0.8, \"#7fbc41\"], [0.9, \"#4d9221\"], [1, \"#276419\"]], \"sequential\": [[0.0, \"#0d0887\"], [0.1111111111111111, \"#46039f\"], [0.2222222222222222, \"#7201a8\"], [0.3333333333333333, \"#9c179e\"], [0.4444444444444444, \"#bd3786\"], [0.5555555555555556, \"#d8576b\"], [0.6666666666666666, \"#ed7953\"], [0.7777777777777778, \"#fb9f3a\"], [0.8888888888888888, \"#fdca26\"], [1.0, \"#f0f921\"]], \"sequentialminus\": [[0.0, \"#0d0887\"], [0.1111111111111111, \"#46039f\"], [0.2222222222222222, \"#7201a8\"], [0.3333333333333333, \"#9c179e\"], [0.4444444444444444, \"#bd3786\"], [0.5555555555555556, \"#d8576b\"], [0.6666666666666666, \"#ed7953\"], [0.7777777777777778, \"#fb9f3a\"], [0.8888888888888888, \"#fdca26\"], [1.0, \"#f0f921\"]]}, \"colorway\": [\"#636efa\", \"#EF553B\", \"#00cc96\", \"#ab63fa\", \"#FFA15A\", \"#19d3f3\", \"#FF6692\", \"#B6E880\", \"#FF97FF\", \"#FECB52\"], \"font\": {\"color\": \"#2a3f5f\"}, \"geo\": {\"bgcolor\": \"white\", \"lakecolor\": \"white\", \"landcolor\": \"#E5ECF6\", \"showlakes\": true, \"showland\": true, \"subunitcolor\": \"white\"}, \"hoverlabel\": {\"align\": \"left\"}, \"hovermode\": \"closest\", \"mapbox\": {\"style\": \"light\"}, \"paper_bgcolor\": \"white\", \"plot_bgcolor\": \"#E5ECF6\", \"polar\": {\"angularaxis\": {\"gridcolor\": \"white\", \"linecolor\": \"white\", \"ticks\": \"\"}, \"bgcolor\": \"#E5ECF6\", \"radialaxis\": {\"gridcolor\": \"white\", \"linecolor\": \"white\", \"ticks\": \"\"}}, \"scene\": {\"xaxis\": {\"backgroundcolor\": \"#E5ECF6\", \"gridcolor\": \"white\", \"gridwidth\": 2, \"linecolor\": \"white\", \"showbackground\": true, \"ticks\": \"\", \"zerolinecolor\": \"white\"}, \"yaxis\": {\"backgroundcolor\": \"#E5ECF6\", \"gridcolor\": \"white\", \"gridwidth\": 2, \"linecolor\": \"white\", \"showbackground\": true, \"ticks\": \"\", \"zerolinecolor\": \"white\"}, \"zaxis\": {\"backgroundcolor\": \"#E5ECF6\", \"gridcolor\": \"white\", \"gridwidth\": 2, \"linecolor\": \"white\", \"showbackground\": true, \"ticks\": \"\", \"zerolinecolor\": \"white\"}}, \"shapedefaults\": {\"line\": {\"color\": \"#2a3f5f\"}}, \"ternary\": {\"aaxis\": {\"gridcolor\": \"white\", \"linecolor\": \"white\", \"ticks\": \"\"}, \"baxis\": {\"gridcolor\": \"white\", \"linecolor\": \"white\", \"ticks\": \"\"}, \"bgcolor\": \"#E5ECF6\", \"caxis\": {\"gridcolor\": \"white\", \"linecolor\": \"white\", \"ticks\": \"\"}}, \"title\": {\"x\": 0.05}, \"xaxis\": {\"automargin\": true, \"gridcolor\": \"white\", \"linecolor\": \"white\", \"ticks\": \"\", \"title\": {\"standoff\": 15}, \"zerolinecolor\": \"white\", \"zerolinewidth\": 2}, \"yaxis\": {\"automargin\": true, \"gridcolor\": \"white\", \"linecolor\": \"white\", \"ticks\": \"\", \"title\": {\"standoff\": 15}, \"zerolinecolor\": \"white\", \"zerolinewidth\": 2}}}},\n",
       "                        {\"responsive\": true}\n",
       "                    ).then(function(){\n",
       "                            \n",
       "var gd = document.getElementById('91a2ad03-64db-4cdb-b7d6-cd22ce051bfb');\n",
       "var x = new MutationObserver(function (mutations, observer) {{\n",
       "        var display = window.getComputedStyle(gd).display;\n",
       "        if (!display || display === 'none') {{\n",
       "            console.log([gd, 'removed!']);\n",
       "            Plotly.purge(gd);\n",
       "            observer.disconnect();\n",
       "        }}\n",
       "}});\n",
       "\n",
       "// Listen for the removal of the full notebook cells\n",
       "var notebookContainer = gd.closest('#notebook-container');\n",
       "if (notebookContainer) {{\n",
       "    x.observe(notebookContainer, {childList: true});\n",
       "}}\n",
       "\n",
       "// Listen for the clearing of the current output cell\n",
       "var outputEl = gd.closest('.output');\n",
       "if (outputEl) {{\n",
       "    x.observe(outputEl, {childList: true});\n",
       "}}\n",
       "\n",
       "                        })\n",
       "                };\n",
       "                });\n",
       "            </script>\n",
       "        </div>"
      ]
     },
     "metadata": {},
     "output_type": "display_data"
    }
   ],
   "source": [
    "statewise_cases = pd.DataFrame(df_india.groupby(['State/UnionTerritory'])['Confirmed', 'Deaths', 'Cured'].max().reset_index())\n",
    "\n",
    "fig = px.treemap(statewise_cases, path=['State/UnionTerritory'], values='Confirmed',\n",
    "                  color='Confirmed', hover_data=['State/UnionTerritory'],\n",
    "                  color_continuous_scale='RdBu')\n",
    "fig.show()"
   ]
  },
  {
   "cell_type": "code",
   "execution_count": 87,
   "metadata": {},
   "outputs": [],
   "source": [
    "%matplotlib inline\n",
    "import numpy as np\n",
    "import pandas as pd\n",
    "import matplotlib as mpl\n",
    "import matplotlib.pyplot as plt\n",
    "import seaborn as sns\n",
    "import plotly.express as px"
   ]
  },
  {
   "cell_type": "code",
   "execution_count": 88,
   "metadata": {},
   "outputs": [],
   "source": [
    "df_india=pd.read_csv(r'C:\\Users\\ADITYA\\Desktop\\patients_data.csv')"
   ]
  },
  {
   "cell_type": "code",
   "execution_count": null,
   "metadata": {},
   "outputs": [],
   "source": []
  },
  {
   "cell_type": "code",
   "execution_count": 89,
   "metadata": {},
   "outputs": [],
   "source": [
    "locations = df_india.groupby(['detected_state', 'detected_district', 'detected_city'])['patient_number'].count().reset_index()\n",
    "locations['country'] = 'India'\n",
    "fig = px.treemap(locations, path=[\"country\", \"detected_state\", \"detected_district\", \"detected_city\"], values=\"patient_number\", height=700)"
   ]
  },
  {
   "cell_type": "code",
   "execution_count": 90,
   "metadata": {
    "scrolled": false
   },
   "outputs": [
    {
     "data": {
      "application/vnd.plotly.v1+json": {
       "config": {
        "plotlyServerURL": "https://plot.ly"
       },
       "data": [
        {
         "branchvalues": "total",
         "domain": {
          "x": [
           0,
           1
          ],
          "y": [
           0,
           1
          ]
         },
         "hoverlabel": {
          "namelength": 0
         },
         "hovertemplate": "labels=%{label}<br>patient_number=%{value}<br>parent=%{parent}<br>id=%{id}",
         "ids": [
          "India/Kerala/Ernakulam/ ",
          "India/Uttar Pradesh/Agra/Agra",
          "India/Gujarat/Ahmadabad/Ahmadabad",
          "India/Gujarat/Ahmadabad/Ahmedabad",
          "India/Maharashtra/Ahmadnagar/Ahmednagar",
          "India/Rajasthan/Ajmer/Ajmer",
          "India/Kerala/Alappuzha/Alappuzha",
          "India/Haryana/Ambala/Ambala",
          "India/Punjab/Amritsar/Amritsar",
          "India/Tamil Nadu/Chennai/Anna Nagar",
          "India/Tamil Nadu/Coimbatore/Annaimalai",
          "India/Tamil Nadu/Chennai/Ariyalur",
          "India/Puducherry/Puducherry/Ariyankuppam",
          "India/Delhi/North West Delhi/Ashok Vihar",
          "India/Maharashtra/Aurangabad/Aurangabad",
          "India/Uttar Pradesh/Baghpat/Baghpat",
          "India/Telangana/Hyderabad/Balkampet",
          "India/Punjab/Shahid Bhagat Singh Nagar/Banga",
          "India/Karnataka/Dakshina Kannada/Bantwal",
          "India/Karnataka/Bidar/Basavakalyan",
          "India/Tamil Nadu/Dindigul/Begampur",
          "India/Telangana/Hyderabad/Begumpet",
          "India/West Bengal/Kolkata/Beleghata",
          "India/Karnataka/Ballari/Bellary",
          "India/Karnataka/Bengaluru/Bengaluru",
          "India/Karnataka/Bengaluru/Bengaluru ",
          "India/Karnataka/Uttara Kannada/Bhatkal",
          "India/Gujarat/Bhavnagar/Bhavnagar",
          "India/Chhattisgarh/Durg/Bhilai",
          "India/Rajasthan/Bhilwara/Bhilwara",
          "India/Madhya Pradesh/Bhopal/Bhopal",
          "India/Odisha/Khordha/Bhubaneswar",
          "India/Karnataka/Bidar/Bilal Colony",
          "India/Chhattisgarh/Bilaspur/Bilaspur",
          "India/Tamil Nadu/Theni/Bodi",
          "India/Odisha/Khordha/Bomikhal",
          "India/Tamil Nadu/Chennai/Broadway",
          "India/Telangana/Ranga Reddy/Chandanagar",
          "India/Chandigarh/Chandigarh/Chandigarh",
          "India/Kerala/Kottayam/Chengalam",
          "India/Tamil Nadu/Chennai/Chennai",
          "India/Karnataka/Chikkaballapura/Chikkaballapura",
          "India/Tamil Nadu/Theni/Chinnamanur",
          "India/Andhra Pradesh/Prakasam/Chirala",
          "India/Karnataka/Chitradurga/Chitradurga",
          "India/Ladakh/Leh/Chuchot",
          "India/Ladakh/Leh/Chusot",
          "India/Tamil Nadu/Coimbatore/Coimbatore",
          "India/Karnataka/Davanagere/Davangere",
          "India/Uttarakhand/Dehradun/Dehradun",
          "India/Delhi/New Delhi/Delhi",
          "India/Tamil Nadu/Sivaganga/Devakottai",
          "India/Delhi/North East Delhi/Dilshad Garden",
          "India/Telangana/Hyderabad/Domalguda",
          "India/Uttarakhand/Pauri Garhwal/Dugadda",
          "India/West Bengal/Kolkata/Dum Dum",
          "India/Delhi/East Delhi/East Delhi (Mayur Vihar)",
          "India/Kerala/Kasaragod/Eriyal",
          "India/Haryana/Faridabad/Faridabad",
          "India/Telangana/Hyderabad/Gachibowli",
          "India/Gujarat/Gandhinagar/Gandhinagar",
          "India/Punjab/Hoshiarpur/Garhshankar",
          "India/Karnataka/Chikkaballapura/Gauribidanur",
          "India/Uttar Pradesh/Gautam Buddha Nagar/Gautam Buddh Nagar",
          "India/Delhi/South Delhi/Gautam Puri",
          "India/Uttar Pradesh/Ghaziabad/Ghaziabad",
          "India/Goa/North Goa/Goa",
          "India/Karnataka/Bidar/Golekbana",
          "India/Karnataka/Chikkaballapura/Gowribidanur",
          "India/Uttar Pradesh/Gautam Buddha Nagar/Greater Noida",
          "India/Andhra Pradesh/Guntur/Guntur",
          "India/Haryana/Gurugram/Gurugram",
          "India/West Bengal/North 24 Parganas/Habra",
          "India/Jammu and Kashmir/Bandipore/Hajin",
          "India/Jharkhand/Ranchi/Hindpidi",
          "India/Karnataka/Dharwad/Hosayellapur",
          "India/Karnataka/Ballari/Hospet",
          "India/Telangana/Hyderabad/Hyderabad",
          "India/Tamil Nadu/Sivaganga/Ilayankudi",
          "India/Manipur/Imphal West/Imphal",
          "India/Madhya Pradesh/Indore/Indore",
          "India/Madhya Pradesh/Jabalpur/Jabalpur",
          "India/Delhi/North West Delhi/Jahangirpuri",
          "India/Rajasthan/Jaipur/Jaipur",
          "India/Jammu and Kashmir/Jammu/Jammu",
          "India/Delhi/South West Delhi/Janakpuri",
          "India/Uttar Pradesh/Jaunpur/Jaunpur",
          "India/Rajasthan/Jhunjhunu/Jhunjhunu",
          "India/Rajasthan/Jodhpur/Jodhpur",
          "India/Kerala/Malappuram/Kadalundi",
          "India/Andhra Pradesh/East Godavari/Kakinada",
          "India/Karnataka/Kalaburagi/Kalaburagi",
          "India/Kerala/Kasaragod/Kalanadu",
          "India/Maharashtra/Thane/Kalyan",
          "India/Tamil Nadu/Kancheepuram/Kancheepuram",
          "India/Andhra Pradesh/Prakasam/Kandukuru",
          "India/Himachal Pradesh/Kangra/Kangra",
          "India/Kerala/Kannur/Kannur",
          "India/Uttar Pradesh/Kanpur Nagar/Kanpur",
          "India/Andhra Pradesh/Guntur/Karampudi",
          "India/Ladakh/Kargil/Kargil",
          "India/Telangana/Karimnagar/Karimnagar",
          "India/Tamil Nadu/Erode/Karunkalpalayam",
          "India/Kerala/Kasaragod/Kasaragod",
          "India/Tamil Nadu/Vellore/Katpadi",
          "India/Uttar Pradesh/Ghaziabad/Kaushambi",
          "India/Tamil Nadu/Chennai/Keelkattalai",
          "India/Maharashtra/Satara/Khandala",
          "India/Jammu and Kashmir/Srinagar/Khanyar",
          "India/Karnataka/Bidar/Kiramani Colony",
          "India/Kerala/Ernakulam/Kochi",
          "India/Karnataka/Kodagu/Kodagu",
          "India/Telangana/Ranga Reddy/Kokapet",
          "India/West Bengal/Kolkata/Kolkata",
          "India/Telangana/Bhadradri Kothagudem/Kothagudem",
          "India/Kerala/Pathanamthitta/Kozhencherry",
          "India/Telangana/Hyderabad/Kukatpally",
          "India/Tamil Nadu/Thanjavur/Kumbakonam",
          "India/Andhra Pradesh/Prakasam/Kunkala Marru",
          "India/Andhra Pradesh/Kurnool/Kurnool",
          "India/Ladakh/Leh/Ladakh",
          "India/Gujarat/Kachchh/Lakhapt",
          "India/Uttar Pradesh/Lucknow/Lakhimpur kheri",
          "India/Karnataka/Bidar/Lalwani Rd",
          "India/Ladakh/Leh/Leh",
          "India/Andhra Pradesh/Anantapur/Lepakshi",
          "India/Uttar Pradesh/Lucknow/Lucknow",
          "India/Punjab/Ludhiana/Ludhiana",
          "India/Andhra Pradesh/Guntur/Macherla",
          "India/Tamil Nadu/Madurai/Madurai",
          "India/Puducherry/Mahe/Mahe",
          "India/Kerala/Malappuram/Malappuram",
          "India/Karnataka/Dakshina Kannada/Mangaluru",
          "India/Telangana/Hyderabad/Manikonda",
          "India/Kerala/Kannur/Maradu",
          "India/Gujarat/Mahesana/Mehsana",
          "India/Tamil Nadu/Tirunelveli/Melapalayam",
          "India/Tamil Nadu/Coimbatore/Mettupalayam",
          "India/Punjab/S.A.S. Nagar/Mohali",
          "India/Uttar Pradesh/Moradabad/Moradabad",
          "India/Maharashtra/Mumbai/Mumbai",
          "India/Maharashtra/Mumbai/Mumbai City",
          "India/Maharashtra/Mumbai Suburban/Mumbai Suburb",
          "India/Bihar/Munger/Munger",
          "India/Kerala/Idukki/Munnar",
          "India/Karnataka/Mysuru/Mysuru",
          "India/Uttar Pradesh/Gautam Buddha Nagar/NOIDA",
          "India/Maharashtra/Nagpur/Nagpur",
          "India/Karnataka/Mysuru/Nanjangud",
          "India/Jammu and Kashmir/Srinagar/Natipora",
          "India/Punjab/Shahid Bhagat Singh Nagar/Nawanshahr",
          "India/West Bengal/Kolkata/Nayabad",
          "India/Kerala/Thiruvananthapuram/Nedumangad",
          "India/Andhra Pradesh/S.P.S. Nellore/Nellore",
          "India/Delhi/South Delhi/Nizamuddin area",
          "India/Uttar Pradesh/Gautam Buddha Nagar/Noida",
          "India/Uttar Pradesh/Gautam Buddha Nagar/Noida ",
          "India/Delhi/North Delhi/North Delhi",
          "India/Andhra Pradesh/Prakasam/Ongole",
          "India/Kerala/Palakkad/Ottapalam",
          "India/Haryana/Palwal/Palwal",
          "India/Tamil Nadu/Chengalpattu/Pammal",
          "India/Haryana/Panchkula/Panchkula",
          "India/Haryana/Panipat/Panipat",
          "India/Bihar/Patna/Patna",
          "India/Tamil Nadu/Theni/Periyakulam",
          "India/Tamil Nadu/Erode/Perundurai",
          "India/Punjab/Jalandhar/Phillaur",
          "India/Uttar Pradesh/Pilibhit/Pilibhit",
          "India/Maharashtra/Pune/Pimpri-Chinchwad",
          "India/Tamil Nadu/Coimbatore/Pollachi",
          "India/Tamil Nadu/Chennai/Porur",
          "India/Tamil Nadu/Coimbatore/Pothanur",
          "India/Kerala/Kollam/Prakulam",
          "India/Maharashtra/Pune/Pune",
          "India/Tamil Nadu/Chennai/Purasaivakkam",
          "India/Telangana/Medchal Malkajgiri/Qutbullapur",
          "India/Chhattisgarh/Raipur/Raipur",
          "India/Andhra Pradesh/East Godavari/Rajahmundry",
          "India/Tamil Nadu/Virudhunagar/Rajapalayam",
          "India/Gujarat/Rajkot/Rajkot",
          "India/Chhattisgarh/Rajnandgaon/Rajnandgaon",
          "India/Jammu and Kashmir/Jammu/Rajouri",
          "India/Jammu and Kashmir/Rajouri/Rajouri",
          "India/Rajasthan/Jaipur/Ramganj",
          "India/Delhi/North Delhi/Rana Pratap Bagh",
          "India/Kerala/Pathanamthitta/Ranni",
          "India/Telangana/Hyderabad/Saidabad",
          "India/Tamil Nadu/Chennai/Saidapet",
          "India/Delhi/South Delhi/Saket",
          "India/West Bengal/North 24 Parganas/Salt Lake",
          "India/Maharashtra/Sangli/Sangli",
          "India/Ladakh/Kargil/Sankoo Valley",
          "India/Telangana/Hyderabad/Secunderabad",
          "India/Karnataka/Bidar/Shahgunj",
          "India/Rajasthan/Jodhpur/Shashtri Nagar",
          "India/Maharashtra/Ratnagiri/Shrungartali",
          "India/Assam/Cachar/Silchar",
          "India/Telangana/Hyderabad/Somajiguda",
          "India/Haryana/Sonipat/Sonepat",
          "India/Andhra Pradesh/Chittoor/Srikalahasti",
          "India/Jammu and Kashmir/Srinagar/Srinagar",
          "India/Gujarat/Surat/Surat",
          "India/Kerala/Kannur/Temple Gate",
          "India/Maharashtra/Thane/Thane",
          "India/Tamil Nadu/Sivaganga/Thirupathur",
          "India/Kerala/Thiruvananthapuram/Thiruvananthapuram",
          "India/Puducherry/Puducherry/Thiruvandarkoil",
          "India/Kerala/Idukki/Thodupuzha",
          "India/Kerala/Thrissur/Thrissur",
          "India/Tamil Nadu/Tirunelveli/Tirunelveli",
          "India/Tamil Nadu/Tiruppur/Tiruppur",
          "India/West Bengal/South 24 Parganas/Tollygugne",
          "India/Delhi/North Delhi/Tri Nagar",
          "India/Karnataka/Tumakuru/Tumkur",
          "India/Karnataka/Udupi/Udupi",
          "India/Madhya Pradesh/Ujjain/Ujjain",
          "India/Tamil Nadu/Theni/Uthamapalayam",
          "India/Delhi/West Delhi/Uttam Nagar",
          "India/Gujarat/Vadodara/Vadodara",
          "India/Uttar Pradesh/Varanasi/Varanasi",
          "India/Kerala/Thiruvananthapuram/Varkala",
          "India/Kerala/Malappuram/Vengara",
          "India/Andhra Pradesh/Krishna/Vijayawada",
          "India/Andhra Pradesh/Visakhapatnam/Visakapatnam",
          "India/Andhra Pradesh/Visakhapatnam/Visakhapatnam",
          "India/Tamil Nadu/Vellore/Walajapet",
          "India/Delhi/West Delhi/West Delhi",
          "India/Tamil Nadu/Chennai/West Mambalam",
          "India/Maharashtra/Yavatmal/Yavatmal",
          "India/Tamil Nadu/Theni/periyakulam",
          "India/Uttar Pradesh/Agra",
          "India/Gujarat/Ahmadabad",
          "India/Maharashtra/Ahmadnagar",
          "India/Rajasthan/Ajmer",
          "India/Kerala/Alappuzha",
          "India/Haryana/Ambala",
          "India/Punjab/Amritsar",
          "India/Andhra Pradesh/Anantapur",
          "India/Maharashtra/Aurangabad",
          "India/Uttar Pradesh/Baghpat",
          "India/Karnataka/Ballari",
          "India/Jammu and Kashmir/Bandipore",
          "India/Karnataka/Bengaluru",
          "India/Telangana/Bhadradri Kothagudem",
          "India/Gujarat/Bhavnagar",
          "India/Rajasthan/Bhilwara",
          "India/Madhya Pradesh/Bhopal",
          "India/Karnataka/Bidar",
          "India/Chhattisgarh/Bilaspur",
          "India/Assam/Cachar",
          "India/Chandigarh/Chandigarh",
          "India/Tamil Nadu/Chengalpattu",
          "India/Tamil Nadu/Chennai",
          "India/Karnataka/Chikkaballapura",
          "India/Karnataka/Chitradurga",
          "India/Andhra Pradesh/Chittoor",
          "India/Tamil Nadu/Coimbatore",
          "India/Karnataka/Dakshina Kannada",
          "India/Karnataka/Davanagere",
          "India/Uttarakhand/Dehradun",
          "India/Karnataka/Dharwad",
          "India/Tamil Nadu/Dindigul",
          "India/Chhattisgarh/Durg",
          "India/Delhi/East Delhi",
          "India/Andhra Pradesh/East Godavari",
          "India/Kerala/Ernakulam",
          "India/Tamil Nadu/Erode",
          "India/Haryana/Faridabad",
          "India/Gujarat/Gandhinagar",
          "India/Uttar Pradesh/Gautam Buddha Nagar",
          "India/Uttar Pradesh/Ghaziabad",
          "India/Andhra Pradesh/Guntur",
          "India/Haryana/Gurugram",
          "India/Punjab/Hoshiarpur",
          "India/Telangana/Hyderabad",
          "India/Kerala/Idukki",
          "India/Manipur/Imphal West",
          "India/Madhya Pradesh/Indore",
          "India/Madhya Pradesh/Jabalpur",
          "India/Rajasthan/Jaipur",
          "India/Punjab/Jalandhar",
          "India/Jammu and Kashmir/Jammu",
          "India/Uttar Pradesh/Jaunpur",
          "India/Rajasthan/Jhunjhunu",
          "India/Rajasthan/Jodhpur",
          "India/Gujarat/Kachchh",
          "India/Karnataka/Kalaburagi",
          "India/Tamil Nadu/Kancheepuram",
          "India/Himachal Pradesh/Kangra",
          "India/Kerala/Kannur",
          "India/Uttar Pradesh/Kanpur Nagar",
          "India/Ladakh/Kargil",
          "India/Telangana/Karimnagar",
          "India/Kerala/Kasaragod",
          "India/Odisha/Khordha",
          "India/Karnataka/Kodagu",
          "India/West Bengal/Kolkata",
          "India/Kerala/Kollam",
          "India/Kerala/Kottayam",
          "India/Andhra Pradesh/Krishna",
          "India/Andhra Pradesh/Kurnool",
          "India/Ladakh/Leh",
          "India/Uttar Pradesh/Lucknow",
          "India/Punjab/Ludhiana",
          "India/Tamil Nadu/Madurai",
          "India/Puducherry/Mahe",
          "India/Gujarat/Mahesana",
          "India/Kerala/Malappuram",
          "India/Telangana/Medchal Malkajgiri",
          "India/Uttar Pradesh/Moradabad",
          "India/Maharashtra/Mumbai",
          "India/Maharashtra/Mumbai Suburban",
          "India/Bihar/Munger",
          "India/Karnataka/Mysuru",
          "India/Maharashtra/Nagpur",
          "India/Delhi/New Delhi",
          "India/West Bengal/North 24 Parganas",
          "India/Delhi/North Delhi",
          "India/Delhi/North East Delhi",
          "India/Goa/North Goa",
          "India/Delhi/North West Delhi",
          "India/Kerala/Palakkad",
          "India/Haryana/Palwal",
          "India/Haryana/Panchkula",
          "India/Haryana/Panipat",
          "India/Kerala/Pathanamthitta",
          "India/Bihar/Patna",
          "India/Uttarakhand/Pauri Garhwal",
          "India/Uttar Pradesh/Pilibhit",
          "India/Andhra Pradesh/Prakasam",
          "India/Puducherry/Puducherry",
          "India/Maharashtra/Pune",
          "India/Chhattisgarh/Raipur",
          "India/Gujarat/Rajkot",
          "India/Chhattisgarh/Rajnandgaon",
          "India/Jammu and Kashmir/Rajouri",
          "India/Jharkhand/Ranchi",
          "India/Telangana/Ranga Reddy",
          "India/Maharashtra/Ratnagiri",
          "India/Punjab/S.A.S. Nagar",
          "India/Andhra Pradesh/S.P.S. Nellore",
          "India/Maharashtra/Sangli",
          "India/Maharashtra/Satara",
          "India/Punjab/Shahid Bhagat Singh Nagar",
          "India/Tamil Nadu/Sivaganga",
          "India/Haryana/Sonipat",
          "India/West Bengal/South 24 Parganas",
          "India/Delhi/South Delhi",
          "India/Delhi/South West Delhi",
          "India/Jammu and Kashmir/Srinagar",
          "India/Gujarat/Surat",
          "India/Maharashtra/Thane",
          "India/Tamil Nadu/Thanjavur",
          "India/Tamil Nadu/Theni",
          "India/Kerala/Thiruvananthapuram",
          "India/Kerala/Thrissur",
          "India/Tamil Nadu/Tirunelveli",
          "India/Tamil Nadu/Tiruppur",
          "India/Karnataka/Tumakuru",
          "India/Karnataka/Udupi",
          "India/Madhya Pradesh/Ujjain",
          "India/Karnataka/Uttara Kannada",
          "India/Gujarat/Vadodara",
          "India/Uttar Pradesh/Varanasi",
          "India/Tamil Nadu/Vellore",
          "India/Tamil Nadu/Virudhunagar",
          "India/Andhra Pradesh/Visakhapatnam",
          "India/Delhi/West Delhi",
          "India/Maharashtra/Yavatmal",
          "India/Andhra Pradesh",
          "India/Assam",
          "India/Bihar",
          "India/Chandigarh",
          "India/Chhattisgarh",
          "India/Delhi",
          "India/Goa",
          "India/Gujarat",
          "India/Haryana",
          "India/Himachal Pradesh",
          "India/Jammu and Kashmir",
          "India/Jharkhand",
          "India/Karnataka",
          "India/Kerala",
          "India/Ladakh",
          "India/Madhya Pradesh",
          "India/Maharashtra",
          "India/Manipur",
          "India/Odisha",
          "India/Puducherry",
          "India/Punjab",
          "India/Rajasthan",
          "India/Tamil Nadu",
          "India/Telangana",
          "India/Uttar Pradesh",
          "India/Uttarakhand",
          "India/West Bengal",
          "India"
         ],
         "labels": [
          " ",
          "Agra",
          "Ahmadabad",
          "Ahmedabad",
          "Ahmednagar",
          "Ajmer",
          "Alappuzha",
          "Ambala",
          "Amritsar",
          "Anna Nagar",
          "Annaimalai",
          "Ariyalur",
          "Ariyankuppam",
          "Ashok Vihar",
          "Aurangabad",
          "Baghpat",
          "Balkampet",
          "Banga",
          "Bantwal",
          "Basavakalyan",
          "Begampur",
          "Begumpet",
          "Beleghata",
          "Bellary",
          "Bengaluru",
          "Bengaluru ",
          "Bhatkal",
          "Bhavnagar",
          "Bhilai",
          "Bhilwara",
          "Bhopal",
          "Bhubaneswar",
          "Bilal Colony",
          "Bilaspur",
          "Bodi",
          "Bomikhal",
          "Broadway",
          "Chandanagar",
          "Chandigarh",
          "Chengalam",
          "Chennai",
          "Chikkaballapura",
          "Chinnamanur",
          "Chirala",
          "Chitradurga",
          "Chuchot",
          "Chusot",
          "Coimbatore",
          "Davangere",
          "Dehradun",
          "Delhi",
          "Devakottai",
          "Dilshad Garden",
          "Domalguda",
          "Dugadda",
          "Dum Dum",
          "East Delhi (Mayur Vihar)",
          "Eriyal",
          "Faridabad",
          "Gachibowli",
          "Gandhinagar",
          "Garhshankar",
          "Gauribidanur",
          "Gautam Buddh Nagar",
          "Gautam Puri",
          "Ghaziabad",
          "Goa",
          "Golekbana",
          "Gowribidanur",
          "Greater Noida",
          "Guntur",
          "Gurugram",
          "Habra",
          "Hajin",
          "Hindpidi",
          "Hosayellapur",
          "Hospet",
          "Hyderabad",
          "Ilayankudi",
          "Imphal",
          "Indore",
          "Jabalpur",
          "Jahangirpuri",
          "Jaipur",
          "Jammu",
          "Janakpuri",
          "Jaunpur",
          "Jhunjhunu",
          "Jodhpur",
          "Kadalundi",
          "Kakinada",
          "Kalaburagi",
          "Kalanadu",
          "Kalyan",
          "Kancheepuram",
          "Kandukuru",
          "Kangra",
          "Kannur",
          "Kanpur",
          "Karampudi",
          "Kargil",
          "Karimnagar",
          "Karunkalpalayam",
          "Kasaragod",
          "Katpadi",
          "Kaushambi",
          "Keelkattalai",
          "Khandala",
          "Khanyar",
          "Kiramani Colony",
          "Kochi",
          "Kodagu",
          "Kokapet",
          "Kolkata",
          "Kothagudem",
          "Kozhencherry",
          "Kukatpally",
          "Kumbakonam",
          "Kunkala Marru",
          "Kurnool",
          "Ladakh",
          "Lakhapt",
          "Lakhimpur kheri",
          "Lalwani Rd",
          "Leh",
          "Lepakshi",
          "Lucknow",
          "Ludhiana",
          "Macherla",
          "Madurai",
          "Mahe",
          "Malappuram",
          "Mangaluru",
          "Manikonda",
          "Maradu",
          "Mehsana",
          "Melapalayam",
          "Mettupalayam",
          "Mohali",
          "Moradabad",
          "Mumbai",
          "Mumbai City",
          "Mumbai Suburb",
          "Munger",
          "Munnar",
          "Mysuru",
          "NOIDA",
          "Nagpur",
          "Nanjangud",
          "Natipora",
          "Nawanshahr",
          "Nayabad",
          "Nedumangad",
          "Nellore",
          "Nizamuddin area",
          "Noida",
          "Noida ",
          "North Delhi",
          "Ongole",
          "Ottapalam",
          "Palwal",
          "Pammal",
          "Panchkula",
          "Panipat",
          "Patna",
          "Periyakulam",
          "Perundurai",
          "Phillaur",
          "Pilibhit",
          "Pimpri-Chinchwad",
          "Pollachi",
          "Porur",
          "Pothanur",
          "Prakulam",
          "Pune",
          "Purasaivakkam",
          "Qutbullapur",
          "Raipur",
          "Rajahmundry",
          "Rajapalayam",
          "Rajkot",
          "Rajnandgaon",
          "Rajouri",
          "Rajouri",
          "Ramganj",
          "Rana Pratap Bagh",
          "Ranni",
          "Saidabad",
          "Saidapet",
          "Saket",
          "Salt Lake",
          "Sangli",
          "Sankoo Valley",
          "Secunderabad",
          "Shahgunj",
          "Shashtri Nagar",
          "Shrungartali",
          "Silchar",
          "Somajiguda",
          "Sonepat",
          "Srikalahasti",
          "Srinagar",
          "Surat",
          "Temple Gate",
          "Thane",
          "Thirupathur",
          "Thiruvananthapuram",
          "Thiruvandarkoil",
          "Thodupuzha",
          "Thrissur",
          "Tirunelveli",
          "Tiruppur",
          "Tollygugne",
          "Tri Nagar",
          "Tumkur",
          "Udupi",
          "Ujjain",
          "Uthamapalayam",
          "Uttam Nagar",
          "Vadodara",
          "Varanasi",
          "Varkala",
          "Vengara",
          "Vijayawada",
          "Visakapatnam",
          "Visakhapatnam",
          "Walajapet",
          "West Delhi",
          "West Mambalam",
          "Yavatmal",
          "periyakulam",
          "Agra",
          "Ahmadabad",
          "Ahmadnagar",
          "Ajmer",
          "Alappuzha",
          "Ambala",
          "Amritsar",
          "Anantapur",
          "Aurangabad",
          "Baghpat",
          "Ballari",
          "Bandipore",
          "Bengaluru",
          "Bhadradri Kothagudem",
          "Bhavnagar",
          "Bhilwara",
          "Bhopal",
          "Bidar",
          "Bilaspur",
          "Cachar",
          "Chandigarh",
          "Chengalpattu",
          "Chennai",
          "Chikkaballapura",
          "Chitradurga",
          "Chittoor",
          "Coimbatore",
          "Dakshina Kannada",
          "Davanagere",
          "Dehradun",
          "Dharwad",
          "Dindigul",
          "Durg",
          "East Delhi",
          "East Godavari",
          "Ernakulam",
          "Erode",
          "Faridabad",
          "Gandhinagar",
          "Gautam Buddha Nagar",
          "Ghaziabad",
          "Guntur",
          "Gurugram",
          "Hoshiarpur",
          "Hyderabad",
          "Idukki",
          "Imphal West",
          "Indore",
          "Jabalpur",
          "Jaipur",
          "Jalandhar",
          "Jammu",
          "Jaunpur",
          "Jhunjhunu",
          "Jodhpur",
          "Kachchh",
          "Kalaburagi",
          "Kancheepuram",
          "Kangra",
          "Kannur",
          "Kanpur Nagar",
          "Kargil",
          "Karimnagar",
          "Kasaragod",
          "Khordha",
          "Kodagu",
          "Kolkata",
          "Kollam",
          "Kottayam",
          "Krishna",
          "Kurnool",
          "Leh",
          "Lucknow",
          "Ludhiana",
          "Madurai",
          "Mahe",
          "Mahesana",
          "Malappuram",
          "Medchal Malkajgiri",
          "Moradabad",
          "Mumbai",
          "Mumbai Suburban",
          "Munger",
          "Mysuru",
          "Nagpur",
          "New Delhi",
          "North 24 Parganas",
          "North Delhi",
          "North East Delhi",
          "North Goa",
          "North West Delhi",
          "Palakkad",
          "Palwal",
          "Panchkula",
          "Panipat",
          "Pathanamthitta",
          "Patna",
          "Pauri Garhwal",
          "Pilibhit",
          "Prakasam",
          "Puducherry",
          "Pune",
          "Raipur",
          "Rajkot",
          "Rajnandgaon",
          "Rajouri",
          "Ranchi",
          "Ranga Reddy",
          "Ratnagiri",
          "S.A.S. Nagar",
          "S.P.S. Nellore",
          "Sangli",
          "Satara",
          "Shahid Bhagat Singh Nagar",
          "Sivaganga",
          "Sonipat",
          "South 24 Parganas",
          "South Delhi",
          "South West Delhi",
          "Srinagar",
          "Surat",
          "Thane",
          "Thanjavur",
          "Theni",
          "Thiruvananthapuram",
          "Thrissur",
          "Tirunelveli",
          "Tiruppur",
          "Tumakuru",
          "Udupi",
          "Ujjain",
          "Uttara Kannada",
          "Vadodara",
          "Varanasi",
          "Vellore",
          "Virudhunagar",
          "Visakhapatnam",
          "West Delhi",
          "Yavatmal",
          "Andhra Pradesh",
          "Assam",
          "Bihar",
          "Chandigarh",
          "Chhattisgarh",
          "Delhi",
          "Goa",
          "Gujarat",
          "Haryana",
          "Himachal Pradesh",
          "Jammu and Kashmir",
          "Jharkhand",
          "Karnataka",
          "Kerala",
          "Ladakh",
          "Madhya Pradesh",
          "Maharashtra",
          "Manipur",
          "Odisha",
          "Puducherry",
          "Punjab",
          "Rajasthan",
          "Tamil Nadu",
          "Telangana",
          "Uttar Pradesh",
          "Uttarakhand",
          "West Bengal",
          "India"
         ],
         "name": "",
         "parents": [
          "India/Kerala/Ernakulam",
          "India/Uttar Pradesh/Agra",
          "India/Gujarat/Ahmadabad",
          "India/Gujarat/Ahmadabad",
          "India/Maharashtra/Ahmadnagar",
          "India/Rajasthan/Ajmer",
          "India/Kerala/Alappuzha",
          "India/Haryana/Ambala",
          "India/Punjab/Amritsar",
          "India/Tamil Nadu/Chennai",
          "India/Tamil Nadu/Coimbatore",
          "India/Tamil Nadu/Chennai",
          "India/Puducherry/Puducherry",
          "India/Delhi/North West Delhi",
          "India/Maharashtra/Aurangabad",
          "India/Uttar Pradesh/Baghpat",
          "India/Telangana/Hyderabad",
          "India/Punjab/Shahid Bhagat Singh Nagar",
          "India/Karnataka/Dakshina Kannada",
          "India/Karnataka/Bidar",
          "India/Tamil Nadu/Dindigul",
          "India/Telangana/Hyderabad",
          "India/West Bengal/Kolkata",
          "India/Karnataka/Ballari",
          "India/Karnataka/Bengaluru",
          "India/Karnataka/Bengaluru",
          "India/Karnataka/Uttara Kannada",
          "India/Gujarat/Bhavnagar",
          "India/Chhattisgarh/Durg",
          "India/Rajasthan/Bhilwara",
          "India/Madhya Pradesh/Bhopal",
          "India/Odisha/Khordha",
          "India/Karnataka/Bidar",
          "India/Chhattisgarh/Bilaspur",
          "India/Tamil Nadu/Theni",
          "India/Odisha/Khordha",
          "India/Tamil Nadu/Chennai",
          "India/Telangana/Ranga Reddy",
          "India/Chandigarh/Chandigarh",
          "India/Kerala/Kottayam",
          "India/Tamil Nadu/Chennai",
          "India/Karnataka/Chikkaballapura",
          "India/Tamil Nadu/Theni",
          "India/Andhra Pradesh/Prakasam",
          "India/Karnataka/Chitradurga",
          "India/Ladakh/Leh",
          "India/Ladakh/Leh",
          "India/Tamil Nadu/Coimbatore",
          "India/Karnataka/Davanagere",
          "India/Uttarakhand/Dehradun",
          "India/Delhi/New Delhi",
          "India/Tamil Nadu/Sivaganga",
          "India/Delhi/North East Delhi",
          "India/Telangana/Hyderabad",
          "India/Uttarakhand/Pauri Garhwal",
          "India/West Bengal/Kolkata",
          "India/Delhi/East Delhi",
          "India/Kerala/Kasaragod",
          "India/Haryana/Faridabad",
          "India/Telangana/Hyderabad",
          "India/Gujarat/Gandhinagar",
          "India/Punjab/Hoshiarpur",
          "India/Karnataka/Chikkaballapura",
          "India/Uttar Pradesh/Gautam Buddha Nagar",
          "India/Delhi/South Delhi",
          "India/Uttar Pradesh/Ghaziabad",
          "India/Goa/North Goa",
          "India/Karnataka/Bidar",
          "India/Karnataka/Chikkaballapura",
          "India/Uttar Pradesh/Gautam Buddha Nagar",
          "India/Andhra Pradesh/Guntur",
          "India/Haryana/Gurugram",
          "India/West Bengal/North 24 Parganas",
          "India/Jammu and Kashmir/Bandipore",
          "India/Jharkhand/Ranchi",
          "India/Karnataka/Dharwad",
          "India/Karnataka/Ballari",
          "India/Telangana/Hyderabad",
          "India/Tamil Nadu/Sivaganga",
          "India/Manipur/Imphal West",
          "India/Madhya Pradesh/Indore",
          "India/Madhya Pradesh/Jabalpur",
          "India/Delhi/North West Delhi",
          "India/Rajasthan/Jaipur",
          "India/Jammu and Kashmir/Jammu",
          "India/Delhi/South West Delhi",
          "India/Uttar Pradesh/Jaunpur",
          "India/Rajasthan/Jhunjhunu",
          "India/Rajasthan/Jodhpur",
          "India/Kerala/Malappuram",
          "India/Andhra Pradesh/East Godavari",
          "India/Karnataka/Kalaburagi",
          "India/Kerala/Kasaragod",
          "India/Maharashtra/Thane",
          "India/Tamil Nadu/Kancheepuram",
          "India/Andhra Pradesh/Prakasam",
          "India/Himachal Pradesh/Kangra",
          "India/Kerala/Kannur",
          "India/Uttar Pradesh/Kanpur Nagar",
          "India/Andhra Pradesh/Guntur",
          "India/Ladakh/Kargil",
          "India/Telangana/Karimnagar",
          "India/Tamil Nadu/Erode",
          "India/Kerala/Kasaragod",
          "India/Tamil Nadu/Vellore",
          "India/Uttar Pradesh/Ghaziabad",
          "India/Tamil Nadu/Chennai",
          "India/Maharashtra/Satara",
          "India/Jammu and Kashmir/Srinagar",
          "India/Karnataka/Bidar",
          "India/Kerala/Ernakulam",
          "India/Karnataka/Kodagu",
          "India/Telangana/Ranga Reddy",
          "India/West Bengal/Kolkata",
          "India/Telangana/Bhadradri Kothagudem",
          "India/Kerala/Pathanamthitta",
          "India/Telangana/Hyderabad",
          "India/Tamil Nadu/Thanjavur",
          "India/Andhra Pradesh/Prakasam",
          "India/Andhra Pradesh/Kurnool",
          "India/Ladakh/Leh",
          "India/Gujarat/Kachchh",
          "India/Uttar Pradesh/Lucknow",
          "India/Karnataka/Bidar",
          "India/Ladakh/Leh",
          "India/Andhra Pradesh/Anantapur",
          "India/Uttar Pradesh/Lucknow",
          "India/Punjab/Ludhiana",
          "India/Andhra Pradesh/Guntur",
          "India/Tamil Nadu/Madurai",
          "India/Puducherry/Mahe",
          "India/Kerala/Malappuram",
          "India/Karnataka/Dakshina Kannada",
          "India/Telangana/Hyderabad",
          "India/Kerala/Kannur",
          "India/Gujarat/Mahesana",
          "India/Tamil Nadu/Tirunelveli",
          "India/Tamil Nadu/Coimbatore",
          "India/Punjab/S.A.S. Nagar",
          "India/Uttar Pradesh/Moradabad",
          "India/Maharashtra/Mumbai",
          "India/Maharashtra/Mumbai",
          "India/Maharashtra/Mumbai Suburban",
          "India/Bihar/Munger",
          "India/Kerala/Idukki",
          "India/Karnataka/Mysuru",
          "India/Uttar Pradesh/Gautam Buddha Nagar",
          "India/Maharashtra/Nagpur",
          "India/Karnataka/Mysuru",
          "India/Jammu and Kashmir/Srinagar",
          "India/Punjab/Shahid Bhagat Singh Nagar",
          "India/West Bengal/Kolkata",
          "India/Kerala/Thiruvananthapuram",
          "India/Andhra Pradesh/S.P.S. Nellore",
          "India/Delhi/South Delhi",
          "India/Uttar Pradesh/Gautam Buddha Nagar",
          "India/Uttar Pradesh/Gautam Buddha Nagar",
          "India/Delhi/North Delhi",
          "India/Andhra Pradesh/Prakasam",
          "India/Kerala/Palakkad",
          "India/Haryana/Palwal",
          "India/Tamil Nadu/Chengalpattu",
          "India/Haryana/Panchkula",
          "India/Haryana/Panipat",
          "India/Bihar/Patna",
          "India/Tamil Nadu/Theni",
          "India/Tamil Nadu/Erode",
          "India/Punjab/Jalandhar",
          "India/Uttar Pradesh/Pilibhit",
          "India/Maharashtra/Pune",
          "India/Tamil Nadu/Coimbatore",
          "India/Tamil Nadu/Chennai",
          "India/Tamil Nadu/Coimbatore",
          "India/Kerala/Kollam",
          "India/Maharashtra/Pune",
          "India/Tamil Nadu/Chennai",
          "India/Telangana/Medchal Malkajgiri",
          "India/Chhattisgarh/Raipur",
          "India/Andhra Pradesh/East Godavari",
          "India/Tamil Nadu/Virudhunagar",
          "India/Gujarat/Rajkot",
          "India/Chhattisgarh/Rajnandgaon",
          "India/Jammu and Kashmir/Jammu",
          "India/Jammu and Kashmir/Rajouri",
          "India/Rajasthan/Jaipur",
          "India/Delhi/North Delhi",
          "India/Kerala/Pathanamthitta",
          "India/Telangana/Hyderabad",
          "India/Tamil Nadu/Chennai",
          "India/Delhi/South Delhi",
          "India/West Bengal/North 24 Parganas",
          "India/Maharashtra/Sangli",
          "India/Ladakh/Kargil",
          "India/Telangana/Hyderabad",
          "India/Karnataka/Bidar",
          "India/Rajasthan/Jodhpur",
          "India/Maharashtra/Ratnagiri",
          "India/Assam/Cachar",
          "India/Telangana/Hyderabad",
          "India/Haryana/Sonipat",
          "India/Andhra Pradesh/Chittoor",
          "India/Jammu and Kashmir/Srinagar",
          "India/Gujarat/Surat",
          "India/Kerala/Kannur",
          "India/Maharashtra/Thane",
          "India/Tamil Nadu/Sivaganga",
          "India/Kerala/Thiruvananthapuram",
          "India/Puducherry/Puducherry",
          "India/Kerala/Idukki",
          "India/Kerala/Thrissur",
          "India/Tamil Nadu/Tirunelveli",
          "India/Tamil Nadu/Tiruppur",
          "India/West Bengal/South 24 Parganas",
          "India/Delhi/North Delhi",
          "India/Karnataka/Tumakuru",
          "India/Karnataka/Udupi",
          "India/Madhya Pradesh/Ujjain",
          "India/Tamil Nadu/Theni",
          "India/Delhi/West Delhi",
          "India/Gujarat/Vadodara",
          "India/Uttar Pradesh/Varanasi",
          "India/Kerala/Thiruvananthapuram",
          "India/Kerala/Malappuram",
          "India/Andhra Pradesh/Krishna",
          "India/Andhra Pradesh/Visakhapatnam",
          "India/Andhra Pradesh/Visakhapatnam",
          "India/Tamil Nadu/Vellore",
          "India/Delhi/West Delhi",
          "India/Tamil Nadu/Chennai",
          "India/Maharashtra/Yavatmal",
          "India/Tamil Nadu/Theni",
          "India/Uttar Pradesh",
          "India/Gujarat",
          "India/Maharashtra",
          "India/Rajasthan",
          "India/Kerala",
          "India/Haryana",
          "India/Punjab",
          "India/Andhra Pradesh",
          "India/Maharashtra",
          "India/Uttar Pradesh",
          "India/Karnataka",
          "India/Jammu and Kashmir",
          "India/Karnataka",
          "India/Telangana",
          "India/Gujarat",
          "India/Rajasthan",
          "India/Madhya Pradesh",
          "India/Karnataka",
          "India/Chhattisgarh",
          "India/Assam",
          "India/Chandigarh",
          "India/Tamil Nadu",
          "India/Tamil Nadu",
          "India/Karnataka",
          "India/Karnataka",
          "India/Andhra Pradesh",
          "India/Tamil Nadu",
          "India/Karnataka",
          "India/Karnataka",
          "India/Uttarakhand",
          "India/Karnataka",
          "India/Tamil Nadu",
          "India/Chhattisgarh",
          "India/Delhi",
          "India/Andhra Pradesh",
          "India/Kerala",
          "India/Tamil Nadu",
          "India/Haryana",
          "India/Gujarat",
          "India/Uttar Pradesh",
          "India/Uttar Pradesh",
          "India/Andhra Pradesh",
          "India/Haryana",
          "India/Punjab",
          "India/Telangana",
          "India/Kerala",
          "India/Manipur",
          "India/Madhya Pradesh",
          "India/Madhya Pradesh",
          "India/Rajasthan",
          "India/Punjab",
          "India/Jammu and Kashmir",
          "India/Uttar Pradesh",
          "India/Rajasthan",
          "India/Rajasthan",
          "India/Gujarat",
          "India/Karnataka",
          "India/Tamil Nadu",
          "India/Himachal Pradesh",
          "India/Kerala",
          "India/Uttar Pradesh",
          "India/Ladakh",
          "India/Telangana",
          "India/Kerala",
          "India/Odisha",
          "India/Karnataka",
          "India/West Bengal",
          "India/Kerala",
          "India/Kerala",
          "India/Andhra Pradesh",
          "India/Andhra Pradesh",
          "India/Ladakh",
          "India/Uttar Pradesh",
          "India/Punjab",
          "India/Tamil Nadu",
          "India/Puducherry",
          "India/Gujarat",
          "India/Kerala",
          "India/Telangana",
          "India/Uttar Pradesh",
          "India/Maharashtra",
          "India/Maharashtra",
          "India/Bihar",
          "India/Karnataka",
          "India/Maharashtra",
          "India/Delhi",
          "India/West Bengal",
          "India/Delhi",
          "India/Delhi",
          "India/Goa",
          "India/Delhi",
          "India/Kerala",
          "India/Haryana",
          "India/Haryana",
          "India/Haryana",
          "India/Kerala",
          "India/Bihar",
          "India/Uttarakhand",
          "India/Uttar Pradesh",
          "India/Andhra Pradesh",
          "India/Puducherry",
          "India/Maharashtra",
          "India/Chhattisgarh",
          "India/Gujarat",
          "India/Chhattisgarh",
          "India/Jammu and Kashmir",
          "India/Jharkhand",
          "India/Telangana",
          "India/Maharashtra",
          "India/Punjab",
          "India/Andhra Pradesh",
          "India/Maharashtra",
          "India/Maharashtra",
          "India/Punjab",
          "India/Tamil Nadu",
          "India/Haryana",
          "India/West Bengal",
          "India/Delhi",
          "India/Delhi",
          "India/Jammu and Kashmir",
          "India/Gujarat",
          "India/Maharashtra",
          "India/Tamil Nadu",
          "India/Tamil Nadu",
          "India/Kerala",
          "India/Kerala",
          "India/Tamil Nadu",
          "India/Tamil Nadu",
          "India/Karnataka",
          "India/Karnataka",
          "India/Madhya Pradesh",
          "India/Karnataka",
          "India/Gujarat",
          "India/Uttar Pradesh",
          "India/Tamil Nadu",
          "India/Tamil Nadu",
          "India/Andhra Pradesh",
          "India/Delhi",
          "India/Maharashtra",
          "India",
          "India",
          "India",
          "India",
          "India",
          "India",
          "India",
          "India",
          "India",
          "India",
          "India",
          "India",
          "India",
          "India",
          "India",
          "India",
          "India",
          "India",
          "India",
          "India",
          "India",
          "India",
          "India",
          "India",
          "India",
          "India",
          "India",
          ""
         ],
         "type": "treemap",
         "values": [
          1,
          9,
          7,
          17,
          3,
          4,
          1,
          1,
          1,
          1,
          5,
          1,
          3,
          1,
          1,
          1,
          1,
          1,
          1,
          1,
          4,
          1,
          3,
          1,
          41,
          3,
          7,
          2,
          1,
          18,
          2,
          3,
          1,
          1,
          13,
          3,
          1,
          1,
          7,
          2,
          8,
          1,
          1,
          7,
          1,
          1,
          2,
          1,
          2,
          3,
          3,
          1,
          1,
          2,
          1,
          1,
          1,
          1,
          2,
          1,
          7,
          2,
          6,
          1,
          1,
          2,
          3,
          1,
          2,
          3,
          1,
          17,
          1,
          4,
          1,
          1,
          3,
          23,
          1,
          1,
          9,
          8,
          2,
          11,
          2,
          3,
          1,
          6,
          1,
          1,
          1,
          4,
          1,
          1,
          1,
          1,
          3,
          2,
          1,
          1,
          1,
          3,
          2,
          26,
          1,
          1,
          1,
          1,
          1,
          1,
          9,
          1,
          1,
          4,
          1,
          2,
          2,
          1,
          1,
          1,
          2,
          1,
          1,
          1,
          6,
          2,
          7,
          1,
          2,
          1,
          1,
          2,
          4,
          1,
          3,
          1,
          1,
          20,
          5,
          1,
          67,
          1,
          4,
          1,
          1,
          2,
          3,
          5,
          7,
          3,
          6,
          1,
          1,
          1,
          24,
          12,
          3,
          1,
          1,
          1,
          1,
          1,
          1,
          3,
          1,
          2,
          17,
          3,
          2,
          9,
          2,
          1,
          1,
          1,
          24,
          2,
          1,
          3,
          2,
          1,
          7,
          1,
          1,
          1,
          7,
          1,
          7,
          1,
          1,
          1,
          1,
          9,
          1,
          1,
          1,
          1,
          1,
          1,
          1,
          1,
          1,
          3,
          5,
          2,
          4,
          3,
          2,
          1,
          1,
          2,
          1,
          1,
          1,
          1,
          1,
          1,
          1,
          2,
          1,
          9,
          1,
          1,
          1,
          4,
          1,
          2,
          1,
          1,
          1,
          4,
          1,
          9,
          24,
          3,
          4,
          1,
          1,
          1,
          2,
          1,
          1,
          4,
          4,
          44,
          1,
          2,
          18,
          2,
          6,
          1,
          1,
          7,
          1,
          17,
          9,
          1,
          1,
          29,
          5,
          2,
          3,
          1,
          4,
          1,
          1,
          3,
          10,
          19,
          2,
          7,
          22,
          3,
          4,
          17,
          2,
          34,
          2,
          1,
          9,
          8,
          18,
          3,
          3,
          1,
          6,
          2,
          1,
          4,
          1,
          3,
          7,
          1,
          2,
          3,
          28,
          6,
          1,
          9,
          1,
          2,
          4,
          1,
          11,
          8,
          1,
          1,
          1,
          1,
          4,
          1,
          1,
          68,
          4,
          1,
          9,
          5,
          3,
          2,
          3,
          1,
          3,
          3,
          1,
          1,
          1,
          3,
          9,
          1,
          1,
          2,
          10,
          4,
          33,
          3,
          7,
          1,
          1,
          1,
          2,
          1,
          5,
          1,
          9,
          1,
          7,
          5,
          1,
          1,
          26,
          3,
          7,
          5,
          5,
          1,
          19,
          4,
          2,
          2,
          1,
          1,
          1,
          1,
          7,
          9,
          1,
          2,
          1,
          3,
          2,
          4,
          29,
          1,
          2,
          7,
          6,
          42,
          3,
          56,
          26,
          3,
          15,
          1,
          95,
          71,
          13,
          20,
          134,
          1,
          6,
          5,
          19,
          48,
          103,
          41,
          49,
          4,
          12,
          812
         ]
        }
       ],
       "layout": {
        "height": 700,
        "legend": {
         "tracegroupgap": 0
        },
        "margin": {
         "t": 60
        },
        "template": {
         "data": {
          "bar": [
           {
            "error_x": {
             "color": "#2a3f5f"
            },
            "error_y": {
             "color": "#2a3f5f"
            },
            "marker": {
             "line": {
              "color": "#E5ECF6",
              "width": 0.5
             }
            },
            "type": "bar"
           }
          ],
          "barpolar": [
           {
            "marker": {
             "line": {
              "color": "#E5ECF6",
              "width": 0.5
             }
            },
            "type": "barpolar"
           }
          ],
          "carpet": [
           {
            "aaxis": {
             "endlinecolor": "#2a3f5f",
             "gridcolor": "white",
             "linecolor": "white",
             "minorgridcolor": "white",
             "startlinecolor": "#2a3f5f"
            },
            "baxis": {
             "endlinecolor": "#2a3f5f",
             "gridcolor": "white",
             "linecolor": "white",
             "minorgridcolor": "white",
             "startlinecolor": "#2a3f5f"
            },
            "type": "carpet"
           }
          ],
          "choropleth": [
           {
            "colorbar": {
             "outlinewidth": 0,
             "ticks": ""
            },
            "type": "choropleth"
           }
          ],
          "contour": [
           {
            "colorbar": {
             "outlinewidth": 0,
             "ticks": ""
            },
            "colorscale": [
             [
              0,
              "#0d0887"
             ],
             [
              0.1111111111111111,
              "#46039f"
             ],
             [
              0.2222222222222222,
              "#7201a8"
             ],
             [
              0.3333333333333333,
              "#9c179e"
             ],
             [
              0.4444444444444444,
              "#bd3786"
             ],
             [
              0.5555555555555556,
              "#d8576b"
             ],
             [
              0.6666666666666666,
              "#ed7953"
             ],
             [
              0.7777777777777778,
              "#fb9f3a"
             ],
             [
              0.8888888888888888,
              "#fdca26"
             ],
             [
              1,
              "#f0f921"
             ]
            ],
            "type": "contour"
           }
          ],
          "contourcarpet": [
           {
            "colorbar": {
             "outlinewidth": 0,
             "ticks": ""
            },
            "type": "contourcarpet"
           }
          ],
          "heatmap": [
           {
            "colorbar": {
             "outlinewidth": 0,
             "ticks": ""
            },
            "colorscale": [
             [
              0,
              "#0d0887"
             ],
             [
              0.1111111111111111,
              "#46039f"
             ],
             [
              0.2222222222222222,
              "#7201a8"
             ],
             [
              0.3333333333333333,
              "#9c179e"
             ],
             [
              0.4444444444444444,
              "#bd3786"
             ],
             [
              0.5555555555555556,
              "#d8576b"
             ],
             [
              0.6666666666666666,
              "#ed7953"
             ],
             [
              0.7777777777777778,
              "#fb9f3a"
             ],
             [
              0.8888888888888888,
              "#fdca26"
             ],
             [
              1,
              "#f0f921"
             ]
            ],
            "type": "heatmap"
           }
          ],
          "heatmapgl": [
           {
            "colorbar": {
             "outlinewidth": 0,
             "ticks": ""
            },
            "colorscale": [
             [
              0,
              "#0d0887"
             ],
             [
              0.1111111111111111,
              "#46039f"
             ],
             [
              0.2222222222222222,
              "#7201a8"
             ],
             [
              0.3333333333333333,
              "#9c179e"
             ],
             [
              0.4444444444444444,
              "#bd3786"
             ],
             [
              0.5555555555555556,
              "#d8576b"
             ],
             [
              0.6666666666666666,
              "#ed7953"
             ],
             [
              0.7777777777777778,
              "#fb9f3a"
             ],
             [
              0.8888888888888888,
              "#fdca26"
             ],
             [
              1,
              "#f0f921"
             ]
            ],
            "type": "heatmapgl"
           }
          ],
          "histogram": [
           {
            "marker": {
             "colorbar": {
              "outlinewidth": 0,
              "ticks": ""
             }
            },
            "type": "histogram"
           }
          ],
          "histogram2d": [
           {
            "colorbar": {
             "outlinewidth": 0,
             "ticks": ""
            },
            "colorscale": [
             [
              0,
              "#0d0887"
             ],
             [
              0.1111111111111111,
              "#46039f"
             ],
             [
              0.2222222222222222,
              "#7201a8"
             ],
             [
              0.3333333333333333,
              "#9c179e"
             ],
             [
              0.4444444444444444,
              "#bd3786"
             ],
             [
              0.5555555555555556,
              "#d8576b"
             ],
             [
              0.6666666666666666,
              "#ed7953"
             ],
             [
              0.7777777777777778,
              "#fb9f3a"
             ],
             [
              0.8888888888888888,
              "#fdca26"
             ],
             [
              1,
              "#f0f921"
             ]
            ],
            "type": "histogram2d"
           }
          ],
          "histogram2dcontour": [
           {
            "colorbar": {
             "outlinewidth": 0,
             "ticks": ""
            },
            "colorscale": [
             [
              0,
              "#0d0887"
             ],
             [
              0.1111111111111111,
              "#46039f"
             ],
             [
              0.2222222222222222,
              "#7201a8"
             ],
             [
              0.3333333333333333,
              "#9c179e"
             ],
             [
              0.4444444444444444,
              "#bd3786"
             ],
             [
              0.5555555555555556,
              "#d8576b"
             ],
             [
              0.6666666666666666,
              "#ed7953"
             ],
             [
              0.7777777777777778,
              "#fb9f3a"
             ],
             [
              0.8888888888888888,
              "#fdca26"
             ],
             [
              1,
              "#f0f921"
             ]
            ],
            "type": "histogram2dcontour"
           }
          ],
          "mesh3d": [
           {
            "colorbar": {
             "outlinewidth": 0,
             "ticks": ""
            },
            "type": "mesh3d"
           }
          ],
          "parcoords": [
           {
            "line": {
             "colorbar": {
              "outlinewidth": 0,
              "ticks": ""
             }
            },
            "type": "parcoords"
           }
          ],
          "pie": [
           {
            "automargin": true,
            "type": "pie"
           }
          ],
          "scatter": [
           {
            "marker": {
             "colorbar": {
              "outlinewidth": 0,
              "ticks": ""
             }
            },
            "type": "scatter"
           }
          ],
          "scatter3d": [
           {
            "line": {
             "colorbar": {
              "outlinewidth": 0,
              "ticks": ""
             }
            },
            "marker": {
             "colorbar": {
              "outlinewidth": 0,
              "ticks": ""
             }
            },
            "type": "scatter3d"
           }
          ],
          "scattercarpet": [
           {
            "marker": {
             "colorbar": {
              "outlinewidth": 0,
              "ticks": ""
             }
            },
            "type": "scattercarpet"
           }
          ],
          "scattergeo": [
           {
            "marker": {
             "colorbar": {
              "outlinewidth": 0,
              "ticks": ""
             }
            },
            "type": "scattergeo"
           }
          ],
          "scattergl": [
           {
            "marker": {
             "colorbar": {
              "outlinewidth": 0,
              "ticks": ""
             }
            },
            "type": "scattergl"
           }
          ],
          "scattermapbox": [
           {
            "marker": {
             "colorbar": {
              "outlinewidth": 0,
              "ticks": ""
             }
            },
            "type": "scattermapbox"
           }
          ],
          "scatterpolar": [
           {
            "marker": {
             "colorbar": {
              "outlinewidth": 0,
              "ticks": ""
             }
            },
            "type": "scatterpolar"
           }
          ],
          "scatterpolargl": [
           {
            "marker": {
             "colorbar": {
              "outlinewidth": 0,
              "ticks": ""
             }
            },
            "type": "scatterpolargl"
           }
          ],
          "scatterternary": [
           {
            "marker": {
             "colorbar": {
              "outlinewidth": 0,
              "ticks": ""
             }
            },
            "type": "scatterternary"
           }
          ],
          "surface": [
           {
            "colorbar": {
             "outlinewidth": 0,
             "ticks": ""
            },
            "colorscale": [
             [
              0,
              "#0d0887"
             ],
             [
              0.1111111111111111,
              "#46039f"
             ],
             [
              0.2222222222222222,
              "#7201a8"
             ],
             [
              0.3333333333333333,
              "#9c179e"
             ],
             [
              0.4444444444444444,
              "#bd3786"
             ],
             [
              0.5555555555555556,
              "#d8576b"
             ],
             [
              0.6666666666666666,
              "#ed7953"
             ],
             [
              0.7777777777777778,
              "#fb9f3a"
             ],
             [
              0.8888888888888888,
              "#fdca26"
             ],
             [
              1,
              "#f0f921"
             ]
            ],
            "type": "surface"
           }
          ],
          "table": [
           {
            "cells": {
             "fill": {
              "color": "#EBF0F8"
             },
             "line": {
              "color": "white"
             }
            },
            "header": {
             "fill": {
              "color": "#C8D4E3"
             },
             "line": {
              "color": "white"
             }
            },
            "type": "table"
           }
          ]
         },
         "layout": {
          "annotationdefaults": {
           "arrowcolor": "#2a3f5f",
           "arrowhead": 0,
           "arrowwidth": 1
          },
          "coloraxis": {
           "colorbar": {
            "outlinewidth": 0,
            "ticks": ""
           }
          },
          "colorscale": {
           "diverging": [
            [
             0,
             "#8e0152"
            ],
            [
             0.1,
             "#c51b7d"
            ],
            [
             0.2,
             "#de77ae"
            ],
            [
             0.3,
             "#f1b6da"
            ],
            [
             0.4,
             "#fde0ef"
            ],
            [
             0.5,
             "#f7f7f7"
            ],
            [
             0.6,
             "#e6f5d0"
            ],
            [
             0.7,
             "#b8e186"
            ],
            [
             0.8,
             "#7fbc41"
            ],
            [
             0.9,
             "#4d9221"
            ],
            [
             1,
             "#276419"
            ]
           ],
           "sequential": [
            [
             0,
             "#0d0887"
            ],
            [
             0.1111111111111111,
             "#46039f"
            ],
            [
             0.2222222222222222,
             "#7201a8"
            ],
            [
             0.3333333333333333,
             "#9c179e"
            ],
            [
             0.4444444444444444,
             "#bd3786"
            ],
            [
             0.5555555555555556,
             "#d8576b"
            ],
            [
             0.6666666666666666,
             "#ed7953"
            ],
            [
             0.7777777777777778,
             "#fb9f3a"
            ],
            [
             0.8888888888888888,
             "#fdca26"
            ],
            [
             1,
             "#f0f921"
            ]
           ],
           "sequentialminus": [
            [
             0,
             "#0d0887"
            ],
            [
             0.1111111111111111,
             "#46039f"
            ],
            [
             0.2222222222222222,
             "#7201a8"
            ],
            [
             0.3333333333333333,
             "#9c179e"
            ],
            [
             0.4444444444444444,
             "#bd3786"
            ],
            [
             0.5555555555555556,
             "#d8576b"
            ],
            [
             0.6666666666666666,
             "#ed7953"
            ],
            [
             0.7777777777777778,
             "#fb9f3a"
            ],
            [
             0.8888888888888888,
             "#fdca26"
            ],
            [
             1,
             "#f0f921"
            ]
           ]
          },
          "colorway": [
           "#636efa",
           "#EF553B",
           "#00cc96",
           "#ab63fa",
           "#FFA15A",
           "#19d3f3",
           "#FF6692",
           "#B6E880",
           "#FF97FF",
           "#FECB52"
          ],
          "font": {
           "color": "#2a3f5f"
          },
          "geo": {
           "bgcolor": "white",
           "lakecolor": "white",
           "landcolor": "#E5ECF6",
           "showlakes": true,
           "showland": true,
           "subunitcolor": "white"
          },
          "hoverlabel": {
           "align": "left"
          },
          "hovermode": "closest",
          "mapbox": {
           "style": "light"
          },
          "paper_bgcolor": "white",
          "plot_bgcolor": "#E5ECF6",
          "polar": {
           "angularaxis": {
            "gridcolor": "white",
            "linecolor": "white",
            "ticks": ""
           },
           "bgcolor": "#E5ECF6",
           "radialaxis": {
            "gridcolor": "white",
            "linecolor": "white",
            "ticks": ""
           }
          },
          "scene": {
           "xaxis": {
            "backgroundcolor": "#E5ECF6",
            "gridcolor": "white",
            "gridwidth": 2,
            "linecolor": "white",
            "showbackground": true,
            "ticks": "",
            "zerolinecolor": "white"
           },
           "yaxis": {
            "backgroundcolor": "#E5ECF6",
            "gridcolor": "white",
            "gridwidth": 2,
            "linecolor": "white",
            "showbackground": true,
            "ticks": "",
            "zerolinecolor": "white"
           },
           "zaxis": {
            "backgroundcolor": "#E5ECF6",
            "gridcolor": "white",
            "gridwidth": 2,
            "linecolor": "white",
            "showbackground": true,
            "ticks": "",
            "zerolinecolor": "white"
           }
          },
          "shapedefaults": {
           "line": {
            "color": "#2a3f5f"
           }
          },
          "ternary": {
           "aaxis": {
            "gridcolor": "white",
            "linecolor": "white",
            "ticks": ""
           },
           "baxis": {
            "gridcolor": "white",
            "linecolor": "white",
            "ticks": ""
           },
           "bgcolor": "#E5ECF6",
           "caxis": {
            "gridcolor": "white",
            "linecolor": "white",
            "ticks": ""
           }
          },
          "title": {
           "x": 0.05
          },
          "xaxis": {
           "automargin": true,
           "gridcolor": "white",
           "linecolor": "white",
           "ticks": "",
           "title": {
            "standoff": 15
           },
           "zerolinecolor": "white",
           "zerolinewidth": 2
          },
          "yaxis": {
           "automargin": true,
           "gridcolor": "white",
           "linecolor": "white",
           "ticks": "",
           "title": {
            "standoff": 15
           },
           "zerolinecolor": "white",
           "zerolinewidth": 2
          }
         }
        }
       }
      },
      "text/html": [
       "<div>\n",
       "        \n",
       "        \n",
       "            <div id=\"816e2e76-c752-4aaf-8618-95900779df02\" class=\"plotly-graph-div\" style=\"height:700px; width:100%;\"></div>\n",
       "            <script type=\"text/javascript\">\n",
       "                require([\"plotly\"], function(Plotly) {\n",
       "                    window.PLOTLYENV=window.PLOTLYENV || {};\n",
       "                    \n",
       "                if (document.getElementById(\"816e2e76-c752-4aaf-8618-95900779df02\")) {\n",
       "                    Plotly.newPlot(\n",
       "                        '816e2e76-c752-4aaf-8618-95900779df02',\n",
       "                        [{\"branchvalues\": \"total\", \"domain\": {\"x\": [0.0, 1.0], \"y\": [0.0, 1.0]}, \"hoverlabel\": {\"namelength\": 0}, \"hovertemplate\": \"labels=%{label}<br>patient_number=%{value}<br>parent=%{parent}<br>id=%{id}\", \"ids\": [\"India/Kerala/Ernakulam/ \", \"India/Uttar Pradesh/Agra/Agra\", \"India/Gujarat/Ahmadabad/Ahmadabad\", \"India/Gujarat/Ahmadabad/Ahmedabad\", \"India/Maharashtra/Ahmadnagar/Ahmednagar\", \"India/Rajasthan/Ajmer/Ajmer\", \"India/Kerala/Alappuzha/Alappuzha\", \"India/Haryana/Ambala/Ambala\", \"India/Punjab/Amritsar/Amritsar\", \"India/Tamil Nadu/Chennai/Anna Nagar\", \"India/Tamil Nadu/Coimbatore/Annaimalai\", \"India/Tamil Nadu/Chennai/Ariyalur\", \"India/Puducherry/Puducherry/Ariyankuppam\", \"India/Delhi/North West Delhi/Ashok Vihar\", \"India/Maharashtra/Aurangabad/Aurangabad\", \"India/Uttar Pradesh/Baghpat/Baghpat\", \"India/Telangana/Hyderabad/Balkampet\", \"India/Punjab/Shahid Bhagat Singh Nagar/Banga\", \"India/Karnataka/Dakshina Kannada/Bantwal\", \"India/Karnataka/Bidar/Basavakalyan\", \"India/Tamil Nadu/Dindigul/Begampur\", \"India/Telangana/Hyderabad/Begumpet\", \"India/West Bengal/Kolkata/Beleghata\", \"India/Karnataka/Ballari/Bellary\", \"India/Karnataka/Bengaluru/Bengaluru\", \"India/Karnataka/Bengaluru/Bengaluru \", \"India/Karnataka/Uttara Kannada/Bhatkal\", \"India/Gujarat/Bhavnagar/Bhavnagar\", \"India/Chhattisgarh/Durg/Bhilai\", \"India/Rajasthan/Bhilwara/Bhilwara\", \"India/Madhya Pradesh/Bhopal/Bhopal\", \"India/Odisha/Khordha/Bhubaneswar\", \"India/Karnataka/Bidar/Bilal Colony\", \"India/Chhattisgarh/Bilaspur/Bilaspur\", \"India/Tamil Nadu/Theni/Bodi\", \"India/Odisha/Khordha/Bomikhal\", \"India/Tamil Nadu/Chennai/Broadway\", \"India/Telangana/Ranga Reddy/Chandanagar\", \"India/Chandigarh/Chandigarh/Chandigarh\", \"India/Kerala/Kottayam/Chengalam\", \"India/Tamil Nadu/Chennai/Chennai\", \"India/Karnataka/Chikkaballapura/Chikkaballapura\", \"India/Tamil Nadu/Theni/Chinnamanur\", \"India/Andhra Pradesh/Prakasam/Chirala\", \"India/Karnataka/Chitradurga/Chitradurga\", \"India/Ladakh/Leh/Chuchot\", \"India/Ladakh/Leh/Chusot\", \"India/Tamil Nadu/Coimbatore/Coimbatore\", \"India/Karnataka/Davanagere/Davangere\", \"India/Uttarakhand/Dehradun/Dehradun\", \"India/Delhi/New Delhi/Delhi\", \"India/Tamil Nadu/Sivaganga/Devakottai\", \"India/Delhi/North East Delhi/Dilshad Garden\", \"India/Telangana/Hyderabad/Domalguda\", \"India/Uttarakhand/Pauri Garhwal/Dugadda\", \"India/West Bengal/Kolkata/Dum Dum\", \"India/Delhi/East Delhi/East Delhi (Mayur Vihar)\", \"India/Kerala/Kasaragod/Eriyal\", \"India/Haryana/Faridabad/Faridabad\", \"India/Telangana/Hyderabad/Gachibowli\", \"India/Gujarat/Gandhinagar/Gandhinagar\", \"India/Punjab/Hoshiarpur/Garhshankar\", \"India/Karnataka/Chikkaballapura/Gauribidanur\", \"India/Uttar Pradesh/Gautam Buddha Nagar/Gautam Buddh Nagar\", \"India/Delhi/South Delhi/Gautam Puri\", \"India/Uttar Pradesh/Ghaziabad/Ghaziabad\", \"India/Goa/North Goa/Goa\", \"India/Karnataka/Bidar/Golekbana\", \"India/Karnataka/Chikkaballapura/Gowribidanur\", \"India/Uttar Pradesh/Gautam Buddha Nagar/Greater Noida\", \"India/Andhra Pradesh/Guntur/Guntur\", \"India/Haryana/Gurugram/Gurugram\", \"India/West Bengal/North 24 Parganas/Habra\", \"India/Jammu and Kashmir/Bandipore/Hajin\", \"India/Jharkhand/Ranchi/Hindpidi\", \"India/Karnataka/Dharwad/Hosayellapur\", \"India/Karnataka/Ballari/Hospet\", \"India/Telangana/Hyderabad/Hyderabad\", \"India/Tamil Nadu/Sivaganga/Ilayankudi\", \"India/Manipur/Imphal West/Imphal\", \"India/Madhya Pradesh/Indore/Indore\", \"India/Madhya Pradesh/Jabalpur/Jabalpur\", \"India/Delhi/North West Delhi/Jahangirpuri\", \"India/Rajasthan/Jaipur/Jaipur\", \"India/Jammu and Kashmir/Jammu/Jammu\", \"India/Delhi/South West Delhi/Janakpuri\", \"India/Uttar Pradesh/Jaunpur/Jaunpur\", \"India/Rajasthan/Jhunjhunu/Jhunjhunu\", \"India/Rajasthan/Jodhpur/Jodhpur\", \"India/Kerala/Malappuram/Kadalundi\", \"India/Andhra Pradesh/East Godavari/Kakinada\", \"India/Karnataka/Kalaburagi/Kalaburagi\", \"India/Kerala/Kasaragod/Kalanadu\", \"India/Maharashtra/Thane/Kalyan\", \"India/Tamil Nadu/Kancheepuram/Kancheepuram\", \"India/Andhra Pradesh/Prakasam/Kandukuru\", \"India/Himachal Pradesh/Kangra/Kangra\", \"India/Kerala/Kannur/Kannur\", \"India/Uttar Pradesh/Kanpur Nagar/Kanpur\", \"India/Andhra Pradesh/Guntur/Karampudi\", \"India/Ladakh/Kargil/Kargil\", \"India/Telangana/Karimnagar/Karimnagar\", \"India/Tamil Nadu/Erode/Karunkalpalayam\", \"India/Kerala/Kasaragod/Kasaragod\", \"India/Tamil Nadu/Vellore/Katpadi\", \"India/Uttar Pradesh/Ghaziabad/Kaushambi\", \"India/Tamil Nadu/Chennai/Keelkattalai\", \"India/Maharashtra/Satara/Khandala\", \"India/Jammu and Kashmir/Srinagar/Khanyar\", \"India/Karnataka/Bidar/Kiramani Colony\", \"India/Kerala/Ernakulam/Kochi\", \"India/Karnataka/Kodagu/Kodagu\", \"India/Telangana/Ranga Reddy/Kokapet\", \"India/West Bengal/Kolkata/Kolkata\", \"India/Telangana/Bhadradri Kothagudem/Kothagudem\", \"India/Kerala/Pathanamthitta/Kozhencherry\", \"India/Telangana/Hyderabad/Kukatpally\", \"India/Tamil Nadu/Thanjavur/Kumbakonam\", \"India/Andhra Pradesh/Prakasam/Kunkala Marru\", \"India/Andhra Pradesh/Kurnool/Kurnool\", \"India/Ladakh/Leh/Ladakh\", \"India/Gujarat/Kachchh/Lakhapt\", \"India/Uttar Pradesh/Lucknow/Lakhimpur kheri\", \"India/Karnataka/Bidar/Lalwani Rd\", \"India/Ladakh/Leh/Leh\", \"India/Andhra Pradesh/Anantapur/Lepakshi\", \"India/Uttar Pradesh/Lucknow/Lucknow\", \"India/Punjab/Ludhiana/Ludhiana\", \"India/Andhra Pradesh/Guntur/Macherla\", \"India/Tamil Nadu/Madurai/Madurai\", \"India/Puducherry/Mahe/Mahe\", \"India/Kerala/Malappuram/Malappuram\", \"India/Karnataka/Dakshina Kannada/Mangaluru\", \"India/Telangana/Hyderabad/Manikonda\", \"India/Kerala/Kannur/Maradu\", \"India/Gujarat/Mahesana/Mehsana\", \"India/Tamil Nadu/Tirunelveli/Melapalayam\", \"India/Tamil Nadu/Coimbatore/Mettupalayam\", \"India/Punjab/S.A.S. Nagar/Mohali\", \"India/Uttar Pradesh/Moradabad/Moradabad\", \"India/Maharashtra/Mumbai/Mumbai\", \"India/Maharashtra/Mumbai/Mumbai City\", \"India/Maharashtra/Mumbai Suburban/Mumbai Suburb\", \"India/Bihar/Munger/Munger\", \"India/Kerala/Idukki/Munnar\", \"India/Karnataka/Mysuru/Mysuru\", \"India/Uttar Pradesh/Gautam Buddha Nagar/NOIDA\", \"India/Maharashtra/Nagpur/Nagpur\", \"India/Karnataka/Mysuru/Nanjangud\", \"India/Jammu and Kashmir/Srinagar/Natipora\", \"India/Punjab/Shahid Bhagat Singh Nagar/Nawanshahr\", \"India/West Bengal/Kolkata/Nayabad\", \"India/Kerala/Thiruvananthapuram/Nedumangad\", \"India/Andhra Pradesh/S.P.S. Nellore/Nellore\", \"India/Delhi/South Delhi/Nizamuddin area\", \"India/Uttar Pradesh/Gautam Buddha Nagar/Noida\", \"India/Uttar Pradesh/Gautam Buddha Nagar/Noida \", \"India/Delhi/North Delhi/North Delhi\", \"India/Andhra Pradesh/Prakasam/Ongole\", \"India/Kerala/Palakkad/Ottapalam\", \"India/Haryana/Palwal/Palwal\", \"India/Tamil Nadu/Chengalpattu/Pammal\", \"India/Haryana/Panchkula/Panchkula\", \"India/Haryana/Panipat/Panipat\", \"India/Bihar/Patna/Patna\", \"India/Tamil Nadu/Theni/Periyakulam\", \"India/Tamil Nadu/Erode/Perundurai\", \"India/Punjab/Jalandhar/Phillaur\", \"India/Uttar Pradesh/Pilibhit/Pilibhit\", \"India/Maharashtra/Pune/Pimpri-Chinchwad\", \"India/Tamil Nadu/Coimbatore/Pollachi\", \"India/Tamil Nadu/Chennai/Porur\", \"India/Tamil Nadu/Coimbatore/Pothanur\", \"India/Kerala/Kollam/Prakulam\", \"India/Maharashtra/Pune/Pune\", \"India/Tamil Nadu/Chennai/Purasaivakkam\", \"India/Telangana/Medchal Malkajgiri/Qutbullapur\", \"India/Chhattisgarh/Raipur/Raipur\", \"India/Andhra Pradesh/East Godavari/Rajahmundry\", \"India/Tamil Nadu/Virudhunagar/Rajapalayam\", \"India/Gujarat/Rajkot/Rajkot\", \"India/Chhattisgarh/Rajnandgaon/Rajnandgaon\", \"India/Jammu and Kashmir/Jammu/Rajouri\", \"India/Jammu and Kashmir/Rajouri/Rajouri\", \"India/Rajasthan/Jaipur/Ramganj\", \"India/Delhi/North Delhi/Rana Pratap Bagh\", \"India/Kerala/Pathanamthitta/Ranni\", \"India/Telangana/Hyderabad/Saidabad\", \"India/Tamil Nadu/Chennai/Saidapet\", \"India/Delhi/South Delhi/Saket\", \"India/West Bengal/North 24 Parganas/Salt Lake\", \"India/Maharashtra/Sangli/Sangli\", \"India/Ladakh/Kargil/Sankoo Valley\", \"India/Telangana/Hyderabad/Secunderabad\", \"India/Karnataka/Bidar/Shahgunj\", \"India/Rajasthan/Jodhpur/Shashtri Nagar\", \"India/Maharashtra/Ratnagiri/Shrungartali\", \"India/Assam/Cachar/Silchar\", \"India/Telangana/Hyderabad/Somajiguda\", \"India/Haryana/Sonipat/Sonepat\", \"India/Andhra Pradesh/Chittoor/Srikalahasti\", \"India/Jammu and Kashmir/Srinagar/Srinagar\", \"India/Gujarat/Surat/Surat\", \"India/Kerala/Kannur/Temple Gate\", \"India/Maharashtra/Thane/Thane\", \"India/Tamil Nadu/Sivaganga/Thirupathur\", \"India/Kerala/Thiruvananthapuram/Thiruvananthapuram\", \"India/Puducherry/Puducherry/Thiruvandarkoil\", \"India/Kerala/Idukki/Thodupuzha\", \"India/Kerala/Thrissur/Thrissur\", \"India/Tamil Nadu/Tirunelveli/Tirunelveli\", \"India/Tamil Nadu/Tiruppur/Tiruppur\", \"India/West Bengal/South 24 Parganas/Tollygugne\", \"India/Delhi/North Delhi/Tri Nagar\", \"India/Karnataka/Tumakuru/Tumkur\", \"India/Karnataka/Udupi/Udupi\", \"India/Madhya Pradesh/Ujjain/Ujjain\", \"India/Tamil Nadu/Theni/Uthamapalayam\", \"India/Delhi/West Delhi/Uttam Nagar\", \"India/Gujarat/Vadodara/Vadodara\", \"India/Uttar Pradesh/Varanasi/Varanasi\", \"India/Kerala/Thiruvananthapuram/Varkala\", \"India/Kerala/Malappuram/Vengara\", \"India/Andhra Pradesh/Krishna/Vijayawada\", \"India/Andhra Pradesh/Visakhapatnam/Visakapatnam\", \"India/Andhra Pradesh/Visakhapatnam/Visakhapatnam\", \"India/Tamil Nadu/Vellore/Walajapet\", \"India/Delhi/West Delhi/West Delhi\", \"India/Tamil Nadu/Chennai/West Mambalam\", \"India/Maharashtra/Yavatmal/Yavatmal\", \"India/Tamil Nadu/Theni/periyakulam\", \"India/Uttar Pradesh/Agra\", \"India/Gujarat/Ahmadabad\", \"India/Maharashtra/Ahmadnagar\", \"India/Rajasthan/Ajmer\", \"India/Kerala/Alappuzha\", \"India/Haryana/Ambala\", \"India/Punjab/Amritsar\", \"India/Andhra Pradesh/Anantapur\", \"India/Maharashtra/Aurangabad\", \"India/Uttar Pradesh/Baghpat\", \"India/Karnataka/Ballari\", \"India/Jammu and Kashmir/Bandipore\", \"India/Karnataka/Bengaluru\", \"India/Telangana/Bhadradri Kothagudem\", \"India/Gujarat/Bhavnagar\", \"India/Rajasthan/Bhilwara\", \"India/Madhya Pradesh/Bhopal\", \"India/Karnataka/Bidar\", \"India/Chhattisgarh/Bilaspur\", \"India/Assam/Cachar\", \"India/Chandigarh/Chandigarh\", \"India/Tamil Nadu/Chengalpattu\", \"India/Tamil Nadu/Chennai\", \"India/Karnataka/Chikkaballapura\", \"India/Karnataka/Chitradurga\", \"India/Andhra Pradesh/Chittoor\", \"India/Tamil Nadu/Coimbatore\", \"India/Karnataka/Dakshina Kannada\", \"India/Karnataka/Davanagere\", \"India/Uttarakhand/Dehradun\", \"India/Karnataka/Dharwad\", \"India/Tamil Nadu/Dindigul\", \"India/Chhattisgarh/Durg\", \"India/Delhi/East Delhi\", \"India/Andhra Pradesh/East Godavari\", \"India/Kerala/Ernakulam\", \"India/Tamil Nadu/Erode\", \"India/Haryana/Faridabad\", \"India/Gujarat/Gandhinagar\", \"India/Uttar Pradesh/Gautam Buddha Nagar\", \"India/Uttar Pradesh/Ghaziabad\", \"India/Andhra Pradesh/Guntur\", \"India/Haryana/Gurugram\", \"India/Punjab/Hoshiarpur\", \"India/Telangana/Hyderabad\", \"India/Kerala/Idukki\", \"India/Manipur/Imphal West\", \"India/Madhya Pradesh/Indore\", \"India/Madhya Pradesh/Jabalpur\", \"India/Rajasthan/Jaipur\", \"India/Punjab/Jalandhar\", \"India/Jammu and Kashmir/Jammu\", \"India/Uttar Pradesh/Jaunpur\", \"India/Rajasthan/Jhunjhunu\", \"India/Rajasthan/Jodhpur\", \"India/Gujarat/Kachchh\", \"India/Karnataka/Kalaburagi\", \"India/Tamil Nadu/Kancheepuram\", \"India/Himachal Pradesh/Kangra\", \"India/Kerala/Kannur\", \"India/Uttar Pradesh/Kanpur Nagar\", \"India/Ladakh/Kargil\", \"India/Telangana/Karimnagar\", \"India/Kerala/Kasaragod\", \"India/Odisha/Khordha\", \"India/Karnataka/Kodagu\", \"India/West Bengal/Kolkata\", \"India/Kerala/Kollam\", \"India/Kerala/Kottayam\", \"India/Andhra Pradesh/Krishna\", \"India/Andhra Pradesh/Kurnool\", \"India/Ladakh/Leh\", \"India/Uttar Pradesh/Lucknow\", \"India/Punjab/Ludhiana\", \"India/Tamil Nadu/Madurai\", \"India/Puducherry/Mahe\", \"India/Gujarat/Mahesana\", \"India/Kerala/Malappuram\", \"India/Telangana/Medchal Malkajgiri\", \"India/Uttar Pradesh/Moradabad\", \"India/Maharashtra/Mumbai\", \"India/Maharashtra/Mumbai Suburban\", \"India/Bihar/Munger\", \"India/Karnataka/Mysuru\", \"India/Maharashtra/Nagpur\", \"India/Delhi/New Delhi\", \"India/West Bengal/North 24 Parganas\", \"India/Delhi/North Delhi\", \"India/Delhi/North East Delhi\", \"India/Goa/North Goa\", \"India/Delhi/North West Delhi\", \"India/Kerala/Palakkad\", \"India/Haryana/Palwal\", \"India/Haryana/Panchkula\", \"India/Haryana/Panipat\", \"India/Kerala/Pathanamthitta\", \"India/Bihar/Patna\", \"India/Uttarakhand/Pauri Garhwal\", \"India/Uttar Pradesh/Pilibhit\", \"India/Andhra Pradesh/Prakasam\", \"India/Puducherry/Puducherry\", \"India/Maharashtra/Pune\", \"India/Chhattisgarh/Raipur\", \"India/Gujarat/Rajkot\", \"India/Chhattisgarh/Rajnandgaon\", \"India/Jammu and Kashmir/Rajouri\", \"India/Jharkhand/Ranchi\", \"India/Telangana/Ranga Reddy\", \"India/Maharashtra/Ratnagiri\", \"India/Punjab/S.A.S. Nagar\", \"India/Andhra Pradesh/S.P.S. Nellore\", \"India/Maharashtra/Sangli\", \"India/Maharashtra/Satara\", \"India/Punjab/Shahid Bhagat Singh Nagar\", \"India/Tamil Nadu/Sivaganga\", \"India/Haryana/Sonipat\", \"India/West Bengal/South 24 Parganas\", \"India/Delhi/South Delhi\", \"India/Delhi/South West Delhi\", \"India/Jammu and Kashmir/Srinagar\", \"India/Gujarat/Surat\", \"India/Maharashtra/Thane\", \"India/Tamil Nadu/Thanjavur\", \"India/Tamil Nadu/Theni\", \"India/Kerala/Thiruvananthapuram\", \"India/Kerala/Thrissur\", \"India/Tamil Nadu/Tirunelveli\", \"India/Tamil Nadu/Tiruppur\", \"India/Karnataka/Tumakuru\", \"India/Karnataka/Udupi\", \"India/Madhya Pradesh/Ujjain\", \"India/Karnataka/Uttara Kannada\", \"India/Gujarat/Vadodara\", \"India/Uttar Pradesh/Varanasi\", \"India/Tamil Nadu/Vellore\", \"India/Tamil Nadu/Virudhunagar\", \"India/Andhra Pradesh/Visakhapatnam\", \"India/Delhi/West Delhi\", \"India/Maharashtra/Yavatmal\", \"India/Andhra Pradesh\", \"India/Assam\", \"India/Bihar\", \"India/Chandigarh\", \"India/Chhattisgarh\", \"India/Delhi\", \"India/Goa\", \"India/Gujarat\", \"India/Haryana\", \"India/Himachal Pradesh\", \"India/Jammu and Kashmir\", \"India/Jharkhand\", \"India/Karnataka\", \"India/Kerala\", \"India/Ladakh\", \"India/Madhya Pradesh\", \"India/Maharashtra\", \"India/Manipur\", \"India/Odisha\", \"India/Puducherry\", \"India/Punjab\", \"India/Rajasthan\", \"India/Tamil Nadu\", \"India/Telangana\", \"India/Uttar Pradesh\", \"India/Uttarakhand\", \"India/West Bengal\", \"India\"], \"labels\": [\" \", \"Agra\", \"Ahmadabad\", \"Ahmedabad\", \"Ahmednagar\", \"Ajmer\", \"Alappuzha\", \"Ambala\", \"Amritsar\", \"Anna Nagar\", \"Annaimalai\", \"Ariyalur\", \"Ariyankuppam\", \"Ashok Vihar\", \"Aurangabad\", \"Baghpat\", \"Balkampet\", \"Banga\", \"Bantwal\", \"Basavakalyan\", \"Begampur\", \"Begumpet\", \"Beleghata\", \"Bellary\", \"Bengaluru\", \"Bengaluru \", \"Bhatkal\", \"Bhavnagar\", \"Bhilai\", \"Bhilwara\", \"Bhopal\", \"Bhubaneswar\", \"Bilal Colony\", \"Bilaspur\", \"Bodi\", \"Bomikhal\", \"Broadway\", \"Chandanagar\", \"Chandigarh\", \"Chengalam\", \"Chennai\", \"Chikkaballapura\", \"Chinnamanur\", \"Chirala\", \"Chitradurga\", \"Chuchot\", \"Chusot\", \"Coimbatore\", \"Davangere\", \"Dehradun\", \"Delhi\", \"Devakottai\", \"Dilshad Garden\", \"Domalguda\", \"Dugadda\", \"Dum Dum\", \"East Delhi (Mayur Vihar)\", \"Eriyal\", \"Faridabad\", \"Gachibowli\", \"Gandhinagar\", \"Garhshankar\", \"Gauribidanur\", \"Gautam Buddh Nagar\", \"Gautam Puri\", \"Ghaziabad\", \"Goa\", \"Golekbana\", \"Gowribidanur\", \"Greater Noida\", \"Guntur\", \"Gurugram\", \"Habra\", \"Hajin\", \"Hindpidi\", \"Hosayellapur\", \"Hospet\", \"Hyderabad\", \"Ilayankudi\", \"Imphal\", \"Indore\", \"Jabalpur\", \"Jahangirpuri\", \"Jaipur\", \"Jammu\", \"Janakpuri\", \"Jaunpur\", \"Jhunjhunu\", \"Jodhpur\", \"Kadalundi\", \"Kakinada\", \"Kalaburagi\", \"Kalanadu\", \"Kalyan\", \"Kancheepuram\", \"Kandukuru\", \"Kangra\", \"Kannur\", \"Kanpur\", \"Karampudi\", \"Kargil\", \"Karimnagar\", \"Karunkalpalayam\", \"Kasaragod\", \"Katpadi\", \"Kaushambi\", \"Keelkattalai\", \"Khandala\", \"Khanyar\", \"Kiramani Colony\", \"Kochi\", \"Kodagu\", \"Kokapet\", \"Kolkata\", \"Kothagudem\", \"Kozhencherry\", \"Kukatpally\", \"Kumbakonam\", \"Kunkala Marru\", \"Kurnool\", \"Ladakh\", \"Lakhapt\", \"Lakhimpur kheri\", \"Lalwani Rd\", \"Leh\", \"Lepakshi\", \"Lucknow\", \"Ludhiana\", \"Macherla\", \"Madurai\", \"Mahe\", \"Malappuram\", \"Mangaluru\", \"Manikonda\", \"Maradu\", \"Mehsana\", \"Melapalayam\", \"Mettupalayam\", \"Mohali\", \"Moradabad\", \"Mumbai\", \"Mumbai City\", \"Mumbai Suburb\", \"Munger\", \"Munnar\", \"Mysuru\", \"NOIDA\", \"Nagpur\", \"Nanjangud\", \"Natipora\", \"Nawanshahr\", \"Nayabad\", \"Nedumangad\", \"Nellore\", \"Nizamuddin area\", \"Noida\", \"Noida \", \"North Delhi\", \"Ongole\", \"Ottapalam\", \"Palwal\", \"Pammal\", \"Panchkula\", \"Panipat\", \"Patna\", \"Periyakulam\", \"Perundurai\", \"Phillaur\", \"Pilibhit\", \"Pimpri-Chinchwad\", \"Pollachi\", \"Porur\", \"Pothanur\", \"Prakulam\", \"Pune\", \"Purasaivakkam\", \"Qutbullapur\", \"Raipur\", \"Rajahmundry\", \"Rajapalayam\", \"Rajkot\", \"Rajnandgaon\", \"Rajouri\", \"Rajouri\", \"Ramganj\", \"Rana Pratap Bagh\", \"Ranni\", \"Saidabad\", \"Saidapet\", \"Saket\", \"Salt Lake\", \"Sangli\", \"Sankoo Valley\", \"Secunderabad\", \"Shahgunj\", \"Shashtri Nagar\", \"Shrungartali\", \"Silchar\", \"Somajiguda\", \"Sonepat\", \"Srikalahasti\", \"Srinagar\", \"Surat\", \"Temple Gate\", \"Thane\", \"Thirupathur\", \"Thiruvananthapuram\", \"Thiruvandarkoil\", \"Thodupuzha\", \"Thrissur\", \"Tirunelveli\", \"Tiruppur\", \"Tollygugne\", \"Tri Nagar\", \"Tumkur\", \"Udupi\", \"Ujjain\", \"Uthamapalayam\", \"Uttam Nagar\", \"Vadodara\", \"Varanasi\", \"Varkala\", \"Vengara\", \"Vijayawada\", \"Visakapatnam\", \"Visakhapatnam\", \"Walajapet\", \"West Delhi\", \"West Mambalam\", \"Yavatmal\", \"periyakulam\", \"Agra\", \"Ahmadabad\", \"Ahmadnagar\", \"Ajmer\", \"Alappuzha\", \"Ambala\", \"Amritsar\", \"Anantapur\", \"Aurangabad\", \"Baghpat\", \"Ballari\", \"Bandipore\", \"Bengaluru\", \"Bhadradri Kothagudem\", \"Bhavnagar\", \"Bhilwara\", \"Bhopal\", \"Bidar\", \"Bilaspur\", \"Cachar\", \"Chandigarh\", \"Chengalpattu\", \"Chennai\", \"Chikkaballapura\", \"Chitradurga\", \"Chittoor\", \"Coimbatore\", \"Dakshina Kannada\", \"Davanagere\", \"Dehradun\", \"Dharwad\", \"Dindigul\", \"Durg\", \"East Delhi\", \"East Godavari\", \"Ernakulam\", \"Erode\", \"Faridabad\", \"Gandhinagar\", \"Gautam Buddha Nagar\", \"Ghaziabad\", \"Guntur\", \"Gurugram\", \"Hoshiarpur\", \"Hyderabad\", \"Idukki\", \"Imphal West\", \"Indore\", \"Jabalpur\", \"Jaipur\", \"Jalandhar\", \"Jammu\", \"Jaunpur\", \"Jhunjhunu\", \"Jodhpur\", \"Kachchh\", \"Kalaburagi\", \"Kancheepuram\", \"Kangra\", \"Kannur\", \"Kanpur Nagar\", \"Kargil\", \"Karimnagar\", \"Kasaragod\", \"Khordha\", \"Kodagu\", \"Kolkata\", \"Kollam\", \"Kottayam\", \"Krishna\", \"Kurnool\", \"Leh\", \"Lucknow\", \"Ludhiana\", \"Madurai\", \"Mahe\", \"Mahesana\", \"Malappuram\", \"Medchal Malkajgiri\", \"Moradabad\", \"Mumbai\", \"Mumbai Suburban\", \"Munger\", \"Mysuru\", \"Nagpur\", \"New Delhi\", \"North 24 Parganas\", \"North Delhi\", \"North East Delhi\", \"North Goa\", \"North West Delhi\", \"Palakkad\", \"Palwal\", \"Panchkula\", \"Panipat\", \"Pathanamthitta\", \"Patna\", \"Pauri Garhwal\", \"Pilibhit\", \"Prakasam\", \"Puducherry\", \"Pune\", \"Raipur\", \"Rajkot\", \"Rajnandgaon\", \"Rajouri\", \"Ranchi\", \"Ranga Reddy\", \"Ratnagiri\", \"S.A.S. Nagar\", \"S.P.S. Nellore\", \"Sangli\", \"Satara\", \"Shahid Bhagat Singh Nagar\", \"Sivaganga\", \"Sonipat\", \"South 24 Parganas\", \"South Delhi\", \"South West Delhi\", \"Srinagar\", \"Surat\", \"Thane\", \"Thanjavur\", \"Theni\", \"Thiruvananthapuram\", \"Thrissur\", \"Tirunelveli\", \"Tiruppur\", \"Tumakuru\", \"Udupi\", \"Ujjain\", \"Uttara Kannada\", \"Vadodara\", \"Varanasi\", \"Vellore\", \"Virudhunagar\", \"Visakhapatnam\", \"West Delhi\", \"Yavatmal\", \"Andhra Pradesh\", \"Assam\", \"Bihar\", \"Chandigarh\", \"Chhattisgarh\", \"Delhi\", \"Goa\", \"Gujarat\", \"Haryana\", \"Himachal Pradesh\", \"Jammu and Kashmir\", \"Jharkhand\", \"Karnataka\", \"Kerala\", \"Ladakh\", \"Madhya Pradesh\", \"Maharashtra\", \"Manipur\", \"Odisha\", \"Puducherry\", \"Punjab\", \"Rajasthan\", \"Tamil Nadu\", \"Telangana\", \"Uttar Pradesh\", \"Uttarakhand\", \"West Bengal\", \"India\"], \"name\": \"\", \"parents\": [\"India/Kerala/Ernakulam\", \"India/Uttar Pradesh/Agra\", \"India/Gujarat/Ahmadabad\", \"India/Gujarat/Ahmadabad\", \"India/Maharashtra/Ahmadnagar\", \"India/Rajasthan/Ajmer\", \"India/Kerala/Alappuzha\", \"India/Haryana/Ambala\", \"India/Punjab/Amritsar\", \"India/Tamil Nadu/Chennai\", \"India/Tamil Nadu/Coimbatore\", \"India/Tamil Nadu/Chennai\", \"India/Puducherry/Puducherry\", \"India/Delhi/North West Delhi\", \"India/Maharashtra/Aurangabad\", \"India/Uttar Pradesh/Baghpat\", \"India/Telangana/Hyderabad\", \"India/Punjab/Shahid Bhagat Singh Nagar\", \"India/Karnataka/Dakshina Kannada\", \"India/Karnataka/Bidar\", \"India/Tamil Nadu/Dindigul\", \"India/Telangana/Hyderabad\", \"India/West Bengal/Kolkata\", \"India/Karnataka/Ballari\", \"India/Karnataka/Bengaluru\", \"India/Karnataka/Bengaluru\", \"India/Karnataka/Uttara Kannada\", \"India/Gujarat/Bhavnagar\", \"India/Chhattisgarh/Durg\", \"India/Rajasthan/Bhilwara\", \"India/Madhya Pradesh/Bhopal\", \"India/Odisha/Khordha\", \"India/Karnataka/Bidar\", \"India/Chhattisgarh/Bilaspur\", \"India/Tamil Nadu/Theni\", \"India/Odisha/Khordha\", \"India/Tamil Nadu/Chennai\", \"India/Telangana/Ranga Reddy\", \"India/Chandigarh/Chandigarh\", \"India/Kerala/Kottayam\", \"India/Tamil Nadu/Chennai\", \"India/Karnataka/Chikkaballapura\", \"India/Tamil Nadu/Theni\", \"India/Andhra Pradesh/Prakasam\", \"India/Karnataka/Chitradurga\", \"India/Ladakh/Leh\", \"India/Ladakh/Leh\", \"India/Tamil Nadu/Coimbatore\", \"India/Karnataka/Davanagere\", \"India/Uttarakhand/Dehradun\", \"India/Delhi/New Delhi\", \"India/Tamil Nadu/Sivaganga\", \"India/Delhi/North East Delhi\", \"India/Telangana/Hyderabad\", \"India/Uttarakhand/Pauri Garhwal\", \"India/West Bengal/Kolkata\", \"India/Delhi/East Delhi\", \"India/Kerala/Kasaragod\", \"India/Haryana/Faridabad\", \"India/Telangana/Hyderabad\", \"India/Gujarat/Gandhinagar\", \"India/Punjab/Hoshiarpur\", \"India/Karnataka/Chikkaballapura\", \"India/Uttar Pradesh/Gautam Buddha Nagar\", \"India/Delhi/South Delhi\", \"India/Uttar Pradesh/Ghaziabad\", \"India/Goa/North Goa\", \"India/Karnataka/Bidar\", \"India/Karnataka/Chikkaballapura\", \"India/Uttar Pradesh/Gautam Buddha Nagar\", \"India/Andhra Pradesh/Guntur\", \"India/Haryana/Gurugram\", \"India/West Bengal/North 24 Parganas\", \"India/Jammu and Kashmir/Bandipore\", \"India/Jharkhand/Ranchi\", \"India/Karnataka/Dharwad\", \"India/Karnataka/Ballari\", \"India/Telangana/Hyderabad\", \"India/Tamil Nadu/Sivaganga\", \"India/Manipur/Imphal West\", \"India/Madhya Pradesh/Indore\", \"India/Madhya Pradesh/Jabalpur\", \"India/Delhi/North West Delhi\", \"India/Rajasthan/Jaipur\", \"India/Jammu and Kashmir/Jammu\", \"India/Delhi/South West Delhi\", \"India/Uttar Pradesh/Jaunpur\", \"India/Rajasthan/Jhunjhunu\", \"India/Rajasthan/Jodhpur\", \"India/Kerala/Malappuram\", \"India/Andhra Pradesh/East Godavari\", \"India/Karnataka/Kalaburagi\", \"India/Kerala/Kasaragod\", \"India/Maharashtra/Thane\", \"India/Tamil Nadu/Kancheepuram\", \"India/Andhra Pradesh/Prakasam\", \"India/Himachal Pradesh/Kangra\", \"India/Kerala/Kannur\", \"India/Uttar Pradesh/Kanpur Nagar\", \"India/Andhra Pradesh/Guntur\", \"India/Ladakh/Kargil\", \"India/Telangana/Karimnagar\", \"India/Tamil Nadu/Erode\", \"India/Kerala/Kasaragod\", \"India/Tamil Nadu/Vellore\", \"India/Uttar Pradesh/Ghaziabad\", \"India/Tamil Nadu/Chennai\", \"India/Maharashtra/Satara\", \"India/Jammu and Kashmir/Srinagar\", \"India/Karnataka/Bidar\", \"India/Kerala/Ernakulam\", \"India/Karnataka/Kodagu\", \"India/Telangana/Ranga Reddy\", \"India/West Bengal/Kolkata\", \"India/Telangana/Bhadradri Kothagudem\", \"India/Kerala/Pathanamthitta\", \"India/Telangana/Hyderabad\", \"India/Tamil Nadu/Thanjavur\", \"India/Andhra Pradesh/Prakasam\", \"India/Andhra Pradesh/Kurnool\", \"India/Ladakh/Leh\", \"India/Gujarat/Kachchh\", \"India/Uttar Pradesh/Lucknow\", \"India/Karnataka/Bidar\", \"India/Ladakh/Leh\", \"India/Andhra Pradesh/Anantapur\", \"India/Uttar Pradesh/Lucknow\", \"India/Punjab/Ludhiana\", \"India/Andhra Pradesh/Guntur\", \"India/Tamil Nadu/Madurai\", \"India/Puducherry/Mahe\", \"India/Kerala/Malappuram\", \"India/Karnataka/Dakshina Kannada\", \"India/Telangana/Hyderabad\", \"India/Kerala/Kannur\", \"India/Gujarat/Mahesana\", \"India/Tamil Nadu/Tirunelveli\", \"India/Tamil Nadu/Coimbatore\", \"India/Punjab/S.A.S. Nagar\", \"India/Uttar Pradesh/Moradabad\", \"India/Maharashtra/Mumbai\", \"India/Maharashtra/Mumbai\", \"India/Maharashtra/Mumbai Suburban\", \"India/Bihar/Munger\", \"India/Kerala/Idukki\", \"India/Karnataka/Mysuru\", \"India/Uttar Pradesh/Gautam Buddha Nagar\", \"India/Maharashtra/Nagpur\", \"India/Karnataka/Mysuru\", \"India/Jammu and Kashmir/Srinagar\", \"India/Punjab/Shahid Bhagat Singh Nagar\", \"India/West Bengal/Kolkata\", \"India/Kerala/Thiruvananthapuram\", \"India/Andhra Pradesh/S.P.S. Nellore\", \"India/Delhi/South Delhi\", \"India/Uttar Pradesh/Gautam Buddha Nagar\", \"India/Uttar Pradesh/Gautam Buddha Nagar\", \"India/Delhi/North Delhi\", \"India/Andhra Pradesh/Prakasam\", \"India/Kerala/Palakkad\", \"India/Haryana/Palwal\", \"India/Tamil Nadu/Chengalpattu\", \"India/Haryana/Panchkula\", \"India/Haryana/Panipat\", \"India/Bihar/Patna\", \"India/Tamil Nadu/Theni\", \"India/Tamil Nadu/Erode\", \"India/Punjab/Jalandhar\", \"India/Uttar Pradesh/Pilibhit\", \"India/Maharashtra/Pune\", \"India/Tamil Nadu/Coimbatore\", \"India/Tamil Nadu/Chennai\", \"India/Tamil Nadu/Coimbatore\", \"India/Kerala/Kollam\", \"India/Maharashtra/Pune\", \"India/Tamil Nadu/Chennai\", \"India/Telangana/Medchal Malkajgiri\", \"India/Chhattisgarh/Raipur\", \"India/Andhra Pradesh/East Godavari\", \"India/Tamil Nadu/Virudhunagar\", \"India/Gujarat/Rajkot\", \"India/Chhattisgarh/Rajnandgaon\", \"India/Jammu and Kashmir/Jammu\", \"India/Jammu and Kashmir/Rajouri\", \"India/Rajasthan/Jaipur\", \"India/Delhi/North Delhi\", \"India/Kerala/Pathanamthitta\", \"India/Telangana/Hyderabad\", \"India/Tamil Nadu/Chennai\", \"India/Delhi/South Delhi\", \"India/West Bengal/North 24 Parganas\", \"India/Maharashtra/Sangli\", \"India/Ladakh/Kargil\", \"India/Telangana/Hyderabad\", \"India/Karnataka/Bidar\", \"India/Rajasthan/Jodhpur\", \"India/Maharashtra/Ratnagiri\", \"India/Assam/Cachar\", \"India/Telangana/Hyderabad\", \"India/Haryana/Sonipat\", \"India/Andhra Pradesh/Chittoor\", \"India/Jammu and Kashmir/Srinagar\", \"India/Gujarat/Surat\", \"India/Kerala/Kannur\", \"India/Maharashtra/Thane\", \"India/Tamil Nadu/Sivaganga\", \"India/Kerala/Thiruvananthapuram\", \"India/Puducherry/Puducherry\", \"India/Kerala/Idukki\", \"India/Kerala/Thrissur\", \"India/Tamil Nadu/Tirunelveli\", \"India/Tamil Nadu/Tiruppur\", \"India/West Bengal/South 24 Parganas\", \"India/Delhi/North Delhi\", \"India/Karnataka/Tumakuru\", \"India/Karnataka/Udupi\", \"India/Madhya Pradesh/Ujjain\", \"India/Tamil Nadu/Theni\", \"India/Delhi/West Delhi\", \"India/Gujarat/Vadodara\", \"India/Uttar Pradesh/Varanasi\", \"India/Kerala/Thiruvananthapuram\", \"India/Kerala/Malappuram\", \"India/Andhra Pradesh/Krishna\", \"India/Andhra Pradesh/Visakhapatnam\", \"India/Andhra Pradesh/Visakhapatnam\", \"India/Tamil Nadu/Vellore\", \"India/Delhi/West Delhi\", \"India/Tamil Nadu/Chennai\", \"India/Maharashtra/Yavatmal\", \"India/Tamil Nadu/Theni\", \"India/Uttar Pradesh\", \"India/Gujarat\", \"India/Maharashtra\", \"India/Rajasthan\", \"India/Kerala\", \"India/Haryana\", \"India/Punjab\", \"India/Andhra Pradesh\", \"India/Maharashtra\", \"India/Uttar Pradesh\", \"India/Karnataka\", \"India/Jammu and Kashmir\", \"India/Karnataka\", \"India/Telangana\", \"India/Gujarat\", \"India/Rajasthan\", \"India/Madhya Pradesh\", \"India/Karnataka\", \"India/Chhattisgarh\", \"India/Assam\", \"India/Chandigarh\", \"India/Tamil Nadu\", \"India/Tamil Nadu\", \"India/Karnataka\", \"India/Karnataka\", \"India/Andhra Pradesh\", \"India/Tamil Nadu\", \"India/Karnataka\", \"India/Karnataka\", \"India/Uttarakhand\", \"India/Karnataka\", \"India/Tamil Nadu\", \"India/Chhattisgarh\", \"India/Delhi\", \"India/Andhra Pradesh\", \"India/Kerala\", \"India/Tamil Nadu\", \"India/Haryana\", \"India/Gujarat\", \"India/Uttar Pradesh\", \"India/Uttar Pradesh\", \"India/Andhra Pradesh\", \"India/Haryana\", \"India/Punjab\", \"India/Telangana\", \"India/Kerala\", \"India/Manipur\", \"India/Madhya Pradesh\", \"India/Madhya Pradesh\", \"India/Rajasthan\", \"India/Punjab\", \"India/Jammu and Kashmir\", \"India/Uttar Pradesh\", \"India/Rajasthan\", \"India/Rajasthan\", \"India/Gujarat\", \"India/Karnataka\", \"India/Tamil Nadu\", \"India/Himachal Pradesh\", \"India/Kerala\", \"India/Uttar Pradesh\", \"India/Ladakh\", \"India/Telangana\", \"India/Kerala\", \"India/Odisha\", \"India/Karnataka\", \"India/West Bengal\", \"India/Kerala\", \"India/Kerala\", \"India/Andhra Pradesh\", \"India/Andhra Pradesh\", \"India/Ladakh\", \"India/Uttar Pradesh\", \"India/Punjab\", \"India/Tamil Nadu\", \"India/Puducherry\", \"India/Gujarat\", \"India/Kerala\", \"India/Telangana\", \"India/Uttar Pradesh\", \"India/Maharashtra\", \"India/Maharashtra\", \"India/Bihar\", \"India/Karnataka\", \"India/Maharashtra\", \"India/Delhi\", \"India/West Bengal\", \"India/Delhi\", \"India/Delhi\", \"India/Goa\", \"India/Delhi\", \"India/Kerala\", \"India/Haryana\", \"India/Haryana\", \"India/Haryana\", \"India/Kerala\", \"India/Bihar\", \"India/Uttarakhand\", \"India/Uttar Pradesh\", \"India/Andhra Pradesh\", \"India/Puducherry\", \"India/Maharashtra\", \"India/Chhattisgarh\", \"India/Gujarat\", \"India/Chhattisgarh\", \"India/Jammu and Kashmir\", \"India/Jharkhand\", \"India/Telangana\", \"India/Maharashtra\", \"India/Punjab\", \"India/Andhra Pradesh\", \"India/Maharashtra\", \"India/Maharashtra\", \"India/Punjab\", \"India/Tamil Nadu\", \"India/Haryana\", \"India/West Bengal\", \"India/Delhi\", \"India/Delhi\", \"India/Jammu and Kashmir\", \"India/Gujarat\", \"India/Maharashtra\", \"India/Tamil Nadu\", \"India/Tamil Nadu\", \"India/Kerala\", \"India/Kerala\", \"India/Tamil Nadu\", \"India/Tamil Nadu\", \"India/Karnataka\", \"India/Karnataka\", \"India/Madhya Pradesh\", \"India/Karnataka\", \"India/Gujarat\", \"India/Uttar Pradesh\", \"India/Tamil Nadu\", \"India/Tamil Nadu\", \"India/Andhra Pradesh\", \"India/Delhi\", \"India/Maharashtra\", \"India\", \"India\", \"India\", \"India\", \"India\", \"India\", \"India\", \"India\", \"India\", \"India\", \"India\", \"India\", \"India\", \"India\", \"India\", \"India\", \"India\", \"India\", \"India\", \"India\", \"India\", \"India\", \"India\", \"India\", \"India\", \"India\", \"India\", \"\"], \"type\": \"treemap\", \"values\": [1, 9, 7, 17, 3, 4, 1, 1, 1, 1, 5, 1, 3, 1, 1, 1, 1, 1, 1, 1, 4, 1, 3, 1, 41, 3, 7, 2, 1, 18, 2, 3, 1, 1, 13, 3, 1, 1, 7, 2, 8, 1, 1, 7, 1, 1, 2, 1, 2, 3, 3, 1, 1, 2, 1, 1, 1, 1, 2, 1, 7, 2, 6, 1, 1, 2, 3, 1, 2, 3, 1, 17, 1, 4, 1, 1, 3, 23, 1, 1, 9, 8, 2, 11, 2, 3, 1, 6, 1, 1, 1, 4, 1, 1, 1, 1, 3, 2, 1, 1, 1, 3, 2, 26, 1, 1, 1, 1, 1, 1, 9, 1, 1, 4, 1, 2, 2, 1, 1, 1, 2, 1, 1, 1, 6, 2, 7, 1, 2, 1, 1, 2, 4, 1, 3, 1, 1, 20, 5, 1, 67, 1, 4, 1, 1, 2, 3, 5, 7, 3, 6, 1, 1, 1, 24, 12, 3, 1, 1, 1, 1, 1, 1, 3, 1, 2, 17, 3, 2, 9, 2, 1, 1, 1, 24, 2, 1, 3, 2, 1, 7, 1, 1, 1, 7, 1, 7, 1, 1, 1, 1, 9, 1, 1, 1, 1, 1, 1, 1, 1, 1, 3, 5, 2, 4, 3, 2, 1, 1, 2, 1, 1, 1, 1, 1, 1, 1, 2, 1, 9, 1, 1, 1, 4, 1, 2, 1, 1, 1, 4, 1, 9, 24, 3, 4, 1, 1, 1, 2, 1, 1, 4, 4, 44, 1, 2, 18, 2, 6, 1, 1, 7, 1, 17, 9, 1, 1, 29, 5, 2, 3, 1, 4, 1, 1, 3, 10, 19, 2, 7, 22, 3, 4, 17, 2, 34, 2, 1, 9, 8, 18, 3, 3, 1, 6, 2, 1, 4, 1, 3, 7, 1, 2, 3, 28, 6, 1, 9, 1, 2, 4, 1, 11, 8, 1, 1, 1, 1, 4, 1, 1, 68, 4, 1, 9, 5, 3, 2, 3, 1, 3, 3, 1, 1, 1, 3, 9, 1, 1, 2, 10, 4, 33, 3, 7, 1, 1, 1, 2, 1, 5, 1, 9, 1, 7, 5, 1, 1, 26, 3, 7, 5, 5, 1, 19, 4, 2, 2, 1, 1, 1, 1, 7, 9, 1, 2, 1, 3, 2, 4, 29, 1, 2, 7, 6, 42, 3, 56, 26, 3, 15, 1, 95, 71, 13, 20, 134, 1, 6, 5, 19, 48, 103, 41, 49, 4, 12, 812]}],\n",
       "                        {\"height\": 700, \"legend\": {\"tracegroupgap\": 0}, \"margin\": {\"t\": 60}, \"template\": {\"data\": {\"bar\": [{\"error_x\": {\"color\": \"#2a3f5f\"}, \"error_y\": {\"color\": \"#2a3f5f\"}, \"marker\": {\"line\": {\"color\": \"#E5ECF6\", \"width\": 0.5}}, \"type\": \"bar\"}], \"barpolar\": [{\"marker\": {\"line\": {\"color\": \"#E5ECF6\", \"width\": 0.5}}, \"type\": \"barpolar\"}], \"carpet\": [{\"aaxis\": {\"endlinecolor\": \"#2a3f5f\", \"gridcolor\": \"white\", \"linecolor\": \"white\", \"minorgridcolor\": \"white\", \"startlinecolor\": \"#2a3f5f\"}, \"baxis\": {\"endlinecolor\": \"#2a3f5f\", \"gridcolor\": \"white\", \"linecolor\": \"white\", \"minorgridcolor\": \"white\", \"startlinecolor\": \"#2a3f5f\"}, \"type\": \"carpet\"}], \"choropleth\": [{\"colorbar\": {\"outlinewidth\": 0, \"ticks\": \"\"}, \"type\": \"choropleth\"}], \"contour\": [{\"colorbar\": {\"outlinewidth\": 0, \"ticks\": \"\"}, \"colorscale\": [[0.0, \"#0d0887\"], [0.1111111111111111, \"#46039f\"], [0.2222222222222222, \"#7201a8\"], [0.3333333333333333, \"#9c179e\"], [0.4444444444444444, \"#bd3786\"], [0.5555555555555556, \"#d8576b\"], [0.6666666666666666, \"#ed7953\"], [0.7777777777777778, \"#fb9f3a\"], [0.8888888888888888, \"#fdca26\"], [1.0, \"#f0f921\"]], \"type\": \"contour\"}], \"contourcarpet\": [{\"colorbar\": {\"outlinewidth\": 0, \"ticks\": \"\"}, \"type\": \"contourcarpet\"}], \"heatmap\": [{\"colorbar\": {\"outlinewidth\": 0, \"ticks\": \"\"}, \"colorscale\": [[0.0, \"#0d0887\"], [0.1111111111111111, \"#46039f\"], [0.2222222222222222, \"#7201a8\"], [0.3333333333333333, \"#9c179e\"], [0.4444444444444444, \"#bd3786\"], [0.5555555555555556, \"#d8576b\"], [0.6666666666666666, \"#ed7953\"], [0.7777777777777778, \"#fb9f3a\"], [0.8888888888888888, \"#fdca26\"], [1.0, \"#f0f921\"]], \"type\": \"heatmap\"}], \"heatmapgl\": [{\"colorbar\": {\"outlinewidth\": 0, \"ticks\": \"\"}, \"colorscale\": [[0.0, \"#0d0887\"], [0.1111111111111111, \"#46039f\"], [0.2222222222222222, \"#7201a8\"], [0.3333333333333333, \"#9c179e\"], [0.4444444444444444, \"#bd3786\"], [0.5555555555555556, \"#d8576b\"], [0.6666666666666666, \"#ed7953\"], [0.7777777777777778, \"#fb9f3a\"], [0.8888888888888888, \"#fdca26\"], [1.0, \"#f0f921\"]], \"type\": \"heatmapgl\"}], \"histogram\": [{\"marker\": {\"colorbar\": {\"outlinewidth\": 0, \"ticks\": \"\"}}, \"type\": \"histogram\"}], \"histogram2d\": [{\"colorbar\": {\"outlinewidth\": 0, \"ticks\": \"\"}, \"colorscale\": [[0.0, \"#0d0887\"], [0.1111111111111111, \"#46039f\"], [0.2222222222222222, \"#7201a8\"], [0.3333333333333333, \"#9c179e\"], [0.4444444444444444, \"#bd3786\"], [0.5555555555555556, \"#d8576b\"], [0.6666666666666666, \"#ed7953\"], [0.7777777777777778, \"#fb9f3a\"], [0.8888888888888888, \"#fdca26\"], [1.0, \"#f0f921\"]], \"type\": \"histogram2d\"}], \"histogram2dcontour\": [{\"colorbar\": {\"outlinewidth\": 0, \"ticks\": \"\"}, \"colorscale\": [[0.0, \"#0d0887\"], [0.1111111111111111, \"#46039f\"], [0.2222222222222222, \"#7201a8\"], [0.3333333333333333, \"#9c179e\"], [0.4444444444444444, \"#bd3786\"], [0.5555555555555556, \"#d8576b\"], [0.6666666666666666, \"#ed7953\"], [0.7777777777777778, \"#fb9f3a\"], [0.8888888888888888, \"#fdca26\"], [1.0, \"#f0f921\"]], \"type\": \"histogram2dcontour\"}], \"mesh3d\": [{\"colorbar\": {\"outlinewidth\": 0, \"ticks\": \"\"}, \"type\": \"mesh3d\"}], \"parcoords\": [{\"line\": {\"colorbar\": {\"outlinewidth\": 0, \"ticks\": \"\"}}, \"type\": \"parcoords\"}], \"pie\": [{\"automargin\": true, \"type\": \"pie\"}], \"scatter\": [{\"marker\": {\"colorbar\": {\"outlinewidth\": 0, \"ticks\": \"\"}}, \"type\": \"scatter\"}], \"scatter3d\": [{\"line\": {\"colorbar\": {\"outlinewidth\": 0, \"ticks\": \"\"}}, \"marker\": {\"colorbar\": {\"outlinewidth\": 0, \"ticks\": \"\"}}, \"type\": \"scatter3d\"}], \"scattercarpet\": [{\"marker\": {\"colorbar\": {\"outlinewidth\": 0, \"ticks\": \"\"}}, \"type\": \"scattercarpet\"}], \"scattergeo\": [{\"marker\": {\"colorbar\": {\"outlinewidth\": 0, \"ticks\": \"\"}}, \"type\": \"scattergeo\"}], \"scattergl\": [{\"marker\": {\"colorbar\": {\"outlinewidth\": 0, \"ticks\": \"\"}}, \"type\": \"scattergl\"}], \"scattermapbox\": [{\"marker\": {\"colorbar\": {\"outlinewidth\": 0, \"ticks\": \"\"}}, \"type\": \"scattermapbox\"}], \"scatterpolar\": [{\"marker\": {\"colorbar\": {\"outlinewidth\": 0, \"ticks\": \"\"}}, \"type\": \"scatterpolar\"}], \"scatterpolargl\": [{\"marker\": {\"colorbar\": {\"outlinewidth\": 0, \"ticks\": \"\"}}, \"type\": \"scatterpolargl\"}], \"scatterternary\": [{\"marker\": {\"colorbar\": {\"outlinewidth\": 0, \"ticks\": \"\"}}, \"type\": \"scatterternary\"}], \"surface\": [{\"colorbar\": {\"outlinewidth\": 0, \"ticks\": \"\"}, \"colorscale\": [[0.0, \"#0d0887\"], [0.1111111111111111, \"#46039f\"], [0.2222222222222222, \"#7201a8\"], [0.3333333333333333, \"#9c179e\"], [0.4444444444444444, \"#bd3786\"], [0.5555555555555556, \"#d8576b\"], [0.6666666666666666, \"#ed7953\"], [0.7777777777777778, \"#fb9f3a\"], [0.8888888888888888, \"#fdca26\"], [1.0, \"#f0f921\"]], \"type\": \"surface\"}], \"table\": [{\"cells\": {\"fill\": {\"color\": \"#EBF0F8\"}, \"line\": {\"color\": \"white\"}}, \"header\": {\"fill\": {\"color\": \"#C8D4E3\"}, \"line\": {\"color\": \"white\"}}, \"type\": \"table\"}]}, \"layout\": {\"annotationdefaults\": {\"arrowcolor\": \"#2a3f5f\", \"arrowhead\": 0, \"arrowwidth\": 1}, \"coloraxis\": {\"colorbar\": {\"outlinewidth\": 0, \"ticks\": \"\"}}, \"colorscale\": {\"diverging\": [[0, \"#8e0152\"], [0.1, \"#c51b7d\"], [0.2, \"#de77ae\"], [0.3, \"#f1b6da\"], [0.4, \"#fde0ef\"], [0.5, \"#f7f7f7\"], [0.6, \"#e6f5d0\"], [0.7, \"#b8e186\"], [0.8, \"#7fbc41\"], [0.9, \"#4d9221\"], [1, \"#276419\"]], \"sequential\": [[0.0, \"#0d0887\"], [0.1111111111111111, \"#46039f\"], [0.2222222222222222, \"#7201a8\"], [0.3333333333333333, \"#9c179e\"], [0.4444444444444444, \"#bd3786\"], [0.5555555555555556, \"#d8576b\"], [0.6666666666666666, \"#ed7953\"], [0.7777777777777778, \"#fb9f3a\"], [0.8888888888888888, \"#fdca26\"], [1.0, \"#f0f921\"]], \"sequentialminus\": [[0.0, \"#0d0887\"], [0.1111111111111111, \"#46039f\"], [0.2222222222222222, \"#7201a8\"], [0.3333333333333333, \"#9c179e\"], [0.4444444444444444, \"#bd3786\"], [0.5555555555555556, \"#d8576b\"], [0.6666666666666666, \"#ed7953\"], [0.7777777777777778, \"#fb9f3a\"], [0.8888888888888888, \"#fdca26\"], [1.0, \"#f0f921\"]]}, \"colorway\": [\"#636efa\", \"#EF553B\", \"#00cc96\", \"#ab63fa\", \"#FFA15A\", \"#19d3f3\", \"#FF6692\", \"#B6E880\", \"#FF97FF\", \"#FECB52\"], \"font\": {\"color\": \"#2a3f5f\"}, \"geo\": {\"bgcolor\": \"white\", \"lakecolor\": \"white\", \"landcolor\": \"#E5ECF6\", \"showlakes\": true, \"showland\": true, \"subunitcolor\": \"white\"}, \"hoverlabel\": {\"align\": \"left\"}, \"hovermode\": \"closest\", \"mapbox\": {\"style\": \"light\"}, \"paper_bgcolor\": \"white\", \"plot_bgcolor\": \"#E5ECF6\", \"polar\": {\"angularaxis\": {\"gridcolor\": \"white\", \"linecolor\": \"white\", \"ticks\": \"\"}, \"bgcolor\": \"#E5ECF6\", \"radialaxis\": {\"gridcolor\": \"white\", \"linecolor\": \"white\", \"ticks\": \"\"}}, \"scene\": {\"xaxis\": {\"backgroundcolor\": \"#E5ECF6\", \"gridcolor\": \"white\", \"gridwidth\": 2, \"linecolor\": \"white\", \"showbackground\": true, \"ticks\": \"\", \"zerolinecolor\": \"white\"}, \"yaxis\": {\"backgroundcolor\": \"#E5ECF6\", \"gridcolor\": \"white\", \"gridwidth\": 2, \"linecolor\": \"white\", \"showbackground\": true, \"ticks\": \"\", \"zerolinecolor\": \"white\"}, \"zaxis\": {\"backgroundcolor\": \"#E5ECF6\", \"gridcolor\": \"white\", \"gridwidth\": 2, \"linecolor\": \"white\", \"showbackground\": true, \"ticks\": \"\", \"zerolinecolor\": \"white\"}}, \"shapedefaults\": {\"line\": {\"color\": \"#2a3f5f\"}}, \"ternary\": {\"aaxis\": {\"gridcolor\": \"white\", \"linecolor\": \"white\", \"ticks\": \"\"}, \"baxis\": {\"gridcolor\": \"white\", \"linecolor\": \"white\", \"ticks\": \"\"}, \"bgcolor\": \"#E5ECF6\", \"caxis\": {\"gridcolor\": \"white\", \"linecolor\": \"white\", \"ticks\": \"\"}}, \"title\": {\"x\": 0.05}, \"xaxis\": {\"automargin\": true, \"gridcolor\": \"white\", \"linecolor\": \"white\", \"ticks\": \"\", \"title\": {\"standoff\": 15}, \"zerolinecolor\": \"white\", \"zerolinewidth\": 2}, \"yaxis\": {\"automargin\": true, \"gridcolor\": \"white\", \"linecolor\": \"white\", \"ticks\": \"\", \"title\": {\"standoff\": 15}, \"zerolinecolor\": \"white\", \"zerolinewidth\": 2}}}},\n",
       "                        {\"responsive\": true}\n",
       "                    ).then(function(){\n",
       "                            \n",
       "var gd = document.getElementById('816e2e76-c752-4aaf-8618-95900779df02');\n",
       "var x = new MutationObserver(function (mutations, observer) {{\n",
       "        var display = window.getComputedStyle(gd).display;\n",
       "        if (!display || display === 'none') {{\n",
       "            console.log([gd, 'removed!']);\n",
       "            Plotly.purge(gd);\n",
       "            observer.disconnect();\n",
       "        }}\n",
       "}});\n",
       "\n",
       "// Listen for the removal of the full notebook cells\n",
       "var notebookContainer = gd.closest('#notebook-container');\n",
       "if (notebookContainer) {{\n",
       "    x.observe(notebookContainer, {childList: true});\n",
       "}}\n",
       "\n",
       "// Listen for the clearing of the current output cell\n",
       "var outputEl = gd.closest('.output');\n",
       "if (outputEl) {{\n",
       "    x.observe(outputEl, {childList: true});\n",
       "}}\n",
       "\n",
       "                        })\n",
       "                };\n",
       "                });\n",
       "            </script>\n",
       "        </div>"
      ]
     },
     "metadata": {},
     "output_type": "display_data"
    }
   ],
   "source": [
    "fig.show()"
   ]
  },
  {
   "cell_type": "code",
   "execution_count": 112,
   "metadata": {},
   "outputs": [
    {
     "data": {
      "application/vnd.plotly.v1+json": {
       "config": {
        "plotlyServerURL": "https://plot.ly"
       },
       "data": [
        {
         "hoverlabel": {
          "namelength": 0
         },
         "hovertemplate": "State/UnionTerritory=Kerala<br>Date=%{x}<br>Confirmed=%{y}",
         "legendgroup": "Kerala",
         "line": {
          "color": "#636efa"
         },
         "mode": "lines",
         "name": "Kerala",
         "orientation": "v",
         "showlegend": true,
         "stackgroup": "1",
         "type": "scatter",
         "x": [
          "30/01/20",
          "31/01/20",
          "01/02/20",
          "02/02/20",
          "03/02/20",
          "04/02/20",
          "05/02/20",
          "06/02/20",
          "07/02/20",
          "08/02/20",
          "09/02/20",
          "10/02/20",
          "11/02/20",
          "12/02/20",
          "13/02/20",
          "14/02/20",
          "15/02/20",
          "16/02/20",
          "17/02/20",
          "18/02/20",
          "19/02/20",
          "20/02/20",
          "21/02/20",
          "22/02/20",
          "23/02/20",
          "24/02/20",
          "25/02/20",
          "26/02/20",
          "27/02/20",
          "28/02/20",
          "29/02/20",
          "01/03/20",
          "02/03/20",
          "03/03/20",
          "04/03/20",
          "05/03/20",
          "06/03/20",
          "07/03/20",
          "08/03/20",
          "09/03/20",
          "10/03/20",
          "11/03/20",
          "12/03/20",
          "13/03/20",
          "14/03/20",
          "15/03/20",
          "16/03/20",
          "17/03/20",
          "18/03/20",
          "19/03/20",
          "20/03/20",
          "21/03/20",
          "22/03/20",
          "23/03/20",
          "24/03/20",
          "25/03/20",
          "26/03/20",
          "27/03/20",
          "28/03/20",
          "29/03/20",
          "30/03/20",
          "31/03/20",
          "01/04/20",
          "02/04/20",
          "03/04/20",
          "04/04/20"
         ],
         "xaxis": "x",
         "y": [
          1,
          1,
          2,
          3,
          3,
          3,
          3,
          3,
          3,
          3,
          3,
          3,
          3,
          3,
          3,
          3,
          3,
          3,
          3,
          3,
          3,
          3,
          3,
          3,
          3,
          3,
          3,
          3,
          3,
          3,
          3,
          3,
          3,
          3,
          3,
          3,
          3,
          3,
          8,
          9,
          15,
          17,
          17,
          19,
          19,
          22,
          23,
          26,
          27,
          27,
          28,
          40,
          52,
          67,
          95,
          109,
          118,
          137,
          176,
          182,
          202,
          234,
          241,
          265,
          286,
          295
         ],
         "yaxis": "y"
        },
        {
         "hoverlabel": {
          "namelength": 0
         },
         "hovertemplate": "State/UnionTerritory=Telengana<br>Date=%{x}<br>Confirmed=%{y}",
         "legendgroup": "Telengana",
         "line": {
          "color": "#EF553B"
         },
         "mode": "lines",
         "name": "Telengana",
         "orientation": "v",
         "showlegend": true,
         "stackgroup": "1",
         "type": "scatter",
         "x": [
          "02/03/20",
          "03/03/20",
          "04/03/20",
          "05/03/20",
          "06/03/20",
          "07/03/20",
          "08/03/20",
          "09/03/20",
          "10/03/20",
          "11/03/20",
          "12/03/20",
          "13/03/20",
          "14/03/20",
          "15/03/20",
          "16/03/20",
          "17/03/20",
          "18/03/20",
          "19/03/20",
          "20/03/20",
          "21/03/20",
          "22/03/20",
          "23/03/20",
          "24/03/20",
          "25/03/20",
          "26/03/20",
          "27/03/20",
          "28/03/20",
          "29/03/20",
          "30/03/20",
          "31/03/20",
          "01/04/20",
          "02/04/20",
          "03/04/20",
          "04/04/20"
         ],
         "xaxis": "x",
         "y": [
          1,
          1,
          1,
          1,
          1,
          1,
          1,
          1,
          1,
          1,
          1,
          1,
          1,
          3,
          3,
          5,
          6,
          6,
          17,
          21,
          22,
          32,
          35,
          35,
          44,
          45,
          56,
          66,
          71,
          79,
          96,
          107,
          158,
          159
         ],
         "yaxis": "y"
        },
        {
         "hoverlabel": {
          "namelength": 0
         },
         "hovertemplate": "State/UnionTerritory=Delhi<br>Date=%{x}<br>Confirmed=%{y}",
         "legendgroup": "Delhi",
         "line": {
          "color": "#00cc96"
         },
         "mode": "lines",
         "name": "Delhi",
         "orientation": "v",
         "showlegend": true,
         "stackgroup": "1",
         "type": "scatter",
         "x": [
          "02/03/20",
          "03/03/20",
          "04/03/20",
          "05/03/20",
          "06/03/20",
          "07/03/20",
          "08/03/20",
          "09/03/20",
          "10/03/20",
          "11/03/20",
          "12/03/20",
          "13/03/20",
          "14/03/20",
          "15/03/20",
          "16/03/20",
          "17/03/20",
          "18/03/20",
          "19/03/20",
          "20/03/20",
          "21/03/20",
          "22/03/20",
          "23/03/20",
          "24/03/20",
          "25/03/20",
          "26/03/20",
          "27/03/20",
          "28/03/20",
          "29/03/20",
          "30/03/20",
          "31/03/20",
          "01/04/20",
          "02/04/20",
          "03/04/20",
          "04/04/20"
         ],
         "xaxis": "x",
         "y": [
          1,
          1,
          1,
          2,
          3,
          3,
          3,
          4,
          4,
          5,
          6,
          6,
          7,
          7,
          7,
          8,
          10,
          12,
          17,
          26,
          29,
          29,
          30,
          31,
          36,
          36,
          39,
          49,
          87,
          97,
          152,
          219,
          219,
          445
         ],
         "yaxis": "y"
        },
        {
         "hoverlabel": {
          "namelength": 0
         },
         "hovertemplate": "State/UnionTerritory=Rajasthan<br>Date=%{x}<br>Confirmed=%{y}",
         "legendgroup": "Rajasthan",
         "line": {
          "color": "#ab63fa"
         },
         "mode": "lines",
         "name": "Rajasthan",
         "orientation": "v",
         "showlegend": true,
         "stackgroup": "1",
         "type": "scatter",
         "x": [
          "03/03/20",
          "04/03/20",
          "05/03/20",
          "06/03/20",
          "07/03/20",
          "08/03/20",
          "09/03/20",
          "10/03/20",
          "11/03/20",
          "12/03/20",
          "13/03/20",
          "14/03/20",
          "15/03/20",
          "16/03/20",
          "17/03/20",
          "18/03/20",
          "19/03/20",
          "20/03/20",
          "21/03/20",
          "22/03/20",
          "23/03/20",
          "24/03/20",
          "25/03/20",
          "26/03/20",
          "27/03/20",
          "28/03/20",
          "29/03/20",
          "30/03/20",
          "31/03/20",
          "01/04/20",
          "02/04/20",
          "03/04/20",
          "04/04/20"
         ],
         "xaxis": "x",
         "y": [
          1,
          15,
          15,
          15,
          15,
          15,
          15,
          15,
          3,
          3,
          3,
          3,
          4,
          4,
          4,
          4,
          7,
          17,
          17,
          24,
          28,
          32,
          36,
          41,
          41,
          54,
          55,
          59,
          74,
          93,
          108,
          167,
          200
         ],
         "yaxis": "y"
        },
        {
         "hoverlabel": {
          "namelength": 0
         },
         "hovertemplate": "State/UnionTerritory=Uttar Pradesh<br>Date=%{x}<br>Confirmed=%{y}",
         "legendgroup": "Uttar Pradesh",
         "line": {
          "color": "#FFA15A"
         },
         "mode": "lines",
         "name": "Uttar Pradesh",
         "orientation": "v",
         "showlegend": true,
         "stackgroup": "1",
         "type": "scatter",
         "x": [
          "04/03/20",
          "05/03/20",
          "06/03/20",
          "07/03/20",
          "08/03/20",
          "09/03/20",
          "10/03/20",
          "11/03/20",
          "12/03/20",
          "13/03/20",
          "14/03/20",
          "15/03/20",
          "16/03/20",
          "17/03/20",
          "18/03/20",
          "19/03/20",
          "20/03/20",
          "21/03/20",
          "22/03/20",
          "23/03/20",
          "24/03/20",
          "25/03/20",
          "26/03/20",
          "27/03/20",
          "28/03/20",
          "29/03/20",
          "30/03/20",
          "31/03/20",
          "01/04/20",
          "02/04/20",
          "03/04/20",
          "04/04/20"
         ],
         "xaxis": "x",
         "y": [
          6,
          7,
          7,
          7,
          7,
          7,
          7,
          9,
          11,
          11,
          12,
          13,
          13,
          15,
          16,
          19,
          23,
          24,
          27,
          31,
          33,
          37,
          41,
          41,
          55,
          65,
          82,
          101,
          103,
          113,
          172,
          174
         ],
         "yaxis": "y"
        },
        {
         "hoverlabel": {
          "namelength": 0
         },
         "hovertemplate": "State/UnionTerritory=Haryana<br>Date=%{x}<br>Confirmed=%{y}",
         "legendgroup": "Haryana",
         "line": {
          "color": "#19d3f3"
         },
         "mode": "lines",
         "name": "Haryana",
         "orientation": "v",
         "showlegend": true,
         "stackgroup": "1",
         "type": "scatter",
         "x": [
          "04/03/20",
          "05/03/20",
          "06/03/20",
          "07/03/20",
          "08/03/20",
          "09/03/20",
          "10/03/20",
          "11/03/20",
          "12/03/20",
          "13/03/20",
          "14/03/20",
          "15/03/20",
          "16/03/20",
          "17/03/20",
          "18/03/20",
          "19/03/20",
          "20/03/20",
          "21/03/20",
          "22/03/20",
          "23/03/20",
          "24/03/20",
          "25/03/20",
          "26/03/20",
          "27/03/20",
          "28/03/20",
          "29/03/20",
          "30/03/20",
          "31/03/20",
          "01/04/20",
          "02/04/20",
          "03/04/20",
          "04/04/20"
         ],
         "xaxis": "x",
         "y": [
          2,
          2,
          2,
          2,
          2,
          2,
          2,
          14,
          14,
          14,
          14,
          14,
          14,
          15,
          17,
          17,
          17,
          17,
          21,
          26,
          28,
          28,
          30,
          30,
          33,
          33,
          36,
          40,
          43,
          43,
          49,
          49
         ],
         "yaxis": "y"
        },
        {
         "hoverlabel": {
          "namelength": 0
         },
         "hovertemplate": "State/UnionTerritory=Ladakh<br>Date=%{x}<br>Confirmed=%{y}",
         "legendgroup": "Ladakh",
         "line": {
          "color": "#FF6692"
         },
         "mode": "lines",
         "name": "Ladakh",
         "orientation": "v",
         "showlegend": true,
         "stackgroup": "1",
         "type": "scatter",
         "x": [
          "07/03/20",
          "08/03/20",
          "09/03/20",
          "10/03/20",
          "11/03/20",
          "12/03/20",
          "13/03/20",
          "14/03/20",
          "15/03/20",
          "16/03/20",
          "17/03/20",
          "18/03/20",
          "19/03/20",
          "20/03/20",
          "21/03/20",
          "22/03/20",
          "23/03/20",
          "24/03/20",
          "25/03/20",
          "26/03/20",
          "27/03/20",
          "28/03/20",
          "29/03/20",
          "30/03/20",
          "31/03/20",
          "01/04/20",
          "02/04/20",
          "03/04/20",
          "04/04/20"
         ],
         "xaxis": "x",
         "y": [
          2,
          2,
          2,
          2,
          2,
          3,
          3,
          3,
          3,
          4,
          6,
          8,
          8,
          10,
          13,
          13,
          13,
          13,
          13,
          13,
          13,
          13,
          13,
          13,
          13,
          13,
          13,
          14,
          14
         ],
         "yaxis": "y"
        },
        {
         "hoverlabel": {
          "namelength": 0
         },
         "hovertemplate": "State/UnionTerritory=Tamil Nadu<br>Date=%{x}<br>Confirmed=%{y}",
         "legendgroup": "Tamil Nadu",
         "line": {
          "color": "#B6E880"
         },
         "mode": "lines",
         "name": "Tamil Nadu",
         "orientation": "v",
         "showlegend": true,
         "stackgroup": "1",
         "type": "scatter",
         "x": [
          "07/03/20",
          "08/03/20",
          "09/03/20",
          "10/03/20",
          "11/03/20",
          "12/03/20",
          "13/03/20",
          "14/03/20",
          "15/03/20",
          "16/03/20",
          "17/03/20",
          "18/03/20",
          "19/03/20",
          "20/03/20",
          "21/03/20",
          "22/03/20",
          "23/03/20",
          "24/03/20",
          "25/03/20",
          "26/03/20",
          "27/03/20",
          "28/03/20",
          "29/03/20",
          "30/03/20",
          "31/03/20",
          "01/04/20",
          "02/04/20",
          "03/04/20",
          "04/04/20"
         ],
         "xaxis": "x",
         "y": [
          1,
          1,
          1,
          1,
          1,
          1,
          1,
          1,
          1,
          1,
          1,
          1,
          2,
          3,
          3,
          7,
          9,
          15,
          18,
          26,
          29,
          40,
          49,
          67,
          74,
          234,
          234,
          309,
          411
         ],
         "yaxis": "y"
        },
        {
         "hoverlabel": {
          "namelength": 0
         },
         "hovertemplate": "State/UnionTerritory=Karnataka<br>Date=%{x}<br>Confirmed=%{y}",
         "legendgroup": "Karnataka",
         "line": {
          "color": "#FF97FF"
         },
         "mode": "lines",
         "name": "Karnataka",
         "orientation": "v",
         "showlegend": true,
         "stackgroup": "1",
         "type": "scatter",
         "x": [
          "09/03/20",
          "10/03/20",
          "11/03/20",
          "12/03/20",
          "13/03/20",
          "14/03/20",
          "15/03/20",
          "16/03/20",
          "17/03/20",
          "18/03/20",
          "19/03/20",
          "20/03/20",
          "21/03/20",
          "22/03/20",
          "23/03/20",
          "24/03/20",
          "25/03/20",
          "26/03/20",
          "27/03/20",
          "28/03/20",
          "29/03/20",
          "30/03/20",
          "31/03/20",
          "01/04/20",
          "02/04/20",
          "03/04/20",
          "04/04/20"
         ],
         "xaxis": "x",
         "y": [
          1,
          4,
          4,
          4,
          6,
          6,
          6,
          6,
          11,
          11,
          14,
          15,
          15,
          26,
          33,
          37,
          41,
          55,
          55,
          55,
          76,
          83,
          83,
          101,
          110,
          124,
          128
         ],
         "yaxis": "y"
        },
        {
         "hoverlabel": {
          "namelength": 0
         },
         "hovertemplate": "State/UnionTerritory=Maharashtra<br>Date=%{x}<br>Confirmed=%{y}",
         "legendgroup": "Maharashtra",
         "line": {
          "color": "#FECB52"
         },
         "mode": "lines",
         "name": "Maharashtra",
         "orientation": "v",
         "showlegend": true,
         "stackgroup": "1",
         "type": "scatter",
         "x": [
          "09/03/20",
          "10/03/20",
          "11/03/20",
          "12/03/20",
          "13/03/20",
          "14/03/20",
          "15/03/20",
          "16/03/20",
          "17/03/20",
          "18/03/20",
          "19/03/20",
          "20/03/20",
          "21/03/20",
          "22/03/20",
          "23/03/20",
          "24/03/20",
          "25/03/20",
          "26/03/20",
          "27/03/20",
          "28/03/20",
          "29/03/20",
          "30/03/20",
          "31/03/20",
          "01/04/20",
          "02/04/20",
          "03/04/20",
          "04/04/20"
         ],
         "xaxis": "x",
         "y": [
          2,
          5,
          2,
          11,
          14,
          14,
          32,
          32,
          39,
          42,
          47,
          52,
          63,
          67,
          74,
          89,
          128,
          124,
          130,
          180,
          186,
          198,
          216,
          302,
          335,
          335,
          490
         ],
         "yaxis": "y"
        },
        {
         "hoverlabel": {
          "namelength": 0
         },
         "hovertemplate": "State/UnionTerritory=Punjab<br>Date=%{x}<br>Confirmed=%{y}",
         "legendgroup": "Punjab",
         "line": {
          "color": "#636efa"
         },
         "mode": "lines",
         "name": "Punjab",
         "orientation": "v",
         "showlegend": true,
         "stackgroup": "1",
         "type": "scatter",
         "x": [
          "09/03/20",
          "10/03/20",
          "11/03/20",
          "12/03/20",
          "13/03/20",
          "14/03/20",
          "15/03/20",
          "16/03/20",
          "17/03/20",
          "18/03/20",
          "19/03/20",
          "20/03/20",
          "21/03/20",
          "22/03/20",
          "23/03/20",
          "24/03/20",
          "25/03/20",
          "26/03/20",
          "27/03/20",
          "28/03/20",
          "29/03/20",
          "30/03/20",
          "31/03/20",
          "01/04/20",
          "02/04/20",
          "03/04/20",
          "04/04/20"
         ],
         "xaxis": "x",
         "y": [
          1,
          1,
          1,
          1,
          1,
          1,
          1,
          1,
          1,
          1,
          2,
          2,
          13,
          21,
          21,
          29,
          29,
          33,
          33,
          38,
          38,
          38,
          41,
          42,
          46,
          48,
          57
         ],
         "yaxis": "y"
        },
        {
         "hoverlabel": {
          "namelength": 0
         },
         "hovertemplate": "State/UnionTerritory=Jammu and Kashmir<br>Date=%{x}<br>Confirmed=%{y}",
         "legendgroup": "Jammu and Kashmir",
         "line": {
          "color": "#EF553B"
         },
         "mode": "lines",
         "name": "Jammu and Kashmir",
         "orientation": "v",
         "showlegend": true,
         "stackgroup": "1",
         "type": "scatter",
         "x": [
          "09/03/20",
          "10/03/20",
          "11/03/20",
          "12/03/20",
          "13/03/20",
          "14/03/20",
          "15/03/20",
          "16/03/20",
          "17/03/20",
          "18/03/20",
          "19/03/20",
          "20/03/20",
          "21/03/20",
          "22/03/20",
          "23/03/20",
          "24/03/20",
          "25/03/20",
          "26/03/20",
          "27/03/20",
          "28/03/20",
          "29/03/20",
          "30/03/20",
          "31/03/20",
          "01/04/20",
          "02/04/20",
          "03/04/20",
          "04/04/20"
         ],
         "xaxis": "x",
         "y": [
          1,
          1,
          1,
          1,
          1,
          2,
          2,
          3,
          3,
          3,
          4,
          4,
          4,
          4,
          4,
          4,
          7,
          13,
          13,
          20,
          31,
          48,
          54,
          62,
          62,
          75,
          75
         ],
         "yaxis": "y"
        },
        {
         "hoverlabel": {
          "namelength": 0
         },
         "hovertemplate": "State/UnionTerritory=Andhra Pradesh<br>Date=%{x}<br>Confirmed=%{y}",
         "legendgroup": "Andhra Pradesh",
         "line": {
          "color": "#00cc96"
         },
         "mode": "lines",
         "name": "Andhra Pradesh",
         "orientation": "v",
         "showlegend": true,
         "stackgroup": "1",
         "type": "scatter",
         "x": [
          "12/03/20",
          "13/03/20",
          "14/03/20",
          "15/03/20",
          "16/03/20",
          "17/03/20",
          "18/03/20",
          "19/03/20",
          "20/03/20",
          "21/03/20",
          "22/03/20",
          "23/03/20",
          "24/03/20",
          "25/03/20",
          "26/03/20",
          "27/03/20",
          "28/03/20",
          "29/03/20",
          "30/03/20",
          "31/03/20",
          "01/04/20",
          "02/04/20",
          "03/04/20",
          "04/04/20"
         ],
         "xaxis": "x",
         "y": [
          1,
          1,
          1,
          1,
          1,
          1,
          1,
          2,
          3,
          3,
          5,
          7,
          8,
          9,
          11,
          12,
          14,
          19,
          23,
          40,
          83,
          86,
          132,
          161
         ],
         "yaxis": "y"
        },
        {
         "hoverlabel": {
          "namelength": 0
         },
         "hovertemplate": "State/UnionTerritory=Uttarakhand<br>Date=%{x}<br>Confirmed=%{y}",
         "legendgroup": "Uttarakhand",
         "line": {
          "color": "#ab63fa"
         },
         "mode": "lines",
         "name": "Uttarakhand",
         "orientation": "v",
         "showlegend": true,
         "stackgroup": "1",
         "type": "scatter",
         "x": [
          "15/03/20",
          "16/03/20",
          "17/03/20",
          "18/03/20",
          "19/03/20",
          "20/03/20",
          "21/03/20",
          "22/03/20",
          "23/03/20",
          "24/03/20",
          "25/03/20",
          "26/03/20",
          "27/03/20",
          "28/03/20",
          "29/03/20",
          "30/03/20",
          "31/03/20",
          "01/04/20",
          "02/04/20",
          "03/04/20",
          "04/04/20"
         ],
         "xaxis": "x",
         "y": [
          1,
          1,
          1,
          1,
          1,
          3,
          3,
          3,
          3,
          4,
          4,
          5,
          5,
          5,
          7,
          7,
          7,
          7,
          7,
          10,
          16
         ],
         "yaxis": "y"
        },
        {
         "hoverlabel": {
          "namelength": 0
         },
         "hovertemplate": "State/UnionTerritory=Odisha<br>Date=%{x}<br>Confirmed=%{y}",
         "legendgroup": "Odisha",
         "line": {
          "color": "#FFA15A"
         },
         "mode": "lines",
         "name": "Odisha",
         "orientation": "v",
         "showlegend": true,
         "stackgroup": "1",
         "type": "scatter",
         "x": [
          "16/03/20",
          "17/03/20",
          "18/03/20",
          "19/03/20",
          "20/03/20",
          "21/03/20",
          "22/03/20",
          "23/03/20",
          "24/03/20",
          "25/03/20",
          "26/03/20",
          "27/03/20",
          "28/03/20",
          "29/03/20",
          "30/03/20",
          "31/03/20",
          "01/04/20",
          "02/04/20",
          "03/04/20",
          "04/04/20"
         ],
         "xaxis": "x",
         "y": [
          1,
          1,
          1,
          1,
          2,
          2,
          2,
          2,
          2,
          2,
          2,
          2,
          3,
          3,
          3,
          3,
          4,
          4,
          5,
          5
         ],
         "yaxis": "y"
        },
        {
         "hoverlabel": {
          "namelength": 0
         },
         "hovertemplate": "State/UnionTerritory=Pondicherry<br>Date=%{x}<br>Confirmed=%{y}",
         "legendgroup": "Pondicherry",
         "line": {
          "color": "#19d3f3"
         },
         "mode": "lines",
         "name": "Pondicherry",
         "orientation": "v",
         "showlegend": true,
         "stackgroup": "1",
         "type": "scatter",
         "x": [
          "18/03/20",
          "19/03/20"
         ],
         "xaxis": "x",
         "y": [
          1,
          1
         ],
         "yaxis": "y"
        },
        {
         "hoverlabel": {
          "namelength": 0
         },
         "hovertemplate": "State/UnionTerritory=West Bengal<br>Date=%{x}<br>Confirmed=%{y}",
         "legendgroup": "West Bengal",
         "line": {
          "color": "#FF6692"
         },
         "mode": "lines",
         "name": "West Bengal",
         "orientation": "v",
         "showlegend": true,
         "stackgroup": "1",
         "type": "scatter",
         "x": [
          "18/03/20",
          "19/03/20",
          "20/03/20",
          "21/03/20",
          "22/03/20",
          "23/03/20",
          "24/03/20",
          "25/03/20",
          "26/03/20",
          "27/03/20",
          "28/03/20",
          "29/03/20",
          "30/03/20",
          "31/03/20",
          "01/04/20",
          "02/04/20",
          "03/04/20",
          "04/04/20"
         ],
         "xaxis": "x",
         "y": [
          1,
          1,
          2,
          3,
          4,
          7,
          9,
          9,
          10,
          10,
          15,
          18,
          22,
          26,
          37,
          53,
          63,
          69
         ],
         "yaxis": "y"
        },
        {
         "hoverlabel": {
          "namelength": 0
         },
         "hovertemplate": "State/UnionTerritory=Chattisgarh<br>Date=%{x}<br>Confirmed=%{y}",
         "legendgroup": "Chattisgarh",
         "line": {
          "color": "#B6E880"
         },
         "mode": "lines",
         "name": "Chattisgarh",
         "orientation": "v",
         "showlegend": true,
         "stackgroup": "1",
         "type": "scatter",
         "x": [
          "19/03/20"
         ],
         "xaxis": "x",
         "y": [
          1
         ],
         "yaxis": "y"
        },
        {
         "hoverlabel": {
          "namelength": 0
         },
         "hovertemplate": "State/UnionTerritory=Chandigarh<br>Date=%{x}<br>Confirmed=%{y}",
         "legendgroup": "Chandigarh",
         "line": {
          "color": "#FF97FF"
         },
         "mode": "lines",
         "name": "Chandigarh",
         "orientation": "v",
         "showlegend": true,
         "stackgroup": "1",
         "type": "scatter",
         "x": [
          "19/03/20",
          "20/03/20",
          "21/03/20",
          "22/03/20",
          "23/03/20",
          "24/03/20",
          "25/03/20",
          "26/03/20",
          "27/03/20",
          "28/03/20",
          "29/03/20",
          "30/03/20",
          "31/03/20",
          "01/04/20",
          "02/04/20",
          "03/04/20",
          "04/04/20"
         ],
         "xaxis": "x",
         "y": [
          1,
          1,
          1,
          5,
          6,
          7,
          7,
          7,
          7,
          8,
          8,
          8,
          13,
          16,
          16,
          18,
          18
         ],
         "yaxis": "y"
        },
        {
         "hoverlabel": {
          "namelength": 0
         },
         "hovertemplate": "State/UnionTerritory=Chhattisgarh<br>Date=%{x}<br>Confirmed=%{y}",
         "legendgroup": "Chhattisgarh",
         "line": {
          "color": "#FECB52"
         },
         "mode": "lines",
         "name": "Chhattisgarh",
         "orientation": "v",
         "showlegend": true,
         "stackgroup": "1",
         "type": "scatter",
         "x": [
          "20/03/20",
          "21/03/20",
          "22/03/20",
          "23/03/20",
          "24/03/20",
          "25/03/20",
          "26/03/20",
          "27/03/20",
          "28/03/20",
          "29/03/20",
          "30/03/20",
          "31/03/20",
          "01/04/20",
          "02/04/20",
          "03/04/20",
          "04/04/20"
         ],
         "xaxis": "x",
         "y": [
          1,
          1,
          1,
          1,
          1,
          1,
          6,
          6,
          6,
          7,
          7,
          8,
          9,
          9,
          9,
          9
         ],
         "yaxis": "y"
        },
        {
         "hoverlabel": {
          "namelength": 0
         },
         "hovertemplate": "State/UnionTerritory=Gujarat<br>Date=%{x}<br>Confirmed=%{y}",
         "legendgroup": "Gujarat",
         "line": {
          "color": "#636efa"
         },
         "mode": "lines",
         "name": "Gujarat",
         "orientation": "v",
         "showlegend": true,
         "stackgroup": "1",
         "type": "scatter",
         "x": [
          "20/03/20",
          "21/03/20",
          "22/03/20",
          "23/03/20",
          "24/03/20",
          "25/03/20",
          "26/03/20",
          "27/03/20",
          "28/03/20",
          "29/03/20",
          "30/03/20",
          "31/03/20",
          "01/04/20",
          "02/04/20",
          "03/04/20",
          "04/04/20"
         ],
         "xaxis": "x",
         "y": [
          5,
          7,
          18,
          29,
          33,
          38,
          43,
          43,
          45,
          58,
          69,
          73,
          82,
          87,
          95,
          105
         ],
         "yaxis": "y"
        },
        {
         "hoverlabel": {
          "namelength": 0
         },
         "hovertemplate": "State/UnionTerritory=Puducherry<br>Date=%{x}<br>Confirmed=%{y}",
         "legendgroup": "Puducherry",
         "line": {
          "color": "#EF553B"
         },
         "mode": "lines",
         "name": "Puducherry",
         "orientation": "v",
         "showlegend": true,
         "stackgroup": "1",
         "type": "scatter",
         "x": [
          "20/03/20",
          "21/03/20",
          "22/03/20",
          "23/03/20",
          "24/03/20",
          "25/03/20",
          "26/03/20",
          "27/03/20",
          "28/03/20",
          "29/03/20",
          "30/03/20",
          "31/03/20",
          "01/04/20",
          "02/04/20",
          "03/04/20",
          "04/04/20"
         ],
         "xaxis": "x",
         "y": [
          1,
          1,
          1,
          1,
          1,
          1,
          1,
          1,
          1,
          1,
          1,
          1,
          3,
          3,
          5,
          5
         ],
         "yaxis": "y"
        },
        {
         "hoverlabel": {
          "namelength": 0
         },
         "hovertemplate": "State/UnionTerritory=Himachal Pradesh<br>Date=%{x}<br>Confirmed=%{y}",
         "legendgroup": "Himachal Pradesh",
         "line": {
          "color": "#00cc96"
         },
         "mode": "lines",
         "name": "Himachal Pradesh",
         "orientation": "v",
         "showlegend": true,
         "stackgroup": "1",
         "type": "scatter",
         "x": [
          "21/03/20",
          "22/03/20",
          "23/03/20",
          "24/03/20",
          "25/03/20",
          "26/03/20",
          "27/03/20",
          "28/03/20",
          "29/03/20",
          "30/03/20",
          "31/03/20",
          "01/04/20",
          "02/04/20",
          "03/04/20",
          "04/04/20"
         ],
         "xaxis": "x",
         "y": [
          2,
          2,
          2,
          3,
          3,
          3,
          3,
          3,
          3,
          3,
          3,
          3,
          3,
          6,
          6
         ],
         "yaxis": "y"
        },
        {
         "hoverlabel": {
          "namelength": 0
         },
         "hovertemplate": "State/UnionTerritory=Madhya Pradesh<br>Date=%{x}<br>Confirmed=%{y}",
         "legendgroup": "Madhya Pradesh",
         "line": {
          "color": "#ab63fa"
         },
         "mode": "lines",
         "name": "Madhya Pradesh",
         "orientation": "v",
         "showlegend": true,
         "stackgroup": "1",
         "type": "scatter",
         "x": [
          "21/03/20",
          "22/03/20",
          "23/03/20",
          "24/03/20",
          "25/03/20",
          "26/03/20",
          "27/03/20",
          "28/03/20",
          "29/03/20",
          "30/03/20",
          "31/03/20",
          "01/04/20",
          "02/04/20",
          "03/04/20",
          "04/04/20"
         ],
         "xaxis": "x",
         "y": [
          4,
          4,
          6,
          7,
          14,
          20,
          20,
          30,
          30,
          47,
          47,
          66,
          99,
          104,
          104
         ],
         "yaxis": "y"
        },
        {
         "hoverlabel": {
          "namelength": 0
         },
         "hovertemplate": "State/UnionTerritory=Bihar<br>Date=%{x}<br>Confirmed=%{y}",
         "legendgroup": "Bihar",
         "line": {
          "color": "#FFA15A"
         },
         "mode": "lines",
         "name": "Bihar",
         "orientation": "v",
         "showlegend": true,
         "stackgroup": "1",
         "type": "scatter",
         "x": [
          "22/03/20",
          "23/03/20",
          "24/03/20",
          "25/03/20",
          "26/03/20",
          "27/03/20",
          "28/03/20",
          "29/03/20",
          "30/03/20",
          "31/03/20",
          "01/04/20",
          "02/04/20",
          "03/04/20",
          "04/04/20"
         ],
         "xaxis": "x",
         "y": [
          2,
          2,
          3,
          4,
          6,
          6,
          9,
          11,
          15,
          15,
          23,
          24,
          29,
          30
         ],
         "yaxis": "y"
        },
        {
         "hoverlabel": {
          "namelength": 0
         },
         "hovertemplate": "State/UnionTerritory=Manipur<br>Date=%{x}<br>Confirmed=%{y}",
         "legendgroup": "Manipur",
         "line": {
          "color": "#19d3f3"
         },
         "mode": "lines",
         "name": "Manipur",
         "orientation": "v",
         "showlegend": true,
         "stackgroup": "1",
         "type": "scatter",
         "x": [
          "24/03/20",
          "25/03/20",
          "26/03/20",
          "27/03/20",
          "28/03/20",
          "29/03/20",
          "30/03/20",
          "31/03/20",
          "01/04/20",
          "02/04/20",
          "03/04/20",
          "04/04/20"
         ],
         "xaxis": "x",
         "y": [
          1,
          1,
          1,
          1,
          1,
          1,
          1,
          1,
          1,
          1,
          2,
          2
         ],
         "yaxis": "y"
        },
        {
         "hoverlabel": {
          "namelength": 0
         },
         "hovertemplate": "State/UnionTerritory=Mizoram<br>Date=%{x}<br>Confirmed=%{y}",
         "legendgroup": "Mizoram",
         "line": {
          "color": "#FF6692"
         },
         "mode": "lines",
         "name": "Mizoram",
         "orientation": "v",
         "showlegend": true,
         "stackgroup": "1",
         "type": "scatter",
         "x": [
          "25/03/20",
          "26/03/20",
          "27/03/20",
          "28/03/20",
          "29/03/20",
          "30/03/20",
          "31/03/20",
          "01/04/20",
          "02/04/20",
          "03/04/20",
          "04/04/20"
         ],
         "xaxis": "x",
         "y": [
          1,
          1,
          1,
          1,
          1,
          1,
          1,
          1,
          1,
          1,
          1
         ],
         "yaxis": "y"
        },
        {
         "hoverlabel": {
          "namelength": 0
         },
         "hovertemplate": "State/UnionTerritory=Andaman and Nicobar Islands<br>Date=%{x}<br>Confirmed=%{y}",
         "legendgroup": "Andaman and Nicobar Islands",
         "line": {
          "color": "#B6E880"
         },
         "mode": "lines",
         "name": "Andaman and Nicobar Islands",
         "orientation": "v",
         "showlegend": true,
         "stackgroup": "1",
         "type": "scatter",
         "x": [
          "26/03/20",
          "27/03/20",
          "28/03/20",
          "29/03/20",
          "30/03/20",
          "31/03/20",
          "01/04/20",
          "02/04/20",
          "03/04/20",
          "04/04/20"
         ],
         "xaxis": "x",
         "y": [
          1,
          1,
          6,
          9,
          9,
          10,
          10,
          10,
          10,
          10
         ],
         "yaxis": "y"
        },
        {
         "hoverlabel": {
          "namelength": 0
         },
         "hovertemplate": "State/UnionTerritory=Goa<br>Date=%{x}<br>Confirmed=%{y}",
         "legendgroup": "Goa",
         "line": {
          "color": "#FF97FF"
         },
         "mode": "lines",
         "name": "Goa",
         "orientation": "v",
         "showlegend": true,
         "stackgroup": "1",
         "type": "scatter",
         "x": [
          "26/03/20",
          "27/03/20",
          "28/03/20",
          "29/03/20",
          "30/03/20",
          "31/03/20",
          "01/04/20",
          "02/04/20",
          "03/04/20",
          "04/04/20"
         ],
         "xaxis": "x",
         "y": [
          3,
          3,
          3,
          5,
          5,
          5,
          5,
          5,
          6,
          7
         ],
         "yaxis": "y"
        },
        {
         "hoverlabel": {
          "namelength": 0
         },
         "hovertemplate": "State/UnionTerritory=Unassigned<br>Date=%{x}<br>Confirmed=%{y}",
         "legendgroup": "Unassigned",
         "line": {
          "color": "#FECB52"
         },
         "mode": "lines",
         "name": "Unassigned",
         "orientation": "v",
         "showlegend": true,
         "stackgroup": "1",
         "type": "scatter",
         "x": [
          "30/03/20",
          "31/03/20",
          "03/04/20"
         ],
         "xaxis": "x",
         "y": [
          46,
          38,
          77
         ],
         "yaxis": "y"
        },
        {
         "hoverlabel": {
          "namelength": 0
         },
         "hovertemplate": "State/UnionTerritory=Assam<br>Date=%{x}<br>Confirmed=%{y}",
         "legendgroup": "Assam",
         "line": {
          "color": "#636efa"
         },
         "mode": "lines",
         "name": "Assam",
         "orientation": "v",
         "showlegend": true,
         "stackgroup": "1",
         "type": "scatter",
         "x": [
          "01/04/20",
          "02/04/20",
          "03/04/20",
          "04/04/20"
         ],
         "xaxis": "x",
         "y": [
          1,
          5,
          16,
          24
         ],
         "yaxis": "y"
        },
        {
         "hoverlabel": {
          "namelength": 0
         },
         "hovertemplate": "State/UnionTerritory=Jharkhand<br>Date=%{x}<br>Confirmed=%{y}",
         "legendgroup": "Jharkhand",
         "line": {
          "color": "#EF553B"
         },
         "mode": "lines",
         "name": "Jharkhand",
         "orientation": "v",
         "showlegend": true,
         "stackgroup": "1",
         "type": "scatter",
         "x": [
          "01/04/20",
          "02/04/20",
          "03/04/20",
          "04/04/20"
         ],
         "xaxis": "x",
         "y": [
          1,
          1,
          2,
          2
         ],
         "yaxis": "y"
        },
        {
         "hoverlabel": {
          "namelength": 0
         },
         "hovertemplate": "State/UnionTerritory=Arunachal Pradesh<br>Date=%{x}<br>Confirmed=%{y}",
         "legendgroup": "Arunachal Pradesh",
         "line": {
          "color": "#00cc96"
         },
         "mode": "lines",
         "name": "Arunachal Pradesh",
         "orientation": "v",
         "showlegend": true,
         "stackgroup": "1",
         "type": "scatter",
         "x": [
          "03/04/20",
          "04/04/20"
         ],
         "xaxis": "x",
         "y": [
          1,
          1
         ],
         "yaxis": "y"
        }
       ],
       "layout": {
        "legend": {
         "title": {
          "text": "State/UnionTerritory"
         },
         "tracegroupgap": 0
        },
        "margin": {
         "t": 60
        },
        "template": {
         "data": {
          "bar": [
           {
            "error_x": {
             "color": "#2a3f5f"
            },
            "error_y": {
             "color": "#2a3f5f"
            },
            "marker": {
             "line": {
              "color": "#E5ECF6",
              "width": 0.5
             }
            },
            "type": "bar"
           }
          ],
          "barpolar": [
           {
            "marker": {
             "line": {
              "color": "#E5ECF6",
              "width": 0.5
             }
            },
            "type": "barpolar"
           }
          ],
          "carpet": [
           {
            "aaxis": {
             "endlinecolor": "#2a3f5f",
             "gridcolor": "white",
             "linecolor": "white",
             "minorgridcolor": "white",
             "startlinecolor": "#2a3f5f"
            },
            "baxis": {
             "endlinecolor": "#2a3f5f",
             "gridcolor": "white",
             "linecolor": "white",
             "minorgridcolor": "white",
             "startlinecolor": "#2a3f5f"
            },
            "type": "carpet"
           }
          ],
          "choropleth": [
           {
            "colorbar": {
             "outlinewidth": 0,
             "ticks": ""
            },
            "type": "choropleth"
           }
          ],
          "contour": [
           {
            "colorbar": {
             "outlinewidth": 0,
             "ticks": ""
            },
            "colorscale": [
             [
              0,
              "#0d0887"
             ],
             [
              0.1111111111111111,
              "#46039f"
             ],
             [
              0.2222222222222222,
              "#7201a8"
             ],
             [
              0.3333333333333333,
              "#9c179e"
             ],
             [
              0.4444444444444444,
              "#bd3786"
             ],
             [
              0.5555555555555556,
              "#d8576b"
             ],
             [
              0.6666666666666666,
              "#ed7953"
             ],
             [
              0.7777777777777778,
              "#fb9f3a"
             ],
             [
              0.8888888888888888,
              "#fdca26"
             ],
             [
              1,
              "#f0f921"
             ]
            ],
            "type": "contour"
           }
          ],
          "contourcarpet": [
           {
            "colorbar": {
             "outlinewidth": 0,
             "ticks": ""
            },
            "type": "contourcarpet"
           }
          ],
          "heatmap": [
           {
            "colorbar": {
             "outlinewidth": 0,
             "ticks": ""
            },
            "colorscale": [
             [
              0,
              "#0d0887"
             ],
             [
              0.1111111111111111,
              "#46039f"
             ],
             [
              0.2222222222222222,
              "#7201a8"
             ],
             [
              0.3333333333333333,
              "#9c179e"
             ],
             [
              0.4444444444444444,
              "#bd3786"
             ],
             [
              0.5555555555555556,
              "#d8576b"
             ],
             [
              0.6666666666666666,
              "#ed7953"
             ],
             [
              0.7777777777777778,
              "#fb9f3a"
             ],
             [
              0.8888888888888888,
              "#fdca26"
             ],
             [
              1,
              "#f0f921"
             ]
            ],
            "type": "heatmap"
           }
          ],
          "heatmapgl": [
           {
            "colorbar": {
             "outlinewidth": 0,
             "ticks": ""
            },
            "colorscale": [
             [
              0,
              "#0d0887"
             ],
             [
              0.1111111111111111,
              "#46039f"
             ],
             [
              0.2222222222222222,
              "#7201a8"
             ],
             [
              0.3333333333333333,
              "#9c179e"
             ],
             [
              0.4444444444444444,
              "#bd3786"
             ],
             [
              0.5555555555555556,
              "#d8576b"
             ],
             [
              0.6666666666666666,
              "#ed7953"
             ],
             [
              0.7777777777777778,
              "#fb9f3a"
             ],
             [
              0.8888888888888888,
              "#fdca26"
             ],
             [
              1,
              "#f0f921"
             ]
            ],
            "type": "heatmapgl"
           }
          ],
          "histogram": [
           {
            "marker": {
             "colorbar": {
              "outlinewidth": 0,
              "ticks": ""
             }
            },
            "type": "histogram"
           }
          ],
          "histogram2d": [
           {
            "colorbar": {
             "outlinewidth": 0,
             "ticks": ""
            },
            "colorscale": [
             [
              0,
              "#0d0887"
             ],
             [
              0.1111111111111111,
              "#46039f"
             ],
             [
              0.2222222222222222,
              "#7201a8"
             ],
             [
              0.3333333333333333,
              "#9c179e"
             ],
             [
              0.4444444444444444,
              "#bd3786"
             ],
             [
              0.5555555555555556,
              "#d8576b"
             ],
             [
              0.6666666666666666,
              "#ed7953"
             ],
             [
              0.7777777777777778,
              "#fb9f3a"
             ],
             [
              0.8888888888888888,
              "#fdca26"
             ],
             [
              1,
              "#f0f921"
             ]
            ],
            "type": "histogram2d"
           }
          ],
          "histogram2dcontour": [
           {
            "colorbar": {
             "outlinewidth": 0,
             "ticks": ""
            },
            "colorscale": [
             [
              0,
              "#0d0887"
             ],
             [
              0.1111111111111111,
              "#46039f"
             ],
             [
              0.2222222222222222,
              "#7201a8"
             ],
             [
              0.3333333333333333,
              "#9c179e"
             ],
             [
              0.4444444444444444,
              "#bd3786"
             ],
             [
              0.5555555555555556,
              "#d8576b"
             ],
             [
              0.6666666666666666,
              "#ed7953"
             ],
             [
              0.7777777777777778,
              "#fb9f3a"
             ],
             [
              0.8888888888888888,
              "#fdca26"
             ],
             [
              1,
              "#f0f921"
             ]
            ],
            "type": "histogram2dcontour"
           }
          ],
          "mesh3d": [
           {
            "colorbar": {
             "outlinewidth": 0,
             "ticks": ""
            },
            "type": "mesh3d"
           }
          ],
          "parcoords": [
           {
            "line": {
             "colorbar": {
              "outlinewidth": 0,
              "ticks": ""
             }
            },
            "type": "parcoords"
           }
          ],
          "pie": [
           {
            "automargin": true,
            "type": "pie"
           }
          ],
          "scatter": [
           {
            "marker": {
             "colorbar": {
              "outlinewidth": 0,
              "ticks": ""
             }
            },
            "type": "scatter"
           }
          ],
          "scatter3d": [
           {
            "line": {
             "colorbar": {
              "outlinewidth": 0,
              "ticks": ""
             }
            },
            "marker": {
             "colorbar": {
              "outlinewidth": 0,
              "ticks": ""
             }
            },
            "type": "scatter3d"
           }
          ],
          "scattercarpet": [
           {
            "marker": {
             "colorbar": {
              "outlinewidth": 0,
              "ticks": ""
             }
            },
            "type": "scattercarpet"
           }
          ],
          "scattergeo": [
           {
            "marker": {
             "colorbar": {
              "outlinewidth": 0,
              "ticks": ""
             }
            },
            "type": "scattergeo"
           }
          ],
          "scattergl": [
           {
            "marker": {
             "colorbar": {
              "outlinewidth": 0,
              "ticks": ""
             }
            },
            "type": "scattergl"
           }
          ],
          "scattermapbox": [
           {
            "marker": {
             "colorbar": {
              "outlinewidth": 0,
              "ticks": ""
             }
            },
            "type": "scattermapbox"
           }
          ],
          "scatterpolar": [
           {
            "marker": {
             "colorbar": {
              "outlinewidth": 0,
              "ticks": ""
             }
            },
            "type": "scatterpolar"
           }
          ],
          "scatterpolargl": [
           {
            "marker": {
             "colorbar": {
              "outlinewidth": 0,
              "ticks": ""
             }
            },
            "type": "scatterpolargl"
           }
          ],
          "scatterternary": [
           {
            "marker": {
             "colorbar": {
              "outlinewidth": 0,
              "ticks": ""
             }
            },
            "type": "scatterternary"
           }
          ],
          "surface": [
           {
            "colorbar": {
             "outlinewidth": 0,
             "ticks": ""
            },
            "colorscale": [
             [
              0,
              "#0d0887"
             ],
             [
              0.1111111111111111,
              "#46039f"
             ],
             [
              0.2222222222222222,
              "#7201a8"
             ],
             [
              0.3333333333333333,
              "#9c179e"
             ],
             [
              0.4444444444444444,
              "#bd3786"
             ],
             [
              0.5555555555555556,
              "#d8576b"
             ],
             [
              0.6666666666666666,
              "#ed7953"
             ],
             [
              0.7777777777777778,
              "#fb9f3a"
             ],
             [
              0.8888888888888888,
              "#fdca26"
             ],
             [
              1,
              "#f0f921"
             ]
            ],
            "type": "surface"
           }
          ],
          "table": [
           {
            "cells": {
             "fill": {
              "color": "#EBF0F8"
             },
             "line": {
              "color": "white"
             }
            },
            "header": {
             "fill": {
              "color": "#C8D4E3"
             },
             "line": {
              "color": "white"
             }
            },
            "type": "table"
           }
          ]
         },
         "layout": {
          "annotationdefaults": {
           "arrowcolor": "#2a3f5f",
           "arrowhead": 0,
           "arrowwidth": 1
          },
          "coloraxis": {
           "colorbar": {
            "outlinewidth": 0,
            "ticks": ""
           }
          },
          "colorscale": {
           "diverging": [
            [
             0,
             "#8e0152"
            ],
            [
             0.1,
             "#c51b7d"
            ],
            [
             0.2,
             "#de77ae"
            ],
            [
             0.3,
             "#f1b6da"
            ],
            [
             0.4,
             "#fde0ef"
            ],
            [
             0.5,
             "#f7f7f7"
            ],
            [
             0.6,
             "#e6f5d0"
            ],
            [
             0.7,
             "#b8e186"
            ],
            [
             0.8,
             "#7fbc41"
            ],
            [
             0.9,
             "#4d9221"
            ],
            [
             1,
             "#276419"
            ]
           ],
           "sequential": [
            [
             0,
             "#0d0887"
            ],
            [
             0.1111111111111111,
             "#46039f"
            ],
            [
             0.2222222222222222,
             "#7201a8"
            ],
            [
             0.3333333333333333,
             "#9c179e"
            ],
            [
             0.4444444444444444,
             "#bd3786"
            ],
            [
             0.5555555555555556,
             "#d8576b"
            ],
            [
             0.6666666666666666,
             "#ed7953"
            ],
            [
             0.7777777777777778,
             "#fb9f3a"
            ],
            [
             0.8888888888888888,
             "#fdca26"
            ],
            [
             1,
             "#f0f921"
            ]
           ],
           "sequentialminus": [
            [
             0,
             "#0d0887"
            ],
            [
             0.1111111111111111,
             "#46039f"
            ],
            [
             0.2222222222222222,
             "#7201a8"
            ],
            [
             0.3333333333333333,
             "#9c179e"
            ],
            [
             0.4444444444444444,
             "#bd3786"
            ],
            [
             0.5555555555555556,
             "#d8576b"
            ],
            [
             0.6666666666666666,
             "#ed7953"
            ],
            [
             0.7777777777777778,
             "#fb9f3a"
            ],
            [
             0.8888888888888888,
             "#fdca26"
            ],
            [
             1,
             "#f0f921"
            ]
           ]
          },
          "colorway": [
           "#636efa",
           "#EF553B",
           "#00cc96",
           "#ab63fa",
           "#FFA15A",
           "#19d3f3",
           "#FF6692",
           "#B6E880",
           "#FF97FF",
           "#FECB52"
          ],
          "font": {
           "color": "#2a3f5f"
          },
          "geo": {
           "bgcolor": "white",
           "lakecolor": "white",
           "landcolor": "#E5ECF6",
           "showlakes": true,
           "showland": true,
           "subunitcolor": "white"
          },
          "hoverlabel": {
           "align": "left"
          },
          "hovermode": "closest",
          "mapbox": {
           "style": "light"
          },
          "paper_bgcolor": "white",
          "plot_bgcolor": "#E5ECF6",
          "polar": {
           "angularaxis": {
            "gridcolor": "white",
            "linecolor": "white",
            "ticks": ""
           },
           "bgcolor": "#E5ECF6",
           "radialaxis": {
            "gridcolor": "white",
            "linecolor": "white",
            "ticks": ""
           }
          },
          "scene": {
           "xaxis": {
            "backgroundcolor": "#E5ECF6",
            "gridcolor": "white",
            "gridwidth": 2,
            "linecolor": "white",
            "showbackground": true,
            "ticks": "",
            "zerolinecolor": "white"
           },
           "yaxis": {
            "backgroundcolor": "#E5ECF6",
            "gridcolor": "white",
            "gridwidth": 2,
            "linecolor": "white",
            "showbackground": true,
            "ticks": "",
            "zerolinecolor": "white"
           },
           "zaxis": {
            "backgroundcolor": "#E5ECF6",
            "gridcolor": "white",
            "gridwidth": 2,
            "linecolor": "white",
            "showbackground": true,
            "ticks": "",
            "zerolinecolor": "white"
           }
          },
          "shapedefaults": {
           "line": {
            "color": "#2a3f5f"
           }
          },
          "ternary": {
           "aaxis": {
            "gridcolor": "white",
            "linecolor": "white",
            "ticks": ""
           },
           "baxis": {
            "gridcolor": "white",
            "linecolor": "white",
            "ticks": ""
           },
           "bgcolor": "#E5ECF6",
           "caxis": {
            "gridcolor": "white",
            "linecolor": "white",
            "ticks": ""
           }
          },
          "title": {
           "x": 0.05
          },
          "xaxis": {
           "automargin": true,
           "gridcolor": "white",
           "linecolor": "white",
           "ticks": "",
           "title": {
            "standoff": 15
           },
           "zerolinecolor": "white",
           "zerolinewidth": 2
          },
          "yaxis": {
           "automargin": true,
           "gridcolor": "white",
           "linecolor": "white",
           "ticks": "",
           "title": {
            "standoff": 15
           },
           "zerolinecolor": "white",
           "zerolinewidth": 2
          }
         }
        },
        "xaxis": {
         "anchor": "y",
         "domain": [
          0,
          1
         ],
         "title": {
          "text": "Date"
         }
        },
        "yaxis": {
         "anchor": "x",
         "domain": [
          0,
          1
         ],
         "title": {
          "text": "Confirmed"
         }
        }
       }
      },
      "text/html": [
       "<div>\n",
       "        \n",
       "        \n",
       "            <div id=\"e7665f6f-bf2c-4d9a-8244-95832540b573\" class=\"plotly-graph-div\" style=\"height:525px; width:100%;\"></div>\n",
       "            <script type=\"text/javascript\">\n",
       "                require([\"plotly\"], function(Plotly) {\n",
       "                    window.PLOTLYENV=window.PLOTLYENV || {};\n",
       "                    \n",
       "                if (document.getElementById(\"e7665f6f-bf2c-4d9a-8244-95832540b573\")) {\n",
       "                    Plotly.newPlot(\n",
       "                        'e7665f6f-bf2c-4d9a-8244-95832540b573',\n",
       "                        [{\"hoverlabel\": {\"namelength\": 0}, \"hovertemplate\": \"State/UnionTerritory=Kerala<br>Date=%{x}<br>Confirmed=%{y}\", \"legendgroup\": \"Kerala\", \"line\": {\"color\": \"#636efa\"}, \"mode\": \"lines\", \"name\": \"Kerala\", \"orientation\": \"v\", \"showlegend\": true, \"stackgroup\": \"1\", \"type\": \"scatter\", \"x\": [\"30/01/20\", \"31/01/20\", \"01/02/20\", \"02/02/20\", \"03/02/20\", \"04/02/20\", \"05/02/20\", \"06/02/20\", \"07/02/20\", \"08/02/20\", \"09/02/20\", \"10/02/20\", \"11/02/20\", \"12/02/20\", \"13/02/20\", \"14/02/20\", \"15/02/20\", \"16/02/20\", \"17/02/20\", \"18/02/20\", \"19/02/20\", \"20/02/20\", \"21/02/20\", \"22/02/20\", \"23/02/20\", \"24/02/20\", \"25/02/20\", \"26/02/20\", \"27/02/20\", \"28/02/20\", \"29/02/20\", \"01/03/20\", \"02/03/20\", \"03/03/20\", \"04/03/20\", \"05/03/20\", \"06/03/20\", \"07/03/20\", \"08/03/20\", \"09/03/20\", \"10/03/20\", \"11/03/20\", \"12/03/20\", \"13/03/20\", \"14/03/20\", \"15/03/20\", \"16/03/20\", \"17/03/20\", \"18/03/20\", \"19/03/20\", \"20/03/20\", \"21/03/20\", \"22/03/20\", \"23/03/20\", \"24/03/20\", \"25/03/20\", \"26/03/20\", \"27/03/20\", \"28/03/20\", \"29/03/20\", \"30/03/20\", \"31/03/20\", \"01/04/20\", \"02/04/20\", \"03/04/20\", \"04/04/20\"], \"xaxis\": \"x\", \"y\": [1, 1, 2, 3, 3, 3, 3, 3, 3, 3, 3, 3, 3, 3, 3, 3, 3, 3, 3, 3, 3, 3, 3, 3, 3, 3, 3, 3, 3, 3, 3, 3, 3, 3, 3, 3, 3, 3, 8, 9, 15, 17, 17, 19, 19, 22, 23, 26, 27, 27, 28, 40, 52, 67, 95, 109, 118, 137, 176, 182, 202, 234, 241, 265, 286, 295], \"yaxis\": \"y\"}, {\"hoverlabel\": {\"namelength\": 0}, \"hovertemplate\": \"State/UnionTerritory=Telengana<br>Date=%{x}<br>Confirmed=%{y}\", \"legendgroup\": \"Telengana\", \"line\": {\"color\": \"#EF553B\"}, \"mode\": \"lines\", \"name\": \"Telengana\", \"orientation\": \"v\", \"showlegend\": true, \"stackgroup\": \"1\", \"type\": \"scatter\", \"x\": [\"02/03/20\", \"03/03/20\", \"04/03/20\", \"05/03/20\", \"06/03/20\", \"07/03/20\", \"08/03/20\", \"09/03/20\", \"10/03/20\", \"11/03/20\", \"12/03/20\", \"13/03/20\", \"14/03/20\", \"15/03/20\", \"16/03/20\", \"17/03/20\", \"18/03/20\", \"19/03/20\", \"20/03/20\", \"21/03/20\", \"22/03/20\", \"23/03/20\", \"24/03/20\", \"25/03/20\", \"26/03/20\", \"27/03/20\", \"28/03/20\", \"29/03/20\", \"30/03/20\", \"31/03/20\", \"01/04/20\", \"02/04/20\", \"03/04/20\", \"04/04/20\"], \"xaxis\": \"x\", \"y\": [1, 1, 1, 1, 1, 1, 1, 1, 1, 1, 1, 1, 1, 3, 3, 5, 6, 6, 17, 21, 22, 32, 35, 35, 44, 45, 56, 66, 71, 79, 96, 107, 158, 159], \"yaxis\": \"y\"}, {\"hoverlabel\": {\"namelength\": 0}, \"hovertemplate\": \"State/UnionTerritory=Delhi<br>Date=%{x}<br>Confirmed=%{y}\", \"legendgroup\": \"Delhi\", \"line\": {\"color\": \"#00cc96\"}, \"mode\": \"lines\", \"name\": \"Delhi\", \"orientation\": \"v\", \"showlegend\": true, \"stackgroup\": \"1\", \"type\": \"scatter\", \"x\": [\"02/03/20\", \"03/03/20\", \"04/03/20\", \"05/03/20\", \"06/03/20\", \"07/03/20\", \"08/03/20\", \"09/03/20\", \"10/03/20\", \"11/03/20\", \"12/03/20\", \"13/03/20\", \"14/03/20\", \"15/03/20\", \"16/03/20\", \"17/03/20\", \"18/03/20\", \"19/03/20\", \"20/03/20\", \"21/03/20\", \"22/03/20\", \"23/03/20\", \"24/03/20\", \"25/03/20\", \"26/03/20\", \"27/03/20\", \"28/03/20\", \"29/03/20\", \"30/03/20\", \"31/03/20\", \"01/04/20\", \"02/04/20\", \"03/04/20\", \"04/04/20\"], \"xaxis\": \"x\", \"y\": [1, 1, 1, 2, 3, 3, 3, 4, 4, 5, 6, 6, 7, 7, 7, 8, 10, 12, 17, 26, 29, 29, 30, 31, 36, 36, 39, 49, 87, 97, 152, 219, 219, 445], \"yaxis\": \"y\"}, {\"hoverlabel\": {\"namelength\": 0}, \"hovertemplate\": \"State/UnionTerritory=Rajasthan<br>Date=%{x}<br>Confirmed=%{y}\", \"legendgroup\": \"Rajasthan\", \"line\": {\"color\": \"#ab63fa\"}, \"mode\": \"lines\", \"name\": \"Rajasthan\", \"orientation\": \"v\", \"showlegend\": true, \"stackgroup\": \"1\", \"type\": \"scatter\", \"x\": [\"03/03/20\", \"04/03/20\", \"05/03/20\", \"06/03/20\", \"07/03/20\", \"08/03/20\", \"09/03/20\", \"10/03/20\", \"11/03/20\", \"12/03/20\", \"13/03/20\", \"14/03/20\", \"15/03/20\", \"16/03/20\", \"17/03/20\", \"18/03/20\", \"19/03/20\", \"20/03/20\", \"21/03/20\", \"22/03/20\", \"23/03/20\", \"24/03/20\", \"25/03/20\", \"26/03/20\", \"27/03/20\", \"28/03/20\", \"29/03/20\", \"30/03/20\", \"31/03/20\", \"01/04/20\", \"02/04/20\", \"03/04/20\", \"04/04/20\"], \"xaxis\": \"x\", \"y\": [1, 15, 15, 15, 15, 15, 15, 15, 3, 3, 3, 3, 4, 4, 4, 4, 7, 17, 17, 24, 28, 32, 36, 41, 41, 54, 55, 59, 74, 93, 108, 167, 200], \"yaxis\": \"y\"}, {\"hoverlabel\": {\"namelength\": 0}, \"hovertemplate\": \"State/UnionTerritory=Uttar Pradesh<br>Date=%{x}<br>Confirmed=%{y}\", \"legendgroup\": \"Uttar Pradesh\", \"line\": {\"color\": \"#FFA15A\"}, \"mode\": \"lines\", \"name\": \"Uttar Pradesh\", \"orientation\": \"v\", \"showlegend\": true, \"stackgroup\": \"1\", \"type\": \"scatter\", \"x\": [\"04/03/20\", \"05/03/20\", \"06/03/20\", \"07/03/20\", \"08/03/20\", \"09/03/20\", \"10/03/20\", \"11/03/20\", \"12/03/20\", \"13/03/20\", \"14/03/20\", \"15/03/20\", \"16/03/20\", \"17/03/20\", \"18/03/20\", \"19/03/20\", \"20/03/20\", \"21/03/20\", \"22/03/20\", \"23/03/20\", \"24/03/20\", \"25/03/20\", \"26/03/20\", \"27/03/20\", \"28/03/20\", \"29/03/20\", \"30/03/20\", \"31/03/20\", \"01/04/20\", \"02/04/20\", \"03/04/20\", \"04/04/20\"], \"xaxis\": \"x\", \"y\": [6, 7, 7, 7, 7, 7, 7, 9, 11, 11, 12, 13, 13, 15, 16, 19, 23, 24, 27, 31, 33, 37, 41, 41, 55, 65, 82, 101, 103, 113, 172, 174], \"yaxis\": \"y\"}, {\"hoverlabel\": {\"namelength\": 0}, \"hovertemplate\": \"State/UnionTerritory=Haryana<br>Date=%{x}<br>Confirmed=%{y}\", \"legendgroup\": \"Haryana\", \"line\": {\"color\": \"#19d3f3\"}, \"mode\": \"lines\", \"name\": \"Haryana\", \"orientation\": \"v\", \"showlegend\": true, \"stackgroup\": \"1\", \"type\": \"scatter\", \"x\": [\"04/03/20\", \"05/03/20\", \"06/03/20\", \"07/03/20\", \"08/03/20\", \"09/03/20\", \"10/03/20\", \"11/03/20\", \"12/03/20\", \"13/03/20\", \"14/03/20\", \"15/03/20\", \"16/03/20\", \"17/03/20\", \"18/03/20\", \"19/03/20\", \"20/03/20\", \"21/03/20\", \"22/03/20\", \"23/03/20\", \"24/03/20\", \"25/03/20\", \"26/03/20\", \"27/03/20\", \"28/03/20\", \"29/03/20\", \"30/03/20\", \"31/03/20\", \"01/04/20\", \"02/04/20\", \"03/04/20\", \"04/04/20\"], \"xaxis\": \"x\", \"y\": [2, 2, 2, 2, 2, 2, 2, 14, 14, 14, 14, 14, 14, 15, 17, 17, 17, 17, 21, 26, 28, 28, 30, 30, 33, 33, 36, 40, 43, 43, 49, 49], \"yaxis\": \"y\"}, {\"hoverlabel\": {\"namelength\": 0}, \"hovertemplate\": \"State/UnionTerritory=Ladakh<br>Date=%{x}<br>Confirmed=%{y}\", \"legendgroup\": \"Ladakh\", \"line\": {\"color\": \"#FF6692\"}, \"mode\": \"lines\", \"name\": \"Ladakh\", \"orientation\": \"v\", \"showlegend\": true, \"stackgroup\": \"1\", \"type\": \"scatter\", \"x\": [\"07/03/20\", \"08/03/20\", \"09/03/20\", \"10/03/20\", \"11/03/20\", \"12/03/20\", \"13/03/20\", \"14/03/20\", \"15/03/20\", \"16/03/20\", \"17/03/20\", \"18/03/20\", \"19/03/20\", \"20/03/20\", \"21/03/20\", \"22/03/20\", \"23/03/20\", \"24/03/20\", \"25/03/20\", \"26/03/20\", \"27/03/20\", \"28/03/20\", \"29/03/20\", \"30/03/20\", \"31/03/20\", \"01/04/20\", \"02/04/20\", \"03/04/20\", \"04/04/20\"], \"xaxis\": \"x\", \"y\": [2, 2, 2, 2, 2, 3, 3, 3, 3, 4, 6, 8, 8, 10, 13, 13, 13, 13, 13, 13, 13, 13, 13, 13, 13, 13, 13, 14, 14], \"yaxis\": \"y\"}, {\"hoverlabel\": {\"namelength\": 0}, \"hovertemplate\": \"State/UnionTerritory=Tamil Nadu<br>Date=%{x}<br>Confirmed=%{y}\", \"legendgroup\": \"Tamil Nadu\", \"line\": {\"color\": \"#B6E880\"}, \"mode\": \"lines\", \"name\": \"Tamil Nadu\", \"orientation\": \"v\", \"showlegend\": true, \"stackgroup\": \"1\", \"type\": \"scatter\", \"x\": [\"07/03/20\", \"08/03/20\", \"09/03/20\", \"10/03/20\", \"11/03/20\", \"12/03/20\", \"13/03/20\", \"14/03/20\", \"15/03/20\", \"16/03/20\", \"17/03/20\", \"18/03/20\", \"19/03/20\", \"20/03/20\", \"21/03/20\", \"22/03/20\", \"23/03/20\", \"24/03/20\", \"25/03/20\", \"26/03/20\", \"27/03/20\", \"28/03/20\", \"29/03/20\", \"30/03/20\", \"31/03/20\", \"01/04/20\", \"02/04/20\", \"03/04/20\", \"04/04/20\"], \"xaxis\": \"x\", \"y\": [1, 1, 1, 1, 1, 1, 1, 1, 1, 1, 1, 1, 2, 3, 3, 7, 9, 15, 18, 26, 29, 40, 49, 67, 74, 234, 234, 309, 411], \"yaxis\": \"y\"}, {\"hoverlabel\": {\"namelength\": 0}, \"hovertemplate\": \"State/UnionTerritory=Karnataka<br>Date=%{x}<br>Confirmed=%{y}\", \"legendgroup\": \"Karnataka\", \"line\": {\"color\": \"#FF97FF\"}, \"mode\": \"lines\", \"name\": \"Karnataka\", \"orientation\": \"v\", \"showlegend\": true, \"stackgroup\": \"1\", \"type\": \"scatter\", \"x\": [\"09/03/20\", \"10/03/20\", \"11/03/20\", \"12/03/20\", \"13/03/20\", \"14/03/20\", \"15/03/20\", \"16/03/20\", \"17/03/20\", \"18/03/20\", \"19/03/20\", \"20/03/20\", \"21/03/20\", \"22/03/20\", \"23/03/20\", \"24/03/20\", \"25/03/20\", \"26/03/20\", \"27/03/20\", \"28/03/20\", \"29/03/20\", \"30/03/20\", \"31/03/20\", \"01/04/20\", \"02/04/20\", \"03/04/20\", \"04/04/20\"], \"xaxis\": \"x\", \"y\": [1, 4, 4, 4, 6, 6, 6, 6, 11, 11, 14, 15, 15, 26, 33, 37, 41, 55, 55, 55, 76, 83, 83, 101, 110, 124, 128], \"yaxis\": \"y\"}, {\"hoverlabel\": {\"namelength\": 0}, \"hovertemplate\": \"State/UnionTerritory=Maharashtra<br>Date=%{x}<br>Confirmed=%{y}\", \"legendgroup\": \"Maharashtra\", \"line\": {\"color\": \"#FECB52\"}, \"mode\": \"lines\", \"name\": \"Maharashtra\", \"orientation\": \"v\", \"showlegend\": true, \"stackgroup\": \"1\", \"type\": \"scatter\", \"x\": [\"09/03/20\", \"10/03/20\", \"11/03/20\", \"12/03/20\", \"13/03/20\", \"14/03/20\", \"15/03/20\", \"16/03/20\", \"17/03/20\", \"18/03/20\", \"19/03/20\", \"20/03/20\", \"21/03/20\", \"22/03/20\", \"23/03/20\", \"24/03/20\", \"25/03/20\", \"26/03/20\", \"27/03/20\", \"28/03/20\", \"29/03/20\", \"30/03/20\", \"31/03/20\", \"01/04/20\", \"02/04/20\", \"03/04/20\", \"04/04/20\"], \"xaxis\": \"x\", \"y\": [2, 5, 2, 11, 14, 14, 32, 32, 39, 42, 47, 52, 63, 67, 74, 89, 128, 124, 130, 180, 186, 198, 216, 302, 335, 335, 490], \"yaxis\": \"y\"}, {\"hoverlabel\": {\"namelength\": 0}, \"hovertemplate\": \"State/UnionTerritory=Punjab<br>Date=%{x}<br>Confirmed=%{y}\", \"legendgroup\": \"Punjab\", \"line\": {\"color\": \"#636efa\"}, \"mode\": \"lines\", \"name\": \"Punjab\", \"orientation\": \"v\", \"showlegend\": true, \"stackgroup\": \"1\", \"type\": \"scatter\", \"x\": [\"09/03/20\", \"10/03/20\", \"11/03/20\", \"12/03/20\", \"13/03/20\", \"14/03/20\", \"15/03/20\", \"16/03/20\", \"17/03/20\", \"18/03/20\", \"19/03/20\", \"20/03/20\", \"21/03/20\", \"22/03/20\", \"23/03/20\", \"24/03/20\", \"25/03/20\", \"26/03/20\", \"27/03/20\", \"28/03/20\", \"29/03/20\", \"30/03/20\", \"31/03/20\", \"01/04/20\", \"02/04/20\", \"03/04/20\", \"04/04/20\"], \"xaxis\": \"x\", \"y\": [1, 1, 1, 1, 1, 1, 1, 1, 1, 1, 2, 2, 13, 21, 21, 29, 29, 33, 33, 38, 38, 38, 41, 42, 46, 48, 57], \"yaxis\": \"y\"}, {\"hoverlabel\": {\"namelength\": 0}, \"hovertemplate\": \"State/UnionTerritory=Jammu and Kashmir<br>Date=%{x}<br>Confirmed=%{y}\", \"legendgroup\": \"Jammu and Kashmir\", \"line\": {\"color\": \"#EF553B\"}, \"mode\": \"lines\", \"name\": \"Jammu and Kashmir\", \"orientation\": \"v\", \"showlegend\": true, \"stackgroup\": \"1\", \"type\": \"scatter\", \"x\": [\"09/03/20\", \"10/03/20\", \"11/03/20\", \"12/03/20\", \"13/03/20\", \"14/03/20\", \"15/03/20\", \"16/03/20\", \"17/03/20\", \"18/03/20\", \"19/03/20\", \"20/03/20\", \"21/03/20\", \"22/03/20\", \"23/03/20\", \"24/03/20\", \"25/03/20\", \"26/03/20\", \"27/03/20\", \"28/03/20\", \"29/03/20\", \"30/03/20\", \"31/03/20\", \"01/04/20\", \"02/04/20\", \"03/04/20\", \"04/04/20\"], \"xaxis\": \"x\", \"y\": [1, 1, 1, 1, 1, 2, 2, 3, 3, 3, 4, 4, 4, 4, 4, 4, 7, 13, 13, 20, 31, 48, 54, 62, 62, 75, 75], \"yaxis\": \"y\"}, {\"hoverlabel\": {\"namelength\": 0}, \"hovertemplate\": \"State/UnionTerritory=Andhra Pradesh<br>Date=%{x}<br>Confirmed=%{y}\", \"legendgroup\": \"Andhra Pradesh\", \"line\": {\"color\": \"#00cc96\"}, \"mode\": \"lines\", \"name\": \"Andhra Pradesh\", \"orientation\": \"v\", \"showlegend\": true, \"stackgroup\": \"1\", \"type\": \"scatter\", \"x\": [\"12/03/20\", \"13/03/20\", \"14/03/20\", \"15/03/20\", \"16/03/20\", \"17/03/20\", \"18/03/20\", \"19/03/20\", \"20/03/20\", \"21/03/20\", \"22/03/20\", \"23/03/20\", \"24/03/20\", \"25/03/20\", \"26/03/20\", \"27/03/20\", \"28/03/20\", \"29/03/20\", \"30/03/20\", \"31/03/20\", \"01/04/20\", \"02/04/20\", \"03/04/20\", \"04/04/20\"], \"xaxis\": \"x\", \"y\": [1, 1, 1, 1, 1, 1, 1, 2, 3, 3, 5, 7, 8, 9, 11, 12, 14, 19, 23, 40, 83, 86, 132, 161], \"yaxis\": \"y\"}, {\"hoverlabel\": {\"namelength\": 0}, \"hovertemplate\": \"State/UnionTerritory=Uttarakhand<br>Date=%{x}<br>Confirmed=%{y}\", \"legendgroup\": \"Uttarakhand\", \"line\": {\"color\": \"#ab63fa\"}, \"mode\": \"lines\", \"name\": \"Uttarakhand\", \"orientation\": \"v\", \"showlegend\": true, \"stackgroup\": \"1\", \"type\": \"scatter\", \"x\": [\"15/03/20\", \"16/03/20\", \"17/03/20\", \"18/03/20\", \"19/03/20\", \"20/03/20\", \"21/03/20\", \"22/03/20\", \"23/03/20\", \"24/03/20\", \"25/03/20\", \"26/03/20\", \"27/03/20\", \"28/03/20\", \"29/03/20\", \"30/03/20\", \"31/03/20\", \"01/04/20\", \"02/04/20\", \"03/04/20\", \"04/04/20\"], \"xaxis\": \"x\", \"y\": [1, 1, 1, 1, 1, 3, 3, 3, 3, 4, 4, 5, 5, 5, 7, 7, 7, 7, 7, 10, 16], \"yaxis\": \"y\"}, {\"hoverlabel\": {\"namelength\": 0}, \"hovertemplate\": \"State/UnionTerritory=Odisha<br>Date=%{x}<br>Confirmed=%{y}\", \"legendgroup\": \"Odisha\", \"line\": {\"color\": \"#FFA15A\"}, \"mode\": \"lines\", \"name\": \"Odisha\", \"orientation\": \"v\", \"showlegend\": true, \"stackgroup\": \"1\", \"type\": \"scatter\", \"x\": [\"16/03/20\", \"17/03/20\", \"18/03/20\", \"19/03/20\", \"20/03/20\", \"21/03/20\", \"22/03/20\", \"23/03/20\", \"24/03/20\", \"25/03/20\", \"26/03/20\", \"27/03/20\", \"28/03/20\", \"29/03/20\", \"30/03/20\", \"31/03/20\", \"01/04/20\", \"02/04/20\", \"03/04/20\", \"04/04/20\"], \"xaxis\": \"x\", \"y\": [1, 1, 1, 1, 2, 2, 2, 2, 2, 2, 2, 2, 3, 3, 3, 3, 4, 4, 5, 5], \"yaxis\": \"y\"}, {\"hoverlabel\": {\"namelength\": 0}, \"hovertemplate\": \"State/UnionTerritory=Pondicherry<br>Date=%{x}<br>Confirmed=%{y}\", \"legendgroup\": \"Pondicherry\", \"line\": {\"color\": \"#19d3f3\"}, \"mode\": \"lines\", \"name\": \"Pondicherry\", \"orientation\": \"v\", \"showlegend\": true, \"stackgroup\": \"1\", \"type\": \"scatter\", \"x\": [\"18/03/20\", \"19/03/20\"], \"xaxis\": \"x\", \"y\": [1, 1], \"yaxis\": \"y\"}, {\"hoverlabel\": {\"namelength\": 0}, \"hovertemplate\": \"State/UnionTerritory=West Bengal<br>Date=%{x}<br>Confirmed=%{y}\", \"legendgroup\": \"West Bengal\", \"line\": {\"color\": \"#FF6692\"}, \"mode\": \"lines\", \"name\": \"West Bengal\", \"orientation\": \"v\", \"showlegend\": true, \"stackgroup\": \"1\", \"type\": \"scatter\", \"x\": [\"18/03/20\", \"19/03/20\", \"20/03/20\", \"21/03/20\", \"22/03/20\", \"23/03/20\", \"24/03/20\", \"25/03/20\", \"26/03/20\", \"27/03/20\", \"28/03/20\", \"29/03/20\", \"30/03/20\", \"31/03/20\", \"01/04/20\", \"02/04/20\", \"03/04/20\", \"04/04/20\"], \"xaxis\": \"x\", \"y\": [1, 1, 2, 3, 4, 7, 9, 9, 10, 10, 15, 18, 22, 26, 37, 53, 63, 69], \"yaxis\": \"y\"}, {\"hoverlabel\": {\"namelength\": 0}, \"hovertemplate\": \"State/UnionTerritory=Chattisgarh<br>Date=%{x}<br>Confirmed=%{y}\", \"legendgroup\": \"Chattisgarh\", \"line\": {\"color\": \"#B6E880\"}, \"mode\": \"lines\", \"name\": \"Chattisgarh\", \"orientation\": \"v\", \"showlegend\": true, \"stackgroup\": \"1\", \"type\": \"scatter\", \"x\": [\"19/03/20\"], \"xaxis\": \"x\", \"y\": [1], \"yaxis\": \"y\"}, {\"hoverlabel\": {\"namelength\": 0}, \"hovertemplate\": \"State/UnionTerritory=Chandigarh<br>Date=%{x}<br>Confirmed=%{y}\", \"legendgroup\": \"Chandigarh\", \"line\": {\"color\": \"#FF97FF\"}, \"mode\": \"lines\", \"name\": \"Chandigarh\", \"orientation\": \"v\", \"showlegend\": true, \"stackgroup\": \"1\", \"type\": \"scatter\", \"x\": [\"19/03/20\", \"20/03/20\", \"21/03/20\", \"22/03/20\", \"23/03/20\", \"24/03/20\", \"25/03/20\", \"26/03/20\", \"27/03/20\", \"28/03/20\", \"29/03/20\", \"30/03/20\", \"31/03/20\", \"01/04/20\", \"02/04/20\", \"03/04/20\", \"04/04/20\"], \"xaxis\": \"x\", \"y\": [1, 1, 1, 5, 6, 7, 7, 7, 7, 8, 8, 8, 13, 16, 16, 18, 18], \"yaxis\": \"y\"}, {\"hoverlabel\": {\"namelength\": 0}, \"hovertemplate\": \"State/UnionTerritory=Chhattisgarh<br>Date=%{x}<br>Confirmed=%{y}\", \"legendgroup\": \"Chhattisgarh\", \"line\": {\"color\": \"#FECB52\"}, \"mode\": \"lines\", \"name\": \"Chhattisgarh\", \"orientation\": \"v\", \"showlegend\": true, \"stackgroup\": \"1\", \"type\": \"scatter\", \"x\": [\"20/03/20\", \"21/03/20\", \"22/03/20\", \"23/03/20\", \"24/03/20\", \"25/03/20\", \"26/03/20\", \"27/03/20\", \"28/03/20\", \"29/03/20\", \"30/03/20\", \"31/03/20\", \"01/04/20\", \"02/04/20\", \"03/04/20\", \"04/04/20\"], \"xaxis\": \"x\", \"y\": [1, 1, 1, 1, 1, 1, 6, 6, 6, 7, 7, 8, 9, 9, 9, 9], \"yaxis\": \"y\"}, {\"hoverlabel\": {\"namelength\": 0}, \"hovertemplate\": \"State/UnionTerritory=Gujarat<br>Date=%{x}<br>Confirmed=%{y}\", \"legendgroup\": \"Gujarat\", \"line\": {\"color\": \"#636efa\"}, \"mode\": \"lines\", \"name\": \"Gujarat\", \"orientation\": \"v\", \"showlegend\": true, \"stackgroup\": \"1\", \"type\": \"scatter\", \"x\": [\"20/03/20\", \"21/03/20\", \"22/03/20\", \"23/03/20\", \"24/03/20\", \"25/03/20\", \"26/03/20\", \"27/03/20\", \"28/03/20\", \"29/03/20\", \"30/03/20\", \"31/03/20\", \"01/04/20\", \"02/04/20\", \"03/04/20\", \"04/04/20\"], \"xaxis\": \"x\", \"y\": [5, 7, 18, 29, 33, 38, 43, 43, 45, 58, 69, 73, 82, 87, 95, 105], \"yaxis\": \"y\"}, {\"hoverlabel\": {\"namelength\": 0}, \"hovertemplate\": \"State/UnionTerritory=Puducherry<br>Date=%{x}<br>Confirmed=%{y}\", \"legendgroup\": \"Puducherry\", \"line\": {\"color\": \"#EF553B\"}, \"mode\": \"lines\", \"name\": \"Puducherry\", \"orientation\": \"v\", \"showlegend\": true, \"stackgroup\": \"1\", \"type\": \"scatter\", \"x\": [\"20/03/20\", \"21/03/20\", \"22/03/20\", \"23/03/20\", \"24/03/20\", \"25/03/20\", \"26/03/20\", \"27/03/20\", \"28/03/20\", \"29/03/20\", \"30/03/20\", \"31/03/20\", \"01/04/20\", \"02/04/20\", \"03/04/20\", \"04/04/20\"], \"xaxis\": \"x\", \"y\": [1, 1, 1, 1, 1, 1, 1, 1, 1, 1, 1, 1, 3, 3, 5, 5], \"yaxis\": \"y\"}, {\"hoverlabel\": {\"namelength\": 0}, \"hovertemplate\": \"State/UnionTerritory=Himachal Pradesh<br>Date=%{x}<br>Confirmed=%{y}\", \"legendgroup\": \"Himachal Pradesh\", \"line\": {\"color\": \"#00cc96\"}, \"mode\": \"lines\", \"name\": \"Himachal Pradesh\", \"orientation\": \"v\", \"showlegend\": true, \"stackgroup\": \"1\", \"type\": \"scatter\", \"x\": [\"21/03/20\", \"22/03/20\", \"23/03/20\", \"24/03/20\", \"25/03/20\", \"26/03/20\", \"27/03/20\", \"28/03/20\", \"29/03/20\", \"30/03/20\", \"31/03/20\", \"01/04/20\", \"02/04/20\", \"03/04/20\", \"04/04/20\"], \"xaxis\": \"x\", \"y\": [2, 2, 2, 3, 3, 3, 3, 3, 3, 3, 3, 3, 3, 6, 6], \"yaxis\": \"y\"}, {\"hoverlabel\": {\"namelength\": 0}, \"hovertemplate\": \"State/UnionTerritory=Madhya Pradesh<br>Date=%{x}<br>Confirmed=%{y}\", \"legendgroup\": \"Madhya Pradesh\", \"line\": {\"color\": \"#ab63fa\"}, \"mode\": \"lines\", \"name\": \"Madhya Pradesh\", \"orientation\": \"v\", \"showlegend\": true, \"stackgroup\": \"1\", \"type\": \"scatter\", \"x\": [\"21/03/20\", \"22/03/20\", \"23/03/20\", \"24/03/20\", \"25/03/20\", \"26/03/20\", \"27/03/20\", \"28/03/20\", \"29/03/20\", \"30/03/20\", \"31/03/20\", \"01/04/20\", \"02/04/20\", \"03/04/20\", \"04/04/20\"], \"xaxis\": \"x\", \"y\": [4, 4, 6, 7, 14, 20, 20, 30, 30, 47, 47, 66, 99, 104, 104], \"yaxis\": \"y\"}, {\"hoverlabel\": {\"namelength\": 0}, \"hovertemplate\": \"State/UnionTerritory=Bihar<br>Date=%{x}<br>Confirmed=%{y}\", \"legendgroup\": \"Bihar\", \"line\": {\"color\": \"#FFA15A\"}, \"mode\": \"lines\", \"name\": \"Bihar\", \"orientation\": \"v\", \"showlegend\": true, \"stackgroup\": \"1\", \"type\": \"scatter\", \"x\": [\"22/03/20\", \"23/03/20\", \"24/03/20\", \"25/03/20\", \"26/03/20\", \"27/03/20\", \"28/03/20\", \"29/03/20\", \"30/03/20\", \"31/03/20\", \"01/04/20\", \"02/04/20\", \"03/04/20\", \"04/04/20\"], \"xaxis\": \"x\", \"y\": [2, 2, 3, 4, 6, 6, 9, 11, 15, 15, 23, 24, 29, 30], \"yaxis\": \"y\"}, {\"hoverlabel\": {\"namelength\": 0}, \"hovertemplate\": \"State/UnionTerritory=Manipur<br>Date=%{x}<br>Confirmed=%{y}\", \"legendgroup\": \"Manipur\", \"line\": {\"color\": \"#19d3f3\"}, \"mode\": \"lines\", \"name\": \"Manipur\", \"orientation\": \"v\", \"showlegend\": true, \"stackgroup\": \"1\", \"type\": \"scatter\", \"x\": [\"24/03/20\", \"25/03/20\", \"26/03/20\", \"27/03/20\", \"28/03/20\", \"29/03/20\", \"30/03/20\", \"31/03/20\", \"01/04/20\", \"02/04/20\", \"03/04/20\", \"04/04/20\"], \"xaxis\": \"x\", \"y\": [1, 1, 1, 1, 1, 1, 1, 1, 1, 1, 2, 2], \"yaxis\": \"y\"}, {\"hoverlabel\": {\"namelength\": 0}, \"hovertemplate\": \"State/UnionTerritory=Mizoram<br>Date=%{x}<br>Confirmed=%{y}\", \"legendgroup\": \"Mizoram\", \"line\": {\"color\": \"#FF6692\"}, \"mode\": \"lines\", \"name\": \"Mizoram\", \"orientation\": \"v\", \"showlegend\": true, \"stackgroup\": \"1\", \"type\": \"scatter\", \"x\": [\"25/03/20\", \"26/03/20\", \"27/03/20\", \"28/03/20\", \"29/03/20\", \"30/03/20\", \"31/03/20\", \"01/04/20\", \"02/04/20\", \"03/04/20\", \"04/04/20\"], \"xaxis\": \"x\", \"y\": [1, 1, 1, 1, 1, 1, 1, 1, 1, 1, 1], \"yaxis\": \"y\"}, {\"hoverlabel\": {\"namelength\": 0}, \"hovertemplate\": \"State/UnionTerritory=Andaman and Nicobar Islands<br>Date=%{x}<br>Confirmed=%{y}\", \"legendgroup\": \"Andaman and Nicobar Islands\", \"line\": {\"color\": \"#B6E880\"}, \"mode\": \"lines\", \"name\": \"Andaman and Nicobar Islands\", \"orientation\": \"v\", \"showlegend\": true, \"stackgroup\": \"1\", \"type\": \"scatter\", \"x\": [\"26/03/20\", \"27/03/20\", \"28/03/20\", \"29/03/20\", \"30/03/20\", \"31/03/20\", \"01/04/20\", \"02/04/20\", \"03/04/20\", \"04/04/20\"], \"xaxis\": \"x\", \"y\": [1, 1, 6, 9, 9, 10, 10, 10, 10, 10], \"yaxis\": \"y\"}, {\"hoverlabel\": {\"namelength\": 0}, \"hovertemplate\": \"State/UnionTerritory=Goa<br>Date=%{x}<br>Confirmed=%{y}\", \"legendgroup\": \"Goa\", \"line\": {\"color\": \"#FF97FF\"}, \"mode\": \"lines\", \"name\": \"Goa\", \"orientation\": \"v\", \"showlegend\": true, \"stackgroup\": \"1\", \"type\": \"scatter\", \"x\": [\"26/03/20\", \"27/03/20\", \"28/03/20\", \"29/03/20\", \"30/03/20\", \"31/03/20\", \"01/04/20\", \"02/04/20\", \"03/04/20\", \"04/04/20\"], \"xaxis\": \"x\", \"y\": [3, 3, 3, 5, 5, 5, 5, 5, 6, 7], \"yaxis\": \"y\"}, {\"hoverlabel\": {\"namelength\": 0}, \"hovertemplate\": \"State/UnionTerritory=Unassigned<br>Date=%{x}<br>Confirmed=%{y}\", \"legendgroup\": \"Unassigned\", \"line\": {\"color\": \"#FECB52\"}, \"mode\": \"lines\", \"name\": \"Unassigned\", \"orientation\": \"v\", \"showlegend\": true, \"stackgroup\": \"1\", \"type\": \"scatter\", \"x\": [\"30/03/20\", \"31/03/20\", \"03/04/20\"], \"xaxis\": \"x\", \"y\": [46, 38, 77], \"yaxis\": \"y\"}, {\"hoverlabel\": {\"namelength\": 0}, \"hovertemplate\": \"State/UnionTerritory=Assam<br>Date=%{x}<br>Confirmed=%{y}\", \"legendgroup\": \"Assam\", \"line\": {\"color\": \"#636efa\"}, \"mode\": \"lines\", \"name\": \"Assam\", \"orientation\": \"v\", \"showlegend\": true, \"stackgroup\": \"1\", \"type\": \"scatter\", \"x\": [\"01/04/20\", \"02/04/20\", \"03/04/20\", \"04/04/20\"], \"xaxis\": \"x\", \"y\": [1, 5, 16, 24], \"yaxis\": \"y\"}, {\"hoverlabel\": {\"namelength\": 0}, \"hovertemplate\": \"State/UnionTerritory=Jharkhand<br>Date=%{x}<br>Confirmed=%{y}\", \"legendgroup\": \"Jharkhand\", \"line\": {\"color\": \"#EF553B\"}, \"mode\": \"lines\", \"name\": \"Jharkhand\", \"orientation\": \"v\", \"showlegend\": true, \"stackgroup\": \"1\", \"type\": \"scatter\", \"x\": [\"01/04/20\", \"02/04/20\", \"03/04/20\", \"04/04/20\"], \"xaxis\": \"x\", \"y\": [1, 1, 2, 2], \"yaxis\": \"y\"}, {\"hoverlabel\": {\"namelength\": 0}, \"hovertemplate\": \"State/UnionTerritory=Arunachal Pradesh<br>Date=%{x}<br>Confirmed=%{y}\", \"legendgroup\": \"Arunachal Pradesh\", \"line\": {\"color\": \"#00cc96\"}, \"mode\": \"lines\", \"name\": \"Arunachal Pradesh\", \"orientation\": \"v\", \"showlegend\": true, \"stackgroup\": \"1\", \"type\": \"scatter\", \"x\": [\"03/04/20\", \"04/04/20\"], \"xaxis\": \"x\", \"y\": [1, 1], \"yaxis\": \"y\"}],\n",
       "                        {\"legend\": {\"title\": {\"text\": \"State/UnionTerritory\"}, \"tracegroupgap\": 0}, \"margin\": {\"t\": 60}, \"template\": {\"data\": {\"bar\": [{\"error_x\": {\"color\": \"#2a3f5f\"}, \"error_y\": {\"color\": \"#2a3f5f\"}, \"marker\": {\"line\": {\"color\": \"#E5ECF6\", \"width\": 0.5}}, \"type\": \"bar\"}], \"barpolar\": [{\"marker\": {\"line\": {\"color\": \"#E5ECF6\", \"width\": 0.5}}, \"type\": \"barpolar\"}], \"carpet\": [{\"aaxis\": {\"endlinecolor\": \"#2a3f5f\", \"gridcolor\": \"white\", \"linecolor\": \"white\", \"minorgridcolor\": \"white\", \"startlinecolor\": \"#2a3f5f\"}, \"baxis\": {\"endlinecolor\": \"#2a3f5f\", \"gridcolor\": \"white\", \"linecolor\": \"white\", \"minorgridcolor\": \"white\", \"startlinecolor\": \"#2a3f5f\"}, \"type\": \"carpet\"}], \"choropleth\": [{\"colorbar\": {\"outlinewidth\": 0, \"ticks\": \"\"}, \"type\": \"choropleth\"}], \"contour\": [{\"colorbar\": {\"outlinewidth\": 0, \"ticks\": \"\"}, \"colorscale\": [[0.0, \"#0d0887\"], [0.1111111111111111, \"#46039f\"], [0.2222222222222222, \"#7201a8\"], [0.3333333333333333, \"#9c179e\"], [0.4444444444444444, \"#bd3786\"], [0.5555555555555556, \"#d8576b\"], [0.6666666666666666, \"#ed7953\"], [0.7777777777777778, \"#fb9f3a\"], [0.8888888888888888, \"#fdca26\"], [1.0, \"#f0f921\"]], \"type\": \"contour\"}], \"contourcarpet\": [{\"colorbar\": {\"outlinewidth\": 0, \"ticks\": \"\"}, \"type\": \"contourcarpet\"}], \"heatmap\": [{\"colorbar\": {\"outlinewidth\": 0, \"ticks\": \"\"}, \"colorscale\": [[0.0, \"#0d0887\"], [0.1111111111111111, \"#46039f\"], [0.2222222222222222, \"#7201a8\"], [0.3333333333333333, \"#9c179e\"], [0.4444444444444444, \"#bd3786\"], [0.5555555555555556, \"#d8576b\"], [0.6666666666666666, \"#ed7953\"], [0.7777777777777778, \"#fb9f3a\"], [0.8888888888888888, \"#fdca26\"], [1.0, \"#f0f921\"]], \"type\": \"heatmap\"}], \"heatmapgl\": [{\"colorbar\": {\"outlinewidth\": 0, \"ticks\": \"\"}, \"colorscale\": [[0.0, \"#0d0887\"], [0.1111111111111111, \"#46039f\"], [0.2222222222222222, \"#7201a8\"], [0.3333333333333333, \"#9c179e\"], [0.4444444444444444, \"#bd3786\"], [0.5555555555555556, \"#d8576b\"], [0.6666666666666666, \"#ed7953\"], [0.7777777777777778, \"#fb9f3a\"], [0.8888888888888888, \"#fdca26\"], [1.0, \"#f0f921\"]], \"type\": \"heatmapgl\"}], \"histogram\": [{\"marker\": {\"colorbar\": {\"outlinewidth\": 0, \"ticks\": \"\"}}, \"type\": \"histogram\"}], \"histogram2d\": [{\"colorbar\": {\"outlinewidth\": 0, \"ticks\": \"\"}, \"colorscale\": [[0.0, \"#0d0887\"], [0.1111111111111111, \"#46039f\"], [0.2222222222222222, \"#7201a8\"], [0.3333333333333333, \"#9c179e\"], [0.4444444444444444, \"#bd3786\"], [0.5555555555555556, \"#d8576b\"], [0.6666666666666666, \"#ed7953\"], [0.7777777777777778, \"#fb9f3a\"], [0.8888888888888888, \"#fdca26\"], [1.0, \"#f0f921\"]], \"type\": \"histogram2d\"}], \"histogram2dcontour\": [{\"colorbar\": {\"outlinewidth\": 0, \"ticks\": \"\"}, \"colorscale\": [[0.0, \"#0d0887\"], [0.1111111111111111, \"#46039f\"], [0.2222222222222222, \"#7201a8\"], [0.3333333333333333, \"#9c179e\"], [0.4444444444444444, \"#bd3786\"], [0.5555555555555556, \"#d8576b\"], [0.6666666666666666, \"#ed7953\"], [0.7777777777777778, \"#fb9f3a\"], [0.8888888888888888, \"#fdca26\"], [1.0, \"#f0f921\"]], \"type\": \"histogram2dcontour\"}], \"mesh3d\": [{\"colorbar\": {\"outlinewidth\": 0, \"ticks\": \"\"}, \"type\": \"mesh3d\"}], \"parcoords\": [{\"line\": {\"colorbar\": {\"outlinewidth\": 0, \"ticks\": \"\"}}, \"type\": \"parcoords\"}], \"pie\": [{\"automargin\": true, \"type\": \"pie\"}], \"scatter\": [{\"marker\": {\"colorbar\": {\"outlinewidth\": 0, \"ticks\": \"\"}}, \"type\": \"scatter\"}], \"scatter3d\": [{\"line\": {\"colorbar\": {\"outlinewidth\": 0, \"ticks\": \"\"}}, \"marker\": {\"colorbar\": {\"outlinewidth\": 0, \"ticks\": \"\"}}, \"type\": \"scatter3d\"}], \"scattercarpet\": [{\"marker\": {\"colorbar\": {\"outlinewidth\": 0, \"ticks\": \"\"}}, \"type\": \"scattercarpet\"}], \"scattergeo\": [{\"marker\": {\"colorbar\": {\"outlinewidth\": 0, \"ticks\": \"\"}}, \"type\": \"scattergeo\"}], \"scattergl\": [{\"marker\": {\"colorbar\": {\"outlinewidth\": 0, \"ticks\": \"\"}}, \"type\": \"scattergl\"}], \"scattermapbox\": [{\"marker\": {\"colorbar\": {\"outlinewidth\": 0, \"ticks\": \"\"}}, \"type\": \"scattermapbox\"}], \"scatterpolar\": [{\"marker\": {\"colorbar\": {\"outlinewidth\": 0, \"ticks\": \"\"}}, \"type\": \"scatterpolar\"}], \"scatterpolargl\": [{\"marker\": {\"colorbar\": {\"outlinewidth\": 0, \"ticks\": \"\"}}, \"type\": \"scatterpolargl\"}], \"scatterternary\": [{\"marker\": {\"colorbar\": {\"outlinewidth\": 0, \"ticks\": \"\"}}, \"type\": \"scatterternary\"}], \"surface\": [{\"colorbar\": {\"outlinewidth\": 0, \"ticks\": \"\"}, \"colorscale\": [[0.0, \"#0d0887\"], [0.1111111111111111, \"#46039f\"], [0.2222222222222222, \"#7201a8\"], [0.3333333333333333, \"#9c179e\"], [0.4444444444444444, \"#bd3786\"], [0.5555555555555556, \"#d8576b\"], [0.6666666666666666, \"#ed7953\"], [0.7777777777777778, \"#fb9f3a\"], [0.8888888888888888, \"#fdca26\"], [1.0, \"#f0f921\"]], \"type\": \"surface\"}], \"table\": [{\"cells\": {\"fill\": {\"color\": \"#EBF0F8\"}, \"line\": {\"color\": \"white\"}}, \"header\": {\"fill\": {\"color\": \"#C8D4E3\"}, \"line\": {\"color\": \"white\"}}, \"type\": \"table\"}]}, \"layout\": {\"annotationdefaults\": {\"arrowcolor\": \"#2a3f5f\", \"arrowhead\": 0, \"arrowwidth\": 1}, \"coloraxis\": {\"colorbar\": {\"outlinewidth\": 0, \"ticks\": \"\"}}, \"colorscale\": {\"diverging\": [[0, \"#8e0152\"], [0.1, \"#c51b7d\"], [0.2, \"#de77ae\"], [0.3, \"#f1b6da\"], [0.4, \"#fde0ef\"], [0.5, \"#f7f7f7\"], [0.6, \"#e6f5d0\"], [0.7, \"#b8e186\"], [0.8, \"#7fbc41\"], [0.9, \"#4d9221\"], [1, \"#276419\"]], \"sequential\": [[0.0, \"#0d0887\"], [0.1111111111111111, \"#46039f\"], [0.2222222222222222, \"#7201a8\"], [0.3333333333333333, \"#9c179e\"], [0.4444444444444444, \"#bd3786\"], [0.5555555555555556, \"#d8576b\"], [0.6666666666666666, \"#ed7953\"], [0.7777777777777778, \"#fb9f3a\"], [0.8888888888888888, \"#fdca26\"], [1.0, \"#f0f921\"]], \"sequentialminus\": [[0.0, \"#0d0887\"], [0.1111111111111111, \"#46039f\"], [0.2222222222222222, \"#7201a8\"], [0.3333333333333333, \"#9c179e\"], [0.4444444444444444, \"#bd3786\"], [0.5555555555555556, \"#d8576b\"], [0.6666666666666666, \"#ed7953\"], [0.7777777777777778, \"#fb9f3a\"], [0.8888888888888888, \"#fdca26\"], [1.0, \"#f0f921\"]]}, \"colorway\": [\"#636efa\", \"#EF553B\", \"#00cc96\", \"#ab63fa\", \"#FFA15A\", \"#19d3f3\", \"#FF6692\", \"#B6E880\", \"#FF97FF\", \"#FECB52\"], \"font\": {\"color\": \"#2a3f5f\"}, \"geo\": {\"bgcolor\": \"white\", \"lakecolor\": \"white\", \"landcolor\": \"#E5ECF6\", \"showlakes\": true, \"showland\": true, \"subunitcolor\": \"white\"}, \"hoverlabel\": {\"align\": \"left\"}, \"hovermode\": \"closest\", \"mapbox\": {\"style\": \"light\"}, \"paper_bgcolor\": \"white\", \"plot_bgcolor\": \"#E5ECF6\", \"polar\": {\"angularaxis\": {\"gridcolor\": \"white\", \"linecolor\": \"white\", \"ticks\": \"\"}, \"bgcolor\": \"#E5ECF6\", \"radialaxis\": {\"gridcolor\": \"white\", \"linecolor\": \"white\", \"ticks\": \"\"}}, \"scene\": {\"xaxis\": {\"backgroundcolor\": \"#E5ECF6\", \"gridcolor\": \"white\", \"gridwidth\": 2, \"linecolor\": \"white\", \"showbackground\": true, \"ticks\": \"\", \"zerolinecolor\": \"white\"}, \"yaxis\": {\"backgroundcolor\": \"#E5ECF6\", \"gridcolor\": \"white\", \"gridwidth\": 2, \"linecolor\": \"white\", \"showbackground\": true, \"ticks\": \"\", \"zerolinecolor\": \"white\"}, \"zaxis\": {\"backgroundcolor\": \"#E5ECF6\", \"gridcolor\": \"white\", \"gridwidth\": 2, \"linecolor\": \"white\", \"showbackground\": true, \"ticks\": \"\", \"zerolinecolor\": \"white\"}}, \"shapedefaults\": {\"line\": {\"color\": \"#2a3f5f\"}}, \"ternary\": {\"aaxis\": {\"gridcolor\": \"white\", \"linecolor\": \"white\", \"ticks\": \"\"}, \"baxis\": {\"gridcolor\": \"white\", \"linecolor\": \"white\", \"ticks\": \"\"}, \"bgcolor\": \"#E5ECF6\", \"caxis\": {\"gridcolor\": \"white\", \"linecolor\": \"white\", \"ticks\": \"\"}}, \"title\": {\"x\": 0.05}, \"xaxis\": {\"automargin\": true, \"gridcolor\": \"white\", \"linecolor\": \"white\", \"ticks\": \"\", \"title\": {\"standoff\": 15}, \"zerolinecolor\": \"white\", \"zerolinewidth\": 2}, \"yaxis\": {\"automargin\": true, \"gridcolor\": \"white\", \"linecolor\": \"white\", \"ticks\": \"\", \"title\": {\"standoff\": 15}, \"zerolinecolor\": \"white\", \"zerolinewidth\": 2}}}, \"xaxis\": {\"anchor\": \"y\", \"domain\": [0.0, 1.0], \"title\": {\"text\": \"Date\"}}, \"yaxis\": {\"anchor\": \"x\", \"domain\": [0.0, 1.0], \"title\": {\"text\": \"Confirmed\"}}},\n",
       "                        {\"responsive\": true}\n",
       "                    ).then(function(){\n",
       "                            \n",
       "var gd = document.getElementById('e7665f6f-bf2c-4d9a-8244-95832540b573');\n",
       "var x = new MutationObserver(function (mutations, observer) {{\n",
       "        var display = window.getComputedStyle(gd).display;\n",
       "        if (!display || display === 'none') {{\n",
       "            console.log([gd, 'removed!']);\n",
       "            Plotly.purge(gd);\n",
       "            observer.disconnect();\n",
       "        }}\n",
       "}});\n",
       "\n",
       "// Listen for the removal of the full notebook cells\n",
       "var notebookContainer = gd.closest('#notebook-container');\n",
       "if (notebookContainer) {{\n",
       "    x.observe(notebookContainer, {childList: true});\n",
       "}}\n",
       "\n",
       "// Listen for the clearing of the current output cell\n",
       "var outputEl = gd.closest('.output');\n",
       "if (outputEl) {{\n",
       "    x.observe(outputEl, {childList: true});\n",
       "}}\n",
       "\n",
       "                        })\n",
       "                };\n",
       "                });\n",
       "            </script>\n",
       "        </div>"
      ]
     },
     "metadata": {},
     "output_type": "display_data"
    }
   ],
   "source": [
    "fig = px.area(df_india, x=\"Date\", y=\"Confirmed\",color=\"State/UnionTerritory\" ,line_group=\"State/UnionTerritory\")\n",
    "fig.show()"
   ]
  },
  {
   "cell_type": "code",
   "execution_count": null,
   "metadata": {},
   "outputs": [],
   "source": []
  }
 ],
 "metadata": {
  "kernelspec": {
   "display_name": "Python 3",
   "language": "python",
   "name": "python3"
  },
  "language_info": {
   "codemirror_mode": {
    "name": "ipython",
    "version": 3
   },
   "file_extension": ".py",
   "mimetype": "text/x-python",
   "name": "python",
   "nbconvert_exporter": "python",
   "pygments_lexer": "ipython3",
   "version": "3.7.3"
  }
 },
 "nbformat": 4,
 "nbformat_minor": 2
}
